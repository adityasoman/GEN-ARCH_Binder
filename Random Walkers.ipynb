{
 "cells": [
  {
   "cell_type": "code",
   "execution_count": 1,
   "metadata": {},
   "outputs": [],
   "source": [
    "import numpy as np\n",
    "import topogenesis as tg\n"
   ]
  },
  {
   "cell_type": "code",
   "execution_count": 46,
   "metadata": {},
   "outputs": [],
   "source": [
    "class agent ():\n",
    "    def __init__(self,ind):\n",
    "        self.origin = np.array(ind).astype(int)\n",
    "        self.old_origin = self.origin\n",
    "    def walk (self,step):\n",
    "        self.old_origin = self.origin\n",
    "        self.origin += step"
   ]
  },
  {
   "cell_type": "code",
   "execution_count": 47,
   "metadata": {},
   "outputs": [
    {
     "name": "stdout",
     "output_type": "stream",
     "text": [
      "[[0 0 0 0 0]\n",
      " [5 5 6 0 0]\n",
      " [4 7 5 0 3]]\n"
     ]
    }
   ],
   "source": [
    "np.random.seed(0)\n",
    "unit = 1\n",
    "bounds = np.array ([[0,0,0],[0,7,7]])\n",
    "my_lattice = tg.lattice(bounds,unit=unit,default_value=1, dtype=int)\n",
    "#print(my_lattice)\n",
    "\n",
    "selected_cells= np.random.choice(my_lattice.size,5)\n",
    "#print (selected_cells)\n",
    "\n",
    "agent_ind = np.array(np.unravel_index(selected_cells, my_lattice.shape))\n",
    "print (agent_ind)"
   ]
  },
  {
   "cell_type": "code",
   "execution_count": 58,
   "metadata": {},
   "outputs": [
    {
     "name": "stdout",
     "output_type": "stream",
     "text": [
      "[0 5 4] [0 5 4]\n",
      "[0 5 7] [0 5 7]\n",
      "[0 6 5] [0 6 5]\n",
      "[0 0 0] [0 0 0]\n",
      "[0 0 3] [0 0 3]\n"
     ]
    }
   ],
   "source": [
    "agents= []\n",
    "for ind in agent_ind.T.tolist():\n",
    "    my_agents = agent(ind)\n",
    "    agents.append(my_agents)\n",
    "    \n",
    "for a in agents:\n",
    "    step=np.array([0,0,1])\n",
    "   # a.walk(step)\n",
    "    print (a.old_origin,a.origin)"
   ]
  },
  {
   "cell_type": "code",
   "execution_count": 59,
   "metadata": {},
   "outputs": [],
   "source": [
    "class enviornment():\n",
    "    def __init__(self,lattice,agents):\n",
    "        self.availability = lattice\n",
    "        self.agents = agents\n",
    "    def update_availability (self):\n",
    "        for a in self.agents:\n",
    "            self.availability[tuple(a.origin)] = 0 "
   ]
  },
  {
   "cell_type": "code",
   "execution_count": 62,
   "metadata": {},
   "outputs": [
    {
     "name": "stdout",
     "output_type": "stream",
     "text": [
      "[[[0 1 1 0 1 1 1 1]\n",
      "  [1 1 1 1 1 1 1 1]\n",
      "  [1 1 1 1 1 1 1 1]\n",
      "  [1 1 1 1 1 1 1 1]\n",
      "  [1 1 1 1 1 1 1 1]\n",
      "  [1 1 1 1 0 0 1 0]\n",
      "  [1 1 1 1 1 0 1 1]\n",
      "  [1 1 1 1 1 1 1 1]]]\n"
     ]
    }
   ],
   "source": [
    "env = enviornment(my_lattice, agents)\n",
    "#print (env.availability)\n",
    "env.update_availability()\n",
    "print (env.availability)"
   ]
  },
  {
   "cell_type": "code",
   "execution_count": null,
   "metadata": {},
   "outputs": [],
   "source": []
  },
  {
   "cell_type": "code",
   "execution_count": null,
   "metadata": {},
   "outputs": [],
   "source": []
  }
 ],
 "metadata": {
  "kernelspec": {
   "display_name": "Python 3",
   "language": "python",
   "name": "python3"
  },
  "language_info": {
   "codemirror_mode": {
    "name": "ipython",
    "version": 3
   },
   "file_extension": ".py",
   "mimetype": "text/x-python",
   "name": "python",
   "nbconvert_exporter": "python",
   "pygments_lexer": "ipython3",
   "version": "3.8.5"
  }
 },
 "nbformat": 4,
 "nbformat_minor": 4
}
