{
 "cells": [
  {
   "cell_type": "code",
   "execution_count": 1,
   "metadata": {},
   "outputs": [],
   "source": [
    "import topogenesis as tg\n",
    "import numpy as np\n",
    "np.random.seed(0)"
   ]
  },
  {
   "cell_type": "code",
   "execution_count": 2,
   "metadata": {
    "tags": []
   },
   "outputs": [],
   "source": [
    "# agent class\n",
    "class agent():\n",
    "    def __init__(self, origin, stencil, id):\n",
    "\n",
    "        # define the origin attribute of the agent and making sure that it is an intiger\n",
    "        self.origin = np.array(origin).astype(int)\n",
    "        # define old origin attribute and assigning the origin to it as the initial state\n",
    "        self.old_origin = self.origin\n",
    "        # define stencil of the agent\n",
    "        self.stencil = stencil\n",
    "        #define agent id\n",
    "        self.id = id\n",
    "\n",
    "    # definition of walking method for agents\n",
    "    def walk(self, env):\n",
    "        # find available spaces\n",
    "        #######################\n",
    "\n",
    "        # retrieve the list of neighbours of the agent based on the stencil\n",
    "        neighs = env.availibility.find_neighbours_masked(self.stencil, loc = self.origin)\n",
    "        # find availability of neighbours\n",
    "        neighs_availibility = env.availibility.flatten()[neighs]\n",
    "        # separate available neighbours\n",
    "        free_neighs = neighs[neighs_availibility==1]\n",
    "        # random choice of available neighbours\n",
    "        selected_neigh = np.random.choice(free_neighs, 1)\n",
    "        \n",
    "        # update information\n",
    "        ####################\n",
    "\n",
    "        # set the current origin as the ol origin\n",
    "        self.old_origin = self.origin\n",
    "        # update the current origin with the new selected neighbour\n",
    "        self.origin = np.array(np.unravel_index(selected_neigh, env.availibility.shape)).flatten()"
   ]
  },
  {
   "cell_type": "code",
   "execution_count": 6,
   "metadata": {},
   "outputs": [],
   "source": [
    "# initiate availibility lattice\n",
    "unit = 1\n",
    "bounds = np.array([[0,0,0],[0,7,7]])\n",
    "avail_lattice = tg.lattice(bounds, unit=unit, default_value=1, dtype=int)\n",
    "\n",
    "# randomly scattering the agents\n",
    "selected_cells = np.random.choice(avail_lattice.size,3)\n",
    "agent_ind = np.array(np.unravel_index(selected_cells, avail_lattice.shape))\n",
    "\n",
    "# creating neighborhood definition\n",
    "stencil = tg.stencil(np.array([[[0, 1, 0,],\n",
    "                                [1, 1, 1,],\n",
    "                                [0, 1, 0,]]]),origin=np.array([0,1,1]))\n",
    "\n",
    "agents= []\n",
    "# creating agent objects\n",
    "for id, ind in enumerate(agent_ind.T.tolist()):\n",
    "    myagent = agent(ind, stencil, id+1)\n",
    "    agents.append(myagent)"
   ]
  },
  {
   "cell_type": "code",
   "execution_count": 7,
   "metadata": {
    "tags": []
   },
   "outputs": [],
   "source": [
    "# environment class\n",
    "class environment():\n",
    "    def __init__(self, lattices, agents):\n",
    "        self.availibility = lattices[\"availibility\"]\n",
    "        self.agent_origin = self.availibility * 0\n",
    "        self.agents = agents\n",
    "        self.update_agents()\n",
    "    \n",
    "    def update_agents(self):\n",
    "        for a in self.agents:\n",
    "            # making previous position available\n",
    "            self.availibility[tuple(a.old_origin)] = self.availibility[tuple(a.old_origin)] * 0 + 1\n",
    "            # removing agent from previous position\n",
    "            self.agent_origin[tuple(a.old_origin)] *= 0\n",
    "            # making the current position unavailable\n",
    "            self.availibility[tuple(a.origin)] *= 0\n",
    "            # adding agent to the new position \n",
    "            self.agent_origin[tuple(a.origin)] = a.id\n",
    "    \n",
    "    def walk_agents(self):\n",
    "        # iterate over egents and perform the walk\n",
    "        for a in self.agents:\n",
    "            a.walk(self)\n",
    "        # update the agent states in environment\n",
    "        self.update_agents()"
   ]
  },
  {
   "cell_type": "code",
   "execution_count": 5,
   "metadata": {},
   "outputs": [
    {
     "name": "stdout",
     "output_type": "stream",
     "text": [
      "[array([0, 5, 4]), array([0, 5, 7]), array([0, 6, 5]), array([0, 0, 0]), array([0, 0, 3])]\n",
      "[array([0, 6, 4], dtype=int64), array([0, 6, 7], dtype=int64), array([0, 7, 5], dtype=int64), array([0, 0, 1], dtype=int64), array([0, 1, 2], dtype=int64)]\n",
      "[array([0, 6, 5], dtype=int64), array([0, 5, 7], dtype=int64), array([0, 6, 5], dtype=int64), array([0, 1, 1], dtype=int64), array([0, 0, 2], dtype=int64)]\n",
      "[array([0, 5, 5], dtype=int64), array([0, 4, 7], dtype=int64), array([0, 6, 6], dtype=int64), array([0, 1, 0], dtype=int64), array([0, 1, 2], dtype=int64)]\n",
      "[array([0, 6, 5], dtype=int64), array([0, 5, 7], dtype=int64), array([0, 6, 7], dtype=int64), array([0, 1, 1], dtype=int64), array([0, 1, 1], dtype=int64)]\n",
      "[array([0, 6, 4], dtype=int64), array([0, 5, 6], dtype=int64), array([0, 6, 6], dtype=int64), array([0, 0, 1], dtype=int64), array([0, 1, 0], dtype=int64)]\n",
      "[array([0, 5, 4], dtype=int64), array([0, 4, 6], dtype=int64), array([0, 6, 7], dtype=int64), array([0, 1, 1], dtype=int64), array([0, 2, 1], dtype=int64)]\n",
      "[array([0, 6, 4], dtype=int64), array([0, 3, 6], dtype=int64), array([0, 6, 6], dtype=int64), array([0, 0, 1], dtype=int64), array([0, 2, 2], dtype=int64)]\n",
      "[array([0, 7, 4], dtype=int64), array([0, 3, 5], dtype=int64), array([0, 7, 6], dtype=int64), array([0, 1, 2], dtype=int64), array([0, 3, 2], dtype=int64)]\n",
      "[array([0, 6, 4], dtype=int64), array([0, 3, 4], dtype=int64), array([0, 7, 5], dtype=int64), array([0, 1, 1], dtype=int64), array([0, 4, 2], dtype=int64)]\n"
     ]
    }
   ],
   "source": [
    "# initiate the environment\n",
    "env_lattices = {\"availibility\": avail_lattice}\n",
    "env = environment(env_lattices, agents)\n",
    "for i in range(10):\n",
    "    # print(env.availibility)\n",
    "    # print(env.agent_origin)\n",
    "    agn_org = [a.origin for a in env.agents]\n",
    "    print(agn_org)\n",
    "    env.walk_agents()"
   ]
  },
  {
   "cell_type": "code",
   "execution_count": null,
   "metadata": {},
   "outputs": [],
   "source": []
  },
  {
   "cell_type": "code",
   "execution_count": null,
   "metadata": {},
   "outputs": [],
   "source": []
  }
 ],
 "metadata": {
  "kernelspec": {
   "display_name": "Python 3",
   "language": "python",
   "name": "python3"
  },
  "language_info": {
   "codemirror_mode": {
    "name": "ipython",
    "version": 3
   },
   "file_extension": ".py",
   "mimetype": "text/x-python",
   "name": "python",
   "nbconvert_exporter": "python",
   "pygments_lexer": "ipython3",
   "version": "3.8.5"
  },
  "latex_envs": {
   "LaTeX_envs_menu_present": true,
   "autoclose": false,
   "autocomplete": true,
   "bibliofile": "biblio.bib",
   "cite_by": "apalike",
   "current_citInitial": 1,
   "eqLabelWithNumbers": true,
   "eqNumInitial": 1,
   "hotkeys": {
    "equation": "Ctrl-E",
    "itemize": "Ctrl-I"
   },
   "labels_anchors": false,
   "latex_user_defs": false,
   "report_style_numbering": false,
   "user_envs_cfg": false
  }
 },
 "nbformat": 4,
 "nbformat_minor": 2
}
