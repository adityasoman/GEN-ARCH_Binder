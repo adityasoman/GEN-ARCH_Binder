{
 "cells": [
  {
   "cell_type": "markdown",
   "metadata": {},
   "source": [
    "# Sustainer Homes Coding interview\n",
    "A example of Agent based simulation that I ran for my thesis project is presented in this notebook which compiles my python code and displays the output in interactive widgets."
   ]
  },
  {
   "cell_type": "markdown",
   "metadata": {},
   "source": [
    "## The Zoning Problem \n",
    "The zoning problem involves generation and allocation of zones inside a building mass which will cater to a specific function from the program of requirements of the building. There are two parts to the problem, the first one being the location of the zones and the closeness with respect to other zones and the second one is the shape and topological structure of the zones with respect to the island formation, connectivity and form. Generating a high performing zoning solution will involve balancing the two aspects of the problem.\n",
    "\n",
    "https://computationaldesignworks.com/posts/zoning-problem/\n",
    "\n",
    "### The Test Problem \n",
    "In this notebook the sequential assignment approach is considered where the zones are configured one after the other. A multi-agent system where the computational agents simulate the human actors in generating the zones.They do this by occupying the voxels in the massing model for the particular zones.This problem can also be interpreted as a colouring problem.\n",
    "\n",
    "#### Steps\n",
    "\n",
    "1. Load the lattices and generate the Agent behaviours, agents, \n",
    "2. Find the possible origin locations for the agents\n",
    "3. Simulate occupancy behaviour and retrieve the cost of occupancy for each agent at each position\n",
    "4. Generate the Cost matrix\n",
    "5. Use the MIP Solver (Google OR Tools) to optimise the combination to get the permutation matrix (not done in this notebook)\n",
    "6. Run the agent based simulation with the permutation matrix to generate the zones.(not done in this notebook)\n"
   ]
  },
  {
   "cell_type": "markdown",
   "metadata": {},
   "source": [
    "## Initilization"
   ]
  },
  {
   "cell_type": "code",
   "execution_count": null,
   "metadata": {},
   "outputs": [],
   "source": [
    "! python -m pip install -e ../../Topogenesis"
   ]
  },
  {
   "cell_type": "markdown",
   "metadata": {},
   "source": [
    "# <span style=\"color:red\">Restart the kernel once topogenesis is installed</span>."
   ]
  },
  {
   "cell_type": "code",
   "execution_count": 1,
   "metadata": {},
   "outputs": [],
   "source": [
    "import os\n",
    "import itertools\n",
    "import sys\n",
    "from math import factorial as fac\n",
    "import topogenesis as tg\n",
    "import pyvista as pv\n",
    "import trimesh as tm\n",
    "import numpy as np\n",
    "import networkx as nx\n",
    "np.random.seed(0)\n",
    "np.set_printoptions(threshold=sys.maxsize)\n",
    "import networkx as nx\n",
    "from itertools import combinations\n",
    "import pickle"
   ]
  },
  {
   "cell_type": "markdown",
   "metadata": {},
   "source": [
    "## Base Lattices"
   ]
  },
  {
   "cell_type": "markdown",
   "metadata": {},
   "source": [
    "Base Lattices are the numpy arrays or the voxelated massing model which I generated in a previous step using a obj file of the massing model for the example case. "
   ]
  },
  {
   "cell_type": "code",
   "execution_count": 2,
   "metadata": {},
   "outputs": [],
   "source": [
    "# loading the lattice from csv\n",
    "lattice_path = os.path.relpath('voxelized_envelope_6m_voxel_size.csv')\n",
    "avail_lattice_base = tg.lattice_from_csv(lattice_path)\n",
    "avail_lattice = avail_lattice_base*1\n",
    "init_avail_lattice = tg.to_lattice(np.copy(avail_lattice*1), avail_lattice)"
   ]
  },
  {
   "cell_type": "code",
   "execution_count": 3,
   "metadata": {},
   "outputs": [],
   "source": [
    "flattened_lattice = avail_lattice_base.flatten()"
   ]
  },
  {
   "cell_type": "markdown",
   "metadata": {},
   "source": [
    "## Seperate Lattice into Buildings "
   ]
  },
  {
   "cell_type": "markdown",
   "metadata": {},
   "source": [
    "The volumetric model consists of 4 buildings and in order to seperate the voxels of the four buildings a graph is created using the von_neumann neighbourhood and then disconnected components are figured out using networkX library and the voxels of the four buildings are seperated."
   ]
  },
  {
   "cell_type": "code",
   "execution_count": 4,
   "metadata": {},
   "outputs": [],
   "source": [
    "s = tg.create_stencil(\"von_neumann\", 1, 1)"
   ]
  },
  {
   "cell_type": "code",
   "execution_count": 5,
   "metadata": {},
   "outputs": [],
   "source": [
    "env_lat_flat = avail_lattice_base.flatten()\n",
    "\n",
    "adj_matrix = np.zeros((env_lat_flat.size,env_lat_flat.size), dtype=int)\n",
    "\n",
    "all_vox_neighs_inds = avail_lattice_base.find_neighbours(s)\n",
    "all_vox_neighs = all_vox_neighs_inds[:, 1:]\n",
    "all_vox_inds = np.indices(all_vox_neighs.shape)[0]\n",
    "\n",
    "adj_matrix[all_vox_inds.flatten(), all_vox_neighs.flatten()] = 1\n",
    "\n",
    "adj_matrix[env_lat_flat==0, :] *= 0\n",
    "adj_matrix[:, env_lat_flat==0] *= 0\n",
    "\n",
    "g = nx.from_numpy_array(adj_matrix)"
   ]
  },
  {
   "cell_type": "code",
   "execution_count": 6,
   "metadata": {},
   "outputs": [],
   "source": [
    "g.remove_nodes_from(list(nx.isolates(g)))"
   ]
  },
  {
   "cell_type": "code",
   "execution_count": 7,
   "metadata": {},
   "outputs": [],
   "source": [
    "g_cc = nx.algorithms.connected_components(g)\n",
    "\n",
    "buildingid_lat_flat = env_lat_flat * 0 - 1\n",
    "\n",
    "for i, nodes in enumerate(g_cc):\n",
    "    buildingid_lat_flat[list(nodes)] = i"
   ]
  },
  {
   "cell_type": "code",
   "execution_count": 8,
   "metadata": {},
   "outputs": [],
   "source": [
    "buildingid_lat = tg.to_lattice(buildingid_lat_flat.reshape(avail_lattice_base.shape), avail_lattice_base)\n",
    "flat_id=buildingid_lat.flatten()"
   ]
  },
  {
   "cell_type": "markdown",
   "metadata": {},
   "source": [
    "## Retrieving ID's of cells in the 4 buildings "
   ]
  },
  {
   "cell_type": "markdown",
   "metadata": {},
   "source": [
    "Seperating the voxels into the four buildings"
   ]
  },
  {
   "cell_type": "code",
   "execution_count": 9,
   "metadata": {},
   "outputs": [],
   "source": [
    "Building_4= np.argwhere(flat_id==2)\n",
    "Building_3= np.argwhere(flat_id==1)\n",
    "Building_2= np.argwhere(flat_id==3)\n",
    "Building_1= np.argwhere(flat_id==0)"
   ]
  },
  {
   "cell_type": "markdown",
   "metadata": {},
   "source": [
    "## Enviornment Lattices"
   ]
  },
  {
   "cell_type": "markdown",
   "metadata": {},
   "source": [
    "Enviornment lattices are the indicators for the desirability values (1-10) for each of the voxels in the massing model for each of the zones created by the process of MCDA (Multi-criteria decision analysis) done in one of the other module of the project.(https://computationaldesignworks.com/posts/zoning-problem-mcda/)\n",
    "These will act as base for the agents in the system to perform their behaviour. "
   ]
  },
  {
   "cell_type": "code",
   "execution_count": 10,
   "metadata": {},
   "outputs": [],
   "source": [
    "Private_sector_Owned = (pickle.load( open( \"Privately Owned Housing.p\", \"rb\" ) ))\n",
    "Social_Sector_Rental = (pickle.load( open( \"Social Sector Rental Housing.p\", \"rb\" ) ))\n",
    "Free_Sector_rental = (pickle.load( open( \"Free Sector Rental Housing.p\", \"rb\" ) )) \n",
    "Restaurants_and_Cafes = (pickle.load( open( \"Restaurants and Cafe.p\", \"rb\" ) )) \n",
    "Offices = (pickle.load( open( \"Offices.p\", \"rb\" ) )) \n",
    "Retail = (pickle.load( open( \"Retail Stores.p\", \"rb\" ) )) \n",
    "Parking = (pickle.load( open( \"Parking.p\", \"rb\" ) )) "
   ]
  },
  {
   "cell_type": "markdown",
   "metadata": {},
   "source": [
    "## Stencils"
   ]
  },
  {
   "cell_type": "markdown",
   "metadata": {},
   "source": [
    "Stencils are functionality found in the library Topogenesis where neighbourhoods for the voxels can be searched"
   ]
  },
  {
   "cell_type": "code",
   "execution_count": 11,
   "metadata": {},
   "outputs": [],
   "source": [
    "# creating neighborhood definition\n",
    "stencil_von_neumann = tg.create_stencil(\"von_neumann\", 1, 1)\n",
    "stencil_von_neumann.set_index([0,0,0], 0)\n",
    "#print(stencil_von_neumann)"
   ]
  },
  {
   "cell_type": "code",
   "execution_count": 12,
   "metadata": {},
   "outputs": [],
   "source": [
    "# creating neighborhood definition \n",
    "stencil_squareness = tg.create_stencil(\"moore\", 1, 1)\n",
    "# Reshaping the moore neighbourhood\n",
    "stencil_squareness[0,:,:] = 0 \n",
    "stencil_squareness[2,:,:] = 0\n",
    "stencil_squareness.set_index([0,0,0], 0)\n",
    "stencil_squareness_t = np.transpose(stencil_squareness) \n",
    "#print(stencil_squareness_t)"
   ]
  },
  {
   "cell_type": "code",
   "execution_count": 13,
   "metadata": {},
   "outputs": [],
   "source": [
    "# creating neighborhood definition \n",
    "stencil_squareness_von = tg.create_stencil(\"von_neumann\", 1, 1)\n",
    "# Reshaping the moore neighbourhood\n",
    "stencil_squareness_von[0,:,:] = 0 \n",
    "stencil_squareness_von[2,:,:] = 0\n",
    "stencil_squareness_von.set_index([0,0,0], 0)\n",
    "stencil_squareness_von_t = np.transpose(stencil_squareness_von) \n",
    "#print(stencil_squareness_von)"
   ]
  },
  {
   "cell_type": "code",
   "execution_count": 14,
   "metadata": {},
   "outputs": [],
   "source": [
    "stencil_cuboid = tg.create_stencil(\"moore\", 1, 1)\n",
    "stencil_cuboid.set_index([0,0,0], 0)\n",
    "#print(stencil_cuboid)"
   ]
  },
  {
   "cell_type": "code",
   "execution_count": 15,
   "metadata": {},
   "outputs": [],
   "source": [
    "Stencil_Find_neighbours_cuboid = tg.create_stencil(\"moore\", 1, 1)"
   ]
  },
  {
   "cell_type": "code",
   "execution_count": 16,
   "metadata": {},
   "outputs": [],
   "source": [
    "stencil_full_floor = tg.create_stencil(\"moore\",int(10/2) )*0\n",
    "stencil_full_floor[:,:,int(10/2)] = 1\n",
    "stencil_full_floor.set_index([0,0,0], 0)\n",
    "#print(stencil_full_floor)"
   ]
  },
  {
   "cell_type": "markdown",
   "metadata": {},
   "source": [
    "## Deriving all possible agent Center points"
   ]
  },
  {
   "cell_type": "markdown",
   "metadata": {},
   "source": [
    "Ranking all the voxels according to the total benefit that they can produce at that location (benefit = aggregated desirability value for the zone) "
   ]
  },
  {
   "cell_type": "code",
   "execution_count": 17,
   "metadata": {},
   "outputs": [],
   "source": [
    "available_index_list= list(np.argwhere(flattened_lattice==1).flatten())"
   ]
  },
  {
   "cell_type": "code",
   "execution_count": 19,
   "metadata": {},
   "outputs": [],
   "source": [
    "def all_possible_origins(flat_lattice,number_of_points_needed):\n",
    "    reshaped_lattice= flat_lattice.reshape(99,4,16)*1\n",
    "    reshaped_lattice_aggregated_value =np.sum(reshaped_lattice,axis=2)\n",
    "    array = reshaped_lattice_aggregated_value.flatten()\n",
    "    temp = array.argsort()\n",
    "    ranks = np.empty_like(temp)\n",
    "    ranks[temp] = np.arange(len(array))\n",
    "    \n",
    "    indices =list(range(6,flat_lattice.size,16))\n",
    "    points_1D=[]\n",
    "    for points in range(number_of_points_needed):\n",
    "        index= np.where(ranks==points)\n",
    "        points_1D.append(indices[int(index[0])] )  \n",
    "    return points_1D\n"
   ]
  },
  {
   "cell_type": "code",
   "execution_count": 20,
   "metadata": {},
   "outputs": [],
   "source": [
    "## The number of voxels which each agent has to occupy There are five agents :[Blue,Green,Yellow,Red,Violet]\n",
    "## The number of voxels which each agent occupies are [B1,G1,Y1,R1,V1] \n",
    "mass_size = np.count_nonzero((avail_lattice==1)) \n",
    "P_H = 415 # Private Housing\n",
    "S_H= 301 # Social Housing\n",
    "F_H=403 # Free sector Housing\n",
    "R_C= 19 # Restaurant and Cafe \n",
    "R= 73 # Retail stores\n",
    "O=93 # Offices\n",
    "P=51 # Parking\n"
   ]
  },
  {
   "cell_type": "code",
   "execution_count": 22,
   "metadata": {},
   "outputs": [],
   "source": [
    "def ranking_origins(point_id,value_lattice,origin_number):\n",
    "    selected_neighbours= avail_lattice_base.find_neighbours(Stencil_Find_neighbours_cuboid)[point_id]\n",
    "    neighbour_vals_for_agent= value_lattice.flatten()[selected_neighbours]\n",
    "    neighbour_vals_aggregated_for_agent =np.sum(neighbour_vals_for_agent,axis=1)\n",
    "    all_points = np.array(point_id)\n",
    "    array = neighbour_vals_aggregated_for_agent\n",
    "    temp = array.argsort()\n",
    "    ranks = np.empty_like(temp)\n",
    "    ranks[temp] = np.arange(len(array))\n",
    "    \n",
    "    a_lattice = ranks.flatten()\n",
    "    Co_ordinates = []\n",
    "    for item in range(0,origin_number):\n",
    "        Co_ordinates.append(all_points[np.argwhere(a_lattice==item)].flatten()[0])    \n",
    "        \n",
    "    return Co_ordinates"
   ]
  },
  {
   "cell_type": "code",
   "execution_count": 23,
   "metadata": {},
   "outputs": [
    {
     "data": {
      "text/plain": [
       "20"
      ]
     },
     "execution_count": 23,
     "metadata": {},
     "output_type": "execute_result"
    }
   ],
   "source": [
    "flat_parking = Parking.flatten()[available_index_list] \n",
    "Agent_7_origins= available_index_list[np.argmax(flat_parking[10:])]\n",
    "Agent_7_origins"
   ]
  },
  {
   "cell_type": "code",
   "execution_count": 24,
   "metadata": {},
   "outputs": [],
   "source": [
    "PS_A_origin_1 = ranking_origins(Building_1.flatten(),Private_sector_Owned,70)\n",
    "PS_A_origin_2 = ranking_origins(Building_4.flatten(),Private_sector_Owned,70)\n",
    "SS_A_origin_1 = ranking_origins(Building_2.flatten(),Social_Sector_Rental,70)\n",
    "SS_A_origin_2 = ranking_origins(Building_4.flatten(),Social_Sector_Rental,70)\n",
    "FS_A_origin_1 = ranking_origins(Building_1.flatten(),Free_Sector_rental,70)\n",
    "FS_A_origin_2 = ranking_origins(Building_4.flatten(),Free_Sector_rental,70)\n",
    "RC_A_origin_1 = ranking_origins(available_index_list,Restaurants_and_Cafes,70)\n",
    "O_A_origin_1 = ranking_origins(available_index_list,Offices,70)\n",
    "RE_A_origin_1 = ranking_origins(available_index_list,Retail,70)"
   ]
  },
  {
   "cell_type": "markdown",
   "metadata": {},
   "source": [
    "## Define Agent class "
   ]
  },
  {
   "cell_type": "markdown",
   "metadata": {},
   "source": [
    "Develop agents and define their behaviours https://computationaldesignworks.com/posts/zoning-problem-agent-behaviours/"
   ]
  },
  {
   "cell_type": "code",
   "execution_count": 25,
   "metadata": {
    "tags": [
     "hide-cell"
    ]
   },
   "outputs": [],
   "source": [
    "# agent class\n",
    "class agent():\n",
    "    def __init__(self, origin, stencil, id):\n",
    "\n",
    "        # define the origin attribute of the agent and making sure that it is an intiger\n",
    "        self.origin = np.array(origin).astype(int)\n",
    "        # define old origin attribute and assigning the origin to it as the initial state\n",
    "        self.old_origin = self.origin\n",
    "        # define stencil of the agent\n",
    "        self.stencil = stencil\n",
    "        #define agent id\n",
    "        self.id = id\n",
    "\n",
    "    # definition of random/argmax occupancy on a 2d squarish stencil \n",
    "    def random_occupy_squareness(self, env):\n",
    "        # retrieve the list of neighbours of the agent based on the stencil\n",
    "        neighs = env.availibility.find_neighbours_masked(self.stencil, loc = self.origin)\n",
    "        neighs_full_floor = env.availibility.find_neighbours_masked(stencil_full_floor, loc = self.origin)\n",
    "        # find availability of neighbours\n",
    "        neighs_availibility = env.availibility.flatten()[neighs]\n",
    "        neighs_availibility_full_floor = env.availibility.flatten()[neighs_full_floor]\n",
    "        # separate available neighbours\n",
    "        free_neighs = neighs[neighs_availibility==1]\n",
    "        free_neighs_full_floor = neighs_full_floor[neighs_availibility_full_floor==1]\n",
    "        #print(free_neighs)\n",
    "        if len(free_neighs)== 0 :\n",
    "            free_neighs = free_neighs_full_floor\n",
    "        else: \n",
    "            free_neighs= free_neighs\n",
    "        # retrieve the value of each neighbour\n",
    "        free_neighs_value = env.value.flatten()[free_neighs]\n",
    "        # find the neighbour with maximum my value\n",
    "       # selected_neigh = free_neighs[np.argmax(free_neighs_value)]\n",
    "        selected_neigh = np.random.choice(free_neighs,1)\n",
    "        #print(selected_neigh)\n",
    "        # update information\n",
    "        ####################\n",
    "        # set the current origin as the ol origin\n",
    "        self.old_origin = self.origin\n",
    "        # update the current origin with the new selected neighbour\n",
    "        self.origin = np.array(np.unravel_index(selected_neigh, env.availibility.shape)).flatten()\n",
    "        #print(self.origin)\n",
    "     \n",
    "      # definition of random/argmax occupancy on a 3d cubish stencil\n",
    "    def random_occupy_cubish(self, env):\n",
    "        # retrieve the list of neighbours of the agent based on the stencil\n",
    "        neighs = env.availibility.find_neighbours_masked(self.stencil, loc = self.origin)\n",
    "        neighs_full_lattice = env.availibility.find_neighbours_masked(stencil_full_lattice, loc = self.origin)\n",
    "        # find availability of neighbours\n",
    "        neighs_availibility = env.availibility.flatten()[neighs]\n",
    "        neighs_availibility_full_lattice = env.availibility.flatten()[neighs_full_lattice]\n",
    "        # separate available neighbours\n",
    "        free_neighs = neighs[neighs_availibility==1]\n",
    "        free_neighs_full_lattice = neighs_full_lattice[neighs_availibility_full_lattice==1]\n",
    "        #print(free_neighs)\n",
    "        if len(free_neighs)== 0 :\n",
    "            free_neighs = free_neighs_full_lattice\n",
    "        else: \n",
    "            free_neighs= free_neighs\n",
    "        # retrieve the value of each neighbour\n",
    "        free_neighs_value = env.value.flatten()[free_neighs]\n",
    "        # find the neighbour with maximum my value\n",
    "        selected_neigh = free_neighs[np.argmax(free_neighs_value)]\n",
    "        #selected_neigh = np.random.choice(free_neighs,1)\n",
    "        #print(selected_neigh)\n",
    "        # update information\n",
    "        ####################\n",
    "        # set the current origin as the ol origin\n",
    "        self.old_origin = self.origin\n",
    "        # update the current origin with the new selected neighbour\n",
    "        self.origin = np.array(np.unravel_index(selected_neigh, env.availibility.shape)).flatten()\n",
    "        #print(self.origin)\n",
    "      \n",
    "        \n",
    "    def random_occupy_cubish_von_neumann(self, env):\n",
    "        # retrieve the list of neighbours of the agent based on the stencil\n",
    "        neighs = env.availibility.find_neighbours_masked(self.stencil, loc = self.origin)\n",
    "        neighs_full_lattice = env.availibility.find_neighbours_masked(stencil_cuboid, loc = self.origin)\n",
    "        # find availability of neighbours\n",
    "        neighs_availibility = env.availibility.flatten()[neighs]\n",
    "        neighs_availibility_full_lattice = env.availibility.flatten()[neighs_full_lattice]\n",
    "        # separate available neighbours\n",
    "        free_neighs = neighs[neighs_availibility==1]\n",
    "        free_neighs_full_lattice = neighs_full_lattice[neighs_availibility_full_lattice==1]\n",
    "        #print(free_neighs)\n",
    "        if len(free_neighs)== 0 :\n",
    "            free_neighs = free_neighs_full_lattice\n",
    "        else: \n",
    "            free_neighs= free_neighs\n",
    "        # retrieve the value of each neighbour\n",
    "        free_neighs_value = env.value.flatten()[free_neighs]\n",
    "        # find the neighbour with maximum my value\n",
    "        selected_neigh = np.random.choice(free_neighs,1)\n",
    "        #print(selected_neigh)\n",
    "        # update information\n",
    "        ####################\n",
    "        # set the current origin as the ol origin\n",
    "        self.old_origin = self.origin\n",
    "        # update the current origin with the new selected neighbour\n",
    "        self.origin = np.array(np.unravel_index(selected_neigh, env.availibility.shape)).flatten()\n",
    "        #print(self.origin)\n",
    "        \n",
    "    def argmax_occupy_von_neumann(self, env):\n",
    "        # retrieve the list of neighbours of the agent based on the stencil\n",
    "        neighs = env.availibility.find_neighbours_masked(self.stencil, loc = self.origin)\n",
    "        neighs_full_lattice = env.availibility.find_neighbours_masked(stencil_full_lattice, loc = self.origin)\n",
    "        # find availability of neighbours\n",
    "        neighs_availibility = env.availibility.flatten()[neighs]\n",
    "        neighs_availibility_full_lattice = env.availibility.flatten()[neighs_full_lattice]\n",
    "        # separate available neighbours\n",
    "        free_neighs = neighs[neighs_availibility==1]\n",
    "        free_neighs_full_lattice = neighs_full_lattice[neighs_availibility_full_lattice==1]\n",
    "        #print(free_neighs)\n",
    "        if len(free_neighs)== 0 :\n",
    "            free_neighs = free_neighs_full_lattice\n",
    "        else: \n",
    "            free_neighs= free_neighs\n",
    "        # retrieve the value of each neighbour\n",
    "        free_neighs_value = env.value.flatten()[free_neighs]\n",
    "        # find the neighbour with maximum my value\n",
    "        selected_neigh = free_neighs[np.argmax(free_neighs_value)]\n",
    "        #selected_neigh = np.random.choice(free_neighs,1)\n",
    "        #print(selected_neigh)\n",
    "        # update information\n",
    "        ####################\n",
    "        # set the current origin as the ol origin\n",
    "        self.old_origin = self.origin\n",
    "        # update the current origin with the new selected neighbour\n",
    "        self.origin = np.array(np.unravel_index(selected_neigh, env.availibility.shape)).flatten()\n",
    "        #print(self.origin)\n",
    "\n",
    "        \n",
    "     # definition of 2d occupying method for agents\n",
    "    def one_neighbour_occupy_squareness_moore(self, env):\n",
    "        # retrieve the list of neighbours of the agent based on the stencil\n",
    "        neighs = env.availibility.find_neighbours_masked(self.stencil, loc = self.origin)\n",
    "        #print(neighs)\n",
    "        neighs_full_floor = env.availibility.find_neighbours_masked(stencil_full_floor, loc = self.origin)\n",
    "\n",
    "        # find availability of neighbours\n",
    "        neighs_availibility = env.availibility.flatten()[neighs]               \n",
    "        neighs_availibility_full_floor = env.availibility.flatten()[neighs_full_floor]\n",
    "        #print(neighs_availibility)\n",
    "        \n",
    "        # find env values of all neighbours\n",
    "        all_neighs_value = env.value.flatten()[neighs]\n",
    "        all_neighs_value_mod = np.copy(all_neighs_value)\n",
    "        \n",
    "        \n",
    "        #finding number of neighbours and bumping the values based on adjacency for a 9 neighbourhood\n",
    "        \n",
    "        #print(neighbourhood_details)\n",
    "        one = neighs_availibility[1] + neighs_availibility[2] \n",
    "        two = neighs_availibility[0] + neighs_availibility[2] \n",
    "        three = neighs_availibility[1] + neighs_availibility[4] \n",
    "        four = neighs_availibility[0] + neighs_availibility[6] \n",
    "        five = neighs_availibility[2] + neighs_availibility[7] \n",
    "        six = neighs_availibility[3] + neighs_availibility[6] \n",
    "        seven = neighs_availibility[5] + neighs_availibility[7] \n",
    "        eight = neighs_availibility[6] + neighs_availibility[4] \n",
    "        neighbourhood_details = [one,two,three,four,five,six,seven,eight]\n",
    "        \n",
    "        #print(neighbourhood_details)\n",
    "        for detail in range(len(neighs_availibility)-1):\n",
    "            neighbourhood_condition = neighbourhood_details[detail] \n",
    "            #print(neighbourhood_condition)\n",
    "            if neighbourhood_condition == 3:\n",
    "                all_neighs_value_mod[detail]= all_neighs_value_mod[detail] + one_neighbour_factor\n",
    "            elif neighbourhood_condition == 4:\n",
    "                all_neighs_value_mod[detail]= all_neighs_value_mod[detail] + two_neighbour_factor\n",
    "            else:\n",
    "                all_neighs_value_mod[detail] = all_neighs_value_mod[detail]\n",
    "        #print(all_neighs_value_mod)   \n",
    "        \n",
    "\n",
    "        neighs_value_flattened = env.value.flatten()\n",
    "        for val_mod in all_neighs_value_mod:\n",
    "            for neigh in neighs :\n",
    "                neighs_value_flattened[neigh]=val_mod\n",
    "        \n",
    "        \n",
    "        # separate available neighbours\n",
    "        free_neighs = neighs[neighs_availibility==1]\n",
    "        free_neighs_full_floor = neighs_full_floor[neighs_availibility_full_floor==1]\n",
    "        #print(free_neighs)\n",
    "        if len(free_neighs)== 0 :\n",
    "            free_neighs = free_neighs_full_floor\n",
    "        else: \n",
    "            free_neighs= free_neighs\n",
    "        # retrieve the value of each neighbour\n",
    "        free_neighs_value = neighs_value_flattened[free_neighs]\n",
    "        \n",
    "        #print(free_neighs_value)\n",
    "        # find the neighbour with maximum my value\n",
    "        selected_neigh = free_neighs[np.argmax(free_neighs_value)]\n",
    "        #print(selected_neigh)\n",
    "        # update information\n",
    "        ####################\n",
    "        # set the current origin as the ol origin\n",
    "        self.old_origin = self.origin\n",
    "        # update the current origin with the new selected neighbour\n",
    "        self.origin = np.array(np.unravel_index(selected_neigh, env.availibility.shape)).flatten()\n",
    "        #print(self.origin)\n",
    "    \n",
    "    \n",
    "         # definition of 2d occupying method for agents\n",
    "    def one_neighbour_occupy_squareness_von_neumann(self, env):\n",
    "        \n",
    "         # retrieve the list of neighbours of the agent based on the stencil\n",
    "        neighs = env.availibility.find_neighbours_masked(self.stencil, loc = self.origin)\n",
    "        neighs_full_floor = env.availibility.find_neighbours_masked(stencil_full_lattice, loc = self.origin)\n",
    "        # find availability of neighbours\n",
    "        neighs_availibility = env.availibility.flatten()[neighs]\n",
    "        neighs_availibility_full_floor = env.availibility.flatten()[neighs_full_floor]\n",
    "        # separate available neighbours\n",
    "        free_neighs = neighs[neighs_availibility==1]\n",
    "        free_neighs_full_floor = neighs_full_floor[neighs_availibility_full_floor==1]\n",
    "        #print(free_neighs)\n",
    "        if len(free_neighs)== 0 :\n",
    "            free_neighs = free_neighs_full_floor\n",
    "        else: \n",
    "            free_neighs= free_neighs\n",
    "        # retrieve the value of each neighbour\n",
    "        free_neighs_value = env.value.flatten()[free_neighs]\n",
    "        # find the neighbour with maximum my value\n",
    "       # selected_neigh = free_neighs[np.argmax(free_neighs_value)]\n",
    "        selected_neigh = np.random.choice(free_neighs,1)\n",
    "        #print(selected_neigh)\n",
    "        # update information\n",
    "        ####################\n",
    "        # set the current origin as the ol origin\n",
    "        self.old_origin = self.origin\n",
    "        # update the current origin with the new selected neighbour\n",
    "        self.origin = np.array(np.unravel_index(selected_neigh, env.availibility.shape)).flatten()\n",
    "        #print(self.origin)\n",
    "    def one_neighbour_occupy_squareness_behaviour (self,env):        \n",
    "        value_lattice_flat = env.value.flatten()\n",
    "        sqr_factor = 10.1\n",
    "        sqr_shift = 10.0\n",
    "        init_loc = self.origin\n",
    "        neighs_availibility_full_lattice = env.availibility.flatten()\n",
    "        free_neighs_full_lattice = np.argwhere(neighs_availibility_full_lattice==1).flatten()\n",
    " \n",
    "        \n",
    "        agn_locs = [list(init_loc)]\n",
    "        all_neighs =[] \n",
    "        avail_lattice_flat = env.availibility.flatten()\n",
    "        neighs = env.availibility.find_neighbours_masked(self.stencil, loc = self.origin)\n",
    "        all_neighs.append(neighs)\n",
    "        env.neigh_squareness.append(neighs)\n",
    "\n",
    "        neighs_flatten = np.array(env.neigh_squareness).flatten()\n",
    "        #print(neighs_flatten)\n",
    "        neighs_availability = avail_lattice_flat[neighs_flatten]\n",
    "  \n",
    "        # keep the available ones only\n",
    "        avail_neighs = neighs_flatten[neighs_availability==1] \n",
    "        \n",
    "        if len(avail_neighs)== 0 :\n",
    "            avail_neighs = free_neighs_full_lattice\n",
    "        else: \n",
    "            avail_neighs= avail_neighs\n",
    "        #print(avail_neighs)\n",
    "        avail_unq_neighs, avail_unq_neighs_count = np.unique(avail_neighs, return_counts=True)\n",
    "        #print(avail_unq_neighs)\n",
    "        #print(avail_unq_neighs_count)\n",
    "        neighs_unq_base_value = value_lattice_flat[avail_unq_neighs]\n",
    "        neigh_sqr_evaluation = np.power(sqr_factor, (avail_unq_neighs_count - 1)) * neighs_unq_base_value + sqr_shift\n",
    "        #neigh_sqr_evaluation = neighs_unq_base_value + sqr_shift * (avail_unq_neighs_count - 1)\n",
    "\n",
    "\n",
    "        selected_neigh_index = np.argmax(neigh_sqr_evaluation)\n",
    "        selected_neigh_1D_id = avail_unq_neighs[selected_neigh_index]\n",
    "        #selected_neigh_3D_id = np.unravel_index(selected_neigh_1D_id,bounds.shape )\n",
    "\n",
    "        # update information\n",
    "        ####################\n",
    "        self.old_origin = self.origin\n",
    "        # update the current origin with the new selected neighbour\n",
    "        self.origin = np.array(np.unravel_index(selected_neigh_1D_id, env.availibility.shape)).flatten()\n",
    "   \n",
    "        \n",
    "        \n",
    "    def one_neighbour_occupy_cubish_behaviour (self,env):        \n",
    "        value_lattice_flat = env.value.flatten()\n",
    "        sqr_factor = 10.1\n",
    "        sqr_shift = 10.0\n",
    "        init_loc = self.origin\n",
    "        neighs_availibility_full_lattice = env.availibility.flatten()\n",
    "        free_neighs_full_lattice = np.argwhere(neighs_availibility_full_lattice==1).flatten()\n",
    "        \n",
    "        agn_locs = [list(init_loc)]\n",
    "        all_neighs =[] \n",
    "        avail_lattice_flat = env.availibility.flatten()\n",
    "        neighs = env.availibility.find_neighbours_masked(self.stencil, loc = self.origin)\n",
    "        all_neighs.append(neighs)\n",
    "        env.neigh_cubish.append(neighs)\n",
    "\n",
    "        neighs_flatten = np.array(env.neigh_cubish).flatten()\n",
    "        #print(neighs_flatten)\n",
    "        neighs_availability = avail_lattice_flat[neighs_flatten]\n",
    "  \n",
    "        # keep the available ones only\n",
    "        avail_neighs = neighs_flatten[neighs_availability==1] \n",
    "        \n",
    "        if len(avail_neighs)== 0 :\n",
    "            avail_neighs = free_neighs_full_lattice\n",
    "        else: \n",
    "            avail_neighs= avail_neighs\n",
    "                \n",
    "        #print(avail_neighs)\n",
    "        avail_unq_neighs, avail_unq_neighs_count = np.unique(avail_neighs, return_counts=True)\n",
    "        #print(avail_unq_neighs)\n",
    "        #print(avail_unq_neighs_count)\n",
    "        neighs_unq_base_value = value_lattice_flat[avail_unq_neighs]\n",
    "        \n",
    "        #neigh_sqr_evaluation = np.power(sqr_factor, (avail_unq_neighs_count - 1)) * neighs_unq_base_value + sqr_shift\n",
    "        neigh_sqr_evaluation = neighs_unq_base_value + sqr_shift * (avail_unq_neighs_count - 1)\n",
    "\n",
    "       # print(neighs_unq_base_value) \n",
    "        selected_neigh_index = np.argmax(neigh_sqr_evaluation)\n",
    "        selected_neigh_1D_id = avail_unq_neighs[selected_neigh_index]\n",
    "        #selected_neigh_3D_id = np.unravel_index(selected_neigh_1D_id,bounds.shape )       \n",
    "            \n",
    "        # update information\n",
    "        ####################\n",
    "        self.old_origin = self.origin\n",
    "        # update the current origin with the new selected neighbour\n",
    "        self.origin = np.array(np.unravel_index(selected_neigh_1D_id, env.availibility.shape)).flatten()\n",
    "        #print(selected_neigh_1D_id)\n",
    "        #print(free_neighs_full_lattice)\n",
    "\n",
    "            "
   ]
  },
  {
   "cell_type": "markdown",
   "metadata": {},
   "source": [
    "## Define Agent Origin definition "
   ]
  },
  {
   "cell_type": "code",
   "execution_count": 26,
   "metadata": {},
   "outputs": [],
   "source": [
    "# Agent init class\n",
    "\n",
    "def initialize_agents_random_origin (stencil,avail_lattice):\n",
    "    #finding origin \n",
    "    agn_num = 1\n",
    "    occ_lattice = avail_lattice*0 -1\n",
    "    avail_flat = avail_lattice.flatten()\n",
    "    avail_index = np.array(np.where(avail_lattice == 1)).T\n",
    "    select_id = np.random.choice(len(avail_index), agn_num)\n",
    "    agn_origins = tuple(avail_index[select_id].flatten()) \n",
    "\n",
    "    # Defining agents\n",
    "    myagent = agent(agn_origins, stencil, select_id)\n",
    "\n",
    "    return myagent\n",
    "\n",
    "def initialize_agents_fixed_origin (stencil,avail_lattice,origin):\n",
    "    #finding origin \n",
    "    agn_origins = np.unravel_index(origin,avail_lattice.shape)\n",
    "    select_id = origin\n",
    "    # Defining agents\n",
    "    myagent = agent(agn_origins, stencil, select_id)\n",
    "\n",
    "    return myagent"
   ]
  },
  {
   "cell_type": "markdown",
   "metadata": {},
   "source": [
    "## Define the multi-agent enviornment class"
   ]
  },
  {
   "cell_type": "markdown",
   "metadata": {},
   "source": [
    "Collect the Base lattice , Desirability lattice and agent behaviours into a single enviornment"
   ]
  },
  {
   "cell_type": "code",
   "execution_count": 27,
   "metadata": {},
   "outputs": [],
   "source": [
    "# environment class\n",
    "class environment():\n",
    "    def __init__(self, lattices, agents,number_of_iterations,method_name):\n",
    "        self.availibility = lattices[\"availibility\"]\n",
    "        self.value = lattices[\"enviornment\"]\n",
    "        self.agent_origin = self.availibility \n",
    "        self.agents = agents\n",
    "        self.update_agents()\n",
    "        self.number_of_iterations = number_of_iterations\n",
    "        self.method_name = method_name\n",
    "        self.neigh_cubish = []\n",
    "        self.neigh_squareness = []\n",
    "    def update_agents(self):\n",
    "        # making previous position available\n",
    "      #  self.availibility[tuple(self.agents.old_origin)] = self.availibility[tuple(self.agents.old_origin)] * 0 + 1\n",
    "        # removing agent from previous position\n",
    "        self.agent_origin[tuple(self.agents.old_origin)] *= 0+1\n",
    "        # making the current position unavailable\n",
    "        self.availibility[tuple(self.agents.origin)] = self.agents.id\n",
    "        # adding agent to the new position \n",
    "        self.agent_origin[tuple(self.agents.origin)] = self.agents.id\n",
    "    \n",
    "    def random_occupy_squareness_agents(self):\n",
    "        # iterate over egents and perform the walk\n",
    "        self.agents.random_occupy_squareness(self)\n",
    "        # update the agent states in environment\n",
    "        self.update_agents()\n",
    "        \n",
    "    def random_occupy_cubish_agents(self):\n",
    "        # iterate over egents and perform the walk\n",
    "        self.agents.random_occupy_cubish(self)\n",
    "        # update the agent states in environment\n",
    "        self.update_agents()\n",
    "    \n",
    "    def random_occupy_cubish_von_neumann_agents(self):\n",
    "        # iterate over egents and perform the walk\n",
    "        self.agents.random_occupy_cubish_von_neumann(self)\n",
    "        # update the agent states in environment\n",
    "        self.update_agents()\n",
    "    \n",
    "    def argmax_occupy_von_neumann(self):\n",
    "        # iterate over egents and perform the walk\n",
    "        self.agents.argmax_occupy_von_neumann(self)\n",
    "        # update the agent states in environment\n",
    "        self.update_agents()\n",
    "        \n",
    "    def one_neighbour_occupy_squareness_moore(self):\n",
    "        # iterate over egents and perform the walk\n",
    "        self.agents.one_neighbour_occupy_squareness_moore(self)\n",
    "        # update the agent states in environment\n",
    "        self.update_agents()\n",
    "        \n",
    "    def one_neighbour_occupy_squareness_von_neumann(self):\n",
    "        # iterate over egents and perform the walk\n",
    "        self.agents.one_neighbour_occupy_squareness_von_neumann(self)\n",
    "        # update the agent states in environment\n",
    "        self.update_agents()\n",
    "      \n",
    "    def one_neighbour_occupy_cubish_behaviour(self):\n",
    "        # iterate over egents and perform the walk\n",
    "        self.agents.one_neighbour_occupy_cubish_behaviour(self)\n",
    "        # update the agent states in environment\n",
    "        self.update_agents()\n",
    "        \n",
    "    def one_neighbour_occupy_squareness_behaviour(self):\n",
    "        # iterate over egents and perform the walk\n",
    "        self.agents.one_neighbour_occupy_squareness_behaviour(self)\n",
    "        # update the agent states in environment\n",
    "        self.update_agents()\n",
    "        "
   ]
  },
  {
   "cell_type": "markdown",
   "metadata": {},
   "source": [
    "## Calculate cost of assignment of the cells "
   ]
  },
  {
   "cell_type": "code",
   "execution_count": 28,
   "metadata": {},
   "outputs": [],
   "source": [
    "def calculate_cost_for_positions(Location_list,Enviornment_lattice,number_of_cells_to_be_occupied):\n",
    "    All_viz_options = []\n",
    "    for indexing, item in enumerate(Location_list):\n",
    "        #print(indexing)\n",
    "        Agent = agent(np.unravel_index(item,init_avail_lattice.shape),stencil_cuboid,9)\n",
    "\n",
    "        occ_lattice_sim = tg.to_lattice(np.copy(avail_lattice), avail_lattice)\n",
    "\n",
    "        env = {\"availibility\": occ_lattice_sim,\"enviornment\": Enviornment_lattice}\n",
    "\n",
    "\n",
    "        env_1 = environment(env,Agent,number_of_cells_to_be_occupied,\"one_neighbour_occupy_cubish_behaviour\")\n",
    "\n",
    "        env_availability_viz = []\n",
    "        env_list =[env_1]\n",
    "        number_steps = max(map(lambda e:e.number_of_iterations,env_list))    \n",
    "        for a in range(number_steps):\n",
    "            # print(env.availibility)\n",
    "            #print(env.agent_origin)\n",
    "\n",
    "            for e in env_list:\n",
    "                if a < e.number_of_iterations :\n",
    "                    #print(a)\n",
    "                    #print(e.number_of_iterations)\n",
    "                    if e.method_name == \"one_neighbour_occupy_squareness_moore\":\n",
    "                        e.one_neighbour_occupy_squareness_moore()\n",
    "\n",
    "                    elif e.method_name == \"one_neighbour_occupy_cubish_agents\" :\n",
    "                        e.one_neighbour_occupy_cubish_agents()\n",
    "\n",
    "                    elif e.method_name == \"random_occupy_squareness_agents\" :\n",
    "                        e.random_occupy_squareness_agents()\n",
    "\n",
    "                    elif e.method_name == \"random_occupy_cubish_agents\" :\n",
    "                        e.random_occupy_cubish_agents()  \n",
    "\n",
    "                    elif e.method_name == \"random_occupy_cubish_von_neumann_agents\" :\n",
    "                        e.random_occupy_cubish_von_neumann_agents()                           \n",
    "\n",
    "                    elif e.method_name == \"one_neighbour_occupy_squareness_von_neumann\" :\n",
    "                        e.one_neighbour_occupy_squareness_von_neumann()                \n",
    "\n",
    "\n",
    "                    elif e.method_name == \"one_neighbour_occupy_squareness_behaviour\" :\n",
    "                        e.one_neighbour_occupy_squareness_behaviour()  \n",
    "\n",
    "                    elif e.method_name == \"one_neighbour_occupy_cubish_behaviour\" :\n",
    "                        e.one_neighbour_occupy_cubish_behaviour()  \n",
    "\n",
    "                    elif e.method_name == \"argmax_occupy_von_neumann\" :\n",
    "                        e.argmax_occupy_von_neumann()  \n",
    "\n",
    "        env_availability_viz.append(e.availibility)\n",
    "\n",
    "        All_viz_options.append(env_availability_viz)\n",
    "\n",
    "    all_viz_array= np.array(All_viz_options)\n",
    "    all_viz_array_shape = all_viz_array.shape\n",
    "    reshaped_all_viz= all_viz_array.reshape(all_viz_array_shape[0]*all_viz_array_shape[1],all_viz_array_shape[2],all_viz_array_shape[3],all_viz_array_shape[4])\n",
    "    sum_of_values = []\n",
    "    for lattice in reshaped_all_viz:\n",
    "        indexes= np.argwhere(lattice.flatten()==9).flatten()\n",
    "        values= env[\"enviornment\"].flatten()[indexes]\n",
    "        total = int(np.sum(values))\n",
    "        sum_of_values.append(total)\n",
    "    return sum_of_values"
   ]
  },
  {
   "cell_type": "code",
   "execution_count": 29,
   "metadata": {},
   "outputs": [
    {
     "data": {
      "text/plain": [
       "'\\nCost_for_PH = np.array(calculate_cost_for_positions(Selected_positions,Private_sector_Owned,20)) # Private Housing\\nCost_for_SH = np.array(calculate_cost_for_positions(Selected_positions,Social_Sector_Rental,20)) # Social Housing\\nCost_for_FH = np.array(calculate_cost_for_positions(Selected_positions,Free_Sector_rental,20)) # Free sector Housing\\nCost_for_RC = np.array(calculate_cost_for_positions(Selected_positions,Restaurants_and_Cafes,20)) # Restaurant and Cafe \\nCost_for_R = np.array(calculate_cost_for_positions(Selected_positions,Offices,20)) # Retail stores\\nCost_for_O = np.array(calculate_cost_for_positions(Selected_positions,Retail,20)) # Offices\\nCost_for_P = np.array(calculate_cost_for_positions(Selected_positions,Parking,20)) # Parking\\n'"
      ]
     },
     "execution_count": 29,
     "metadata": {},
     "output_type": "execute_result"
    }
   ],
   "source": [
    "\"\"\"\n",
    "Cost_for_PH = np.array(calculate_cost_for_positions(Selected_positions,Private_sector_Owned,20)) # Private Housing\n",
    "Cost_for_SH = np.array(calculate_cost_for_positions(Selected_positions,Social_Sector_Rental,20)) # Social Housing\n",
    "Cost_for_FH = np.array(calculate_cost_for_positions(Selected_positions,Free_Sector_rental,20)) # Free sector Housing\n",
    "Cost_for_RC = np.array(calculate_cost_for_positions(Selected_positions,Restaurants_and_Cafes,20)) # Restaurant and Cafe \n",
    "Cost_for_R = np.array(calculate_cost_for_positions(Selected_positions,Offices,20)) # Retail stores\n",
    "Cost_for_O = np.array(calculate_cost_for_positions(Selected_positions,Retail,20)) # Offices\n",
    "Cost_for_P = np.array(calculate_cost_for_positions(Selected_positions,Parking,20)) # Parking\n",
    "\"\"\""
   ]
  },
  {
   "cell_type": "code",
   "execution_count": 30,
   "metadata": {},
   "outputs": [],
   "source": [
    "def agent_based_on_origin(Origin,index,stencil):\n",
    "    return agent(np.unravel_index(Origin,init_avail_lattice.shape),stencil,index)"
   ]
  },
  {
   "cell_type": "code",
   "execution_count": 31,
   "metadata": {},
   "outputs": [],
   "source": [
    "Agents_P = agent_based_on_origin(PS_A_origin_1[0],10,stencil_cuboid)\n",
    "Agents_P_2 = agent_based_on_origin(PS_A_origin_2[0],10,stencil_cuboid)\n",
    "Agents_PR = agent_based_on_origin (309,100,stencil_squareness_t)\n",
    "\n",
    "env_P = {\"availibility\": avail_lattice,\"enviornment\": Private_sector_Owned}\n",
    "env_PR = {\"availibility\": avail_lattice,\"enviornment\": Parking}\n",
    "\n",
    "env_1 = environment(env_P,Agents_P,100,\"one_neighbour_occupy_cubish_behaviour\")\n",
    "env_2 = environment(env_P,Agents_P_2,315,\"one_neighbour_occupy_cubish_behaviour\")\n",
    "env_3 = environment(env_PR,Agents_PR,51,\"one_neighbour_occupy_squareness_behaviour\")"
   ]
  },
  {
   "cell_type": "markdown",
   "metadata": {},
   "source": [
    "## Run a Agent based simulation using Agent class and Enviornment class "
   ]
  },
  {
   "cell_type": "code",
   "execution_count": 32,
   "metadata": {
    "scrolled": true
   },
   "outputs": [],
   "source": [
    "env_availability_viz = []\n",
    "env_list = [env_1,env_2,env_3]\n",
    "number_steps = max(map(lambda e:e.number_of_iterations,env_list))\n",
    "for a in range(number_steps):\n",
    "    # print(env.availibility)\n",
    "    #print(env.agent_origin)\n",
    "    #print(a)\n",
    "    for e in env_list:\n",
    "        if a < e.number_of_iterations :\n",
    "            #print(a)\n",
    "            #print(e.number_of_iterations)\n",
    "            if e.method_name == \"one_neighbour_occupy_squareness_moore\":\n",
    "                e.one_neighbour_occupy_squareness_moore()\n",
    "                \n",
    "            elif e.method_name == \"one_neighbour_occupy_cubish_agents\" :\n",
    "                e.one_neighbour_occupy_cubish_agents()\n",
    "                \n",
    "            elif e.method_name == \"random_occupy_squareness_agents\" :\n",
    "                e.random_occupy_squareness_agents()\n",
    "            \n",
    "            elif e.method_name == \"random_occupy_cubish_agents\" :\n",
    "                e.random_occupy_cubish_agents()  \n",
    "                \n",
    "            elif e.method_name == \"random_occupy_cubish_von_neumann_agents\" :\n",
    "                e.random_occupy_cubish_von_neumann_agents()                           \n",
    "                \n",
    "            elif e.method_name == \"one_neighbour_occupy_squareness_von_neumann\" :\n",
    "                e.one_neighbour_occupy_squareness_von_neumann()                \n",
    "                \n",
    "                \n",
    "            elif e.method_name == \"one_neighbour_occupy_squareness_behaviour\" :\n",
    "                e.one_neighbour_occupy_squareness_behaviour()  \n",
    "                \n",
    "            elif e.method_name == \"one_neighbour_occupy_cubish_behaviour\" :\n",
    "                e.one_neighbour_occupy_cubish_behaviour()  \n",
    "            \n",
    "            elif e.method_name == \"argmax_occupy_von_neumann\" :\n",
    "                e.argmax_occupy_von_neumann()  \n",
    "                \n",
    "            env_availability_viz.append(e.availibility-1)"
   ]
  },
  {
   "cell_type": "markdown",
   "metadata": {},
   "source": [
    "## Vizualise the simulation and the Zoning output"
   ]
  },
  {
   "cell_type": "markdown",
   "metadata": {},
   "source": [
    "## <span style=\"color:red\">Sometimes vtk gives an error for binder so the output arrays can also just be printed to check the simulation </span>"
   ]
  },
  {
   "cell_type": "code",
   "execution_count": 36,
   "metadata": {},
   "outputs": [
    {
     "name": "stdout",
     "output_type": "stream",
     "text": [
      "[6 6 6]\n"
     ]
    },
    {
     "data": {
      "application/vnd.jupyter.widget-view+json": {
       "model_id": "5ab6a494b4ed4a2eaac5af6627b3ba5d",
       "version_major": 2,
       "version_minor": 0
      },
      "text/plain": [
       "ViewInteractiveWidget(height=768, layout=Layout(height='auto', width='100%'), width=1024)"
      ]
     },
     "metadata": {},
     "output_type": "display_data"
    },
    {
     "data": {
      "text/plain": [
       "[(168.72367820989257, 336.72367820989257, 303.72367820989257),\n",
       " (-105.0, 63.0, 30.0),\n",
       " (0.0, 0.0, 1.0)]"
      ]
     },
     "execution_count": 36,
     "metadata": {},
     "output_type": "execute_result"
    }
   ],
   "source": [
    "p = pv.Plotter(notebook=True)\n",
    "\n",
    "base_lattice = env_availability_viz[0]\n",
    "print(base_lattice.unit)\n",
    "# Set the grid dimensions: shape + 1 because we want to inject our values on the CELL data\n",
    "grid = pv.UniformGrid()\n",
    "grid.dimensions = np.array(base_lattice.shape) + 1\n",
    "# The bottom left corner of the data set\n",
    "grid.origin = base_lattice.minbound - base_lattice.unit * 0.5\n",
    "# These are the cell sizes along each axis\n",
    "grid.spacing = base_lattice.unit \n",
    "\n",
    "# adding the boundingbox wireframe\n",
    "p.add_mesh(grid.outline(), color=\"grey\", label=\"Domain\")\n",
    "\n",
    "# adding the avilability lattice\n",
    "init_avail_lattice.fast_vis(p)\n",
    "\n",
    "# adding axes\n",
    "p.add_axes()\n",
    "p.show_bounds(grid=\"back\", location=\"back\", color=\"#aaaaaa\") \n",
    "\n",
    "def create_mesh(value):\n",
    "    f = int(value)\n",
    "    lattice = env_availability_viz[f]\n",
    "\n",
    "    # Add the data values to the cell data\n",
    "    grid.cell_arrays[\"Agents\"] = lattice.flatten(order=\"F\").astype(int)  # Flatten the array!\n",
    "    # filtering the voxels\n",
    "    threshed = grid.threshold([1.1, avail_lattice.size])\n",
    "    # adding the voxels\n",
    "    p.add_mesh(threshed, name='sphere', show_edges=True, opacity=1.0, show_scalar_bar=False)\n",
    "    return\n",
    "number_steps_2 = 1500\n",
    "p.add_slider_widget(create_mesh, [0, number_steps_2], title='Time', value=0, event_type=\"always\", style=\"classic\")\n",
    "\n",
    "\n",
    "pv.set_jupyter_backend(\"ipyvtklink\")\n",
    "p.show()"
   ]
  },
  {
   "cell_type": "markdown",
   "metadata": {},
   "source": [
    "### In this simulation only two zones can be seen this is done for the remaining zones to get the final zoning output"
   ]
  }
 ],
 "metadata": {
  "hide_input": false,
  "kernelspec": {
   "display_name": "Python 3",
   "language": "python",
   "name": "python3"
  },
  "language_info": {
   "codemirror_mode": {
    "name": "ipython",
    "version": 3
   },
   "file_extension": ".py",
   "mimetype": "text/x-python",
   "name": "python",
   "nbconvert_exporter": "python",
   "pygments_lexer": "ipython3",
   "version": "3.8.4"
  }
 },
 "nbformat": 4,
 "nbformat_minor": 4
}
