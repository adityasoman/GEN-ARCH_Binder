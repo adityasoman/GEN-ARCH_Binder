{
 "cells": [
  {
   "cell_type": "markdown",
   "metadata": {},
   "source": [
    "# Initialization"
   ]
  },
  {
   "cell_type": "code",
   "execution_count": 22,
   "metadata": {},
   "outputs": [],
   "source": [
    "import os\n",
    "import itertools\n",
    "import sys\n",
    "from math import factorial as fac\n",
    "sys.path.append(\"D:/TU_Delft/Msc_Building_Technology/Semester_3/Graduation/Aditya_Graduation_Project_BT/06_Libraries\")\n",
    "import topogenesis as tg\n",
    "import pyvista as pv\n",
    "import trimesh as tm\n",
    "import numpy as np\n",
    "import networkx as nx\n",
    "import pandas as pd\n",
    "np.random.seed(0)\n",
    "np.set_printoptions(threshold=sys.maxsize)\n",
    "import networkx as nx\n",
    "from itertools import combinations\n",
    "import pickle"
   ]
  },
  {
   "cell_type": "markdown",
   "metadata": {},
   "source": [
    "# Basic Lattices"
   ]
  },
  {
   "cell_type": "code",
   "execution_count": 2,
   "metadata": {},
   "outputs": [],
   "source": [
    "# loading the lattice from csv\n",
    "lattice_path = os.path.relpath('voxelized_envelope_6m_voxel_size.csv')\n",
    "avail_lattice_base = tg.lattice_from_csv(lattice_path)\n",
    "avail_lattice = avail_lattice_base*1\n",
    "init_avail_lattice = tg.to_lattice(np.copy(avail_lattice*1), avail_lattice)"
   ]
  },
  {
   "cell_type": "code",
   "execution_count": 3,
   "metadata": {},
   "outputs": [],
   "source": [
    "flattened_lattice = avail_lattice_base.flatten()"
   ]
  },
  {
   "cell_type": "markdown",
   "metadata": {},
   "source": [
    "# Env Lattices"
   ]
  },
  {
   "cell_type": "code",
   "execution_count": 4,
   "metadata": {},
   "outputs": [],
   "source": [
    "Private_sector_Owned = (pickle.load( open( \"Privately Owned Housing.p\", \"rb\" ) ))\n",
    "Social_Sector_Rental = (pickle.load( open( \"Social Sector Rental Housing.p\", \"rb\" ) ))\n",
    "Free_Sector_rental = (pickle.load( open( \"Free Sector Rental Housing.p\", \"rb\" ) )) \n",
    "Restaurants_and_Cafes = (pickle.load( open( \"Restaurants and Cafe.p\", \"rb\" ) )) \n",
    "Offices = (pickle.load( open( \"Offices.p\", \"rb\" ) )) \n",
    "Retail = (pickle.load( open( \"Retail Stores.p\", \"rb\" ) )) \n",
    "Parking = (pickle.load( open( \"Parking.p\", \"rb\" ) )) "
   ]
  },
  {
   "cell_type": "markdown",
   "metadata": {},
   "source": [
    "# Stencils"
   ]
  },
  {
   "cell_type": "code",
   "execution_count": 5,
   "metadata": {},
   "outputs": [],
   "source": [
    "# creating neighborhood definition\n",
    "stencil_von_neumann = tg.create_stencil(\"von_neumann\", 1, 1)\n",
    "stencil_von_neumann.set_index([0,0,0], 0)\n",
    "#print(stencil_von_neumann)"
   ]
  },
  {
   "cell_type": "code",
   "execution_count": 6,
   "metadata": {},
   "outputs": [],
   "source": [
    "# creating neighborhood definition \n",
    "stencil_squareness = tg.create_stencil(\"moore\", 1, 1)\n",
    "# Reshaping the moore neighbourhood\n",
    "stencil_squareness[0,:,:] = 0 \n",
    "stencil_squareness[2,:,:] = 0\n",
    "stencil_squareness.set_index([0,0,0], 0)\n",
    "stencil_squareness_t = np.transpose(stencil_squareness) \n",
    "#print(stencil_squareness_t)"
   ]
  },
  {
   "cell_type": "code",
   "execution_count": 7,
   "metadata": {},
   "outputs": [],
   "source": [
    "# creating neighborhood definition \n",
    "stencil_squareness_von = tg.create_stencil(\"von_neumann\", 1, 1)\n",
    "# Reshaping the moore neighbourhood\n",
    "stencil_squareness_von[0,:,:] = 0 \n",
    "stencil_squareness_von[2,:,:] = 0\n",
    "stencil_squareness_von.set_index([0,0,0], 0)\n",
    "stencil_squareness_von_t = np.transpose(stencil_squareness_von) \n",
    "#print(stencil_squareness_von)"
   ]
  },
  {
   "cell_type": "code",
   "execution_count": 8,
   "metadata": {},
   "outputs": [],
   "source": [
    "stencil_cuboid = tg.create_stencil(\"moore\", 1, 1)\n",
    "stencil_cuboid.set_index([0,0,0], 0)\n",
    "#print(stencil_cuboid)"
   ]
  },
  {
   "cell_type": "code",
   "execution_count": 9,
   "metadata": {},
   "outputs": [],
   "source": [
    "Stencil_Find_neighbours_cuboid = tg.create_stencil(\"moore\", 1, 1)"
   ]
  },
  {
   "cell_type": "code",
   "execution_count": 10,
   "metadata": {},
   "outputs": [],
   "source": [
    "stencil_full_floor = tg.create_stencil(\"moore\",int(10/2) )*0\n",
    "stencil_full_floor[:,:,int(10/2)] = 1\n",
    "stencil_full_floor.set_index([0,0,0], 0)\n",
    "#print(stencil_full_floor)"
   ]
  },
  {
   "cell_type": "markdown",
   "metadata": {},
   "source": [
    "# Agent_sizes"
   ]
  },
  {
   "cell_type": "code",
   "execution_count": 11,
   "metadata": {},
   "outputs": [],
   "source": [
    "## The number of voxels which each agent has to occupy There are five agents :[Blue,Green,Yellow,Red,Violet]\n",
    "## The number of voxels which each agent occupies are [B1,G1,Y1,R1,V1] \n",
    "mass_size = np.count_nonzero((avail_lattice==1)) \n",
    "P_H = 415 # Private Housing\n",
    "S_H= 301 # Social Housing\n",
    "F_H=403 # Free sector Housing\n",
    "R_C= 19 # Restaurant and Cafe \n",
    "R= 73 # Retail stores\n",
    "O=93 # Offices\n",
    "P=51 # Parking\n"
   ]
  },
  {
   "cell_type": "markdown",
   "metadata": {},
   "source": [
    "# All possible origin points "
   ]
  },
  {
   "cell_type": "code",
   "execution_count": 12,
   "metadata": {},
   "outputs": [],
   "source": [
    "available_index_list= list(np.argwhere(flattened_lattice==1).flatten())"
   ]
  },
  {
   "cell_type": "markdown",
   "metadata": {},
   "source": [
    "# ABM Simulation"
   ]
  },
  {
   "cell_type": "code",
   "execution_count": 13,
   "metadata": {},
   "outputs": [],
   "source": [
    "# agent class\n",
    "class agent():\n",
    "    def __init__(self, origin, stencil, id):\n",
    "\n",
    "        # define the origin attribute of the agent and making sure that it is an intiger\n",
    "        self.origin = np.array(origin).astype(int)\n",
    "        # define old origin attribute and assigning the origin to it as the initial state\n",
    "        self.old_origin = self.origin\n",
    "        # define stencil of the agent\n",
    "        self.stencil = stencil\n",
    "        #define agent id\n",
    "        self.id = id\n",
    "\n",
    "    # definition of random/argmax occupancy on a 2d squarish stencil \n",
    "    def random_occupy_squareness(self, env):\n",
    "        # retrieve the list of neighbours of the agent based on the stencil\n",
    "        neighs = env.availibility.find_neighbours_masked(self.stencil, loc = self.origin)\n",
    "        neighs_full_floor = env.availibility.find_neighbours_masked(stencil_full_floor, loc = self.origin)\n",
    "        # find availability of neighbours\n",
    "        neighs_availibility = env.availibility.flatten()[neighs]\n",
    "        neighs_availibility_full_floor = env.availibility.flatten()[neighs_full_floor]\n",
    "        # separate available neighbours\n",
    "        free_neighs = neighs[neighs_availibility==1]\n",
    "        free_neighs_full_floor = neighs_full_floor[neighs_availibility_full_floor==1]\n",
    "        #print(free_neighs)\n",
    "        if len(free_neighs)== 0 :\n",
    "            free_neighs = free_neighs_full_floor\n",
    "        else: \n",
    "            free_neighs= free_neighs\n",
    "        # retrieve the value of each neighbour\n",
    "        free_neighs_value = env.value.flatten()[free_neighs]\n",
    "        # find the neighbour with maximum my value\n",
    "       # selected_neigh = free_neighs[np.argmax(free_neighs_value)]\n",
    "        selected_neigh = np.random.choice(free_neighs,1)\n",
    "        #print(selected_neigh)\n",
    "        # update information\n",
    "        ####################\n",
    "        # set the current origin as the ol origin\n",
    "        self.old_origin = self.origin\n",
    "        # update the current origin with the new selected neighbour\n",
    "        self.origin = np.array(np.unravel_index(selected_neigh, env.availibility.shape)).flatten()\n",
    "        #print(self.origin)\n",
    "     \n",
    "      # definition of random/argmax occupancy on a 3d cubish stencil\n",
    "    def random_occupy_cubish(self, env):\n",
    "        # retrieve the list of neighbours of the agent based on the stencil\n",
    "        neighs = env.availibility.find_neighbours_masked(self.stencil, loc = self.origin)\n",
    "        neighs_full_lattice = env.availibility.find_neighbours_masked(stencil_full_lattice, loc = self.origin)\n",
    "        # find availability of neighbours\n",
    "        neighs_availibility = env.availibility.flatten()[neighs]\n",
    "        neighs_availibility_full_lattice = env.availibility.flatten()[neighs_full_lattice]\n",
    "        # separate available neighbours\n",
    "        free_neighs = neighs[neighs_availibility==1]\n",
    "        free_neighs_full_lattice = neighs_full_lattice[neighs_availibility_full_lattice==1]\n",
    "        #print(free_neighs)\n",
    "        if len(free_neighs)== 0 :\n",
    "            free_neighs = free_neighs_full_lattice\n",
    "        else: \n",
    "            free_neighs= free_neighs\n",
    "        # retrieve the value of each neighbour\n",
    "        free_neighs_value = env.value.flatten()[free_neighs]\n",
    "        # find the neighbour with maximum my value\n",
    "        selected_neigh = free_neighs[np.argmax(free_neighs_value)]\n",
    "        #selected_neigh = np.random.choice(free_neighs,1)\n",
    "        #print(selected_neigh)\n",
    "        # update information\n",
    "        ####################\n",
    "        # set the current origin as the ol origin\n",
    "        self.old_origin = self.origin\n",
    "        # update the current origin with the new selected neighbour\n",
    "        self.origin = np.array(np.unravel_index(selected_neigh, env.availibility.shape)).flatten()\n",
    "        #print(self.origin)\n",
    "      \n",
    "        \n",
    "    def random_occupy_cubish_von_neumann(self, env):\n",
    "        # retrieve the list of neighbours of the agent based on the stencil\n",
    "        neighs = env.availibility.find_neighbours_masked(self.stencil, loc = self.origin)\n",
    "        neighs_full_lattice = env.availibility.find_neighbours_masked(stencil_cuboid, loc = self.origin)\n",
    "        # find availability of neighbours\n",
    "        neighs_availibility = env.availibility.flatten()[neighs]\n",
    "        neighs_availibility_full_lattice = env.availibility.flatten()[neighs_full_lattice]\n",
    "        # separate available neighbours\n",
    "        free_neighs = neighs[neighs_availibility==1]\n",
    "        free_neighs_full_lattice = neighs_full_lattice[neighs_availibility_full_lattice==1]\n",
    "        #print(free_neighs)\n",
    "        if len(free_neighs)== 0 :\n",
    "            free_neighs = free_neighs_full_lattice\n",
    "        else: \n",
    "            free_neighs= free_neighs\n",
    "        # retrieve the value of each neighbour\n",
    "        free_neighs_value = env.value.flatten()[free_neighs]\n",
    "        # find the neighbour with maximum my value\n",
    "        selected_neigh = np.random.choice(free_neighs,1)\n",
    "        #print(selected_neigh)\n",
    "        # update information\n",
    "        ####################\n",
    "        # set the current origin as the ol origin\n",
    "        self.old_origin = self.origin\n",
    "        # update the current origin with the new selected neighbour\n",
    "        self.origin = np.array(np.unravel_index(selected_neigh, env.availibility.shape)).flatten()\n",
    "        #print(self.origin)\n",
    "        \n",
    "    def argmax_occupy_von_neumann(self, env):\n",
    "        # retrieve the list of neighbours of the agent based on the stencil\n",
    "        neighs = env.availibility.find_neighbours_masked(self.stencil, loc = self.origin)\n",
    "        neighs_full_lattice = env.availibility.find_neighbours_masked(stencil_full_lattice, loc = self.origin)\n",
    "        # find availability of neighbours\n",
    "        neighs_availibility = env.availibility.flatten()[neighs]\n",
    "        neighs_availibility_full_lattice = env.availibility.flatten()[neighs_full_lattice]\n",
    "        # separate available neighbours\n",
    "        free_neighs = neighs[neighs_availibility==1]\n",
    "        free_neighs_full_lattice = neighs_full_lattice[neighs_availibility_full_lattice==1]\n",
    "        #print(free_neighs)\n",
    "        if len(free_neighs)== 0 :\n",
    "            free_neighs = free_neighs_full_lattice\n",
    "        else: \n",
    "            free_neighs= free_neighs\n",
    "        # retrieve the value of each neighbour\n",
    "        free_neighs_value = env.value.flatten()[free_neighs]\n",
    "        # find the neighbour with maximum my value\n",
    "        selected_neigh = free_neighs[np.argmax(free_neighs_value)]\n",
    "        #selected_neigh = np.random.choice(free_neighs,1)\n",
    "        #print(selected_neigh)\n",
    "        # update information\n",
    "        ####################\n",
    "        # set the current origin as the ol origin\n",
    "        self.old_origin = self.origin\n",
    "        # update the current origin with the new selected neighbour\n",
    "        self.origin = np.array(np.unravel_index(selected_neigh, env.availibility.shape)).flatten()\n",
    "        #print(self.origin)\n",
    "\n",
    "        \n",
    "     # definition of 2d occupying method for agents\n",
    "    def one_neighbour_occupy_squareness_moore(self, env):\n",
    "        # retrieve the list of neighbours of the agent based on the stencil\n",
    "        neighs = env.availibility.find_neighbours_masked(self.stencil, loc = self.origin)\n",
    "        #print(neighs)\n",
    "        neighs_full_floor = env.availibility.find_neighbours_masked(stencil_full_floor, loc = self.origin)\n",
    "\n",
    "        # find availability of neighbours\n",
    "        neighs_availibility = env.availibility.flatten()[neighs]               \n",
    "        neighs_availibility_full_floor = env.availibility.flatten()[neighs_full_floor]\n",
    "        #print(neighs_availibility)\n",
    "        \n",
    "        # find env values of all neighbours\n",
    "        all_neighs_value = env.value.flatten()[neighs]\n",
    "        all_neighs_value_mod = np.copy(all_neighs_value)\n",
    "        \n",
    "        \n",
    "        #finding number of neighbours and bumping the values based on adjacency for a 9 neighbourhood\n",
    "        \n",
    "        #print(neighbourhood_details)\n",
    "        one = neighs_availibility[1] + neighs_availibility[2] \n",
    "        two = neighs_availibility[0] + neighs_availibility[2] \n",
    "        three = neighs_availibility[1] + neighs_availibility[4] \n",
    "        four = neighs_availibility[0] + neighs_availibility[6] \n",
    "        five = neighs_availibility[2] + neighs_availibility[7] \n",
    "        six = neighs_availibility[3] + neighs_availibility[6] \n",
    "        seven = neighs_availibility[5] + neighs_availibility[7] \n",
    "        eight = neighs_availibility[6] + neighs_availibility[4] \n",
    "        neighbourhood_details = [one,two,three,four,five,six,seven,eight]\n",
    "        \n",
    "        #print(neighbourhood_details)\n",
    "        for detail in range(len(neighs_availibility)-1):\n",
    "            neighbourhood_condition = neighbourhood_details[detail] \n",
    "            #print(neighbourhood_condition)\n",
    "            if neighbourhood_condition == 3:\n",
    "                all_neighs_value_mod[detail]= all_neighs_value_mod[detail] + one_neighbour_factor\n",
    "            elif neighbourhood_condition == 4:\n",
    "                all_neighs_value_mod[detail]= all_neighs_value_mod[detail] + two_neighbour_factor\n",
    "            else:\n",
    "                all_neighs_value_mod[detail] = all_neighs_value_mod[detail]\n",
    "        #print(all_neighs_value_mod)   \n",
    "        \n",
    "\n",
    "        neighs_value_flattened = env.value.flatten()\n",
    "        for val_mod in all_neighs_value_mod:\n",
    "            for neigh in neighs :\n",
    "                neighs_value_flattened[neigh]=val_mod\n",
    "        \n",
    "        \n",
    "        # separate available neighbours\n",
    "        free_neighs = neighs[neighs_availibility==1]\n",
    "        free_neighs_full_floor = neighs_full_floor[neighs_availibility_full_floor==1]\n",
    "        #print(free_neighs)\n",
    "        if len(free_neighs)== 0 :\n",
    "            free_neighs = free_neighs_full_floor\n",
    "        else: \n",
    "            free_neighs= free_neighs\n",
    "        # retrieve the value of each neighbour\n",
    "        free_neighs_value = neighs_value_flattened[free_neighs]\n",
    "        \n",
    "        #print(free_neighs_value)\n",
    "        # find the neighbour with maximum my value\n",
    "        selected_neigh = free_neighs[np.argmax(free_neighs_value)]\n",
    "        #print(selected_neigh)\n",
    "        # update information\n",
    "        ####################\n",
    "        # set the current origin as the ol origin\n",
    "        self.old_origin = self.origin\n",
    "        # update the current origin with the new selected neighbour\n",
    "        self.origin = np.array(np.unravel_index(selected_neigh, env.availibility.shape)).flatten()\n",
    "        #print(self.origin)\n",
    "    \n",
    "    \n",
    "         # definition of 2d occupying method for agents\n",
    "    def one_neighbour_occupy_squareness_von_neumann(self, env):\n",
    "        \n",
    "         # retrieve the list of neighbours of the agent based on the stencil\n",
    "        neighs = env.availibility.find_neighbours_masked(self.stencil, loc = self.origin)\n",
    "        neighs_full_floor = env.availibility.find_neighbours_masked(stencil_full_lattice, loc = self.origin)\n",
    "        # find availability of neighbours\n",
    "        neighs_availibility = env.availibility.flatten()[neighs]\n",
    "        neighs_availibility_full_floor = env.availibility.flatten()[neighs_full_floor]\n",
    "        # separate available neighbours\n",
    "        free_neighs = neighs[neighs_availibility==1]\n",
    "        free_neighs_full_floor = neighs_full_floor[neighs_availibility_full_floor==1]\n",
    "        #print(free_neighs)\n",
    "        if len(free_neighs)== 0 :\n",
    "            free_neighs = free_neighs_full_floor\n",
    "        else: \n",
    "            free_neighs= free_neighs\n",
    "        # retrieve the value of each neighbour\n",
    "        free_neighs_value = env.value.flatten()[free_neighs]\n",
    "        # find the neighbour with maximum my value\n",
    "       # selected_neigh = free_neighs[np.argmax(free_neighs_value)]\n",
    "        selected_neigh = np.random.choice(free_neighs,1)\n",
    "        #print(selected_neigh)\n",
    "        # update information\n",
    "        ####################\n",
    "        # set the current origin as the ol origin\n",
    "        self.old_origin = self.origin\n",
    "        # update the current origin with the new selected neighbour\n",
    "        self.origin = np.array(np.unravel_index(selected_neigh, env.availibility.shape)).flatten()\n",
    "        #print(self.origin)\n",
    "    def one_neighbour_occupy_squareness_behaviour (self,env):        \n",
    "        value_lattice_flat = env.value.flatten()\n",
    "        sqr_factor = 10.1\n",
    "        sqr_shift = 10.0\n",
    "        init_loc = self.origin\n",
    "        neighs_availibility_full_lattice = env.availibility.flatten()\n",
    "        free_neighs_full_lattice = np.argwhere(neighs_availibility_full_lattice==1).flatten()\n",
    " \n",
    "        \n",
    "        agn_locs = [list(init_loc)]\n",
    "        all_neighs =[] \n",
    "        avail_lattice_flat = env.availibility.flatten()\n",
    "        neighs = env.availibility.find_neighbours_masked(self.stencil, loc = self.origin)\n",
    "        all_neighs.append(neighs)\n",
    "        env.neigh_squareness.append(neighs)\n",
    "\n",
    "        neighs_flatten = np.array(env.neigh_squareness).flatten()\n",
    "        #print(neighs_flatten)\n",
    "        neighs_availability = avail_lattice_flat[neighs_flatten]\n",
    "  \n",
    "        # keep the available ones only\n",
    "        avail_neighs = neighs_flatten[neighs_availability==1] \n",
    "        \n",
    "        if len(avail_neighs)== 0 :\n",
    "            avail_neighs = free_neighs_full_lattice\n",
    "        else: \n",
    "            avail_neighs= avail_neighs\n",
    "        #print(avail_neighs)\n",
    "        avail_unq_neighs, avail_unq_neighs_count = np.unique(avail_neighs, return_counts=True)\n",
    "        #print(avail_unq_neighs)\n",
    "        #print(avail_unq_neighs_count)\n",
    "        neighs_unq_base_value = value_lattice_flat[avail_unq_neighs]\n",
    "        neigh_sqr_evaluation = np.power(sqr_factor, (avail_unq_neighs_count - 1)) * neighs_unq_base_value + sqr_shift\n",
    "        #neigh_sqr_evaluation = neighs_unq_base_value + sqr_shift * (avail_unq_neighs_count - 1)\n",
    "\n",
    "\n",
    "        selected_neigh_index = np.argmax(neigh_sqr_evaluation)\n",
    "        selected_neigh_1D_id = avail_unq_neighs[selected_neigh_index]\n",
    "        #selected_neigh_3D_id = np.unravel_index(selected_neigh_1D_id,bounds.shape )\n",
    "\n",
    "        # update information\n",
    "        ####################\n",
    "        self.old_origin = self.origin\n",
    "        # update the current origin with the new selected neighbour\n",
    "        self.origin = np.array(np.unravel_index(selected_neigh_1D_id, env.availibility.shape)).flatten()\n",
    "   \n",
    "        \n",
    "        \n",
    "    def one_neighbour_occupy_cubish_behaviour (self,env):        \n",
    "        value_lattice_flat = env.value.flatten()\n",
    "        sqr_factor = 10.1\n",
    "        sqr_shift = 10.0\n",
    "        init_loc = self.origin\n",
    "        neighs_availibility_full_lattice = env.availibility.flatten()\n",
    "        free_neighs_full_lattice = np.argwhere(neighs_availibility_full_lattice==1).flatten()\n",
    "        \n",
    "        agn_locs = [list(init_loc)]\n",
    "        all_neighs =[] \n",
    "        avail_lattice_flat = env.availibility.flatten()\n",
    "        neighs = env.availibility.find_neighbours_masked(self.stencil, loc = self.origin)\n",
    "        all_neighs.append(neighs)\n",
    "        env.neigh_cubish.append(neighs)\n",
    "\n",
    "        neighs_flatten = np.array(env.neigh_cubish).flatten()\n",
    "        #print(neighs_flatten)\n",
    "        neighs_availability = avail_lattice_flat[neighs_flatten]\n",
    "  \n",
    "        # keep the available ones only\n",
    "        avail_neighs = neighs_flatten[neighs_availability==1] \n",
    "        \n",
    "        if len(avail_neighs)== 0 :\n",
    "            avail_neighs = free_neighs_full_lattice\n",
    "        else: \n",
    "            avail_neighs= avail_neighs\n",
    "                \n",
    "        #print(avail_neighs)\n",
    "        avail_unq_neighs, avail_unq_neighs_count = np.unique(avail_neighs, return_counts=True)\n",
    "        #print(avail_unq_neighs)\n",
    "        #print(avail_unq_neighs_count)\n",
    "        neighs_unq_base_value = value_lattice_flat[avail_unq_neighs]\n",
    "        \n",
    "        #neigh_sqr_evaluation = np.power(sqr_factor, (avail_unq_neighs_count - 1)) * neighs_unq_base_value + sqr_shift\n",
    "        neigh_sqr_evaluation = neighs_unq_base_value + sqr_shift * (avail_unq_neighs_count - 1)\n",
    "\n",
    "       # print(neighs_unq_base_value) \n",
    "        selected_neigh_index = np.argmax(neigh_sqr_evaluation)\n",
    "        selected_neigh_1D_id = avail_unq_neighs[selected_neigh_index]\n",
    "        #selected_neigh_3D_id = np.unravel_index(selected_neigh_1D_id,bounds.shape )       \n",
    "            \n",
    "        # update information\n",
    "        ####################\n",
    "        self.old_origin = self.origin\n",
    "        # update the current origin with the new selected neighbour\n",
    "        self.origin = np.array(np.unravel_index(selected_neigh_1D_id, env.availibility.shape)).flatten()\n",
    "        #print(selected_neigh_1D_id)\n",
    "        #print(free_neighs_full_lattice)\n",
    "\n",
    "            "
   ]
  },
  {
   "cell_type": "code",
   "execution_count": 14,
   "metadata": {},
   "outputs": [],
   "source": [
    "# Agent init class\n",
    "\n",
    "def initialize_agents_random_origin (stencil,avail_lattice):\n",
    "    #finding origin \n",
    "    agn_num = 1\n",
    "    occ_lattice = avail_lattice*0 -1\n",
    "    avail_flat = avail_lattice.flatten()\n",
    "    avail_index = np.array(np.where(avail_lattice == 1)).T\n",
    "    select_id = np.random.choice(len(avail_index), agn_num)\n",
    "    agn_origins = tuple(avail_index[select_id].flatten()) \n",
    "\n",
    "    # Defining agents\n",
    "    myagent = agent(agn_origins, stencil, select_id)\n",
    "\n",
    "    return myagent\n",
    "\n",
    "def initialize_agents_fixed_origin (stencil,avail_lattice,origin):\n",
    "    #finding origin \n",
    "    agn_origins = np.unravel_index(origin,avail_lattice.shape)\n",
    "    select_id = origin\n",
    "    # Defining agents\n",
    "    myagent = agent(agn_origins, stencil, select_id)\n",
    "\n",
    "    return myagent"
   ]
  },
  {
   "cell_type": "code",
   "execution_count": 15,
   "metadata": {},
   "outputs": [],
   "source": [
    "# environment class\n",
    "class environment():\n",
    "    def __init__(self, lattices, agents,number_of_iterations,method_name):\n",
    "        self.availibility = lattices[\"availibility\"]\n",
    "        self.value = lattices[\"enviornment\"]\n",
    "        self.agent_origin = self.availibility \n",
    "        self.agents = agents\n",
    "        self.update_agents()\n",
    "        self.number_of_iterations = number_of_iterations\n",
    "        self.method_name = method_name\n",
    "        self.neigh_cubish = []\n",
    "        self.neigh_squareness = []\n",
    "    def update_agents(self):\n",
    "        # making previous position available\n",
    "      #  self.availibility[tuple(self.agents.old_origin)] = self.availibility[tuple(self.agents.old_origin)] * 0 + 1\n",
    "        # removing agent from previous position\n",
    "        self.agent_origin[tuple(self.agents.old_origin)] *= 0+1\n",
    "        # making the current position unavailable\n",
    "        self.availibility[tuple(self.agents.origin)] = self.agents.id\n",
    "        # adding agent to the new position \n",
    "        self.agent_origin[tuple(self.agents.origin)] = self.agents.id\n",
    "    \n",
    "    def random_occupy_squareness_agents(self):\n",
    "        # iterate over egents and perform the walk\n",
    "        self.agents.random_occupy_squareness(self)\n",
    "        # update the agent states in environment\n",
    "        self.update_agents()\n",
    "        \n",
    "    def random_occupy_cubish_agents(self):\n",
    "        # iterate over egents and perform the walk\n",
    "        self.agents.random_occupy_cubish(self)\n",
    "        # update the agent states in environment\n",
    "        self.update_agents()\n",
    "    \n",
    "    def random_occupy_cubish_von_neumann_agents(self):\n",
    "        # iterate over egents and perform the walk\n",
    "        self.agents.random_occupy_cubish_von_neumann(self)\n",
    "        # update the agent states in environment\n",
    "        self.update_agents()\n",
    "    \n",
    "    def argmax_occupy_von_neumann(self):\n",
    "        # iterate over egents and perform the walk\n",
    "        self.agents.argmax_occupy_von_neumann(self)\n",
    "        # update the agent states in environment\n",
    "        self.update_agents()\n",
    "        \n",
    "    def one_neighbour_occupy_squareness_moore(self):\n",
    "        # iterate over egents and perform the walk\n",
    "        self.agents.one_neighbour_occupy_squareness_moore(self)\n",
    "        # update the agent states in environment\n",
    "        self.update_agents()\n",
    "        \n",
    "    def one_neighbour_occupy_squareness_von_neumann(self):\n",
    "        # iterate over egents and perform the walk\n",
    "        self.agents.one_neighbour_occupy_squareness_von_neumann(self)\n",
    "        # update the agent states in environment\n",
    "        self.update_agents()\n",
    "      \n",
    "    def one_neighbour_occupy_cubish_behaviour(self):\n",
    "        # iterate over egents and perform the walk\n",
    "        self.agents.one_neighbour_occupy_cubish_behaviour(self)\n",
    "        # update the agent states in environment\n",
    "        self.update_agents()\n",
    "        \n",
    "    def one_neighbour_occupy_squareness_behaviour(self):\n",
    "        # iterate over egents and perform the walk\n",
    "        self.agents.one_neighbour_occupy_squareness_behaviour(self)\n",
    "        # update the agent states in environment\n",
    "        self.update_agents()\n",
    "        "
   ]
  },
  {
   "cell_type": "code",
   "execution_count": 16,
   "metadata": {},
   "outputs": [],
   "source": [
    "def calculate_cost_for_positions(Location_list,Enviornment_lattice,number_of_cells_to_be_occupied):\n",
    "    All_viz_options = []\n",
    "    for indexing, item in enumerate(Location_list):\n",
    "        #print(indexing)\n",
    "        Agent = agent(np.unravel_index(item,init_avail_lattice.shape),stencil_cuboid,9)\n",
    "\n",
    "        occ_lattice_sim = tg.to_lattice(np.copy(avail_lattice), avail_lattice)\n",
    "\n",
    "        env = {\"availibility\": occ_lattice_sim,\"enviornment\": Enviornment_lattice}\n",
    "\n",
    "\n",
    "        env_1 = environment(env,Agent,number_of_cells_to_be_occupied,\"one_neighbour_occupy_cubish_behaviour\")\n",
    "\n",
    "        env_availability_viz = []\n",
    "        env_list =[env_1]\n",
    "        number_steps = max(map(lambda e:e.number_of_iterations,env_list))    \n",
    "        for a in range(number_steps):\n",
    "            # print(env.availibility)\n",
    "            #print(env.agent_origin)\n",
    "\n",
    "            for e in env_list:\n",
    "                if a < e.number_of_iterations :\n",
    "                    #print(a)\n",
    "                    #print(e.number_of_iterations)\n",
    "                    if e.method_name == \"one_neighbour_occupy_squareness_moore\":\n",
    "                        e.one_neighbour_occupy_squareness_moore()\n",
    "\n",
    "                    elif e.method_name == \"one_neighbour_occupy_cubish_agents\" :\n",
    "                        e.one_neighbour_occupy_cubish_agents()\n",
    "\n",
    "                    elif e.method_name == \"random_occupy_squareness_agents\" :\n",
    "                        e.random_occupy_squareness_agents()\n",
    "\n",
    "                    elif e.method_name == \"random_occupy_cubish_agents\" :\n",
    "                        e.random_occupy_cubish_agents()  \n",
    "\n",
    "                    elif e.method_name == \"random_occupy_cubish_von_neumann_agents\" :\n",
    "                        e.random_occupy_cubish_von_neumann_agents()                           \n",
    "\n",
    "                    elif e.method_name == \"one_neighbour_occupy_squareness_von_neumann\" :\n",
    "                        e.one_neighbour_occupy_squareness_von_neumann()                \n",
    "\n",
    "\n",
    "                    elif e.method_name == \"one_neighbour_occupy_squareness_behaviour\" :\n",
    "                        e.one_neighbour_occupy_squareness_behaviour()  \n",
    "\n",
    "                    elif e.method_name == \"one_neighbour_occupy_cubish_behaviour\" :\n",
    "                        e.one_neighbour_occupy_cubish_behaviour()  \n",
    "\n",
    "                    elif e.method_name == \"argmax_occupy_von_neumann\" :\n",
    "                        e.argmax_occupy_von_neumann()  \n",
    "\n",
    "        env_availability_viz.append(e.availibility)\n",
    "\n",
    "        All_viz_options.append(env_availability_viz)\n",
    "\n",
    "    all_viz_array= np.array(All_viz_options)\n",
    "    all_viz_array_shape = all_viz_array.shape\n",
    "    reshaped_all_viz= all_viz_array.reshape(all_viz_array_shape[0]*all_viz_array_shape[1],all_viz_array_shape[2],all_viz_array_shape[3],all_viz_array_shape[4])\n",
    "    sum_of_values = []\n",
    "    for lattice in reshaped_all_viz:\n",
    "        indexes= np.argwhere(lattice.flatten()==9).flatten()\n",
    "        values= env[\"enviornment\"].flatten()[indexes]\n",
    "        total = int(np.sum(values))\n",
    "        sum_of_values.append(total)\n",
    "    return sum_of_values"
   ]
  },
  {
   "cell_type": "code",
   "execution_count": 18,
   "metadata": {},
   "outputs": [],
   "source": [
    "Cost_for_PH = np.array(calculate_cost_for_positions(available_index_list,Private_sector_Owned,P_H)) # Privately owned\n",
    "Cost_for_SR_H = np.array(calculate_cost_for_positions(available_index_list,Social_Sector_Rental,S_H)) # Social rental\n",
    "Cost_for_FS_Rental = np.array(calculate_cost_for_positions(available_index_list,Free_Sector_rental,F_H)) # Free-sector Rental\n",
    "Cost_for_R = np.array(calculate_cost_for_positions(available_index_list,Restaurants_and_Cafes,R_C))# Restaurants\n",
    "Cost_for_O = np.array(calculate_cost_for_positions(available_index_list,Offices,R)) # Offices\n",
    "Cost_for_RE = np.array(calculate_cost_for_positions(available_index_list,Retail,O)) # Retail\n",
    "Cost_for_PA = np.array(calculate_cost_for_positions(available_index_list,Parking,P)) # Parking\n"
   ]
  },
  {
   "cell_type": "code",
   "execution_count": 19,
   "metadata": {},
   "outputs": [],
   "source": [
    "pickle.dump( Cost_for_PH, open( \"Cost_for_PH.p\", \"wb\" ) )\n",
    "pickle.dump( Cost_for_SR_H, open( \"Cost_for_SR_H.p\", \"wb\" ) )\n",
    "pickle.dump( Cost_for_FS_Rental, open( \"Cost_for_FS_Rental.p\", \"wb\" ) )\n",
    "pickle.dump( Cost_for_R, open( \"Cost_for_R.p\", \"wb\" ) )\n",
    "pickle.dump( Cost_for_O, open( \"Cost_for_O.p\", \"wb\" ) )\n",
    "pickle.dump( Cost_for_RE, open( \"Cost_for_RE.p\", \"wb\" ) )\n",
    "pickle.dump( Cost_for_PA, open( \"Cost_for_PA.p\", \"wb\" ) )\n"
   ]
  },
  {
   "cell_type": "code",
   "execution_count": 20,
   "metadata": {},
   "outputs": [],
   "source": [
    "sorted_PH= np.sort(Cost_for_PH)\n",
    "sorted_SR_H= np.sort(Cost_for_SR_H)\n",
    "sorted_FS_Rental= np.sort(Cost_for_FS_Rental)\n",
    "sorted_R= np.sort(Cost_for_R)\n",
    "sorted_O= np.sort(Cost_for_O)\n",
    "sorted_RE= np.sort(Cost_for_RE)\n",
    "sorted_PA= np.sort(Cost_for_PA)"
   ]
  },
  {
   "cell_type": "code",
   "execution_count": 37,
   "metadata": {},
   "outputs": [],
   "source": [
    "all_values =np.array( [sorted_PH] + [sorted_SR_H] + [sorted_FS_Rental] + [sorted_R] + [sorted_O] + [sorted_RE] + [sorted_PA])"
   ]
  },
  {
   "cell_type": "code",
   "execution_count": null,
   "metadata": {},
   "outputs": [],
   "source": []
  },
  {
   "cell_type": "code",
   "execution_count": 38,
   "metadata": {},
   "outputs": [],
   "source": [
    "df = pd.DataFrame(all_values.T, columns =[\"Private_Housing\", \"Social_Rental_Housing\", \"Free_Sector_Housing\", \"Restaurant\", \"Offices\", \"Retail\", \"Parking\"])"
   ]
  },
  {
   "cell_type": "code",
   "execution_count": 39,
   "metadata": {},
   "outputs": [
    {
     "data": {
      "text/html": [
       "<div>\n",
       "<style scoped>\n",
       "    .dataframe tbody tr th:only-of-type {\n",
       "        vertical-align: middle;\n",
       "    }\n",
       "\n",
       "    .dataframe tbody tr th {\n",
       "        vertical-align: top;\n",
       "    }\n",
       "\n",
       "    .dataframe thead th {\n",
       "        text-align: right;\n",
       "    }\n",
       "</style>\n",
       "<table border=\"1\" class=\"dataframe\">\n",
       "  <thead>\n",
       "    <tr style=\"text-align: right;\">\n",
       "      <th></th>\n",
       "      <th>Private_Housing</th>\n",
       "      <th>Social_Rental_Housing</th>\n",
       "      <th>Free_Sector_Housing</th>\n",
       "      <th>Restaurant</th>\n",
       "      <th>Offices</th>\n",
       "      <th>Retail</th>\n",
       "      <th>Parking</th>\n",
       "    </tr>\n",
       "  </thead>\n",
       "  <tbody>\n",
       "    <tr>\n",
       "      <th>0</th>\n",
       "      <td>2228</td>\n",
       "      <td>1600</td>\n",
       "      <td>2161</td>\n",
       "      <td>97</td>\n",
       "      <td>354</td>\n",
       "      <td>484</td>\n",
       "      <td>104</td>\n",
       "    </tr>\n",
       "    <tr>\n",
       "      <th>1</th>\n",
       "      <td>2229</td>\n",
       "      <td>1600</td>\n",
       "      <td>2162</td>\n",
       "      <td>98</td>\n",
       "      <td>354</td>\n",
       "      <td>484</td>\n",
       "      <td>104</td>\n",
       "    </tr>\n",
       "    <tr>\n",
       "      <th>2</th>\n",
       "      <td>2229</td>\n",
       "      <td>1600</td>\n",
       "      <td>2162</td>\n",
       "      <td>98</td>\n",
       "      <td>354</td>\n",
       "      <td>492</td>\n",
       "      <td>104</td>\n",
       "    </tr>\n",
       "    <tr>\n",
       "      <th>3</th>\n",
       "      <td>2233</td>\n",
       "      <td>1602</td>\n",
       "      <td>2163</td>\n",
       "      <td>98</td>\n",
       "      <td>355</td>\n",
       "      <td>492</td>\n",
       "      <td>110</td>\n",
       "    </tr>\n",
       "    <tr>\n",
       "      <th>4</th>\n",
       "      <td>2233</td>\n",
       "      <td>1602</td>\n",
       "      <td>2163</td>\n",
       "      <td>98</td>\n",
       "      <td>356</td>\n",
       "      <td>497</td>\n",
       "      <td>110</td>\n",
       "    </tr>\n",
       "    <tr>\n",
       "      <th>...</th>\n",
       "      <td>...</td>\n",
       "      <td>...</td>\n",
       "      <td>...</td>\n",
       "      <td>...</td>\n",
       "      <td>...</td>\n",
       "      <td>...</td>\n",
       "      <td>...</td>\n",
       "    </tr>\n",
       "    <tr>\n",
       "      <th>1354</th>\n",
       "      <td>2450</td>\n",
       "      <td>1942</td>\n",
       "      <td>2604</td>\n",
       "      <td>136</td>\n",
       "      <td>499</td>\n",
       "      <td>682</td>\n",
       "      <td>412</td>\n",
       "    </tr>\n",
       "    <tr>\n",
       "      <th>1355</th>\n",
       "      <td>2450</td>\n",
       "      <td>1942</td>\n",
       "      <td>2604</td>\n",
       "      <td>136</td>\n",
       "      <td>499</td>\n",
       "      <td>682</td>\n",
       "      <td>412</td>\n",
       "    </tr>\n",
       "    <tr>\n",
       "      <th>1356</th>\n",
       "      <td>2450</td>\n",
       "      <td>1942</td>\n",
       "      <td>2604</td>\n",
       "      <td>136</td>\n",
       "      <td>499</td>\n",
       "      <td>682</td>\n",
       "      <td>412</td>\n",
       "    </tr>\n",
       "    <tr>\n",
       "      <th>1357</th>\n",
       "      <td>2450</td>\n",
       "      <td>1942</td>\n",
       "      <td>2604</td>\n",
       "      <td>136</td>\n",
       "      <td>499</td>\n",
       "      <td>682</td>\n",
       "      <td>412</td>\n",
       "    </tr>\n",
       "    <tr>\n",
       "      <th>1358</th>\n",
       "      <td>2450</td>\n",
       "      <td>1942</td>\n",
       "      <td>2604</td>\n",
       "      <td>136</td>\n",
       "      <td>499</td>\n",
       "      <td>682</td>\n",
       "      <td>413</td>\n",
       "    </tr>\n",
       "  </tbody>\n",
       "</table>\n",
       "<p>1359 rows × 7 columns</p>\n",
       "</div>"
      ],
      "text/plain": [
       "      Private_Housing  Social_Rental_Housing  Free_Sector_Housing  Restaurant  \\\n",
       "0                2228                   1600                 2161          97   \n",
       "1                2229                   1600                 2162          98   \n",
       "2                2229                   1600                 2162          98   \n",
       "3                2233                   1602                 2163          98   \n",
       "4                2233                   1602                 2163          98   \n",
       "...               ...                    ...                  ...         ...   \n",
       "1354             2450                   1942                 2604         136   \n",
       "1355             2450                   1942                 2604         136   \n",
       "1356             2450                   1942                 2604         136   \n",
       "1357             2450                   1942                 2604         136   \n",
       "1358             2450                   1942                 2604         136   \n",
       "\n",
       "      Offices  Retail  Parking  \n",
       "0         354     484      104  \n",
       "1         354     484      104  \n",
       "2         354     492      104  \n",
       "3         355     492      110  \n",
       "4         356     497      110  \n",
       "...       ...     ...      ...  \n",
       "1354      499     682      412  \n",
       "1355      499     682      412  \n",
       "1356      499     682      412  \n",
       "1357      499     682      412  \n",
       "1358      499     682      413  \n",
       "\n",
       "[1359 rows x 7 columns]"
      ]
     },
     "execution_count": 39,
     "metadata": {},
     "output_type": "execute_result"
    }
   ],
   "source": [
    "df"
   ]
  },
  {
   "cell_type": "code",
   "execution_count": 49,
   "metadata": {},
   "outputs": [
    {
     "ename": "PermissionError",
     "evalue": "[Errno 13] Permission denied: 'Evaluation_framework.xlsx'",
     "output_type": "error",
     "traceback": [
      "\u001b[1;31m---------------------------------------------------------------------------\u001b[0m",
      "\u001b[1;31mPermissionError\u001b[0m                           Traceback (most recent call last)",
      "\u001b[1;32m<ipython-input-49-fb8d32e85d06>\u001b[0m in \u001b[0;36m<module>\u001b[1;34m\u001b[0m\n\u001b[1;32m----> 1\u001b[1;33m \u001b[0mdf\u001b[0m\u001b[1;33m.\u001b[0m\u001b[0mto_excel\u001b[0m\u001b[1;33m(\u001b[0m\u001b[1;34m\"Evaluation_framework.xlsx\"\u001b[0m\u001b[1;33m)\u001b[0m\u001b[1;33m\u001b[0m\u001b[1;33m\u001b[0m\u001b[0m\n\u001b[0m",
      "\u001b[1;32m~\\anaconda3\\envs\\scw\\lib\\site-packages\\pandas\\core\\generic.py\u001b[0m in \u001b[0;36mto_excel\u001b[1;34m(self, excel_writer, sheet_name, na_rep, float_format, columns, header, index, index_label, startrow, startcol, engine, merge_cells, encoding, inf_rep, verbose, freeze_panes, storage_options)\u001b[0m\n\u001b[0;32m   2187\u001b[0m             \u001b[0minf_rep\u001b[0m\u001b[1;33m=\u001b[0m\u001b[0minf_rep\u001b[0m\u001b[1;33m,\u001b[0m\u001b[1;33m\u001b[0m\u001b[1;33m\u001b[0m\u001b[0m\n\u001b[0;32m   2188\u001b[0m         )\n\u001b[1;32m-> 2189\u001b[1;33m         formatter.write(\n\u001b[0m\u001b[0;32m   2190\u001b[0m             \u001b[0mexcel_writer\u001b[0m\u001b[1;33m,\u001b[0m\u001b[1;33m\u001b[0m\u001b[1;33m\u001b[0m\u001b[0m\n\u001b[0;32m   2191\u001b[0m             \u001b[0msheet_name\u001b[0m\u001b[1;33m=\u001b[0m\u001b[0msheet_name\u001b[0m\u001b[1;33m,\u001b[0m\u001b[1;33m\u001b[0m\u001b[1;33m\u001b[0m\u001b[0m\n",
      "\u001b[1;32m~\\anaconda3\\envs\\scw\\lib\\site-packages\\pandas\\io\\formats\\excel.py\u001b[0m in \u001b[0;36mwrite\u001b[1;34m(self, writer, sheet_name, startrow, startcol, freeze_panes, engine, storage_options)\u001b[0m\n\u001b[0;32m    813\u001b[0m             \u001b[1;31m# abstract class 'ExcelWriter' with abstract attributes 'engine',\u001b[0m\u001b[1;33m\u001b[0m\u001b[1;33m\u001b[0m\u001b[1;33m\u001b[0m\u001b[0m\n\u001b[0;32m    814\u001b[0m             \u001b[1;31m# 'save', 'supported_extensions' and 'write_cells'  [abstract]\u001b[0m\u001b[1;33m\u001b[0m\u001b[1;33m\u001b[0m\u001b[1;33m\u001b[0m\u001b[0m\n\u001b[1;32m--> 815\u001b[1;33m             writer = ExcelWriter(  # type: ignore[abstract]\n\u001b[0m\u001b[0;32m    816\u001b[0m                 \u001b[0mwriter\u001b[0m\u001b[1;33m,\u001b[0m \u001b[0mengine\u001b[0m\u001b[1;33m=\u001b[0m\u001b[0mengine\u001b[0m\u001b[1;33m,\u001b[0m \u001b[0mstorage_options\u001b[0m\u001b[1;33m=\u001b[0m\u001b[0mstorage_options\u001b[0m\u001b[1;33m\u001b[0m\u001b[1;33m\u001b[0m\u001b[0m\n\u001b[0;32m    817\u001b[0m             )\n",
      "\u001b[1;32m~\\anaconda3\\envs\\scw\\lib\\site-packages\\pandas\\io\\excel\\_openpyxl.py\u001b[0m in \u001b[0;36m__init__\u001b[1;34m(self, path, engine, mode, storage_options, **engine_kwargs)\u001b[0m\n\u001b[0;32m     30\u001b[0m         \u001b[1;32mfrom\u001b[0m \u001b[0mopenpyxl\u001b[0m\u001b[1;33m.\u001b[0m\u001b[0mworkbook\u001b[0m \u001b[1;32mimport\u001b[0m \u001b[0mWorkbook\u001b[0m\u001b[1;33m\u001b[0m\u001b[1;33m\u001b[0m\u001b[0m\n\u001b[0;32m     31\u001b[0m \u001b[1;33m\u001b[0m\u001b[0m\n\u001b[1;32m---> 32\u001b[1;33m         super().__init__(\n\u001b[0m\u001b[0;32m     33\u001b[0m             \u001b[0mpath\u001b[0m\u001b[1;33m,\u001b[0m \u001b[0mmode\u001b[0m\u001b[1;33m=\u001b[0m\u001b[0mmode\u001b[0m\u001b[1;33m,\u001b[0m \u001b[0mstorage_options\u001b[0m\u001b[1;33m=\u001b[0m\u001b[0mstorage_options\u001b[0m\u001b[1;33m,\u001b[0m \u001b[1;33m**\u001b[0m\u001b[0mengine_kwargs\u001b[0m\u001b[1;33m\u001b[0m\u001b[1;33m\u001b[0m\u001b[0m\n\u001b[0;32m     34\u001b[0m         )\n",
      "\u001b[1;32m~\\anaconda3\\envs\\scw\\lib\\site-packages\\pandas\\io\\excel\\_base.py\u001b[0m in \u001b[0;36m__init__\u001b[1;34m(self, path, engine, date_format, datetime_format, mode, storage_options, **engine_kwargs)\u001b[0m\n\u001b[0;32m    808\u001b[0m         \u001b[0mself\u001b[0m\u001b[1;33m.\u001b[0m\u001b[0mhandles\u001b[0m \u001b[1;33m=\u001b[0m \u001b[0mIOHandles\u001b[0m\u001b[1;33m(\u001b[0m\u001b[0mcast\u001b[0m\u001b[1;33m(\u001b[0m\u001b[0mBuffer\u001b[0m\u001b[1;33m,\u001b[0m \u001b[0mpath\u001b[0m\u001b[1;33m)\u001b[0m\u001b[1;33m,\u001b[0m \u001b[0mcompression\u001b[0m\u001b[1;33m=\u001b[0m\u001b[1;33m{\u001b[0m\u001b[1;34m\"copression\"\u001b[0m\u001b[1;33m:\u001b[0m \u001b[1;32mNone\u001b[0m\u001b[1;33m}\u001b[0m\u001b[1;33m)\u001b[0m\u001b[1;33m\u001b[0m\u001b[1;33m\u001b[0m\u001b[0m\n\u001b[0;32m    809\u001b[0m         \u001b[1;32mif\u001b[0m \u001b[1;32mnot\u001b[0m \u001b[0misinstance\u001b[0m\u001b[1;33m(\u001b[0m\u001b[0mpath\u001b[0m\u001b[1;33m,\u001b[0m \u001b[0mExcelWriter\u001b[0m\u001b[1;33m)\u001b[0m\u001b[1;33m:\u001b[0m\u001b[1;33m\u001b[0m\u001b[1;33m\u001b[0m\u001b[0m\n\u001b[1;32m--> 810\u001b[1;33m             self.handles = get_handle(\n\u001b[0m\u001b[0;32m    811\u001b[0m                 \u001b[0mpath\u001b[0m\u001b[1;33m,\u001b[0m \u001b[0mmode\u001b[0m\u001b[1;33m,\u001b[0m \u001b[0mstorage_options\u001b[0m\u001b[1;33m=\u001b[0m\u001b[0mstorage_options\u001b[0m\u001b[1;33m,\u001b[0m \u001b[0mis_text\u001b[0m\u001b[1;33m=\u001b[0m\u001b[1;32mFalse\u001b[0m\u001b[1;33m\u001b[0m\u001b[1;33m\u001b[0m\u001b[0m\n\u001b[0;32m    812\u001b[0m             )\n",
      "\u001b[1;32m~\\anaconda3\\envs\\scw\\lib\\site-packages\\pandas\\io\\common.py\u001b[0m in \u001b[0;36mget_handle\u001b[1;34m(path_or_buf, mode, encoding, compression, memory_map, is_text, errors, storage_options)\u001b[0m\n\u001b[0;32m    649\u001b[0m         \u001b[1;32melse\u001b[0m\u001b[1;33m:\u001b[0m\u001b[1;33m\u001b[0m\u001b[1;33m\u001b[0m\u001b[0m\n\u001b[0;32m    650\u001b[0m             \u001b[1;31m# Binary mode\u001b[0m\u001b[1;33m\u001b[0m\u001b[1;33m\u001b[0m\u001b[1;33m\u001b[0m\u001b[0m\n\u001b[1;32m--> 651\u001b[1;33m             \u001b[0mhandle\u001b[0m \u001b[1;33m=\u001b[0m \u001b[0mopen\u001b[0m\u001b[1;33m(\u001b[0m\u001b[0mhandle\u001b[0m\u001b[1;33m,\u001b[0m \u001b[0mioargs\u001b[0m\u001b[1;33m.\u001b[0m\u001b[0mmode\u001b[0m\u001b[1;33m)\u001b[0m\u001b[1;33m\u001b[0m\u001b[1;33m\u001b[0m\u001b[0m\n\u001b[0m\u001b[0;32m    652\u001b[0m         \u001b[0mhandles\u001b[0m\u001b[1;33m.\u001b[0m\u001b[0mappend\u001b[0m\u001b[1;33m(\u001b[0m\u001b[0mhandle\u001b[0m\u001b[1;33m)\u001b[0m\u001b[1;33m\u001b[0m\u001b[1;33m\u001b[0m\u001b[0m\n\u001b[0;32m    653\u001b[0m \u001b[1;33m\u001b[0m\u001b[0m\n",
      "\u001b[1;31mPermissionError\u001b[0m: [Errno 13] Permission denied: 'Evaluation_framework.xlsx'"
     ]
    }
   ],
   "source": [
    "df.to_excel(\"Evaluation_framework.xlsx\")"
   ]
  },
  {
   "cell_type": "code",
   "execution_count": 73,
   "metadata": {},
   "outputs": [
    {
     "data": {
      "text/plain": [
       "2450"
      ]
     },
     "execution_count": 73,
     "metadata": {},
     "output_type": "execute_result"
    }
   ],
   "source": [
    "sorted_PH[-1]"
   ]
  },
  {
   "cell_type": "code",
   "execution_count": 67,
   "metadata": {},
   "outputs": [
    {
     "data": {
      "text/plain": [
       "1600"
      ]
     },
     "execution_count": 67,
     "metadata": {},
     "output_type": "execute_result"
    }
   ],
   "source": [
    "sorted_SR_H[0]"
   ]
  },
  {
   "cell_type": "code",
   "execution_count": 68,
   "metadata": {},
   "outputs": [
    {
     "data": {
      "text/plain": [
       "2161"
      ]
     },
     "execution_count": 68,
     "metadata": {},
     "output_type": "execute_result"
    }
   ],
   "source": [
    "sorted_FS_Rental[0]"
   ]
  },
  {
   "cell_type": "code",
   "execution_count": 69,
   "metadata": {},
   "outputs": [
    {
     "data": {
      "text/plain": [
       "97"
      ]
     },
     "execution_count": 69,
     "metadata": {},
     "output_type": "execute_result"
    }
   ],
   "source": [
    "sorted_R[0]"
   ]
  },
  {
   "cell_type": "code",
   "execution_count": 70,
   "metadata": {},
   "outputs": [
    {
     "data": {
      "text/plain": [
       "354"
      ]
     },
     "execution_count": 70,
     "metadata": {},
     "output_type": "execute_result"
    }
   ],
   "source": [
    "sorted_O[0]"
   ]
  },
  {
   "cell_type": "code",
   "execution_count": 71,
   "metadata": {},
   "outputs": [
    {
     "data": {
      "text/plain": [
       "484"
      ]
     },
     "execution_count": 71,
     "metadata": {},
     "output_type": "execute_result"
    }
   ],
   "source": [
    "sorted_RE[0]"
   ]
  },
  {
   "cell_type": "code",
   "execution_count": 72,
   "metadata": {},
   "outputs": [
    {
     "data": {
      "text/plain": [
       "104"
      ]
     },
     "execution_count": 72,
     "metadata": {},
     "output_type": "execute_result"
    }
   ],
   "source": [
    "sorted_PA[0]"
   ]
  },
  {
   "cell_type": "code",
   "execution_count": 88,
   "metadata": {},
   "outputs": [],
   "source": [
    "PH_max= np.sum(list(reversed(np.sort(Private_sector_Owned.flatten())))[0:P_H])"
   ]
  },
  {
   "cell_type": "code",
   "execution_count": 89,
   "metadata": {},
   "outputs": [],
   "source": [
    "SR_max= np.sum(list(reversed(np.sort(Social_Sector_Rental.flatten())))[0:S_H])"
   ]
  },
  {
   "cell_type": "code",
   "execution_count": 90,
   "metadata": {},
   "outputs": [],
   "source": [
    "FS_max= np.sum(list(reversed(np.sort(Free_Sector_rental.flatten())))[0:F_H])"
   ]
  },
  {
   "cell_type": "code",
   "execution_count": 99,
   "metadata": {},
   "outputs": [],
   "source": [
    "R_max= np.sum(list(reversed(np.sort(Restaurants_and_Cafes.flatten())))[0:R_C])"
   ]
  },
  {
   "cell_type": "code",
   "execution_count": 92,
   "metadata": {},
   "outputs": [],
   "source": [
    "O_max= np.sum(list(reversed(np.sort(Offices.flatten())))[0:R])"
   ]
  },
  {
   "cell_type": "code",
   "execution_count": 93,
   "metadata": {},
   "outputs": [],
   "source": [
    "RE_max= np.sum(list(reversed(np.sort(Retail.flatten())))[0:O])"
   ]
  },
  {
   "cell_type": "code",
   "execution_count": 94,
   "metadata": {},
   "outputs": [],
   "source": [
    "PA_max= np.sum(list(reversed(np.sort(Parking.flatten())))[0:P])"
   ]
  },
  {
   "cell_type": "code",
   "execution_count": 102,
   "metadata": {},
   "outputs": [
    {
     "data": {
      "text/plain": [
       "709.6095288149467"
      ]
     },
     "execution_count": 102,
     "metadata": {},
     "output_type": "execute_result"
    }
   ],
   "source": [
    "RE_max"
   ]
  },
  {
   "cell_type": "code",
   "execution_count": 103,
   "metadata": {},
   "outputs": [
    {
     "data": {
      "text/plain": [
       "453.33333333333337"
      ]
     },
     "execution_count": 103,
     "metadata": {},
     "output_type": "execute_result"
    }
   ],
   "source": [
    "PA_max"
   ]
  },
  {
   "cell_type": "code",
   "execution_count": null,
   "metadata": {},
   "outputs": [],
   "source": []
  }
 ],
 "metadata": {
  "hide_input": false,
  "kernelspec": {
   "display_name": "Python 3",
   "language": "python",
   "name": "python3"
  },
  "language_info": {
   "codemirror_mode": {
    "name": "ipython",
    "version": 3
   },
   "file_extension": ".py",
   "mimetype": "text/x-python",
   "name": "python",
   "nbconvert_exporter": "python",
   "pygments_lexer": "ipython3",
   "version": "3.8.4"
  }
 },
 "nbformat": 4,
 "nbformat_minor": 4
}
