{
 "cells": [
  {
   "cell_type": "markdown",
   "metadata": {},
   "source": [
    "# Initialization"
   ]
  },
  {
   "cell_type": "code",
   "execution_count": 1,
   "metadata": {},
   "outputs": [],
   "source": [
    "import os\n",
    "import itertools\n",
    "import sys\n",
    "from math import factorial as fac\n",
    "sys.path.append(\"D:/TU_Delft/Msc_Building_Technology/Semester_3/Graduation/Aditya_Graduation_Project_BT/06_Libraries\")\n",
    "import topogenesis as tg\n",
    "import pyvista as pv\n",
    "import trimesh as tm\n",
    "import numpy as np\n",
    "import networkx as nx\n",
    "np.random.seed(0)\n",
    "np.set_printoptions(threshold=sys.maxsize)\n",
    "import networkx as nx\n",
    "from itertools import combinations\n",
    "from itertools import permutations\n",
    "import pickle\n",
    "import pandas as pd"
   ]
  },
  {
   "cell_type": "code",
   "execution_count": 2,
   "metadata": {},
   "outputs": [],
   "source": [
    "lattice_path = os.path.relpath('Zoning_envelop.csv')\n",
    "Zoning_matrix_sequential = tg.lattice_from_csv(lattice_path)"
   ]
  },
  {
   "cell_type": "code",
   "execution_count": 3,
   "metadata": {},
   "outputs": [],
   "source": [
    "lattice_path_availability_matrix = os.path.relpath('voxelized_envelope_6m_voxel_size.csv')\n",
    "avail_lattice_base = tg.lattice_from_csv(lattice_path_availability_matrix)\n",
    "avail_lattice = avail_lattice_base*1\n",
    "init_avail_lattice = tg.to_lattice(np.copy(avail_lattice*1), avail_lattice)"
   ]
  },
  {
   "cell_type": "markdown",
   "metadata": {},
   "source": [
    "# Stencils"
   ]
  },
  {
   "cell_type": "code",
   "execution_count": 4,
   "metadata": {},
   "outputs": [],
   "source": [
    "stencil_von_neumann = tg.create_stencil(\"von_neumann\", 1, 1)\n",
    "stencil_von_neumann.set_index([0,0,0], 0)"
   ]
  },
  {
   "cell_type": "code",
   "execution_count": 5,
   "metadata": {},
   "outputs": [],
   "source": [
    "stencil_cuboid = tg.create_stencil(\"moore\", 1, 1)\n",
    "stencil_cuboid.set_index([0,0,0], 0)"
   ]
  },
  {
   "cell_type": "code",
   "execution_count": 6,
   "metadata": {},
   "outputs": [],
   "source": [
    "# creating neighborhood definition \n",
    "stencil_squareness = tg.create_stencil(\"moore\", 1, 1)\n",
    "# Reshaping the moore neighbourhood\n",
    "stencil_squareness[0,:,:] = 0 \n",
    "stencil_squareness[2,:,:] = 0\n",
    "stencil_squareness.set_index([0,0,0], 0)\n",
    "stencil_squareness_t = np.transpose(stencil_squareness) \n",
    "#print(stencil_squareness_t)"
   ]
  },
  {
   "cell_type": "markdown",
   "metadata": {},
   "source": [
    "# Initial Vizualization"
   ]
  },
  {
   "cell_type": "code",
   "execution_count": 7,
   "metadata": {},
   "outputs": [
    {
     "data": {
      "application/vnd.jupyter.widget-view+json": {
       "model_id": "878c22f2f7b64a038f035018076e0b9d",
       "version_major": 2,
       "version_minor": 0
      },
      "text/plain": [
       "ViewInteractiveWidget(height=768, layout=Layout(height='auto', width='100%'), width=1024)"
      ]
     },
     "metadata": {},
     "output_type": "display_data"
    },
    {
     "data": {
      "text/plain": [
       "[(168.72367820989257, 336.72367820989257, 303.72367820989257),\n",
       " (-105.0, 63.0, 30.0),\n",
       " (0.0, 0.0, 1.0)]"
      ]
     },
     "execution_count": 7,
     "metadata": {},
     "output_type": "execute_result"
    }
   ],
   "source": [
    "p = pv.Plotter(notebook=True)\n",
    "\n",
    "base_lattice = Zoning_matrix_sequential\n",
    " \n",
    "# Set the grid dimensions: shape + 1 because we want to inject our values on the CELL data\n",
    "grid = pv.UniformGrid()\n",
    "grid.dimensions = np.array(base_lattice.shape) + 1\n",
    "# The bottom left corner of the data set\n",
    "grid.origin = base_lattice.minbound - base_lattice.unit * 0.5\n",
    "# These are the cell sizes along each axis\n",
    "grid.spacing = base_lattice.unit \n",
    "\n",
    "# adding the boundingbox wireframe\n",
    "p.add_mesh(grid.outline(), color=\"grey\", label=\"Domain\")\n",
    "\n",
    "init_avail_lattice.fast_vis(p)\n",
    "# adding axes\n",
    "p.add_axes()\n",
    "p.show_bounds(grid=\"back\", location=\"back\", color=\"#aaaaaa\") \n",
    "\n",
    "# Add the data values to the cell data\n",
    "grid.cell_arrays[\"Agents\"] = Zoning_matrix_sequential.flatten(order=\"F\").astype(int)  # Flatten the array!\n",
    "# filtering the voxels\n",
    "threshed = grid.threshold([101,210])\n",
    "\n",
    "# adding the voxels\n",
    "p.add_mesh(threshed, name='sphere', show_edges=True, opacity=1.0, show_scalar_bar=False)\n",
    "\n",
    "p.show(use_ipyvtk=True)"
   ]
  },
  {
   "cell_type": "markdown",
   "metadata": {},
   "source": [
    "# Cleanup "
   ]
  },
  {
   "cell_type": "code",
   "execution_count": 8,
   "metadata": {},
   "outputs": [],
   "source": [
    "def cleanup_algorithm (Zoning_matrix,stencil_1,stencil_2,a_id):\n",
    "    #First Cleanup\n",
    "    Zoning_matrix_flat = Zoning_matrix.flatten()\n",
    "    all_indices_for_agent = np.argwhere(Zoning_matrix_flat ==a_id).flatten()\n",
    "    all_vox_neighs_inds = Zoning_matrix.find_neighbours(stencil_1)[np.argwhere(Zoning_matrix_flat ==a_id)]\n",
    "    retrieved_neighs= Zoning_matrix_flat[all_vox_neighs_inds]\n",
    "    #Second Cleanup\n",
    "    for_improvement = np.copy(Zoning_matrix_flat)\n",
    "    for_improvement[np.argwhere(Zoning_matrix_flat==0)] =a_id\n",
    "    all_vox_neighs_inds_improv = Zoning_matrix.find_neighbours(stencil_2)[np.argwhere(Zoning_matrix_flat ==a_id)]\n",
    "    retrieved_neighs_improv = for_improvement[all_vox_neighs_inds_improv]\n",
    "    \n",
    "    indexing =[]\n",
    "    for i,  item in enumerate(retrieved_neighs_improv):\n",
    "        flattened_list = item.flatten()\n",
    "        #print(flattened_list)\n",
    "        if np.all(flattened_list[[0,1,2,7,3]] == a_id) or np.all(flattened_list[[3,4,5,6,7]] == a_id) or np.all(flattened_list[[1,2,3,4,5]] == a_id) or np.all(flattened_list[[5,6,7,0,1]] == a_id):\n",
    "            a = i\n",
    "        else:\n",
    "            indexing.append(i)\n",
    "            #print(\"truthy\")\n",
    "    lattice_indexes= all_indices_for_agent[indexing]\n",
    "    return retrieved_neighs,all_indices_for_agent, lattice_indexes"
   ]
  },
  {
   "cell_type": "code",
   "execution_count": 9,
   "metadata": {},
   "outputs": [],
   "source": [
    "PH_Unoccupy_indexes = cleanup_algorithm(Zoning_matrix_sequential,stencil_cuboid,stencil_squareness_t,200)"
   ]
  },
  {
   "cell_type": "markdown",
   "metadata": {},
   "source": [
    "# Unoccupy process"
   ]
  },
  {
   "cell_type": "code",
   "execution_count": 10,
   "metadata": {},
   "outputs": [],
   "source": [
    "def unoccupy_based_on_number(lattice,removal_indices,a_id,number):\n",
    "    list_of_neighbour_repetitions = (np.sum(np.count_nonzero(removal_indices[0] == a_id,axis =1),axis=1))\n",
    "    removal_indices= removal_indices[1][np.argwhere(list_of_neighbour_repetitions <= number)].flatten()\n",
    "    lattice[np.unravel_index(removal_indices,avail_lattice.shape)] = 0"
   ]
  },
  {
   "cell_type": "code",
   "execution_count": 11,
   "metadata": {},
   "outputs": [],
   "source": [
    "unoccupy_based_on_number (Zoning_matrix_sequential,PH_Unoccupy_indexes,200,6)"
   ]
  },
  {
   "cell_type": "code",
   "execution_count": 12,
   "metadata": {},
   "outputs": [],
   "source": [
    "#def unoccupy_based_on_stencil(lattice,removal_indices):\n",
    "Zoning_matrix_sequential[np.unravel_index(PH_Unoccupy_indexes[2],Zoning_matrix_sequential.shape)] = 0"
   ]
  },
  {
   "cell_type": "code",
   "execution_count": 13,
   "metadata": {},
   "outputs": [],
   "source": [
    "#unoccupy_based_on_stencil( Zoning_matrix_sequential,PH_Unoccupy_indexes[2])"
   ]
  },
  {
   "cell_type": "code",
   "execution_count": 14,
   "metadata": {},
   "outputs": [
    {
     "data": {
      "text/plain": [
       "array([ 722,  723,  733,  734,  897,  900,  908, 1072, 1083, 1247, 1258,\n",
       "       1422, 1433, 1597, 1608, 1729, 1772, 1783, 1895, 1906, 1912, 2072,\n",
       "       2073, 2074, 2075, 2083, 2084, 2085, 2086, 2087, 5949, 5971, 6124,\n",
       "       6146], dtype=int64)"
      ]
     },
     "execution_count": 14,
     "metadata": {},
     "output_type": "execute_result"
    }
   ],
   "source": [
    "PH_Unoccupy_indexes[2]"
   ]
  },
  {
   "cell_type": "markdown",
   "metadata": {},
   "source": [
    "# Final Viz after cleanup "
   ]
  },
  {
   "cell_type": "code",
   "execution_count": 15,
   "metadata": {},
   "outputs": [
    {
     "data": {
      "application/vnd.jupyter.widget-view+json": {
       "model_id": "6b332bde2ba04a1d8c36c47bab449ec4",
       "version_major": 2,
       "version_minor": 0
      },
      "text/plain": [
       "ViewInteractiveWidget(height=768, layout=Layout(height='auto', width='100%'), width=1024)"
      ]
     },
     "metadata": {},
     "output_type": "display_data"
    },
    {
     "data": {
      "text/plain": [
       "[(168.72367820989257, 336.72367820989257, 303.72367820989257),\n",
       " (-105.0, 63.0, 30.0),\n",
       " (0.0, 0.0, 1.0)]"
      ]
     },
     "execution_count": 15,
     "metadata": {},
     "output_type": "execute_result"
    }
   ],
   "source": [
    "p = pv.Plotter(notebook=True)\n",
    "\n",
    "base_lattice = Zoning_matrix_sequential\n",
    " \n",
    "# Set the grid dimensions: shape + 1 because we want to inject our values on the CELL data\n",
    "grid = pv.UniformGrid()\n",
    "grid.dimensions = np.array(base_lattice.shape) + 1\n",
    "# The bottom left corner of the data set\n",
    "grid.origin = base_lattice.minbound - base_lattice.unit * 0.5\n",
    "# These are the cell sizes along each axis\n",
    "grid.spacing = base_lattice.unit \n",
    "\n",
    "# adding the boundingbox wireframe\n",
    "p.add_mesh(grid.outline(), color=\"grey\", label=\"Domain\")\n",
    "\n",
    "init_avail_lattice.fast_vis(p)\n",
    "# adding axes\n",
    "p.add_axes()\n",
    "p.show_bounds(grid=\"back\", location=\"back\", color=\"#aaaaaa\") \n",
    "\n",
    "# Add the data values to the cell data\n",
    "grid.cell_arrays[\"Agents\"] = Zoning_matrix_sequential.flatten(order=\"F\").astype(int)  # Flatten the array!\n",
    "# filtering the voxels\n",
    "threshed = grid.threshold([101,210])\n",
    "\n",
    "# adding the voxels\n",
    "p.add_mesh(threshed, name='sphere', show_edges=True, opacity=1.0, show_scalar_bar=False)\n",
    "\n",
    "p.show(use_ipyvtk=True)"
   ]
  },
  {
   "cell_type": "code",
   "execution_count": 16,
   "metadata": {},
   "outputs": [],
   "source": [
    "n = 8\n",
    "n1 = 5\n",
    "perms =[]\n",
    "for x in itertools.combinations( range(n), n1 ) :\n",
    "    perms.append([ 1 if i in x else 0 for i in range(n)] )"
   ]
  },
  {
   "cell_type": "code",
   "execution_count": 17,
   "metadata": {},
   "outputs": [
    {
     "data": {
      "text/plain": [
       "[[1, 1, 1, 1, 1, 0, 0, 0],\n",
       " [1, 1, 1, 1, 0, 1, 0, 0],\n",
       " [1, 1, 1, 1, 0, 0, 1, 0],\n",
       " [1, 1, 1, 1, 0, 0, 0, 1],\n",
       " [1, 1, 1, 0, 1, 1, 0, 0],\n",
       " [1, 1, 1, 0, 1, 0, 1, 0],\n",
       " [1, 1, 1, 0, 1, 0, 0, 1],\n",
       " [1, 1, 1, 0, 0, 1, 1, 0],\n",
       " [1, 1, 1, 0, 0, 1, 0, 1],\n",
       " [1, 1, 1, 0, 0, 0, 1, 1],\n",
       " [1, 1, 0, 1, 1, 1, 0, 0],\n",
       " [1, 1, 0, 1, 1, 0, 1, 0],\n",
       " [1, 1, 0, 1, 1, 0, 0, 1],\n",
       " [1, 1, 0, 1, 0, 1, 1, 0],\n",
       " [1, 1, 0, 1, 0, 1, 0, 1],\n",
       " [1, 1, 0, 1, 0, 0, 1, 1],\n",
       " [1, 1, 0, 0, 1, 1, 1, 0],\n",
       " [1, 1, 0, 0, 1, 1, 0, 1],\n",
       " [1, 1, 0, 0, 1, 0, 1, 1],\n",
       " [1, 1, 0, 0, 0, 1, 1, 1],\n",
       " [1, 0, 1, 1, 1, 1, 0, 0],\n",
       " [1, 0, 1, 1, 1, 0, 1, 0],\n",
       " [1, 0, 1, 1, 1, 0, 0, 1],\n",
       " [1, 0, 1, 1, 0, 1, 1, 0],\n",
       " [1, 0, 1, 1, 0, 1, 0, 1],\n",
       " [1, 0, 1, 1, 0, 0, 1, 1],\n",
       " [1, 0, 1, 0, 1, 1, 1, 0],\n",
       " [1, 0, 1, 0, 1, 1, 0, 1],\n",
       " [1, 0, 1, 0, 1, 0, 1, 1],\n",
       " [1, 0, 1, 0, 0, 1, 1, 1],\n",
       " [1, 0, 0, 1, 1, 1, 1, 0],\n",
       " [1, 0, 0, 1, 1, 1, 0, 1],\n",
       " [1, 0, 0, 1, 1, 0, 1, 1],\n",
       " [1, 0, 0, 1, 0, 1, 1, 1],\n",
       " [1, 0, 0, 0, 1, 1, 1, 1],\n",
       " [0, 1, 1, 1, 1, 1, 0, 0],\n",
       " [0, 1, 1, 1, 1, 0, 1, 0],\n",
       " [0, 1, 1, 1, 1, 0, 0, 1],\n",
       " [0, 1, 1, 1, 0, 1, 1, 0],\n",
       " [0, 1, 1, 1, 0, 1, 0, 1],\n",
       " [0, 1, 1, 1, 0, 0, 1, 1],\n",
       " [0, 1, 1, 0, 1, 1, 1, 0],\n",
       " [0, 1, 1, 0, 1, 1, 0, 1],\n",
       " [0, 1, 1, 0, 1, 0, 1, 1],\n",
       " [0, 1, 1, 0, 0, 1, 1, 1],\n",
       " [0, 1, 0, 1, 1, 1, 1, 0],\n",
       " [0, 1, 0, 1, 1, 1, 0, 1],\n",
       " [0, 1, 0, 1, 1, 0, 1, 1],\n",
       " [0, 1, 0, 1, 0, 1, 1, 1],\n",
       " [0, 1, 0, 0, 1, 1, 1, 1],\n",
       " [0, 0, 1, 1, 1, 1, 1, 0],\n",
       " [0, 0, 1, 1, 1, 1, 0, 1],\n",
       " [0, 0, 1, 1, 1, 0, 1, 1],\n",
       " [0, 0, 1, 1, 0, 1, 1, 1],\n",
       " [0, 0, 1, 0, 1, 1, 1, 1],\n",
       " [0, 0, 0, 1, 1, 1, 1, 1]]"
      ]
     },
     "execution_count": 17,
     "metadata": {},
     "output_type": "execute_result"
    }
   ],
   "source": [
    "perms"
   ]
  },
  {
   "cell_type": "code",
   "execution_count": 18,
   "metadata": {},
   "outputs": [
    {
     "data": {
      "text/plain": [
       "[1, 1, 1, 1, 1, 0, 0, 0]"
      ]
     },
     "execution_count": 18,
     "metadata": {},
     "output_type": "execute_result"
    }
   ],
   "source": [
    "perms[0]"
   ]
  },
  {
   "cell_type": "code",
   "execution_count": null,
   "metadata": {},
   "outputs": [],
   "source": []
  }
 ],
 "metadata": {
  "hide_input": false,
  "kernelspec": {
   "display_name": "Python 3",
   "language": "python",
   "name": "python3"
  },
  "language_info": {
   "codemirror_mode": {
    "name": "ipython",
    "version": 3
   },
   "file_extension": ".py",
   "mimetype": "text/x-python",
   "name": "python",
   "nbconvert_exporter": "python",
   "pygments_lexer": "ipython3",
   "version": "3.8.4"
  }
 },
 "nbformat": 4,
 "nbformat_minor": 4
}
