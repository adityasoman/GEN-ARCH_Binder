{
 "cells": [
  {
   "cell_type": "markdown",
   "metadata": {
    "slideshow": {
     "slide_type": "skip"
    }
   },
   "source": [
    "# Pre-Design :Stakeholder Information and preferences\n",
    "In this notebook the stakeholders of the project can be defined and their preferences for the design can be recorded for further processing in the schematic design and configuration stage of the methodology "
   ]
  },
  {
   "cell_type": "markdown",
   "metadata": {
    "slideshow": {
     "slide_type": "slide"
    }
   },
   "source": [
    "## Initilization\n",
    "Libraries used in this notebook :<br/>\n",
    "1.Topsis for MCDA [https://pypi.org/project/topsis-jamesfallon/]<br/>\n",
    "2.Ipywidgets for interactivity [https://minrk-ipywidgets.readthedocs.io/en/latest/index.html]<br/>"
   ]
  },
  {
   "cell_type": "code",
   "execution_count": 1,
   "metadata": {
    "slideshow": {
     "slide_type": "slide"
    }
   },
   "outputs": [],
   "source": [
    "import os\n",
    "import sys\n",
    "import topogenesis as tg\n",
    "import pyvista as pv\n",
    "import trimesh as tm\n",
    "import numpy as np\n",
    "from topsis import topsis as ts\n",
    "from __future__ import print_function\n",
    "from ipywidgets import interact, interactive, fixed, interact_manual , Layout\n",
    "import ipywidgets as widgets\n",
    "np.random.seed(0)\n",
    "np.set_printoptions(threshold=sys.maxsize)"
   ]
  },
  {
   "cell_type": "markdown",
   "metadata": {},
   "source": [
    "### Define Widget styles"
   ]
  },
  {
   "cell_type": "code",
   "execution_count": 2,
   "metadata": {},
   "outputs": [],
   "source": [
    "layout = widgets.Layout(width='auto', height='auto') #set width and height\n",
    "style = {'description_width': 'initial'} # Display full text"
   ]
  },
  {
   "cell_type": "markdown",
   "metadata": {},
   "source": [
    "## Define the Stakeholders of the Project"
   ]
  },
  {
   "cell_type": "markdown",
   "metadata": {},
   "source": [
    " Define the number of Stakeholders and their name in the project by editing the widgets in the notebook"
   ]
  },
  {
   "cell_type": "code",
   "execution_count": 3,
   "metadata": {},
   "outputs": [],
   "source": [
    "Stakeholder_number_widget = widgets.BoundedIntText(\n",
    "    value=1,\n",
    "    min=0,\n",
    "    max=10,\n",
    "    step=1,\n",
    "    description='Number of Stakeholders:',\n",
    "    style=style,\n",
    "    disabled=False\n",
    ")"
   ]
  },
  {
   "cell_type": "code",
   "execution_count": 6,
   "metadata": {},
   "outputs": [
    {
     "data": {
      "application/vnd.jupyter.widget-view+json": {
       "model_id": "0bf6671df4be438595ace99ba99ce6ab",
       "version_major": 2,
       "version_minor": 0
      },
      "text/plain": [
       "BoundedIntText(value=4, description='Number of Stakeholders:', max=10, style=DescriptionStyle(description_widt…"
      ]
     },
     "metadata": {},
     "output_type": "display_data"
    }
   ],
   "source": [
    "Stakeholder_number_widget"
   ]
  },
  {
   "cell_type": "code",
   "execution_count": 7,
   "metadata": {},
   "outputs": [],
   "source": [
    "Stakeholder_number = Stakeholder_number_widget.value\n",
    "Stakeholder_numbering = []\n",
    "for s in range(Stakeholder_number): \n",
    "    a= \"Stakeholder\"+ str(s+1)\n",
    "    Stakeholder_numbering.append(a)"
   ]
  },
  {
   "cell_type": "markdown",
   "metadata": {},
   "source": [
    "### Input the name for the Stakeholders in the tab widget"
   ]
  },
  {
   "cell_type": "code",
   "execution_count": 8,
   "metadata": {},
   "outputs": [
    {
     "data": {
      "application/vnd.jupyter.widget-view+json": {
       "model_id": "be73b3217caa4e3bae3d25e4acb93bf2",
       "version_major": 2,
       "version_minor": 0
      },
      "text/plain": [
       "Tab(children=(Text(value='', description='Stakeholder1'), Text(value='', description='Stakeholder2'), Text(val…"
      ]
     },
     "metadata": {},
     "output_type": "display_data"
    }
   ],
   "source": [
    "tab_contents = Stakeholder_numbering\n",
    "children = [widgets.Text(description=name) for name in tab_contents]\n",
    "tab = widgets.Tab()\n",
    "tab.children = children\n",
    "for i in range(len(children)):\n",
    "    tab.set_title(i, str(i))\n",
    "tab"
   ]
  },
  {
   "cell_type": "code",
   "execution_count": 9,
   "metadata": {},
   "outputs": [],
   "source": [
    "Stakeholder_list = []\n",
    "for i in range(len(children)):\n",
    "    Stakeholder_list.append(tab.children[i].value)"
   ]
  },
  {
   "cell_type": "code",
   "execution_count": 10,
   "metadata": {},
   "outputs": [
    {
     "name": "stdout",
     "output_type": "stream",
     "text": [
      "['person1', 'person2', 'person3', 'person4']\n"
     ]
    }
   ],
   "source": [
    "print (Stakeholder_list)"
   ]
  },
  {
   "cell_type": "code",
   "execution_count": 11,
   "metadata": {},
   "outputs": [],
   "source": [
    "Stakeholder_dropdown = widgets.Dropdown(\n",
    "    options= Stakeholder_list,\n",
    "    value= str(Stakeholder_list[0]) ,\n",
    "    description='Number:',\n",
    "    disabled=False,\n",
    ")"
   ]
  },
  {
   "cell_type": "markdown",
   "metadata": {},
   "source": [
    "## Define the stakes of the stakeholder in the project "
   ]
  },
  {
   "cell_type": "code",
   "execution_count": null,
   "metadata": {},
   "outputs": [],
   "source": [
    "## To be done at a later Stage"
   ]
  },
  {
   "cell_type": "code",
   "execution_count": null,
   "metadata": {},
   "outputs": [],
   "source": []
  },
  {
   "cell_type": "markdown",
   "metadata": {},
   "source": [
    "## Select the stakeholder for recording design preference"
   ]
  },
  {
   "cell_type": "code",
   "execution_count": 12,
   "metadata": {},
   "outputs": [
    {
     "data": {
      "application/vnd.jupyter.widget-view+json": {
       "model_id": "9bb82cf3688742c1bc6b256835927ed4",
       "version_major": 2,
       "version_minor": 0
      },
      "text/plain": [
       "Dropdown(description='Number:', options=('person1', 'person2', 'person3', 'person4'), value='person1')"
      ]
     },
     "metadata": {},
     "output_type": "display_data"
    }
   ],
   "source": [
    "Stakeholder_dropdown"
   ]
  },
  {
   "cell_type": "markdown",
   "metadata": {},
   "source": [
    "## Selection of appropriate Design criteria "
   ]
  },
  {
   "cell_type": "markdown",
   "metadata": {},
   "source": [
    "The appropriate design criteria should be selected for each stakeholder to create a design preference which is a collection of various simulation lattices calulated for the site"
   ]
  },
  {
   "cell_type": "code",
   "execution_count": 13,
   "metadata": {},
   "outputs": [],
   "source": [
    "Stakeholder =str(Stakeholder_dropdown.value)"
   ]
  },
  {
   "cell_type": "code",
   "execution_count": 14,
   "metadata": {},
   "outputs": [],
   "source": [
    "Design_criteria_selection=widgets.SelectMultiple(\n",
    "    options=['Solar Access', 'Solar Envelope', 'View from street','View to IJ', 'Quiteness', 'Closeness to facade N', 'Closeness to facade S', 'Closeness to facade E','Closeness to facade W','Closeness to Roof', 'Closeness to Ground','Sky View'],\n",
    "    value=['Solar Access'],\n",
    "    rows=12,\n",
    "    Stakeholder = \"a\",\n",
    "    description=f'Design Criteria for {Stakeholder}',style = style,\n",
    "    disabled=False,\n",
    "    layout = layout\n",
    ")"
   ]
  },
  {
   "cell_type": "code",
   "execution_count": 16,
   "metadata": {},
   "outputs": [
    {
     "data": {
      "application/vnd.jupyter.widget-view+json": {
       "model_id": "4842ff9062e64cbdaf8cc85132814dbe",
       "version_major": 2,
       "version_minor": 0
      },
      "text/plain": [
       "SelectMultiple(description='Design Criteria for person1', index=(1, 2, 3, 4, 5), layout=Layout(height='auto', …"
      ]
     },
     "metadata": {},
     "output_type": "display_data"
    }
   ],
   "source": [
    "Design_criteria_selection"
   ]
  },
  {
   "cell_type": "markdown",
   "metadata": {},
   "source": [
    "### Selection of appropriate Weights for the Design Criteria"
   ]
  },
  {
   "cell_type": "code",
   "execution_count": 17,
   "metadata": {},
   "outputs": [],
   "source": [
    "def criteria_slider(name):\n",
    "    criteria_slider=widgets.IntSlider(   \n",
    "    value=5,\n",
    "    min=0,\n",
    "    max=10,\n",
    "    step=1,\n",
    "    description=str(name),\n",
    "    style=style,\n",
    "    layout=Layout(width='500px'),\n",
    "    disabled=False,\n",
    "    continuous_update=False,\n",
    "    orientation='horizontal',\n",
    "    readout=True,\n",
    "    readout_format='d')\n",
    "    return criteria_slider"
   ]
  },
  {
   "cell_type": "code",
   "execution_count": 18,
   "metadata": {},
   "outputs": [],
   "source": [
    "slider_lists=[]\n",
    "for a in (Design_criteria_selection.value):\n",
    "    slider_lists.append(criteria_slider(a))"
   ]
  },
  {
   "cell_type": "code",
   "execution_count": 19,
   "metadata": {},
   "outputs": [
    {
     "data": {
      "application/vnd.jupyter.widget-view+json": {
       "model_id": "d7231440ecbf40b790f7c59075c72947",
       "version_major": 2,
       "version_minor": 0
      },
      "text/plain": [
       "GridBox(children=(IntSlider(value=5, continuous_update=False, description='Solar Envelope', layout=Layout(widt…"
      ]
     },
     "metadata": {},
     "output_type": "display_data"
    }
   ],
   "source": [
    "ui = widgets.GridBox(slider_lists,layout=widgets.Layout(grid_template_rows=\"auto\"))\n",
    "display(ui)"
   ]
  },
  {
   "cell_type": "code",
   "execution_count": 21,
   "metadata": {},
   "outputs": [
    {
     "name": "stdout",
     "output_type": "stream",
     "text": [
      "(IntSlider(value=7, continuous_update=False, description='Solar Envelope', layout=Layout(width='500px'), max=10, style=SliderStyle(description_width='initial')), IntSlider(value=8, continuous_update=False, description='View from street', layout=Layout(width='500px'), max=10, style=SliderStyle(description_width='initial')), IntSlider(value=7, continuous_update=False, description='View to IJ', layout=Layout(width='500px'), max=10, style=SliderStyle(description_width='initial')), IntSlider(value=7, continuous_update=False, description='Quiteness', layout=Layout(width='500px'), max=10, style=SliderStyle(description_width='initial')), IntSlider(value=7, continuous_update=False, description='Closeness to facade N', layout=Layout(width='500px'), max=10, style=SliderStyle(description_width='initial')))\n"
     ]
    }
   ],
   "source": [
    "print (ui.children)"
   ]
  },
  {
   "cell_type": "code",
   "execution_count": 24,
   "metadata": {},
   "outputs": [
    {
     "name": "stdout",
     "output_type": "stream",
     "text": [
      "[0.7, 1.0, 0.7, 0.5, 0.7]\n"
     ]
    }
   ],
   "source": [
    "Topsis_weights =[]\n",
    "\n",
    "for slider in  ui.children:\n",
    "    Topsis_weights.append((slider.value)/10)\n",
    "\n",
    "print(Topsis_weights)"
   ]
  },
  {
   "cell_type": "markdown",
   "metadata": {},
   "source": [
    "### Importing all the necessary Lattices into the Notebook"
   ]
  },
  {
   "cell_type": "markdown",
   "metadata": {},
   "source": [
    "It is necessary to flatten the matrixes for combining and MCDA"
   ]
  },
  {
   "cell_type": "markdown",
   "metadata": {},
   "source": [
    "#### Import the Solar Access from csv"
   ]
  },
  {
   "cell_type": "code",
   "execution_count": 25,
   "metadata": {},
   "outputs": [],
   "source": [
    "#lattice_path = os.path.relpath('Voxelized_base_lattice.csv')\n",
    "#Solar_access_lattice = tg.lattice_from_csv(lattice_path)\n",
    "#Flatten Solar_access_lattice"
   ]
  },
  {
   "cell_type": "code",
   "execution_count": 26,
   "metadata": {},
   "outputs": [],
   "source": [
    "Solar_Access_matrix = np.random.randint(1, 9, (10), dtype='l')"
   ]
  },
  {
   "cell_type": "markdown",
   "metadata": {},
   "source": [
    "#### Import the Solar Envelope matrix from csv"
   ]
  },
  {
   "cell_type": "code",
   "execution_count": 27,
   "metadata": {},
   "outputs": [],
   "source": [
    "#lattice_path = os.path.relpath('Voxelized_base_lattice.csv')\n",
    "#Solar_access_lattice = tg.lattice_from_csv(lattice_path)\n",
    "#Flatten Solar_access_lattice"
   ]
  },
  {
   "cell_type": "code",
   "execution_count": 28,
   "metadata": {},
   "outputs": [],
   "source": [
    "Solar_Envelope_matrix = np.random.randint(1, 9, (10), dtype='l')"
   ]
  },
  {
   "cell_type": "code",
   "execution_count": 32,
   "metadata": {},
   "outputs": [],
   "source": [
    "#print(Dummy_Solar_Envelope_matrix)"
   ]
  },
  {
   "cell_type": "markdown",
   "metadata": {},
   "source": [
    "#### Import the View from street matrix from csv"
   ]
  },
  {
   "cell_type": "code",
   "execution_count": 33,
   "metadata": {},
   "outputs": [],
   "source": [
    "#lattice_path = os.path.relpath('Voxelized_base_lattice.csv')\n",
    "#Solar_access_lattice = tg.lattice_from_csv(lattice_path)\n",
    "#Flatten Solar_access_lattice"
   ]
  },
  {
   "cell_type": "code",
   "execution_count": 34,
   "metadata": {},
   "outputs": [],
   "source": [
    "View_from_street_matrix = np.random.randint(1, 9, (10), dtype='l')"
   ]
  },
  {
   "cell_type": "markdown",
   "metadata": {},
   "source": [
    "#### Import the View to IJ matrix from csv"
   ]
  },
  {
   "cell_type": "code",
   "execution_count": 35,
   "metadata": {},
   "outputs": [],
   "source": [
    "#lattice_path = os.path.relpath('Voxelized_base_lattice.csv')\n",
    "#Solar_access_lattice = tg.lattice_from_csv(lattice_path)\n",
    "#Flatten Solar_access_lattice"
   ]
  },
  {
   "cell_type": "code",
   "execution_count": 36,
   "metadata": {},
   "outputs": [],
   "source": [
    "View_to_IJ_matrix = np.random.randint(1, 9, (10), dtype='l')"
   ]
  },
  {
   "cell_type": "markdown",
   "metadata": {},
   "source": [
    "#### Import the Quiteness matrix from csv"
   ]
  },
  {
   "cell_type": "code",
   "execution_count": 37,
   "metadata": {},
   "outputs": [],
   "source": [
    "#lattice_path = os.path.relpath('Voxelized_base_lattice.csv')\n",
    "#Solar_access_lattice = tg.lattice_from_csv(lattice_path)\n",
    "#Flatten Solar_access_lattice"
   ]
  },
  {
   "cell_type": "code",
   "execution_count": 38,
   "metadata": {},
   "outputs": [],
   "source": [
    "Quiteness_matrix = np.random.randint(1, 9, (10), dtype='l')"
   ]
  },
  {
   "cell_type": "markdown",
   "metadata": {},
   "source": [
    "#### Import the Closeness to facade N from csv"
   ]
  },
  {
   "cell_type": "code",
   "execution_count": 39,
   "metadata": {},
   "outputs": [],
   "source": [
    "#lattice_path = os.path.relpath('Voxelized_base_lattice.csv')\n",
    "#Solar_access_lattice = tg.lattice_from_csv(lattice_path)\n",
    "#Flatten Solar_access_lattice"
   ]
  },
  {
   "cell_type": "code",
   "execution_count": 40,
   "metadata": {},
   "outputs": [],
   "source": [
    "Closeness_to_facade_N_matrix = np.random.randint(1, 9, (10), dtype='l')"
   ]
  },
  {
   "cell_type": "markdown",
   "metadata": {},
   "source": [
    "#### Import the Closeness to facade S from csv"
   ]
  },
  {
   "cell_type": "code",
   "execution_count": 41,
   "metadata": {},
   "outputs": [],
   "source": [
    "#lattice_path = os.path.relpath('Voxelized_base_lattice.csv')\n",
    "#Solar_access_lattice = tg.lattice_from_csv(lattice_path)\n",
    "#Flatten Solar_access_lattice"
   ]
  },
  {
   "cell_type": "code",
   "execution_count": 42,
   "metadata": {},
   "outputs": [],
   "source": [
    "Closeness_to_facade_S_matrix = np.random.randint(1, 9, (10), dtype='l')"
   ]
  },
  {
   "cell_type": "markdown",
   "metadata": {},
   "source": [
    "#### Import the Closeness to facade E from csv"
   ]
  },
  {
   "cell_type": "code",
   "execution_count": 43,
   "metadata": {},
   "outputs": [],
   "source": [
    "#lattice_path = os.path.relpath('Voxelized_base_lattice.csv')\n",
    "#Solar_access_lattice = tg.lattice_from_csv(lattice_path)\n",
    "#Flatten Solar_access_lattice"
   ]
  },
  {
   "cell_type": "code",
   "execution_count": 44,
   "metadata": {},
   "outputs": [],
   "source": [
    "Closeness_to_facade_E_matrix = np.random.randint(1, 9, (10), dtype='l')"
   ]
  },
  {
   "cell_type": "markdown",
   "metadata": {},
   "source": [
    "#### Import the Closeness to facade W from csv"
   ]
  },
  {
   "cell_type": "code",
   "execution_count": 45,
   "metadata": {},
   "outputs": [],
   "source": [
    "#lattice_path = os.path.relpath('Voxelized_base_lattice.csv')\n",
    "#Solar_access_lattice = tg.lattice_from_csv(lattice_path)\n",
    "#Flatten Solar_access_lattice"
   ]
  },
  {
   "cell_type": "code",
   "execution_count": 46,
   "metadata": {},
   "outputs": [],
   "source": [
    "Closeness_to_facade_W_matrix = np.random.randint(1, 9, (10), dtype='l')"
   ]
  },
  {
   "cell_type": "markdown",
   "metadata": {},
   "source": [
    "#### Import the Closeness to Roof from csv"
   ]
  },
  {
   "cell_type": "code",
   "execution_count": 47,
   "metadata": {},
   "outputs": [],
   "source": [
    "#lattice_path = os.path.relpath('Voxelized_base_lattice.csv')\n",
    "#Solar_access_lattice = tg.lattice_from_csv(lattice_path)\n",
    "#Flatten Solar_access_lattice"
   ]
  },
  {
   "cell_type": "code",
   "execution_count": 48,
   "metadata": {},
   "outputs": [],
   "source": [
    "Closeness_to_Roof_matrix = np.random.randint(1, 9, (10), dtype='l')"
   ]
  },
  {
   "cell_type": "markdown",
   "metadata": {},
   "source": [
    "#### Import the Closeness to Ground from csv"
   ]
  },
  {
   "cell_type": "code",
   "execution_count": 49,
   "metadata": {},
   "outputs": [],
   "source": [
    "#lattice_path = os.path.relpath('Voxelized_base_lattice.csv')\n",
    "#Solar_access_lattice = tg.lattice_from_csv(lattice_path)\n",
    "#Flatten Solar_access_lattice"
   ]
  },
  {
   "cell_type": "code",
   "execution_count": 50,
   "metadata": {},
   "outputs": [],
   "source": [
    "Closeness_to_Ground_matrix = np.random.randint(1, 9, (10), dtype='l')"
   ]
  },
  {
   "cell_type": "markdown",
   "metadata": {},
   "source": [
    "#### Import the Sky View from csv"
   ]
  },
  {
   "cell_type": "code",
   "execution_count": 51,
   "metadata": {},
   "outputs": [],
   "source": [
    "#lattice_path = os.path.relpath('Voxelized_base_lattice.csv')\n",
    "#Solar_access_lattice = tg.lattice_from_csv(lattice_path)\n",
    "#Flatten Solar_access_lattice"
   ]
  },
  {
   "cell_type": "code",
   "execution_count": 52,
   "metadata": {},
   "outputs": [],
   "source": [
    "Sky_View_matrix = np.random.randint(1, 9, (10), dtype='l')"
   ]
  },
  {
   "cell_type": "code",
   "execution_count": 53,
   "metadata": {},
   "outputs": [
    {
     "name": "stdout",
     "output_type": "stream",
     "text": [
      "[8 8 6 6 6 1 2 6 2 4]\n"
     ]
    }
   ],
   "source": [
    "print(Sky_View_matrix)"
   ]
  },
  {
   "cell_type": "code",
   "execution_count": 54,
   "metadata": {},
   "outputs": [],
   "source": [
    "#Dictionary Values\n",
    "Matrix_names_from_imported_lattices = [Solar_Access_matrix,Solar_Envelope_matrix,View_from_street_matrix,View_to_IJ_matrix,Quiteness_matrix,Closeness_to_facade_N_matrix,Closeness_to_facade_S_matrix,Closeness_to_facade_E_matrix,Closeness_to_facade_W_matrix,Closeness_to_Roof_matrix,Closeness_to_Ground_matrix]\n",
    "# Dictionary Keys\n",
    "Matrix_names_in_widget =['Solar Access', 'Solar Envelope', 'View from street','View to IJ', 'Quiteness', 'Closeness to facade N', 'Closeness to facade S', 'Closeness to facade E','Closeness to facade W','Closeness to Roof', 'Closeness to Ground','Sky View']"
   ]
  },
  {
   "cell_type": "code",
   "execution_count": 55,
   "metadata": {},
   "outputs": [],
   "source": [
    "Dict_of_lattices = {} \n",
    "for key in Matrix_names_in_widget: \n",
    "    for value in Matrix_names_from_imported_lattices: \n",
    "        Dict_of_lattices[key] = value \n",
    "        Matrix_names_from_imported_lattices.remove(value) \n",
    "        break  "
   ]
  },
  {
   "cell_type": "code",
   "execution_count": 56,
   "metadata": {
    "scrolled": true
   },
   "outputs": [],
   "source": [
    "#print(Dict_of_lattices)\n",
    "retrieved_lattices = [Dict_of_lattices[x] for x in Design_criteria_selection.value]"
   ]
  },
  {
   "cell_type": "code",
   "execution_count": 57,
   "metadata": {},
   "outputs": [
    {
     "name": "stdout",
     "output_type": "stream",
     "text": [
      "[6 2 3 1 4]\n",
      "[3 5 4 2 7]\n",
      "[5 4 1 2 4]\n",
      "[8 1 2 2 3]\n",
      "[7 4 4 8 8]\n",
      "[1 6 6 1 5]\n",
      "[1 7 4 8 3]\n",
      "[5 8 4 3 1]\n",
      "[3 8 7 5 1]\n",
      "[2 1 8 8 5]\n"
     ]
    }
   ],
   "source": [
    "flipped_lattices= np.transpose(retrieved_lattices)\n",
    "\n",
    "List_of_lattices_for_Topsis=[]\n",
    "for r in flipped_lattices:\n",
    "    print(r)\n",
    "    List_of_lattices_for_Topsis.append(np.ndarray.tolist(r))"
   ]
  },
  {
   "cell_type": "code",
   "execution_count": 58,
   "metadata": {},
   "outputs": [
    {
     "name": "stdout",
     "output_type": "stream",
     "text": [
      "[[6, 2, 3, 1, 4], [3, 5, 4, 2, 7], [5, 4, 1, 2, 4], [8, 1, 2, 2, 3], [7, 4, 4, 8, 8], [1, 6, 6, 1, 5], [1, 7, 4, 8, 3], [5, 8, 4, 3, 1], [3, 8, 7, 5, 1], [2, 1, 8, 8, 5]]\n"
     ]
    }
   ],
   "source": [
    "print(List_of_lattices_for_Topsis)"
   ]
  },
  {
   "cell_type": "markdown",
   "metadata": {},
   "source": [
    "### Select the Cost and benefit for the design criteria"
   ]
  },
  {
   "cell_type": "code",
   "execution_count": 72,
   "metadata": {},
   "outputs": [],
   "source": [
    "def Radio_widget(text):\n",
    "    Radio_widget = widgets.RadioButtons(\n",
    "    options=['Cost', 'Benefit'],\n",
    "    value='Cost',\n",
    "    description=str(text),\n",
    "    disabled=False,\n",
    "    style=style,\n",
    "    layout=Layout(width='500px')\n",
    ")\n",
    "    return Radio_widget"
   ]
  },
  {
   "cell_type": "code",
   "execution_count": 73,
   "metadata": {},
   "outputs": [],
   "source": [
    "Radio_lists=[]\n",
    "for a in (Design_criteria_selection.value):\n",
    "    Radio_lists.append(Radio_widget(a))"
   ]
  },
  {
   "cell_type": "code",
   "execution_count": 100,
   "metadata": {},
   "outputs": [
    {
     "data": {
      "application/vnd.jupyter.widget-view+json": {
       "model_id": "b7616971b5184930810d58cf62dccc2e",
       "version_major": 2,
       "version_minor": 0
      },
      "text/plain": [
       "GridBox(children=(RadioButtons(description='Solar Envelope', index=1, layout=Layout(width='500px'), options=('…"
      ]
     },
     "metadata": {},
     "output_type": "display_data"
    }
   ],
   "source": [
    "ui_radios = widgets.GridBox(Radio_lists,layout=widgets.Layout(grid_template_rows=\"auto\"))\n",
    "display(ui_radios)"
   ]
  },
  {
   "cell_type": "code",
   "execution_count": 101,
   "metadata": {},
   "outputs": [
    {
     "name": "stdout",
     "output_type": "stream",
     "text": [
      "[1, 1, 0, 1, 0]\n"
     ]
    }
   ],
   "source": [
    "Topsis_I =[]\n",
    "\n",
    "for radio in ui_radios.children:\n",
    "    if radio.value == \"Cost\":\n",
    "        Topsis_I.append(0)\n",
    "    else:\n",
    "        Topsis_I.append(1)\n",
    "\n",
    "print(Topsis_I)"
   ]
  },
  {
   "cell_type": "markdown",
   "metadata": {},
   "source": [
    "### Topsis for MCDA"
   ]
  },
  {
   "cell_type": "code",
   "execution_count": 104,
   "metadata": {},
   "outputs": [
    {
     "name": "stdout",
     "output_type": "stream",
     "text": [
      "[0.45176314 0.40462126 0.55492577 0.5090963  0.50387407 0.40259208\n",
      " 0.58285082 0.70229015 0.59897634 0.30069722]\n"
     ]
    }
   ],
   "source": [
    "a = List_of_lattices_for_Topsis\n",
    "w = Topsis_weights\n",
    "I = Topsis_I\n",
    "decision = ts(a, w, I)\n",
    "ghr = decision.calc()\n",
    "\n",
    "print(decision.C)"
   ]
  },
  {
   "cell_type": "markdown",
   "metadata": {},
   "source": [
    "### Vizualise the decision matrix for the user "
   ]
  },
  {
   "cell_type": "code",
   "execution_count": null,
   "metadata": {},
   "outputs": [],
   "source": []
  },
  {
   "cell_type": "markdown",
   "metadata": {},
   "source": [
    "### Reshape the lattice to original lattice "
   ]
  },
  {
   "cell_type": "code",
   "execution_count": null,
   "metadata": {},
   "outputs": [],
   "source": []
  },
  {
   "cell_type": "markdown",
   "metadata": {},
   "source": [
    "### Save the User preference lattice as CSV\n",
    "The lattice for the selected Stakeholder will be saved as Csv Continue this process for all the users and make the lattices for all of them "
   ]
  },
  {
   "cell_type": "code",
   "execution_count": null,
   "metadata": {},
   "outputs": [],
   "source": []
  },
  {
   "cell_type": "markdown",
   "metadata": {},
   "source": [
    "### Save the Stakeholder Influence as a CSV\n",
    "The information of the stakeholders and their stakes in the various items from the space program will be saved in a csv"
   ]
  },
  {
   "cell_type": "code",
   "execution_count": null,
   "metadata": {},
   "outputs": [],
   "source": []
  }
 ],
 "metadata": {
  "kernelspec": {
   "display_name": "Python 3",
   "language": "python",
   "name": "python3"
  },
  "language_info": {
   "codemirror_mode": {
    "name": "ipython",
    "version": 3
   },
   "file_extension": ".py",
   "mimetype": "text/x-python",
   "name": "python",
   "nbconvert_exporter": "python",
   "pygments_lexer": "ipython3",
   "version": "3.8.4"
  }
 },
 "nbformat": 4,
 "nbformat_minor": 4
}
