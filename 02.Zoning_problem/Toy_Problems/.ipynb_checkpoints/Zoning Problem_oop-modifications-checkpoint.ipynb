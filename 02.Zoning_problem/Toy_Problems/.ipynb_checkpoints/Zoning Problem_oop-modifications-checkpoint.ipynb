{
 "cells": [
  {
   "cell_type": "markdown",
   "metadata": {},
   "source": [
    "## The Zoning Problem \n",
    "The aim of this notebook is to generate the optimal zoning by formulating a linear assignment problem and using google\n",
    "OR-Toolsfor solving the optimization problem.\n",
    "The agent behaviours are taken from the previous study. The occupation and env lattices are random for the test problem .\n",
    "\n",
    "### The Test Problem \n",
    "There are five agents :[Blue,Green,Yellow,Red,Violet]\n",
    "The number of voxels which each agent occupies are [B1,G1,Y1,R1,V1]\n",
    "Total number of voxels in a lattice = x \n",
    "Value lattice for the agents are =[Bv],[Gv],[Yv],[Rv],[Vv]\n",
    "\n",
    "####  Aim \n",
    ": To find the best combination of Zones to achieve the maximum occupancy value\n",
    "#### Steps\n",
    "\n",
    "1. Generate the lattices , Agent behaviours, agents, \n",
    "2. Find the possible origin locations for the agents\n",
    "3. Simulate occupancy behaviour and retrieve the cost of occupancy for each agent at each position\n",
    "4. Generate the Cost matrix\n",
    "5. Use the MIP Solver to optimise the combination to get the permutation matrix \n"
   ]
  },
  {
   "cell_type": "markdown",
   "metadata": {},
   "source": [
    "## Initilization"
   ]
  },
  {
   "cell_type": "code",
   "execution_count": 1,
   "metadata": {},
   "outputs": [],
   "source": [
    "import os\n",
    "import itertools\n",
    "import sys\n",
    "from math import factorial as fac\n",
    "sys.path.append(\"D:/TU_Delft/Msc_Building_Technology/Semester_3/Graduation/Aditya_Graduation_Project_BT/06_Libraries\")\n",
    "import topogenesis as tg\n",
    "import pyvista as pv\n",
    "import trimesh as tm\n",
    "import numpy as np\n",
    "np.random.seed(0)\n",
    "np.set_printoptions(threshold=sys.maxsize)\n",
    "import networkx as nx\n",
    "import pickle"
   ]
  },
  {
   "cell_type": "markdown",
   "metadata": {},
   "source": [
    "## Base Lattices"
   ]
  },
  {
   "cell_type": "code",
   "execution_count": 2,
   "metadata": {},
   "outputs": [],
   "source": [
    "# loading the lattice from csv\n",
    "lattice_path = os.path.relpath('Base_lattice_2.csv')\n",
    "avail_lattice_base = tg.lattice_from_csv(lattice_path)\n",
    "avail_lattice = avail_lattice_base*1\n",
    "init_avail_lattice = tg.to_lattice(np.copy(avail_lattice*1), avail_lattice)"
   ]
  },
  {
   "cell_type": "markdown",
   "metadata": {},
   "source": [
    "## Env Lattices"
   ]
  },
  {
   "cell_type": "code",
   "execution_count": 3,
   "metadata": {},
   "outputs": [],
   "source": [
    "Bv = np.random.randint(1, 20, (np.shape(avail_lattice)), dtype='l')\n",
    "Gv = np.random.randint(1, 20, (np.shape(avail_lattice)), dtype='l')\n",
    "Yv = np.random.randint(1, 9, (np.shape(avail_lattice)), dtype='l')\n",
    "Rv = np.random.randint(1, 9, (np.shape(avail_lattice)), dtype='l')\n",
    "Vv = np.random.randint(1, 99, (np.shape(avail_lattice)), dtype='l')"
   ]
  },
  {
   "cell_type": "code",
   "execution_count": 4,
   "metadata": {},
   "outputs": [
    {
     "data": {
      "text/plain": [
       "array([[[70, 87, 63, 13, 67, 60,  1, 25, 94, 93, 97],\n",
       "        [ 5, 73, 19, 46, 93, 72, 73, 17, 87, 80, 21],\n",
       "        [49, 86, 88, 98, 67, 49, 91, 12, 25, 16, 26],\n",
       "        [ 6, 23, 55, 52, 35, 30, 13, 45, 59, 21, 64],\n",
       "        [47, 98, 76, 47, 95, 12, 71, 96, 35, 42, 22],\n",
       "        [75, 92, 82, 58,  7, 12, 62, 94, 78, 20,  8],\n",
       "        [58, 17, 71, 41, 80, 63, 67, 11, 42, 43, 41],\n",
       "        [30, 75, 75, 32, 82, 37, 62, 82, 86, 28, 26],\n",
       "        [48, 55, 73, 98, 74, 12, 49, 93, 17, 67, 73],\n",
       "        [34, 49, 15, 41, 66, 47, 96, 23, 65, 77, 41],\n",
       "        [65, 93, 32, 61, 29, 58, 84, 97, 44, 69, 82],\n",
       "        [94, 27, 90, 83, 52, 85, 48, 58, 42, 72, 29],\n",
       "        [33, 13, 89, 72, 74, 61, 40, 46, 34, 95, 61],\n",
       "        [35, 67, 30, 40, 64, 23, 54, 65, 27, 69, 44],\n",
       "        [48, 10, 71, 30,  6,  2, 87, 27, 94,  6, 17],\n",
       "        [27, 45, 27, 79, 89,  9, 20, 94, 60, 76, 47],\n",
       "        [22, 67, 62, 58, 27, 54, 69, 23, 83, 39, 66],\n",
       "        [ 5, 20, 92,  8, 94, 89, 58, 77, 70, 45, 14],\n",
       "        [39, 80,  1, 52, 69, 46, 23, 31, 33, 96, 46],\n",
       "        [ 4, 61, 36, 20, 18,  4, 61, 73, 66, 16,  9],\n",
       "        [53, 23, 11, 45, 13,  4, 23, 13, 26, 54, 91]],\n",
       "\n",
       "       [[41, 42,  1, 56, 60, 53, 28, 41, 86, 22, 71],\n",
       "        [77,  8,  4, 75, 28, 58, 89, 50, 47, 74, 37],\n",
       "        [ 9, 10,  2, 39, 21, 46, 90, 45, 90, 70, 65],\n",
       "        [59, 71, 71, 18, 12, 18, 38, 95, 58, 74, 13],\n",
       "        [18, 37, 33,  4, 77, 38, 72, 62,  6, 18, 19],\n",
       "        [19, 82, 34, 11, 50, 10, 27,  5, 90, 72, 98],\n",
       "        [18, 18, 73, 59, 88, 56, 35, 92, 69,  3, 26],\n",
       "        [71, 11, 20, 46, 80, 85, 54, 80, 55, 36, 48],\n",
       "        [72, 61, 37, 29, 45, 47, 10, 88, 36, 93, 19],\n",
       "        [79, 21, 37, 73, 14, 22, 60, 62, 97, 33, 31],\n",
       "        [74, 92, 62, 29, 57, 24, 93, 57, 67, 21, 87],\n",
       "        [97,  8, 57, 22, 85, 20, 90, 48, 38, 89, 84],\n",
       "        [56, 43, 14, 45, 92, 87, 92,  4, 58, 34, 30],\n",
       "        [86, 67, 39, 25, 82, 78, 74, 26, 38, 15, 30],\n",
       "        [ 8, 59, 28, 29, 87, 69, 68, 25, 27, 10, 60],\n",
       "        [56, 72, 85, 12, 71, 93,  3, 40, 58, 28, 32],\n",
       "        [36, 13, 65, 24,  6, 56, 65, 36, 11, 30, 64],\n",
       "        [82, 49, 83, 60, 48, 62, 11, 20, 78, 58, 68],\n",
       "        [37,  4, 36, 72, 75, 85, 93, 73,  9, 82, 82],\n",
       "        [70, 96, 94, 60, 81, 58, 87, 51, 81, 28, 97],\n",
       "        [48, 67, 12, 83, 89, 25,  1, 61, 73, 88,  2]],\n",
       "\n",
       "       [[94, 48, 51, 82, 84, 90, 70, 86, 35, 98, 39],\n",
       "        [92, 50,  5, 84, 52, 34, 86,  5, 52, 90, 72],\n",
       "        [57, 37, 52, 96, 62, 62, 67, 58, 26, 13, 62],\n",
       "        [ 6, 36, 95, 53, 10, 50, 82, 57, 30, 76, 62],\n",
       "        [35, 44, 34, 29, 23, 90, 92, 18, 34, 98, 90],\n",
       "        [85,  8, 65, 13, 72, 45, 88, 39,  3, 60, 74],\n",
       "        [31, 63, 51, 27, 13, 19, 30, 59, 39, 71, 67],\n",
       "        [50, 78, 52, 81, 32,  9, 32, 26, 19, 84, 93],\n",
       "        [66, 58, 91, 31, 22, 76, 36, 55, 65, 64, 89],\n",
       "        [47, 97, 41, 59, 69, 30, 52, 55, 57, 83, 53],\n",
       "        [67, 34, 90, 28, 87, 43,  7, 54, 94, 33, 24],\n",
       "        [38, 11, 10, 66, 65,  4, 26, 62, 77, 68, 92],\n",
       "        [50,  2,  9, 98, 96, 30, 49, 61, 78, 79, 29],\n",
       "        [81, 89, 46,  7, 19, 57, 34,  9, 79, 19, 60],\n",
       "        [40, 25, 13, 10, 98, 50, 98, 51, 89, 16, 40],\n",
       "        [71, 62, 18,  9, 66,  8, 21, 41, 73,  1, 42],\n",
       "        [ 3, 33, 87, 11, 95,  9, 22, 58, 46, 68, 70],\n",
       "        [28, 91, 13, 65,  4, 62, 44, 97, 41, 21, 15],\n",
       "        [25, 68, 33, 74, 71, 68, 59, 29,  4, 80, 97],\n",
       "        [39, 93, 70,  2, 18, 63, 48,  9, 74, 53, 14],\n",
       "        [42, 25, 64, 69, 72, 70, 21, 68, 66, 74, 91]],\n",
       "\n",
       "       [[66, 41, 47, 22, 77, 71, 33, 43, 85, 77, 87],\n",
       "        [21, 34, 33, 10, 60,  4, 64, 63,  9, 29, 14],\n",
       "        [88, 72, 13,  3, 78, 24, 60, 74, 80, 12, 10],\n",
       "        [63, 66, 91, 12, 96, 49, 59, 76,  2, 73, 26],\n",
       "        [31, 34, 88, 21, 50,  9, 65, 35, 31, 85, 38],\n",
       "        [23, 62, 43, 49, 87, 21, 44,  8, 66, 46, 31],\n",
       "        [13, 70, 57, 22, 70, 17, 44, 24, 41, 38, 49],\n",
       "        [40, 39, 44, 49,  1, 10, 16, 53, 54,  5, 29],\n",
       "        [36, 21,  7, 42, 32, 90, 81, 69, 14, 34, 18],\n",
       "        [66, 90, 48, 87, 43, 23, 82, 68, 20, 47, 30],\n",
       "        [69, 85, 31, 45, 80, 34,  5, 84, 38, 53, 65],\n",
       "        [18, 18, 40, 19,  6,  4, 59,  1, 36, 26, 85],\n",
       "        [94, 66, 15, 45,  5, 71, 18, 94, 62, 57,  2],\n",
       "        [17, 67, 79, 50, 25, 70, 22,  9, 73, 34, 70],\n",
       "        [97,  1, 44,  7, 15, 38, 93, 81, 54, 30, 83],\n",
       "        [94,  4, 75, 42, 40, 97, 33, 29, 15, 96, 63],\n",
       "        [62, 68, 14, 19, 82, 62, 35, 84, 69, 76, 22],\n",
       "        [ 4, 35, 84, 91, 73, 79, 36, 77, 82, 88, 82],\n",
       "        [97, 50, 12, 67, 23, 69, 42, 43, 16, 60, 61],\n",
       "        [82, 78, 96,  4, 46, 26, 52, 29, 83, 96, 24],\n",
       "        [11, 14, 78, 14, 84, 66,  4, 13,  9, 11,  7]],\n",
       "\n",
       "       [[53, 32, 44, 96, 22, 14, 72, 46, 29, 83, 30],\n",
       "        [62, 27, 51, 16, 47, 66, 52, 26, 19, 40, 49],\n",
       "        [46, 23, 28, 76, 45, 39,  1, 10, 23, 70, 24],\n",
       "        [71, 87, 88, 66, 56, 56, 27, 32, 20, 62, 26],\n",
       "        [72, 12, 58, 56, 18, 55,  1, 12, 37, 78,  9],\n",
       "        [64, 11, 90, 10, 85,  5, 60, 40, 81, 83, 79],\n",
       "        [88, 53, 49, 31,  4, 11, 33, 22, 42, 98, 19],\n",
       "        [98, 52, 77, 64, 53, 67, 90, 95, 52, 93, 42],\n",
       "        [18, 15, 60, 61, 14, 98, 23, 62, 89, 31, 11],\n",
       "        [ 4, 32, 33, 14, 50, 40,  1, 25, 85, 44, 91],\n",
       "        [92, 88, 91, 74, 98, 91, 42, 32, 41, 96,  9],\n",
       "        [50, 37, 82, 95,  2, 59, 30, 81, 85,  9, 37],\n",
       "        [94, 60, 16, 14, 26, 81, 51, 12, 47,  3, 34],\n",
       "        [93, 91, 42,  2, 27, 73, 84, 28, 23, 90, 89],\n",
       "        [85, 37, 25, 31, 13, 53, 57, 93, 69, 66, 70],\n",
       "        [45, 86, 25,  9, 31, 33, 86, 68, 58, 85, 82],\n",
       "        [18, 76, 19, 36, 59, 86, 44, 64, 98, 74, 28],\n",
       "        [88, 64, 52, 60, 37, 49, 98, 12, 73, 94, 34],\n",
       "        [48, 15, 95, 32, 88, 64, 44, 22,  3, 27, 10],\n",
       "        [ 2, 57, 68, 82,  2, 31, 35, 98, 48, 49, 11],\n",
       "        [ 7,  6, 43, 71, 39,  6, 61, 31, 60,  9, 64]],\n",
       "\n",
       "       [[82, 87,  4, 16, 95,  7, 94, 23, 11, 29,  8],\n",
       "        [92, 84,  3, 72, 77, 52, 20, 95, 31, 28, 16],\n",
       "        [48, 24, 59, 95, 84,  9, 14, 39, 39,  3, 43],\n",
       "        [52, 69, 39, 70, 60, 64, 54, 63, 34, 89, 93],\n",
       "        [86, 45, 15, 69, 82, 80, 26, 64, 37, 13, 39],\n",
       "        [60, 94, 31, 84, 84, 32, 76,  8, 70, 78, 63],\n",
       "        [47, 33, 33, 29, 13, 94, 75, 56, 74, 50, 20],\n",
       "        [87, 24, 31, 61, 53, 14, 32, 59, 17, 19,  2],\n",
       "        [16, 33, 79, 74,  7, 68, 71, 80, 94, 86, 52],\n",
       "        [75, 59, 78, 92, 27, 27, 69, 60, 30, 49, 93],\n",
       "        [62, 61, 16, 92, 41, 33, 46, 15, 69, 90, 97],\n",
       "        [13, 45, 60, 43, 64, 53, 14, 53, 51, 51, 70],\n",
       "        [88, 95, 93, 55, 86, 84, 89, 48, 88, 46, 63],\n",
       "        [11, 95, 97, 86, 55, 95,  7, 26,  6, 56, 96],\n",
       "        [48, 28, 90, 34, 92, 17, 17, 80, 95, 35, 60],\n",
       "        [70, 73, 17, 52, 93,  6,  1, 84, 24, 31, 39],\n",
       "        [41, 82, 16, 75, 19, 28, 52, 43, 79, 48, 82],\n",
       "        [42,  4, 26, 89, 96, 88, 80, 22, 61, 30, 23],\n",
       "        [25, 68, 10, 39, 65, 80, 15, 70, 82, 59, 68],\n",
       "        [84, 83, 50,  2,  8,  9, 32, 15, 79, 21, 19],\n",
       "        [36, 45, 32, 66, 91, 25, 39, 42, 96, 57, 76]]])"
      ]
     },
     "execution_count": 4,
     "metadata": {},
     "output_type": "execute_result"
    }
   ],
   "source": [
    "Vv"
   ]
  },
  {
   "cell_type": "markdown",
   "metadata": {},
   "source": [
    "## Stencils"
   ]
  },
  {
   "cell_type": "code",
   "execution_count": 5,
   "metadata": {},
   "outputs": [],
   "source": [
    "# creating neighborhood definition\n",
    "stencil_von_neumann = tg.create_stencil(\"von_neumann\", 1, 1)\n",
    "stencil_von_neumann.set_index([0,0,0], 0)\n",
    "#print(stencil_von_neumann)"
   ]
  },
  {
   "cell_type": "code",
   "execution_count": 6,
   "metadata": {},
   "outputs": [],
   "source": [
    "# creating neighborhood definition \n",
    "stencil_squareness = tg.create_stencil(\"moore\", 1, 1)\n",
    "# Reshaping the moore neighbourhood\n",
    "stencil_squareness[0,:,:] = 0 \n",
    "stencil_squareness[2,:,:] = 0\n",
    "stencil_squareness.set_index([0,0,0], 0)\n",
    "stencil_squareness_t = np.transpose(stencil_squareness) \n",
    "#print(stencil_squareness_t)"
   ]
  },
  {
   "cell_type": "code",
   "execution_count": 7,
   "metadata": {},
   "outputs": [],
   "source": [
    "# creating neighborhood definition \n",
    "stencil_squareness_von = tg.create_stencil(\"von_neumann\", 1, 1)\n",
    "# Reshaping the moore neighbourhood\n",
    "stencil_squareness_von[0,:,:] = 0 \n",
    "stencil_squareness_von[2,:,:] = 0\n",
    "stencil_squareness_von.set_index([0,0,0], 0)\n",
    "stencil_squareness_von_t = np.transpose(stencil_squareness_von) \n",
    "#print(stencil_squareness_von)"
   ]
  },
  {
   "cell_type": "code",
   "execution_count": 8,
   "metadata": {},
   "outputs": [],
   "source": [
    "stencil_cuboid = tg.create_stencil(\"moore\", 1, 1)\n",
    "stencil_cuboid.set_index([0,0,0], 0)\n",
    "#print(stencil_cuboid)"
   ]
  },
  {
   "cell_type": "markdown",
   "metadata": {},
   "source": [
    "## Deriving all possible agent Center points"
   ]
  },
  {
   "cell_type": "code",
   "execution_count": 9,
   "metadata": {},
   "outputs": [
    {
     "data": {
      "text/plain": [
       "array([136, 136,  91,  91, 230])"
      ]
     },
     "execution_count": 9,
     "metadata": {},
     "output_type": "execute_result"
    }
   ],
   "source": [
    "## The number of voxels which each agent has to occupy There are five agents :[Blue,Green,Yellow,Red,Violet]\n",
    "## The number of voxels which each agent occupies are [B1,G1,Y1,R1,V1] \n",
    "mass_size = np.count_nonzero((avail_lattice==1)) \n",
    "B1 = int(mass_size / 5)\n",
    "G1= int( mass_size / 5)\n",
    "Y1=int( mass_size / 7.5)\n",
    "R1= int(mass_size / 7.5)\n",
    "V1= int(mass_size -(B1+G1+Y1+R1))\n",
    "Num_of_voxels_lst = np.array([B1,G1,Y1,R1,V1])\n",
    "Cube_root_list = Num_of_voxels_lst ** (1/3)\n",
    "Radius_list = Cube_root_list.astype(int) \n",
    "Maximum_radius = int(Radius_list[np.argmax(Radius_list)])\n",
    "\n",
    "Num_of_voxels_lst"
   ]
  },
  {
   "cell_type": "code",
   "execution_count": 10,
   "metadata": {},
   "outputs": [],
   "source": [
    "#Divide the available lattice into grids to generate the necessary locations for origins??"
   ]
  },
  {
   "cell_type": "code",
   "execution_count": 11,
   "metadata": {},
   "outputs": [
    {
     "data": {
      "text/plain": [
       "(21, 11)"
      ]
     },
     "execution_count": 11,
     "metadata": {},
     "output_type": "execute_result"
    }
   ],
   "source": [
    "avail_lattice_copy = np.copy(avail_lattice)\n",
    "avail_lattice_copy[2].shape"
   ]
  },
  {
   "cell_type": "code",
   "execution_count": 12,
   "metadata": {},
   "outputs": [],
   "source": [
    "#slices= np.arange(1,20,3)\n",
    "x_cordinate= np.arange(3,21,7,dtype=int)\n",
    "y_cordinate = np.array([2,8],dtype=int)\n",
    "indexes= []\n",
    "for item in x_cordinate :\n",
    "    for num in y_cordinate:\n",
    "        a=item,num\n",
    "        indexes.append(a)"
   ]
  },
  {
   "cell_type": "code",
   "execution_count": 13,
   "metadata": {},
   "outputs": [
    {
     "data": {
      "text/plain": [
       "[(3, 2), (3, 8), (10, 2), (10, 8), (17, 2), (17, 8)]"
      ]
     },
     "execution_count": 13,
     "metadata": {},
     "output_type": "execute_result"
    }
   ],
   "source": [
    "indexes"
   ]
  },
  {
   "cell_type": "code",
   "execution_count": 14,
   "metadata": {},
   "outputs": [],
   "source": [
    "for num in indexes:\n",
    "    selected_slice= avail_lattice_copy[2]\n",
    "    selected_slice[num[0]][num[1]]=2\n",
    "index_lattice_flat = avail_lattice_copy.flatten()    \n",
    "indexing =list(np.where(index_lattice_flat ==2))\n",
    "All_coordinates=[element for tupl in indexing for element in tupl]"
   ]
  },
  {
   "cell_type": "code",
   "execution_count": 15,
   "metadata": {},
   "outputs": [
    {
     "data": {
      "text/plain": [
       "[497, 503, 574, 580, 651, 657]"
      ]
     },
     "execution_count": 15,
     "metadata": {},
     "output_type": "execute_result"
    }
   ],
   "source": [
    "All_coordinates"
   ]
  },
  {
   "cell_type": "code",
   "execution_count": null,
   "metadata": {},
   "outputs": [],
   "source": []
  },
  {
   "cell_type": "code",
   "execution_count": 16,
   "metadata": {},
   "outputs": [],
   "source": [
    "# All possible locations isolate the 2d array and find the points \n",
    "locations= [194,190,257,253,307,311]"
   ]
  },
  {
   "cell_type": "markdown",
   "metadata": {},
   "source": [
    "## Permutation Combinations for further simulation verifications"
   ]
  },
  {
   "cell_type": "code",
   "execution_count": 17,
   "metadata": {},
   "outputs": [
    {
     "data": {
      "text/plain": [
       "(657, 497, 651, 503, 574)"
      ]
     },
     "execution_count": 17,
     "metadata": {},
     "output_type": "execute_result"
    }
   ],
   "source": [
    "all_permutations = (list(itertools.permutations(All_coordinates, 5)))\n",
    "all_permutations[618]"
   ]
  },
  {
   "cell_type": "code",
   "execution_count": 18,
   "metadata": {},
   "outputs": [
    {
     "data": {
      "text/plain": [
       "664"
      ]
     },
     "execution_count": 18,
     "metadata": {},
     "output_type": "execute_result"
    }
   ],
   "source": [
    "#all_permutations.index((574,503,651,497,580))\n",
    "all_permutations.index((657,574,580,651,497))"
   ]
  },
  {
   "cell_type": "markdown",
   "metadata": {},
   "source": [
    "## Agent Class"
   ]
  },
  {
   "cell_type": "code",
   "execution_count": 19,
   "metadata": {},
   "outputs": [],
   "source": [
    "# agent class\n",
    "class agent():\n",
    "    def __init__(self, origin, stencil, id):\n",
    "\n",
    "        # define the origin attribute of the agent and making sure that it is an intiger\n",
    "        self.origin = np.array(origin).astype(int)\n",
    "        # define old origin attribute and assigning the origin to it as the initial state\n",
    "        self.old_origin = self.origin\n",
    "        # define stencil of the agent\n",
    "        self.stencil = stencil\n",
    "        #define agent id\n",
    "        self.id = id\n",
    "\n",
    "    # definition of random/argmax occupancy on a 2d squarish stencil \n",
    "    def random_occupy_squareness(self, env):\n",
    "        # retrieve the list of neighbours of the agent based on the stencil\n",
    "        neighs = env.availibility.find_neighbours_masked(self.stencil, loc = self.origin)\n",
    "        neighs_full_floor = env.availibility.find_neighbours_masked(stencil_full_floor, loc = self.origin)\n",
    "        # find availability of neighbours\n",
    "        neighs_availibility = env.availibility.flatten()[neighs]\n",
    "        neighs_availibility_full_floor = env.availibility.flatten()[neighs_full_floor]\n",
    "        # separate available neighbours\n",
    "        free_neighs = neighs[neighs_availibility==1]\n",
    "        free_neighs_full_floor = neighs_full_floor[neighs_availibility_full_floor==1]\n",
    "        #print(free_neighs)\n",
    "        if len(free_neighs)== 0 :\n",
    "            free_neighs = free_neighs_full_floor\n",
    "        else: \n",
    "            free_neighs= free_neighs\n",
    "        # retrieve the value of each neighbour\n",
    "        free_neighs_value = env.value.flatten()[free_neighs]\n",
    "        # find the neighbour with maximum my value\n",
    "       # selected_neigh = free_neighs[np.argmax(free_neighs_value)]\n",
    "        selected_neigh = np.random.choice(free_neighs,1)\n",
    "        #print(selected_neigh)\n",
    "        # update information\n",
    "        ####################\n",
    "        # set the current origin as the ol origin\n",
    "        self.old_origin = self.origin\n",
    "        # update the current origin with the new selected neighbour\n",
    "        self.origin = np.array(np.unravel_index(selected_neigh, env.availibility.shape)).flatten()\n",
    "        #print(self.origin)\n",
    "     \n",
    "      # definition of random/argmax occupancy on a 3d cubish stencil\n",
    "    def random_occupy_cubish(self, env):\n",
    "        # retrieve the list of neighbours of the agent based on the stencil\n",
    "        neighs = env.availibility.find_neighbours_masked(self.stencil, loc = self.origin)\n",
    "        neighs_full_lattice = env.availibility.find_neighbours_masked(stencil_full_lattice, loc = self.origin)\n",
    "        # find availability of neighbours\n",
    "        neighs_availibility = env.availibility.flatten()[neighs]\n",
    "        neighs_availibility_full_lattice = env.availibility.flatten()[neighs_full_lattice]\n",
    "        # separate available neighbours\n",
    "        free_neighs = neighs[neighs_availibility==1]\n",
    "        free_neighs_full_lattice = neighs_full_lattice[neighs_availibility_full_lattice==1]\n",
    "        #print(free_neighs)\n",
    "        if len(free_neighs)== 0 :\n",
    "            free_neighs = free_neighs_full_lattice\n",
    "        else: \n",
    "            free_neighs= free_neighs\n",
    "        # retrieve the value of each neighbour\n",
    "        free_neighs_value = env.value.flatten()[free_neighs]\n",
    "        # find the neighbour with maximum my value\n",
    "        selected_neigh = free_neighs[np.argmax(free_neighs_value)]\n",
    "        #selected_neigh = np.random.choice(free_neighs,1)\n",
    "        #print(selected_neigh)\n",
    "        # update information\n",
    "        ####################\n",
    "        # set the current origin as the ol origin\n",
    "        self.old_origin = self.origin\n",
    "        # update the current origin with the new selected neighbour\n",
    "        self.origin = np.array(np.unravel_index(selected_neigh, env.availibility.shape)).flatten()\n",
    "        #print(self.origin)\n",
    "      \n",
    "        \n",
    "    def random_occupy_cubish_von_neumann(self, env):\n",
    "        # retrieve the list of neighbours of the agent based on the stencil\n",
    "        neighs = env.availibility.find_neighbours_masked(self.stencil, loc = self.origin)\n",
    "        neighs_full_lattice = env.availibility.find_neighbours_masked(stencil_cuboid, loc = self.origin)\n",
    "        # find availability of neighbours\n",
    "        neighs_availibility = env.availibility.flatten()[neighs]\n",
    "        neighs_availibility_full_lattice = env.availibility.flatten()[neighs_full_lattice]\n",
    "        # separate available neighbours\n",
    "        free_neighs = neighs[neighs_availibility==1]\n",
    "        free_neighs_full_lattice = neighs_full_lattice[neighs_availibility_full_lattice==1]\n",
    "        #print(free_neighs)\n",
    "        if len(free_neighs)== 0 :\n",
    "            free_neighs = free_neighs_full_lattice\n",
    "        else: \n",
    "            free_neighs= free_neighs\n",
    "        # retrieve the value of each neighbour\n",
    "        free_neighs_value = env.value.flatten()[free_neighs]\n",
    "        # find the neighbour with maximum my value\n",
    "        selected_neigh = np.random.choice(free_neighs,1)\n",
    "        #print(selected_neigh)\n",
    "        # update information\n",
    "        ####################\n",
    "        # set the current origin as the ol origin\n",
    "        self.old_origin = self.origin\n",
    "        # update the current origin with the new selected neighbour\n",
    "        self.origin = np.array(np.unravel_index(selected_neigh, env.availibility.shape)).flatten()\n",
    "        #print(self.origin)\n",
    "        \n",
    "    def argmax_occupy_von_neumann(self, env):\n",
    "        # retrieve the list of neighbours of the agent based on the stencil\n",
    "        neighs = env.availibility.find_neighbours_masked(self.stencil, loc = self.origin)\n",
    "        neighs_full_lattice = env.availibility.find_neighbours_masked(stencil_full_lattice, loc = self.origin)\n",
    "        # find availability of neighbours\n",
    "        neighs_availibility = env.availibility.flatten()[neighs]\n",
    "        neighs_availibility_full_lattice = env.availibility.flatten()[neighs_full_lattice]\n",
    "        # separate available neighbours\n",
    "        free_neighs = neighs[neighs_availibility==1]\n",
    "        free_neighs_full_lattice = neighs_full_lattice[neighs_availibility_full_lattice==1]\n",
    "        #print(free_neighs)\n",
    "        if len(free_neighs)== 0 :\n",
    "            free_neighs = free_neighs_full_lattice\n",
    "        else: \n",
    "            free_neighs= free_neighs\n",
    "        # retrieve the value of each neighbour\n",
    "        free_neighs_value = env.value.flatten()[free_neighs]\n",
    "        # find the neighbour with maximum my value\n",
    "        selected_neigh = free_neighs[np.argmax(free_neighs_value)]\n",
    "        #selected_neigh = np.random.choice(free_neighs,1)\n",
    "        #print(selected_neigh)\n",
    "        # update information\n",
    "        ####################\n",
    "        # set the current origin as the ol origin\n",
    "        self.old_origin = self.origin\n",
    "        # update the current origin with the new selected neighbour\n",
    "        self.origin = np.array(np.unravel_index(selected_neigh, env.availibility.shape)).flatten()\n",
    "        #print(self.origin)\n",
    "\n",
    "        \n",
    "     # definition of 2d occupying method for agents\n",
    "    def one_neighbour_occupy_squareness_moore(self, env):\n",
    "        # retrieve the list of neighbours of the agent based on the stencil\n",
    "        neighs = env.availibility.find_neighbours_masked(self.stencil, loc = self.origin)\n",
    "        #print(neighs)\n",
    "        neighs_full_floor = env.availibility.find_neighbours_masked(stencil_full_floor, loc = self.origin)\n",
    "\n",
    "        # find availability of neighbours\n",
    "        neighs_availibility = env.availibility.flatten()[neighs]               \n",
    "        neighs_availibility_full_floor = env.availibility.flatten()[neighs_full_floor]\n",
    "        #print(neighs_availibility)\n",
    "        \n",
    "        # find env values of all neighbours\n",
    "        all_neighs_value = env.value.flatten()[neighs]\n",
    "        all_neighs_value_mod = np.copy(all_neighs_value)\n",
    "        \n",
    "        \n",
    "        #finding number of neighbours and bumping the values based on adjacency for a 9 neighbourhood\n",
    "        \n",
    "        #print(neighbourhood_details)\n",
    "        one = neighs_availibility[1] + neighs_availibility[2] \n",
    "        two = neighs_availibility[0] + neighs_availibility[2] \n",
    "        three = neighs_availibility[1] + neighs_availibility[4] \n",
    "        four = neighs_availibility[0] + neighs_availibility[6] \n",
    "        five = neighs_availibility[2] + neighs_availibility[7] \n",
    "        six = neighs_availibility[3] + neighs_availibility[6] \n",
    "        seven = neighs_availibility[5] + neighs_availibility[7] \n",
    "        eight = neighs_availibility[6] + neighs_availibility[4] \n",
    "        neighbourhood_details = [one,two,three,four,five,six,seven,eight]\n",
    "        \n",
    "        #print(neighbourhood_details)\n",
    "        for detail in range(len(neighs_availibility)-1):\n",
    "            neighbourhood_condition = neighbourhood_details[detail] \n",
    "            #print(neighbourhood_condition)\n",
    "            if neighbourhood_condition == 3:\n",
    "                all_neighs_value_mod[detail]= all_neighs_value_mod[detail] + one_neighbour_factor\n",
    "            elif neighbourhood_condition == 4:\n",
    "                all_neighs_value_mod[detail]= all_neighs_value_mod[detail] + two_neighbour_factor\n",
    "            else:\n",
    "                all_neighs_value_mod[detail] = all_neighs_value_mod[detail]\n",
    "        #print(all_neighs_value_mod)   \n",
    "        \n",
    "\n",
    "        neighs_value_flattened = env.value.flatten()\n",
    "        for val_mod in all_neighs_value_mod:\n",
    "            for neigh in neighs :\n",
    "                neighs_value_flattened[neigh]=val_mod\n",
    "        \n",
    "        \n",
    "        # separate available neighbours\n",
    "        free_neighs = neighs[neighs_availibility==1]\n",
    "        free_neighs_full_floor = neighs_full_floor[neighs_availibility_full_floor==1]\n",
    "        #print(free_neighs)\n",
    "        if len(free_neighs)== 0 :\n",
    "            free_neighs = free_neighs_full_floor\n",
    "        else: \n",
    "            free_neighs= free_neighs\n",
    "        # retrieve the value of each neighbour\n",
    "        free_neighs_value = neighs_value_flattened[free_neighs]\n",
    "        \n",
    "        #print(free_neighs_value)\n",
    "        # find the neighbour with maximum my value\n",
    "        selected_neigh = free_neighs[np.argmax(free_neighs_value)]\n",
    "        #print(selected_neigh)\n",
    "        # update information\n",
    "        ####################\n",
    "        # set the current origin as the ol origin\n",
    "        self.old_origin = self.origin\n",
    "        # update the current origin with the new selected neighbour\n",
    "        self.origin = np.array(np.unravel_index(selected_neigh, env.availibility.shape)).flatten()\n",
    "        #print(self.origin)\n",
    "    \n",
    "    \n",
    "         # definition of 2d occupying method for agents\n",
    "    def one_neighbour_occupy_squareness_von_neumann(self, env):\n",
    "        \n",
    "         # retrieve the list of neighbours of the agent based on the stencil\n",
    "        neighs = env.availibility.find_neighbours_masked(self.stencil, loc = self.origin)\n",
    "        neighs_full_floor = env.availibility.find_neighbours_masked(stencil_full_lattice, loc = self.origin)\n",
    "        # find availability of neighbours\n",
    "        neighs_availibility = env.availibility.flatten()[neighs]\n",
    "        neighs_availibility_full_floor = env.availibility.flatten()[neighs_full_floor]\n",
    "        # separate available neighbours\n",
    "        free_neighs = neighs[neighs_availibility==1]\n",
    "        free_neighs_full_floor = neighs_full_floor[neighs_availibility_full_floor==1]\n",
    "        #print(free_neighs)\n",
    "        if len(free_neighs)== 0 :\n",
    "            free_neighs = free_neighs_full_floor\n",
    "        else: \n",
    "            free_neighs= free_neighs\n",
    "        # retrieve the value of each neighbour\n",
    "        free_neighs_value = env.value.flatten()[free_neighs]\n",
    "        # find the neighbour with maximum my value\n",
    "       # selected_neigh = free_neighs[np.argmax(free_neighs_value)]\n",
    "        selected_neigh = np.random.choice(free_neighs,1)\n",
    "        #print(selected_neigh)\n",
    "        # update information\n",
    "        ####################\n",
    "        # set the current origin as the ol origin\n",
    "        self.old_origin = self.origin\n",
    "        # update the current origin with the new selected neighbour\n",
    "        self.origin = np.array(np.unravel_index(selected_neigh, env.availibility.shape)).flatten()\n",
    "        #print(self.origin)\n",
    "    def one_neighbour_occupy_squareness_behaviour (self,env):        \n",
    "        value_lattice_flat = env.value.flatten()\n",
    "        sqr_factor = 10.1\n",
    "        sqr_shift = 10.0\n",
    "        init_loc = self.origin\n",
    "        neighs_full_lattice = env.availibility.find_neighbours_masked(stencil_full_lattice, loc = self.origin)\n",
    "        neighs_availibility_full_lattice = env.availibility.flatten()[neighs_full_lattice]\n",
    "        free_neighs_full_lattice = neighs_full_lattice[neighs_availibility_full_lattice==1]\n",
    "        \n",
    "        agn_locs = [list(init_loc)]\n",
    "        all_neighs =[] \n",
    "        avail_lattice_flat = env.availibility.flatten()\n",
    "        neighs = env.availibility.find_neighbours_masked(self.stencil, loc = self.origin)\n",
    "        all_neighs.append(neighs)\n",
    "        env.neigh_squareness.append(neighs)\n",
    "\n",
    "        neighs_flatten = np.array(env.neigh_squareness).flatten()\n",
    "        #print(neighs_flatten)\n",
    "        neighs_availability = avail_lattice_flat[neighs_flatten]\n",
    "  \n",
    "        # keep the available ones only\n",
    "        avail_neighs = neighs_flatten[neighs_availability==1] \n",
    "        \n",
    "        if len(avail_neighs)== 0 :\n",
    "            avail_neighs = free_neighs_full_lattice\n",
    "        else: \n",
    "            avail_neighs= avail_neighs\n",
    "        #print(avail_neighs)\n",
    "        avail_unq_neighs, avail_unq_neighs_count = np.unique(avail_neighs, return_counts=True)\n",
    "        #print(avail_unq_neighs)\n",
    "        #print(avail_unq_neighs_count)\n",
    "        neighs_unq_base_value = value_lattice_flat[avail_unq_neighs]\n",
    "        neigh_sqr_evaluation = np.power(sqr_factor, (avail_unq_neighs_count - 1)) * neighs_unq_base_value + sqr_shift\n",
    "        #neigh_sqr_evaluation = neighs_unq_base_value + sqr_shift * (avail_unq_neighs_count - 1)\n",
    "\n",
    "\n",
    "        selected_neigh_index = np.argmax(neigh_sqr_evaluation)\n",
    "        selected_neigh_1D_id = avail_unq_neighs[selected_neigh_index]\n",
    "        #selected_neigh_3D_id = np.unravel_index(selected_neigh_1D_id,bounds.shape )\n",
    "\n",
    "        # update information\n",
    "        ####################\n",
    "        self.old_origin = self.origin\n",
    "        # update the current origin with the new selected neighbour\n",
    "        self.origin = np.array(np.unravel_index(selected_neigh_1D_id, env.availibility.shape)).flatten()\n",
    "   \n",
    "        \n",
    "        \n",
    "    def one_neighbour_occupy_cubish_behaviour (self,env):        \n",
    "        value_lattice_flat = env.value.flatten()\n",
    "        sqr_factor = 10.1\n",
    "        sqr_shift = 10.0\n",
    "        init_loc = self.origin\n",
    "        neighs_availibility_full_lattice = env.availibility.flatten()\n",
    "        free_neighs_full_lattice = neighs_availibility_full_lattice[neighs_availibility_full_lattice==1]\n",
    "        \n",
    "        agn_locs = [list(init_loc)]\n",
    "        all_neighs =[] \n",
    "        avail_lattice_flat = env.availibility.flatten()\n",
    "        neighs = env.availibility.find_neighbours_masked(self.stencil, loc = self.origin)\n",
    "        all_neighs.append(neighs)\n",
    "        env.neigh_cubish.append(neighs)\n",
    "\n",
    "        neighs_flatten = np.array(env.neigh_cubish).flatten()\n",
    "        #print(neighs_flatten)\n",
    "        neighs_availability = avail_lattice_flat[neighs_flatten]\n",
    "  \n",
    "        # keep the available ones only\n",
    "        avail_neighs = neighs_flatten[neighs_availability==1] \n",
    "        \n",
    "        if len(avail_neighs)== 0 :\n",
    "            avail_neighs = free_neighs_full_lattice\n",
    "        else: \n",
    "            avail_neighs= avail_neighs\n",
    "                \n",
    "        #print(avail_neighs)\n",
    "        avail_unq_neighs, avail_unq_neighs_count = np.unique(avail_neighs, return_counts=True)\n",
    "        #print(avail_unq_neighs)\n",
    "        #print(avail_unq_neighs_count)\n",
    "        neighs_unq_base_value = value_lattice_flat[avail_unq_neighs]\n",
    "        \n",
    "        #neigh_sqr_evaluation = np.power(sqr_factor, (avail_unq_neighs_count - 1)) * neighs_unq_base_value + sqr_shift\n",
    "        neigh_sqr_evaluation = neighs_unq_base_value + sqr_shift * (avail_unq_neighs_count - 1)\n",
    "\n",
    "       # print(neighs_unq_base_value) \n",
    "        selected_neigh_index = np.argmax(neigh_sqr_evaluation)\n",
    "        selected_neigh_1D_id = avail_unq_neighs[selected_neigh_index]\n",
    "        #selected_neigh_3D_id = np.unravel_index(selected_neigh_1D_id,bounds.shape )       \n",
    "            \n",
    "        # update information\n",
    "        ####################\n",
    "        self.old_origin = self.origin\n",
    "        # update the current origin with the new selected neighbour\n",
    "        self.origin = np.array(np.unravel_index(selected_neigh_1D_id, env.availibility.shape)).flatten()\n",
    "        #print(self.origin)\n",
    "        \n",
    "        "
   ]
  },
  {
   "cell_type": "markdown",
   "metadata": {},
   "source": [
    "## Initilize Agents"
   ]
  },
  {
   "cell_type": "code",
   "execution_count": 20,
   "metadata": {},
   "outputs": [],
   "source": [
    "# Agent init class\n",
    "\n",
    "def initialize_agents_random_origin (stencil,avail_lattice):\n",
    "    #finding origin \n",
    "    agn_num = 1\n",
    "    occ_lattice = avail_lattice*0 -1\n",
    "    avail_flat = avail_lattice.flatten()\n",
    "    avail_index = np.array(np.where(avail_lattice == 1)).T\n",
    "    select_id = np.random.choice(len(avail_index), agn_num)\n",
    "    agn_origins = tuple(avail_index[select_id].flatten()) \n",
    "\n",
    "    # Defining agents\n",
    "    myagent = agent(agn_origins, stencil, select_id)\n",
    "\n",
    "    return myagent\n",
    "\n",
    "def initialize_agents_fixed_origin (stencil,avail_lattice,origin):\n",
    "    #finding origin \n",
    "    occ_lattice = avail_lattice*0 -1\n",
    "    avail_flat = avail_lattice.flatten()\n",
    "    avail_index = np.array(np.where(avail_lattice == 1)).T\n",
    "    agn_origins = np.unravel_index(origin,avail_lattice.shape)\n",
    "    select_id = origin\n",
    "    # Defining agents\n",
    "    myagent = agent(agn_origins, stencil, select_id)\n",
    "\n",
    "    return myagent"
   ]
  },
  {
   "cell_type": "markdown",
   "metadata": {},
   "source": [
    "## Enviornment Class"
   ]
  },
  {
   "cell_type": "code",
   "execution_count": 21,
   "metadata": {},
   "outputs": [],
   "source": [
    "# environment class\n",
    "class environment():\n",
    "    def __init__(self, lattices, agents,number_of_iterations,method_name):\n",
    "        self.availibility = lattices[\"availibility\"]\n",
    "        self.value = lattices[\"enviornment\"]\n",
    "        self.agent_origin = self.availibility \n",
    "        self.agents = agents\n",
    "        self.update_agents()\n",
    "        self.number_of_iterations = number_of_iterations\n",
    "        self.method_name = method_name\n",
    "        self.neigh_cubish = []\n",
    "        self.neigh_squareness = []\n",
    "    def update_agents(self):\n",
    "        # making previous position available\n",
    "      #  self.availibility[tuple(self.agents.old_origin)] = self.availibility[tuple(self.agents.old_origin)] * 0 + 1\n",
    "        # removing agent from previous position\n",
    "        self.agent_origin[tuple(self.agents.old_origin)] *= 0+1\n",
    "        # making the current position unavailable\n",
    "        self.availibility[tuple(self.agents.origin)] = self.agents.id\n",
    "        # adding agent to the new position \n",
    "        self.agent_origin[tuple(self.agents.origin)] = self.agents.id\n",
    "    \n",
    "    def random_occupy_squareness_agents(self):\n",
    "        # iterate over egents and perform the walk\n",
    "        self.agents.random_occupy_squareness(self)\n",
    "        # update the agent states in environment\n",
    "        self.update_agents()\n",
    "        \n",
    "    def random_occupy_cubish_agents(self):\n",
    "        # iterate over egents and perform the walk\n",
    "        self.agents.random_occupy_cubish(self)\n",
    "        # update the agent states in environment\n",
    "        self.update_agents()\n",
    "    \n",
    "    def random_occupy_cubish_von_neumann_agents(self):\n",
    "        # iterate over egents and perform the walk\n",
    "        self.agents.random_occupy_cubish_von_neumann(self)\n",
    "        # update the agent states in environment\n",
    "        self.update_agents()\n",
    "    \n",
    "    def argmax_occupy_von_neumann(self):\n",
    "        # iterate over egents and perform the walk\n",
    "        self.agents.argmax_occupy_von_neumann(self)\n",
    "        # update the agent states in environment\n",
    "        self.update_agents()\n",
    "        \n",
    "    def one_neighbour_occupy_squareness_moore(self):\n",
    "        # iterate over egents and perform the walk\n",
    "        self.agents.one_neighbour_occupy_squareness_moore(self)\n",
    "        # update the agent states in environment\n",
    "        self.update_agents()\n",
    "        \n",
    "    def one_neighbour_occupy_squareness_von_neumann(self):\n",
    "        # iterate over egents and perform the walk\n",
    "        self.agents.one_neighbour_occupy_squareness_von_neumann(self)\n",
    "        # update the agent states in environment\n",
    "        self.update_agents()\n",
    "      \n",
    "    def one_neighbour_occupy_cubish_behaviour(self):\n",
    "        # iterate over egents and perform the walk\n",
    "        self.agents.one_neighbour_occupy_cubish_behaviour(self)\n",
    "        # update the agent states in environment\n",
    "        self.update_agents()\n",
    "        \n",
    "    def one_neighbour_occupy_squareness_behaviour(self):\n",
    "        # iterate over egents and perform the walk\n",
    "        self.agents.one_neighbour_occupy_squareness_behaviour(self)\n",
    "        # update the agent states in environment\n",
    "        self.update_agents()\n",
    "        "
   ]
  },
  {
   "cell_type": "markdown",
   "metadata": {},
   "source": [
    "# Blue function max simulation"
   ]
  },
  {
   "cell_type": "code",
   "execution_count": 22,
   "metadata": {},
   "outputs": [],
   "source": [
    "env_availability_viz_blue= []\n",
    "env_availability_score_blue= []\n",
    "for item in All_coordinates:\n",
    "    Agent_one=initialize_agents_fixed_origin (stencil_von_neumann,avail_lattice,item)\n",
    "    \n",
    "    # name the lattices myagent_attractor_one\n",
    "    occ_lattice_sim = tg.to_lattice(np.copy(avail_lattice*1), avail_lattice)\n",
    "    env_B = {\"availibility\": occ_lattice_sim,\"enviornment\": Bv}\n",
    "\n",
    "\n",
    "    # initiate the environment\n",
    "    # Replace the envs in the enviornment initilization to check the values for all the agents on all the locations\n",
    "    env_1 = environment(env_B, Agent_one,B1,\"one_neighbour_occupy_cubish_behaviour\")\n",
    "   \n",
    "    env_list =[env_1]\n",
    "    number_steps = max(map(lambda e:e.number_of_iterations,env_list))\n",
    "    \n",
    "    for a in range(number_steps):\n",
    "        # print(env.availibility)\n",
    "        #print(env.agent_origin)\n",
    "        for e in env_list:\n",
    "            if a < e.number_of_iterations :\n",
    "                #print(a)\n",
    "                #print(e.number_of_iterations)\n",
    "                if e.method_name == \"one_neighbour_occupy_squareness_moore\":\n",
    "                    e.one_neighbour_occupy_squareness_moore()\n",
    "\n",
    "                elif e.method_name == \"one_neighbour_occupy_cubish_agents\" :\n",
    "                    e.one_neighbour_occupy_cubish_agents()\n",
    "\n",
    "                elif e.method_name == \"random_occupy_squareness_agents\" :\n",
    "                    e.random_occupy_squareness_agents()\n",
    "\n",
    "                elif e.method_name == \"random_occupy_cubish_agents\" :\n",
    "                    e.random_occupy_cubish_agents()  \n",
    "\n",
    "                elif e.method_name == \"random_occupy_cubish_von_neumann_agents\" :\n",
    "                    e.random_occupy_cubish_von_neumann_agents()                           \n",
    "\n",
    "                elif e.method_name == \"one_neighbour_occupy_squareness_von_neumann\" :\n",
    "                    e.one_neighbour_occupy_squareness_von_neumann()                \n",
    "\n",
    "\n",
    "                elif e.method_name == \"one_neighbour_occupy_squareness_behaviour\" :\n",
    "                    e.one_neighbour_occupy_squareness_behaviour()  \n",
    "\n",
    "                elif e.method_name == \"one_neighbour_occupy_cubish_behaviour\" :\n",
    "                    e.one_neighbour_occupy_cubish_behaviour()  \n",
    "\n",
    "                elif e.method_name == \"argmax_occupy_von_neumann\" :\n",
    "                    e.argmax_occupy_von_neumann()  \n",
    "                    \n",
    "    env_availability_viz_blue.append(e.availibility-1)\n",
    "    env_availability_score_blue.append(np.sum(e.value[e.availibility == item]))  "
   ]
  },
  {
   "cell_type": "code",
   "execution_count": 23,
   "metadata": {},
   "outputs": [
    {
     "data": {
      "text/plain": [
       "[574, 497, 657, 503, 580, 651]"
      ]
     },
     "execution_count": 23,
     "metadata": {},
     "output_type": "execute_result"
    }
   ],
   "source": [
    "top_five_blue = sorted( [(x,i) for (i,x) in enumerate(env_availability_score_blue)], reverse=True )[:15] \n",
    "top_five_blue_origins = []\n",
    "for item in top_five_blue:\n",
    "    top_five_blue_origins.append(All_coordinates[item[1]])\n",
    "top_five_blue_origins"
   ]
  },
  {
   "cell_type": "markdown",
   "metadata": {},
   "source": [
    "# Green function max simulation"
   ]
  },
  {
   "cell_type": "code",
   "execution_count": 24,
   "metadata": {},
   "outputs": [],
   "source": [
    "env_availability_viz_green= []\n",
    "env_availability_score_green= []\n",
    "for item in All_coordinates:\n",
    "    Agent_one=initialize_agents_fixed_origin (stencil_von_neumann,avail_lattice,item)\n",
    "    \n",
    "    # name the lattices myagent_attractor_one\n",
    "    occ_lattice_sim = tg.to_lattice(np.copy(avail_lattice*1), avail_lattice)\n",
    "    env_G = {\"availibility\": occ_lattice_sim,\"enviornment\": Gv}\n",
    "\n",
    "\n",
    "    # initiate the environment\n",
    "    # Replace the envs in the enviornment initilization to check the values for all the agents on all the locations\n",
    "    env_1 = environment(env_G, Agent_one,G1,\"one_neighbour_occupy_cubish_behaviour\")\n",
    "   \n",
    "    env_list =[env_1]\n",
    "    number_steps = max(map(lambda e:e.number_of_iterations,env_list))\n",
    "    \n",
    "    for a in range(number_steps):\n",
    "        # print(env.availibility)\n",
    "        #print(env.agent_origin)\n",
    "        for e in env_list:\n",
    "            if a < e.number_of_iterations :\n",
    "                #print(a)\n",
    "                #print(e.number_of_iterations)\n",
    "                if e.method_name == \"one_neighbour_occupy_squareness_moore\":\n",
    "                    e.one_neighbour_occupy_squareness_moore()\n",
    "\n",
    "                elif e.method_name == \"one_neighbour_occupy_cubish_agents\" :\n",
    "                    e.one_neighbour_occupy_cubish_agents()\n",
    "\n",
    "                elif e.method_name == \"random_occupy_squareness_agents\" :\n",
    "                    e.random_occupy_squareness_agents()\n",
    "\n",
    "                elif e.method_name == \"random_occupy_cubish_agents\" :\n",
    "                    e.random_occupy_cubish_agents()  \n",
    "\n",
    "                elif e.method_name == \"random_occupy_cubish_von_neumann_agents\" :\n",
    "                    e.random_occupy_cubish_von_neumann_agents()                           \n",
    "\n",
    "                elif e.method_name == \"one_neighbour_occupy_squareness_von_neumann\" :\n",
    "                    e.one_neighbour_occupy_squareness_von_neumann()                \n",
    "\n",
    "\n",
    "                elif e.method_name == \"one_neighbour_occupy_squareness_behaviour\" :\n",
    "                    e.one_neighbour_occupy_squareness_behaviour()  \n",
    "\n",
    "                elif e.method_name == \"one_neighbour_occupy_cubish_behaviour\" :\n",
    "                    e.one_neighbour_occupy_cubish_behaviour()  \n",
    "\n",
    "                elif e.method_name == \"argmax_occupy_von_neumann\" :\n",
    "                    e.argmax_occupy_von_neumann()  \n",
    "                    \n",
    "    env_availability_viz_blue.append(e.availibility-1)\n",
    "    env_availability_score_green.append(np.sum(e.value[e.availibility == item]))  "
   ]
  },
  {
   "cell_type": "code",
   "execution_count": 25,
   "metadata": {},
   "outputs": [
    {
     "data": {
      "text/plain": [
       "[574, 580, 497, 651, 503, 657]"
      ]
     },
     "execution_count": 25,
     "metadata": {},
     "output_type": "execute_result"
    }
   ],
   "source": [
    "top_five_green = sorted( [(x,i) for (i,x) in enumerate(env_availability_score_green)], reverse=True )[:15] \n",
    "top_five_green_origins = []\n",
    "for item in top_five_green:\n",
    "    top_five_green_origins.append(All_coordinates[item[1]])\n",
    "top_five_green_origins    "
   ]
  },
  {
   "cell_type": "markdown",
   "metadata": {},
   "source": [
    "# Yellow function max simulation"
   ]
  },
  {
   "cell_type": "code",
   "execution_count": 26,
   "metadata": {},
   "outputs": [],
   "source": [
    "env_availability_viz_yellow= []\n",
    "env_availability_score_yellow= []\n",
    "for item in All_coordinates:\n",
    "    Agent_one=initialize_agents_fixed_origin (stencil_von_neumann,avail_lattice,item)\n",
    "    \n",
    "    # name the lattices myagent_attractor_one\n",
    "    occ_lattice_sim = tg.to_lattice(np.copy(avail_lattice*1), avail_lattice)\n",
    "    env_Y = {\"availibility\": occ_lattice_sim,\"enviornment\": Yv}\n",
    "\n",
    "\n",
    "    # initiate the environment\n",
    "    # Replace the envs in the enviornment initilization to check the values for all the agents on all the locations\n",
    "    env_1 = environment(env_Y, Agent_one,Y1,\"one_neighbour_occupy_cubish_behaviour\")\n",
    "   \n",
    "    env_list =[env_1]\n",
    "    number_steps = max(map(lambda e:e.number_of_iterations,env_list))\n",
    "    \n",
    "    for a in range(number_steps):\n",
    "        # print(env.availibility)\n",
    "        #print(env.agent_origin)\n",
    "        for e in env_list:\n",
    "            if a < e.number_of_iterations :\n",
    "                #print(a)\n",
    "                #print(e.number_of_iterations)\n",
    "                if e.method_name == \"one_neighbour_occupy_squareness_moore\":\n",
    "                    e.one_neighbour_occupy_squareness_moore()\n",
    "\n",
    "                elif e.method_name == \"one_neighbour_occupy_cubish_agents\" :\n",
    "                    e.one_neighbour_occupy_cubish_agents()\n",
    "\n",
    "                elif e.method_name == \"random_occupy_squareness_agents\" :\n",
    "                    e.random_occupy_squareness_agents()\n",
    "\n",
    "                elif e.method_name == \"random_occupy_cubish_agents\" :\n",
    "                    e.random_occupy_cubish_agents()  \n",
    "\n",
    "                elif e.method_name == \"random_occupy_cubish_von_neumann_agents\" :\n",
    "                    e.random_occupy_cubish_von_neumann_agents()                           \n",
    "\n",
    "                elif e.method_name == \"one_neighbour_occupy_squareness_von_neumann\" :\n",
    "                    e.one_neighbour_occupy_squareness_von_neumann()                \n",
    "\n",
    "\n",
    "                elif e.method_name == \"one_neighbour_occupy_squareness_behaviour\" :\n",
    "                    e.one_neighbour_occupy_squareness_behaviour()  \n",
    "\n",
    "                elif e.method_name == \"one_neighbour_occupy_cubish_behaviour\" :\n",
    "                    e.one_neighbour_occupy_cubish_behaviour()  \n",
    "\n",
    "                elif e.method_name == \"argmax_occupy_von_neumann\" :\n",
    "                    e.argmax_occupy_von_neumann()  \n",
    "                    \n",
    "    env_availability_viz_yellow.append(e.availibility-1)\n",
    "    env_availability_score_yellow.append(np.sum(e.value[e.availibility == item]))  "
   ]
  },
  {
   "cell_type": "code",
   "execution_count": 27,
   "metadata": {},
   "outputs": [
    {
     "data": {
      "text/plain": [
       "[580, 651, 503, 497, 574, 657]"
      ]
     },
     "execution_count": 27,
     "metadata": {},
     "output_type": "execute_result"
    }
   ],
   "source": [
    "top_five_yellow = sorted( [(x,i) for (i,x) in enumerate(env_availability_score_yellow)], reverse=True )[:15] \n",
    "top_five_yellow_origins = []\n",
    "for item in top_five_yellow:\n",
    "    top_five_yellow_origins.append(All_coordinates[item[1]])\n",
    "top_five_yellow_origins    "
   ]
  },
  {
   "cell_type": "markdown",
   "metadata": {},
   "source": [
    "# Red function max simulation"
   ]
  },
  {
   "cell_type": "code",
   "execution_count": 28,
   "metadata": {},
   "outputs": [],
   "source": [
    "env_availability_viz_red= []\n",
    "env_availability_score_red= []\n",
    "for item in All_coordinates:\n",
    "    Agent_one=initialize_agents_fixed_origin (stencil_von_neumann,avail_lattice,item)\n",
    "    \n",
    "    # name the lattices myagent_attractor_one\n",
    "    occ_lattice_sim = tg.to_lattice(np.copy(avail_lattice*1), avail_lattice)\n",
    "    env_R = {\"availibility\": occ_lattice_sim,\"enviornment\": Rv}\n",
    "\n",
    "\n",
    "    # initiate the environment\n",
    "    # Replace the envs in the enviornment initilization to check the values for all the agents on all the locations\n",
    "    env_1 = environment(env_R, Agent_one,R1,\"one_neighbour_occupy_cubish_behaviour\")\n",
    "   \n",
    "    env_list =[env_1]\n",
    "    number_steps = max(map(lambda e:e.number_of_iterations,env_list))\n",
    "    \n",
    "    for a in range(number_steps):\n",
    "        # print(env.availibility)\n",
    "        #print(env.agent_origin)\n",
    "        for e in env_list:\n",
    "            if a < e.number_of_iterations :\n",
    "                #print(a)\n",
    "                #print(e.number_of_iterations)\n",
    "                if e.method_name == \"one_neighbour_occupy_squareness_moore\":\n",
    "                    e.one_neighbour_occupy_squareness_moore()\n",
    "\n",
    "                elif e.method_name == \"one_neighbour_occupy_cubish_agents\" :\n",
    "                    e.one_neighbour_occupy_cubish_agents()\n",
    "\n",
    "                elif e.method_name == \"random_occupy_squareness_agents\" :\n",
    "                    e.random_occupy_squareness_agents()\n",
    "\n",
    "                elif e.method_name == \"random_occupy_cubish_agents\" :\n",
    "                    e.random_occupy_cubish_agents()  \n",
    "\n",
    "                elif e.method_name == \"random_occupy_cubish_von_neumann_agents\" :\n",
    "                    e.random_occupy_cubish_von_neumann_agents()                           \n",
    "\n",
    "                elif e.method_name == \"one_neighbour_occupy_squareness_von_neumann\" :\n",
    "                    e.one_neighbour_occupy_squareness_von_neumann()                \n",
    "\n",
    "\n",
    "                elif e.method_name == \"one_neighbour_occupy_squareness_behaviour\" :\n",
    "                    e.one_neighbour_occupy_squareness_behaviour()  \n",
    "\n",
    "                elif e.method_name == \"one_neighbour_occupy_cubish_behaviour\" :\n",
    "                    e.one_neighbour_occupy_cubish_behaviour()  \n",
    "\n",
    "                elif e.method_name == \"argmax_occupy_von_neumann\" :\n",
    "                    e.argmax_occupy_von_neumann()  \n",
    "                    \n",
    "    env_availability_viz_red.append(e.availibility-1)\n",
    "    env_availability_score_red.append(np.sum(e.value[e.availibility == item]))  "
   ]
  },
  {
   "cell_type": "code",
   "execution_count": 29,
   "metadata": {},
   "outputs": [
    {
     "data": {
      "text/plain": [
       "[651, 657, 497, 503, 580, 574]"
      ]
     },
     "execution_count": 29,
     "metadata": {},
     "output_type": "execute_result"
    }
   ],
   "source": [
    "top_five_red = sorted( [(x,i) for (i,x) in enumerate(env_availability_score_red)], reverse=True )[:15] \n",
    "top_five_red_origins = []\n",
    "for item in top_five_red:\n",
    "    top_five_red_origins.append(All_coordinates[item[1]])\n",
    "top_five_red_origins  "
   ]
  },
  {
   "cell_type": "markdown",
   "metadata": {},
   "source": [
    "# Violet function max simulation"
   ]
  },
  {
   "cell_type": "code",
   "execution_count": 30,
   "metadata": {},
   "outputs": [],
   "source": [
    "env_availability_viz_violet= []\n",
    "env_availability_score_violet= []\n",
    "for item in All_coordinates:\n",
    "    Agent_one=initialize_agents_fixed_origin (stencil_von_neumann,avail_lattice,item)\n",
    "    \n",
    "    # name the lattices myagent_attractor_one\n",
    "    occ_lattice_sim = tg.to_lattice(np.copy(avail_lattice*1), avail_lattice)\n",
    "    env_V = {\"availibility\": occ_lattice_sim,\"enviornment\": Vv}\n",
    "\n",
    "\n",
    "    # initiate the environment\n",
    "    # Replace the envs in the enviornment initilization to check the values for all the agents on all the locations\n",
    "    env_1 = environment(env_V, Agent_one,V1,\"one_neighbour_occupy_cubish_behaviour\")\n",
    "   \n",
    "    env_list =[env_1]\n",
    "    number_steps = max(map(lambda e:e.number_of_iterations,env_list))\n",
    "    \n",
    "    for a in range(number_steps):\n",
    "        # print(env.availibility)\n",
    "        #print(env.agent_origin)\n",
    "        for e in env_list:\n",
    "            if a < e.number_of_iterations :\n",
    "                #print(a)\n",
    "                #print(e.number_of_iterations)\n",
    "                if e.method_name == \"one_neighbour_occupy_squareness_moore\":\n",
    "                    e.one_neighbour_occupy_squareness_moore()\n",
    "\n",
    "                elif e.method_name == \"one_neighbour_occupy_cubish_agents\" :\n",
    "                    e.one_neighbour_occupy_cubish_agents()\n",
    "\n",
    "                elif e.method_name == \"random_occupy_squareness_agents\" :\n",
    "                    e.random_occupy_squareness_agents()\n",
    "\n",
    "                elif e.method_name == \"random_occupy_cubish_agents\" :\n",
    "                    e.random_occupy_cubish_agents()  \n",
    "\n",
    "                elif e.method_name == \"random_occupy_cubish_von_neumann_agents\" :\n",
    "                    e.random_occupy_cubish_von_neumann_agents()                           \n",
    "\n",
    "                elif e.method_name == \"one_neighbour_occupy_squareness_von_neumann\" :\n",
    "                    e.one_neighbour_occupy_squareness_von_neumann()                \n",
    "\n",
    "\n",
    "                elif e.method_name == \"one_neighbour_occupy_squareness_behaviour\" :\n",
    "                    e.one_neighbour_occupy_squareness_behaviour()  \n",
    "\n",
    "                elif e.method_name == \"one_neighbour_occupy_cubish_behaviour\" :\n",
    "                    e.one_neighbour_occupy_cubish_behaviour()  \n",
    "\n",
    "                elif e.method_name == \"argmax_occupy_von_neumann\" :\n",
    "                    e.argmax_occupy_von_neumann()  \n",
    "                    \n",
    "    env_availability_viz_violet.append(e.availibility-1)\n",
    "    env_availability_score_violet.append(np.sum(e.value[e.availibility == item]))  "
   ]
  },
  {
   "cell_type": "code",
   "execution_count": 31,
   "metadata": {},
   "outputs": [
    {
     "data": {
      "text/plain": [
       "[(17233, 0), (17175, 1), (16883, 3), (16869, 2), (16820, 5), (16711, 4)]"
      ]
     },
     "execution_count": 31,
     "metadata": {},
     "output_type": "execute_result"
    }
   ],
   "source": [
    "top_five_violet = sorted( [(x,i) for (i,x) in enumerate(env_availability_score_violet)], reverse=True )[:15] \n",
    "top_five_violet_origins = []\n",
    "for item in top_five_violet:\n",
    "    top_five_violet_origins.append(All_coordinates[item[1]])\n",
    "top_five_violet"
   ]
  },
  {
   "cell_type": "markdown",
   "metadata": {},
   "source": [
    "# All_simulations"
   ]
  },
  {
   "cell_type": "code",
   "execution_count": 32,
   "metadata": {},
   "outputs": [],
   "source": [
    "env_availability_viz_all_options = []\n",
    "\n",
    "for item in all_permutations:\n",
    "    Agent_one=initialize_agents_fixed_origin (stencil_von_neumann,avail_lattice,item[0])\n",
    "    Agent_two=initialize_agents_fixed_origin (stencil_von_neumann,avail_lattice,item[1])\n",
    "    Agent_three=initialize_agents_fixed_origin (stencil_von_neumann,avail_lattice,item[2])\n",
    "    Agent_four=initialize_agents_fixed_origin (stencil_von_neumann,avail_lattice,item[3])\n",
    "    Agent_five=initialize_agents_fixed_origin (stencil_von_neumann,avail_lattice,item[4])\n",
    "    # name the lattices myagent_attractor_one\n",
    "    occ_lattice_sim = tg.to_lattice(np.copy(avail_lattice), avail_lattice)\n",
    "    env_B = {\"availibility\": occ_lattice_sim,\"enviornment\": Bv}\n",
    "    env_G = {\"availibility\": occ_lattice_sim,\"enviornment\": Gv}\n",
    "    env_R = {\"availibility\": occ_lattice_sim,\"enviornment\": Rv}\n",
    "    env_Y = {\"availibility\": occ_lattice_sim,\"enviornment\": Yv}\n",
    "    env_V = {\"availibility\": occ_lattice_sim,\"enviornment\": Vv}\n",
    "\n",
    "\n",
    "    # initiate the environment\n",
    "    # Replace the envs in the enviornment initilization to check the values for all the agents on all the locations\n",
    "    env_1 = environment(env_B, Agent_one,B1,\"one_neighbour_occupy_cubish_behaviour\")\n",
    "    env_2 = environment(env_G, Agent_two,G1,\"one_neighbour_occupy_cubish_behaviour\")\n",
    "    env_3 = environment(env_Y, Agent_three,Y1,\"one_neighbour_occupy_cubish_behaviour\")\n",
    "    env_4 = environment(env_R, Agent_four,R1,\"one_neighbour_occupy_cubish_behaviour\")\n",
    "    env_5 = environment(env_V, Agent_five,V1,\"one_neighbour_occupy_cubish_behaviour\")\n",
    "    \n",
    "    \n",
    "    env_list =[env_2,env_3,env_4,env_5]\n",
    "    number_steps = max(map(lambda e:e.number_of_iterations,env_list))\n",
    "    \n",
    "    for a in range(number_steps):\n",
    "        # print(env.availibility)\n",
    "        #print(env.agent_origin)\n",
    "        for e in env_list:\n",
    "            if a < e.number_of_iterations :\n",
    "                #print(a)\n",
    "                #print(e.number_of_iterations)\n",
    "                if e.method_name == \"one_neighbour_occupy_squareness_moore\":\n",
    "                    e.one_neighbour_occupy_squareness_moore()\n",
    "\n",
    "                elif e.method_name == \"one_neighbour_occupy_cubish_agents\" :\n",
    "                    e.one_neighbour_occupy_cubish_agents()\n",
    "\n",
    "                elif e.method_name == \"random_occupy_squareness_agents\" :\n",
    "                    e.random_occupy_squareness_agents()\n",
    "\n",
    "                elif e.method_name == \"random_occupy_cubish_agents\" :\n",
    "                    e.random_occupy_cubish_agents()  \n",
    "\n",
    "                elif e.method_name == \"random_occupy_cubish_von_neumann_agents\" :\n",
    "                    e.random_occupy_cubish_von_neumann_agents()                           \n",
    "\n",
    "                elif e.method_name == \"one_neighbour_occupy_squareness_von_neumann\" :\n",
    "                    e.one_neighbour_occupy_squareness_von_neumann()                \n",
    "\n",
    "\n",
    "                elif e.method_name == \"one_neighbour_occupy_squareness_behaviour\" :\n",
    "                    e.one_neighbour_occupy_squareness_behaviour()  \n",
    "\n",
    "                elif e.method_name == \"one_neighbour_occupy_cubish_behaviour\" :\n",
    "                    e.one_neighbour_occupy_cubish_behaviour()  \n",
    "\n",
    "                elif e.method_name == \"argmax_occupy_von_neumann\" :\n",
    "                    e.argmax_occupy_von_neumann()  \n",
    "                    \n",
    "    env_availability_viz_all_options.append(e.availibility)    \n"
   ]
  },
  {
   "cell_type": "markdown",
   "metadata": {},
   "source": [
    "## Pickle Objects for reference \n",
    "change the name for each simulation / put it in a for loop "
   ]
  },
  {
   "cell_type": "code",
   "execution_count": 33,
   "metadata": {},
   "outputs": [
    {
     "data": {
      "text/plain": [
       "(720, 6, 21, 11)"
      ]
     },
     "execution_count": 33,
     "metadata": {},
     "output_type": "execute_result"
    }
   ],
   "source": [
    "all_options = pickle.dump( env_availability_viz_all_options, open( \"all_options.p\", \"wb\" ) )\n",
    "pickle_all_options = pickle.load( open( \"all_options.p\", \"rb\" ) ) \n",
    "pickle_all_options_array = np.array(pickle_all_options)\n",
    "pickle_all_options_tglattice=tg.to_lattice(np.copy(pickle_all_options_array), pickle_all_options_array.shape)\n",
    "pickle_all_options_tglattice.shape"
   ]
  },
  {
   "cell_type": "markdown",
   "metadata": {},
   "source": [
    "## Vizualise the simulation"
   ]
  },
  {
   "cell_type": "code",
   "execution_count": 34,
   "metadata": {},
   "outputs": [
    {
     "data": {
      "application/vnd.jupyter.widget-view+json": {
       "model_id": "da297413a7e240b7a52cf27b0ea46182",
       "version_major": 2,
       "version_minor": 0
      },
      "text/plain": [
       "ViewInteractiveWidget(height=768, layout=Layout(height='auto', width='100%'), width=1024)"
      ]
     },
     "metadata": {},
     "output_type": "display_data"
    },
    {
     "data": {
      "text/plain": [
       "[(749.7749358870385, 43.27493588703855, 53.27493588703855),\n",
       " (722.5, 16.0, 26.0),\n",
       " (0.0, 0.0, 1.0)]"
      ]
     },
     "execution_count": 34,
     "metadata": {},
     "output_type": "execute_result"
    }
   ],
   "source": [
    "p = pv.Plotter(notebook=True)\n",
    "\n",
    "base_lattice = pickle_all_options_tglattice[0]\n",
    "\n",
    "# Set the grid dimensions: shape + 1 because we want to inject our values on the CELL data\n",
    "grid = pv.UniformGrid()\n",
    "grid.dimensions = np.array(base_lattice.shape) + 1\n",
    "# The bottom left corner of the data set\n",
    "grid.origin = base_lattice.minbound - base_lattice.unit * 0.5\n",
    "# These are the cell sizes along each axis\n",
    "grid.spacing = base_lattice.unit \n",
    "\n",
    "# adding the boundingbox wireframe\n",
    "p.add_mesh(grid.outline(), color=\"grey\", label=\"Domain\")\n",
    "\n",
    "# adding the avilability lattice\n",
    "#base_env_availability_viz_top_500[0].fast_vis(p)\n",
    "\n",
    "# adding axes\n",
    "p.add_axes()\n",
    "p.show_bounds(grid=\"back\", location=\"back\", color=\"#aaaaaa\") \n",
    "\n",
    "def create_mesh(value):\n",
    "    f = int(value)\n",
    "    lattice = pickle_all_options_tglattice[f]\n",
    "\n",
    "    # Add the data values to the cell data\n",
    "    grid.cell_arrays[\"Agents\"] = lattice.flatten(order=\"F\").astype(int)  # Flatten the array!\n",
    "    # filtering the voxels\n",
    "    threshed = grid.threshold([1.0, avail_lattice.size])\n",
    "    # adding the voxels\n",
    "    p.add_mesh(threshed, name='sphere', show_edges=True, opacity=1.0, show_scalar_bar=False)\n",
    "    return\n",
    "number_steps_2 = len(all_permutations)\n",
    "p.add_slider_widget(create_mesh, [0, number_steps_2], title='Time', value=0, event_type=\"always\", style=\"classic\")\n",
    "\n",
    "\n",
    "p.show(use_ipyvtk=True)"
   ]
  },
  {
   "cell_type": "markdown",
   "metadata": {},
   "source": [
    "# Calculate the score for each simulation"
   ]
  },
  {
   "cell_type": "code",
   "execution_count": 40,
   "metadata": {},
   "outputs": [],
   "source": [
    "all_values=[]\n",
    "for lattice,index in zip (pickle_all_options,all_permutations):\n",
    "    lattice_flat = lattice.flatten()\n",
    "    B= np.sum(Bv.flatten()[lattice_flat == index[0]])\n",
    "    G= np.sum(Gv.flatten()[lattice_flat == index[1]])\n",
    "    Y= np.sum(Yv.flatten()[lattice_flat == index[2]])\n",
    "    R= np.sum(Rv.flatten()[lattice_flat == index[3]])\n",
    "    V= np.sum(Vv.flatten()[lattice_flat == index[4]])\n",
    "    all_values.append(B+G+Y+R+V)\n",
    "sorted_values= np.sort(np.array(all_values))"
   ]
  },
  {
   "cell_type": "code",
   "execution_count": 41,
   "metadata": {},
   "outputs": [
    {
     "data": {
      "text/plain": [
       "array([ 8450,  8452,  9325,  9327,  9382,  9384, 11508, 11537, 11542,\n",
       "       11569, 12180, 12313, 13023, 13109, 13113, 13211, 13409, 13602,\n",
       "       13689, 13692, 13739, 13746, 13817, 13840, 13847, 13850, 13873,\n",
       "       13882, 13927, 13964, 13996, 14008, 14062, 14073, 14096, 14188,\n",
       "       14192, 14224, 14264, 14353, 14467, 14504, 14520, 14550, 14623,\n",
       "       14723, 14738, 14771, 14783, 14888, 14904, 14916, 14925, 14976,\n",
       "       14981, 15037, 15104, 15116, 15127, 15146, 15203, 15218, 15223,\n",
       "       15223, 15234, 15235, 15244, 15276, 15329, 15340, 15342, 15345,\n",
       "       15347, 15352, 15354, 15355, 15362, 15378, 15474, 15481, 15483,\n",
       "       15496, 15500, 15500, 15539, 15546, 15565, 15576, 15577, 15581,\n",
       "       15584, 15595, 15597, 15604, 15608, 15625, 15641, 15678, 15680,\n",
       "       15734, 15753, 15765, 15774, 15781, 15789, 15795, 15797, 15810,\n",
       "       15819, 15821, 15825, 15832, 15839, 15843, 15870, 15894, 15897,\n",
       "       15897, 15899, 15912, 15913, 15913, 15920, 15950, 15955, 15989,\n",
       "       15992, 16021, 16066, 16102, 16104, 16108, 16148, 16158, 16172,\n",
       "       16186, 16188, 16202, 16207, 16211, 16220, 16221, 16222, 16232,\n",
       "       16236, 16240, 16246, 16248, 16250, 16250, 16251, 16252, 16258,\n",
       "       16259, 16264, 16269, 16286, 16287, 16294, 16303, 16308, 16316,\n",
       "       16320, 16340, 16354, 16355, 16359, 16361, 16362, 16363, 16369,\n",
       "       16376, 16378, 16382, 16382, 16394, 16395, 16404, 16408, 16417,\n",
       "       16420, 16424, 16428, 16433, 16437, 16444, 16453, 16459, 16461,\n",
       "       16466, 16469, 16470, 16475, 16479, 16484, 16491, 16492, 16504,\n",
       "       16527, 16528, 16530, 16534, 16536, 16542, 16546, 16553, 16556,\n",
       "       16562, 16570, 16580, 16581, 16585, 16586, 16586, 16591, 16604,\n",
       "       16605, 16609, 16610, 16614, 16614, 16635, 16642, 16643, 16647,\n",
       "       16653, 16661, 16669, 16670, 16674, 16679, 16679, 16679, 16681,\n",
       "       16684, 16685, 16685, 16686, 16689, 16697, 16705, 16707, 16707,\n",
       "       16711, 16715, 16717, 16723, 16733, 16738, 16744, 16754, 16755,\n",
       "       16762, 16763, 16767, 16767, 16775, 16788, 16791, 16797, 16798,\n",
       "       16802, 16802, 16805, 16806, 16809, 16812, 16812, 16814, 16819,\n",
       "       16821, 16825, 16838, 16839, 16840, 16841, 16841, 16854, 16855,\n",
       "       16860, 16862, 16862, 16863, 16865, 16868, 16869, 16869, 16877,\n",
       "       16887, 16901, 16903, 16907, 16925, 16926, 16926, 16928, 16928,\n",
       "       16929, 16931, 16931, 16931, 16938, 16939, 16940, 16945, 16947,\n",
       "       16949, 16949, 16949, 16949, 16954, 16955, 16955, 16957, 16964,\n",
       "       16968, 16970, 16970, 16976, 16976, 16980, 16981, 16982, 16982,\n",
       "       16990, 16995, 16995, 16996, 16997, 16998, 16999, 16999, 16999,\n",
       "       17000, 17000, 17000, 17001, 17002, 17018, 17020, 17022, 17025,\n",
       "       17027, 17029, 17030, 17035, 17035, 17035, 17037, 17039, 17041,\n",
       "       17042, 17044, 17050, 17059, 17060, 17061, 17065, 17066, 17069,\n",
       "       17069, 17069, 17074, 17074, 17077, 17088, 17089, 17090, 17092,\n",
       "       17102, 17103, 17107, 17115, 17116, 17118, 17121, 17127, 17131,\n",
       "       17135, 17140, 17142, 17144, 17146, 17148, 17148, 17149, 17151,\n",
       "       17152, 17153, 17156, 17156, 17157, 17157, 17158, 17165, 17167,\n",
       "       17172, 17173, 17173, 17174, 17175, 17177, 17179, 17179, 17180,\n",
       "       17180, 17183, 17186, 17187, 17188, 17189, 17189, 17190, 17191,\n",
       "       17192, 17192, 17192, 17193, 17194, 17196, 17197, 17197, 17201,\n",
       "       17202, 17207, 17207, 17209, 17210, 17211, 17216, 17221, 17222,\n",
       "       17226, 17229, 17230, 17232, 17233, 17234, 17235, 17235, 17235,\n",
       "       17235, 17235, 17236, 17237, 17241, 17244, 17245, 17245, 17251,\n",
       "       17255, 17256, 17256, 17257, 17257, 17258, 17259, 17259, 17259,\n",
       "       17259, 17260, 17267, 17268, 17269, 17271, 17274, 17283, 17289,\n",
       "       17289, 17289, 17292, 17292, 17293, 17296, 17297, 17299, 17299,\n",
       "       17303, 17307, 17310, 17313, 17314, 17314, 17317, 17318, 17320,\n",
       "       17321, 17327, 17329, 17331, 17332, 17333, 17342, 17344, 17345,\n",
       "       17346, 17347, 17348, 17351, 17353, 17361, 17361, 17361, 17362,\n",
       "       17362, 17363, 17364, 17364, 17365, 17365, 17365, 17367, 17368,\n",
       "       17369, 17374, 17378, 17379, 17381, 17381, 17383, 17384, 17385,\n",
       "       17388, 17391, 17392, 17392, 17394, 17394, 17395, 17396, 17396,\n",
       "       17398, 17403, 17403, 17403, 17407, 17411, 17412, 17415, 17415,\n",
       "       17416, 17418, 17419, 17421, 17422, 17426, 17427, 17427, 17432,\n",
       "       17434, 17434, 17435, 17437, 17440, 17442, 17442, 17443, 17444,\n",
       "       17444, 17446, 17448, 17449, 17450, 17454, 17459, 17460, 17462,\n",
       "       17463, 17464, 17465, 17467, 17468, 17468, 17471, 17472, 17475,\n",
       "       17475, 17481, 17481, 17484, 17488, 17488, 17494, 17497, 17497,\n",
       "       17498, 17504, 17505, 17507, 17511, 17511, 17511, 17511, 17514,\n",
       "       17518, 17520, 17520, 17520, 17529, 17531, 17537, 17544, 17546,\n",
       "       17549, 17550, 17550, 17551, 17551, 17553, 17556, 17558, 17558,\n",
       "       17562, 17575, 17581, 17582, 17585, 17593, 17593, 17594, 17599,\n",
       "       17602, 17608, 17614, 17614, 17616, 17619, 17620, 17626, 17633,\n",
       "       17637, 17639, 17641, 17643, 17643, 17648, 17654, 17656, 17662,\n",
       "       17665, 17666, 17668, 17668, 17668, 17669, 17671, 17671, 17672,\n",
       "       17673, 17675, 17681, 17693, 17696, 17699, 17704, 17706, 17707,\n",
       "       17708, 17709, 17711, 17713, 17716, 17716, 17717, 17719, 17721,\n",
       "       17722, 17724, 17728, 17739, 17739, 17740, 17742, 17744, 17745,\n",
       "       17745, 17753, 17756, 17764, 17776, 17778, 17778, 17784, 17786,\n",
       "       17801, 17801, 17807, 17808, 17811, 17813, 17827, 17836, 17836,\n",
       "       17842, 17850, 17850, 17863, 17885, 17888, 17898, 17900, 17906,\n",
       "       17909, 17915, 17922, 17929, 17933, 17934, 17937, 17941, 17951,\n",
       "       18023, 18024, 18031, 18042, 18063, 18066, 18114, 18145, 18162])"
      ]
     },
     "execution_count": 41,
     "metadata": {},
     "output_type": "execute_result"
    }
   ],
   "source": [
    "sorted_values"
   ]
  },
  {
   "cell_type": "code",
   "execution_count": 42,
   "metadata": {},
   "outputs": [
    {
     "data": {
      "text/plain": [
       "array([[36]], dtype=int64)"
      ]
     },
     "execution_count": 42,
     "metadata": {},
     "output_type": "execute_result"
    }
   ],
   "source": [
    "np.argwhere(sorted_values==14192)"
   ]
  },
  {
   "cell_type": "code",
   "execution_count": 36,
   "metadata": {},
   "outputs": [
    {
     "name": "stdout",
     "output_type": "stream",
     "text": [
      "18162\n",
      "14192\n"
     ]
    },
    {
     "data": {
      "text/plain": [
       "496"
      ]
     },
     "execution_count": 36,
     "metadata": {},
     "output_type": "execute_result"
    }
   ],
   "source": [
    "max_value = max(all_values)\n",
    "max_index = all_values.index(max_value)\n",
    "print(all_values[max_index])\n",
    "print(all_values[664])\n",
    "sorted_val = sorted(all_values)\n",
    "max_index"
   ]
  },
  {
   "cell_type": "markdown",
   "metadata": {},
   "source": [
    "# Save to Csv"
   ]
  },
  {
   "cell_type": "code",
   "execution_count": 37,
   "metadata": {},
   "outputs": [],
   "source": [
    "for i, lattice in enumerate(env_availability_viz_all_options):\n",
    "    csv_path = os.path.relpath('csv/abm_f_'+ f'{i:03}' + '.csv')\n",
    "    lattice.to_csv(csv_path)\n"
   ]
  },
  {
   "cell_type": "markdown",
   "metadata": {},
   "source": [
    "## Linear Optimization to derive a solution"
   ]
  },
  {
   "cell_type": "code",
   "execution_count": 38,
   "metadata": {},
   "outputs": [
    {
     "name": "stdout",
     "output_type": "stream",
     "text": [
      "Total cost =  21154.0 \n",
      "\n",
      "Worker 0 assigned to task 5.  Cost = 1490\n",
      "Worker 1 assigned to task 2.  Cost = 1538\n",
      "Worker 2 assigned to task 3.  Cost = 459\n",
      "Worker 3 assigned to task 4.  Cost = 434\n",
      "Worker 4 assigned to task 0.  Cost = 17233\n",
      "Worker 5 assigned to task 1.  Cost = 0\n"
     ]
    }
   ],
   "source": [
    "from ortools.linear_solver import pywraplp\n",
    "\n",
    "\n",
    "def main():\n",
    "    # Data from all the colours on all the origins\n",
    "    costs = [\n",
    "        env_availability_score_blue,\n",
    "        env_availability_score_green,\n",
    "        env_availability_score_yellow,\n",
    "        env_availability_score_red,\n",
    "        env_availability_score_violet,\n",
    "        [0,0,0,0,0,0]\n",
    "    ]\n",
    "    num_workers = 6\n",
    "\n",
    "    num_tasks = len(costs[0])\n",
    "    #print(num_tasks)\n",
    "    # Solver\n",
    "    # Create the mip solver with the SCIP backend.\n",
    "    solver = pywraplp.Solver.CreateSolver('SCIP')\n",
    "\n",
    "\n",
    "    # Variables\n",
    "    # x[i, j] is an array of 0-1 variables, which will be 1\n",
    "    # if worker i is assigned to task j.\n",
    "    x = {}\n",
    "    for i in range(num_workers):\n",
    "        for j in range(num_tasks):\n",
    "            x[i, j] = solver.IntVar(0, 1, '')\n",
    "\n",
    "    # Constraints\n",
    "    # Each worker is assigned to at most 1 task.\n",
    "    for i in range(num_workers):\n",
    "        solver.Add(solver.Sum([x[i, j] for j in range(num_tasks)]) <= 1)\n",
    "\n",
    "    # Each task is assigned to exactly one worker.\n",
    "    for j in range(num_tasks):\n",
    "        solver.Add(solver.Sum([x[i, j] for i in range(num_workers)]) == 1)\n",
    "\n",
    "    # Objective\n",
    "    objective_terms = []\n",
    "    for i in range(num_workers):\n",
    "        for j in range(num_tasks):\n",
    "            objective_terms.append(costs[i][j] * x[i, j])\n",
    "    solver.Maximize(solver.Sum(objective_terms))\n",
    "\n",
    "    # Solve\n",
    "    status = solver.Solve()\n",
    "\n",
    "    # Print solution.\n",
    "    if status == pywraplp.Solver.OPTIMAL or status == pywraplp.Solver.FEASIBLE:\n",
    "        print('Total cost = ', solver.Objective().Value(), '\\n')\n",
    "        for i in range(num_workers):\n",
    "            for j in range(num_tasks):\n",
    "                # Test if x[i,j] is 1 (with tolerance for floating point arithmetic).\n",
    "                if x[i, j].solution_value() > 0.5:\n",
    "                    print('Worker %d assigned to task %d.  Cost = %d' %\n",
    "                          (i, j, costs[i][j]))\n",
    "\n",
    "\n",
    "if __name__ == '__main__':\n",
    "    main()\n",
    "    \n"
   ]
  },
  {
   "cell_type": "markdown",
   "metadata": {},
   "source": [
    "## Total cost of permutation matrix"
   ]
  },
  {
   "cell_type": "code",
   "execution_count": 39,
   "metadata": {},
   "outputs": [
    {
     "ename": "NameError",
     "evalue": "name 'env_availability_viz' is not defined",
     "output_type": "error",
     "traceback": [
      "\u001b[1;31m---------------------------------------------------------------------------\u001b[0m",
      "\u001b[1;31mNameError\u001b[0m                                 Traceback (most recent call last)",
      "\u001b[1;32m<ipython-input-39-afdbfdc4dccb>\u001b[0m in \u001b[0;36m<module>\u001b[1;34m\u001b[0m\n\u001b[1;32m----> 1\u001b[1;33m \u001b[0mcost_for_location_filter_1\u001b[0m \u001b[1;33m=\u001b[0m \u001b[1;33m[\u001b[0m\u001b[0menv_availability_viz\u001b[0m\u001b[1;33m[\u001b[0m\u001b[1;33m-\u001b[0m\u001b[1;36m1\u001b[0m\u001b[1;33m]\u001b[0m \u001b[1;33m==\u001b[0m \u001b[1;36m193\u001b[0m\u001b[1;33m]\u001b[0m\u001b[1;33m\u001b[0m\u001b[1;33m\u001b[0m\u001b[0m\n\u001b[0m\u001b[0;32m      2\u001b[0m \u001b[0mcost_for_location_filter_2\u001b[0m \u001b[1;33m=\u001b[0m \u001b[1;33m[\u001b[0m\u001b[0menv_availability_viz\u001b[0m\u001b[1;33m[\u001b[0m\u001b[1;33m-\u001b[0m\u001b[1;36m1\u001b[0m\u001b[1;33m]\u001b[0m \u001b[1;33m==\u001b[0m \u001b[1;36m189\u001b[0m\u001b[1;33m]\u001b[0m\u001b[1;33m\u001b[0m\u001b[1;33m\u001b[0m\u001b[0m\n\u001b[0;32m      3\u001b[0m \u001b[0mcost_for_location_filter_3\u001b[0m \u001b[1;33m=\u001b[0m \u001b[1;33m[\u001b[0m\u001b[0menv_availability_viz\u001b[0m\u001b[1;33m[\u001b[0m\u001b[1;33m-\u001b[0m\u001b[1;36m1\u001b[0m\u001b[1;33m]\u001b[0m \u001b[1;33m==\u001b[0m \u001b[1;36m256\u001b[0m\u001b[1;33m]\u001b[0m\u001b[1;33m\u001b[0m\u001b[1;33m\u001b[0m\u001b[0m\n\u001b[0;32m      4\u001b[0m \u001b[0mcost_for_location_filter_4\u001b[0m \u001b[1;33m=\u001b[0m \u001b[1;33m[\u001b[0m\u001b[0menv_availability_viz\u001b[0m\u001b[1;33m[\u001b[0m\u001b[1;33m-\u001b[0m\u001b[1;36m1\u001b[0m\u001b[1;33m]\u001b[0m \u001b[1;33m==\u001b[0m \u001b[1;36m252\u001b[0m\u001b[1;33m]\u001b[0m\u001b[1;33m\u001b[0m\u001b[1;33m\u001b[0m\u001b[0m\n\u001b[0;32m      5\u001b[0m \u001b[0mcost_for_location_filter_5\u001b[0m \u001b[1;33m=\u001b[0m \u001b[1;33m[\u001b[0m\u001b[0menv_availability_viz\u001b[0m\u001b[1;33m[\u001b[0m\u001b[1;33m-\u001b[0m\u001b[1;36m1\u001b[0m\u001b[1;33m]\u001b[0m \u001b[1;33m==\u001b[0m \u001b[1;36m306\u001b[0m\u001b[1;33m]\u001b[0m\u001b[1;33m\u001b[0m\u001b[1;33m\u001b[0m\u001b[0m\n",
      "\u001b[1;31mNameError\u001b[0m: name 'env_availability_viz' is not defined"
     ]
    }
   ],
   "source": [
    "cost_for_location_filter_1 = [env_availability_viz[-1] == 193]\n",
    "cost_for_location_filter_2 = [env_availability_viz[-1] == 189]\n",
    "cost_for_location_filter_3 = [env_availability_viz[-1] == 256]\n",
    "cost_for_location_filter_4 = [env_availability_viz[-1] == 252]\n",
    "cost_for_location_filter_5 = [env_availability_viz[-1] == 306]\n",
    "cost_for_location_filter_6 = [env_availability_viz[-1] == 310]\n",
    "\n",
    "cost = [(np.sum(Rv[cost_for_location_filter_2]))+(np.sum(Yv[cost_for_location_filter_3]))+(np.sum(Vv[cost_for_location_filter_4]))+(np.sum(Bv[cost_for_location_filter_5]))+(np.sum(Gv[cost_for_location_filter_6]))]\n",
    "cost"
   ]
  },
  {
   "cell_type": "code",
   "execution_count": null,
   "metadata": {},
   "outputs": [],
   "source": []
  },
  {
   "cell_type": "code",
   "execution_count": null,
   "metadata": {},
   "outputs": [],
   "source": [
    "avail_lattice"
   ]
  },
  {
   "cell_type": "code",
   "execution_count": null,
   "metadata": {},
   "outputs": [],
   "source": [
    "for i, lattice in enumerate(env_availability_viz):\n",
    "    csv_path = os.path.relpath('csv/abm_f_'+ f'{i:03}' + '.csv')\n",
    "    lattice.to_csv(csv_path)"
   ]
  },
  {
   "cell_type": "code",
   "execution_count": null,
   "metadata": {},
   "outputs": [],
   "source": []
  },
  {
   "cell_type": "code",
   "execution_count": null,
   "metadata": {},
   "outputs": [],
   "source": []
  }
 ],
 "metadata": {
  "hide_input": false,
  "kernelspec": {
   "display_name": "Python 3",
   "language": "python",
   "name": "python3"
  },
  "language_info": {
   "codemirror_mode": {
    "name": "ipython",
    "version": 3
   },
   "file_extension": ".py",
   "mimetype": "text/x-python",
   "name": "python",
   "nbconvert_exporter": "python",
   "pygments_lexer": "ipython3",
   "version": "3.8.4"
  }
 },
 "nbformat": 4,
 "nbformat_minor": 4
}
