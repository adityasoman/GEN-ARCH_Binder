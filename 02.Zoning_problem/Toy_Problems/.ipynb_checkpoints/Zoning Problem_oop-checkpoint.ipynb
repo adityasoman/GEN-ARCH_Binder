{
 "cells": [
  {
   "cell_type": "markdown",
   "metadata": {},
   "source": [
    "## The Zoning Problem \n",
    "The aim of this notebook is to generate the optimal zoning by formulating a linear assignment problem and using google\n",
    "OR-Toolsfor solving the optimization problem.\n",
    "The agent behaviours are taken from the previous study. The occupation and env lattices are random for the test problem .\n",
    "\n",
    "### The Test Problem \n",
    "There are five agents :[Blue,Green,Yellow,Red,Violet]\n",
    "The number of voxels which each agent occupies are [B1,G1,Y1,R1,V1]\n",
    "Total number of voxels in a lattice = x \n",
    "Value lattice for the agents are =[Bv],[Gv],[Yv],[Rv],[Vv]\n",
    "\n",
    "####  Aim \n",
    ": To find the best combination of Zones to achieve the maximum occupancy value\n",
    "#### Steps\n",
    "\n",
    "1. Generate the lattices , Agent behaviours, agents, \n",
    "2. Find the possible origin locations for the agents\n",
    "3. Simulate occupancy behaviour and retrieve the cost of occupancy for each agent at each position\n",
    "4. Generate the Cost matrix\n",
    "5. Use the MIP Solver to optimise the combination to get the permutation matrix \n"
   ]
  },
  {
   "cell_type": "markdown",
   "metadata": {},
   "source": [
    "## Initilization"
   ]
  },
  {
   "cell_type": "code",
   "execution_count": 1,
   "metadata": {},
   "outputs": [],
   "source": [
    "import os\n",
    "import itertools\n",
    "import sys\n",
    "from math import factorial as fac\n",
    "sys.path.append(\"D:/TU_Delft/Msc_Building_Technology/Semester_3/Graduation/Aditya_Graduation_Project_BT/06_Libraries\")\n",
    "import topogenesis as tg\n",
    "import pyvista as pv\n",
    "import trimesh as tm\n",
    "import numpy as np\n",
    "np.random.seed(0)\n",
    "np.set_printoptions(threshold=sys.maxsize)\n",
    "import networkx as nx\n",
    "import pickle"
   ]
  },
  {
   "cell_type": "markdown",
   "metadata": {},
   "source": [
    "## Base Lattices"
   ]
  },
  {
   "cell_type": "code",
   "execution_count": 2,
   "metadata": {},
   "outputs": [],
   "source": [
    "# loading the lattice from csv\n",
    "lattice_path = os.path.relpath('Base_lattice_2.csv')\n",
    "avail_lattice_base = tg.lattice_from_csv(lattice_path)\n",
    "avail_lattice = avail_lattice_base*1\n",
    "init_avail_lattice = tg.to_lattice(np.copy(avail_lattice*1), avail_lattice)\n",
    "val_avail_lattice = tg.to_lattice(np.copy(avail_lattice*0), avail_lattice)+1"
   ]
  },
  {
   "cell_type": "markdown",
   "metadata": {},
   "source": [
    "## Env Lattices"
   ]
  },
  {
   "cell_type": "code",
   "execution_count": 3,
   "metadata": {},
   "outputs": [],
   "source": [
    "Bv = np.random.randint(1, 20, (np.shape(avail_lattice)), dtype='l')\n",
    "Gv = np.random.randint(1, 20, (np.shape(avail_lattice)), dtype='l')\n",
    "Yv = np.random.randint(1, 9, (np.shape(avail_lattice)), dtype='l')\n",
    "Rv = np.random.randint(1, 9, (np.shape(avail_lattice)), dtype='l')\n",
    "Vv = np.random.randint(1, 99, (np.shape(avail_lattice)), dtype='l')"
   ]
  },
  {
   "cell_type": "code",
   "execution_count": 4,
   "metadata": {},
   "outputs": [
    {
     "data": {
      "text/plain": [
       "cloud([[[ 0.,  0.,  0.,  0.,  0.,  0.,  0.,  0.,  0.,  0.,  0.],\n",
       "        [ 0.,  0.,  0.,  0.,  0.,  0.,  0.,  0.,  0.,  0.,  0.],\n",
       "        [ 0.,  0.,  0.,  0.,  0.,  0.,  0.,  0.,  0.,  0.,  0.],\n",
       "        [ 0.,  0.,  0.,  0.,  0.,  0.,  0.,  0.,  0.,  0.,  0.],\n",
       "        [ 0.,  0.,  0.,  0.,  0.,  0.,  0.,  0.,  0.,  0.,  0.],\n",
       "        [ 0.,  0.,  0.,  0.,  0.,  0.,  0.,  0.,  0.,  0.,  0.],\n",
       "        [ 0.,  0.,  0.,  0.,  0.,  0.,  0.,  0.,  0.,  0.,  0.],\n",
       "        [ 0.,  0.,  0.,  0.,  0.,  0.,  0.,  0.,  0.,  0.,  0.],\n",
       "        [ 0.,  0.,  0.,  0.,  0.,  0.,  0.,  0.,  0.,  0.,  0.],\n",
       "        [ 0.,  0.,  0.,  0.,  0.,  0.,  0.,  0.,  0.,  0.,  0.],\n",
       "        [ 0.,  0.,  0.,  0.,  0.,  0.,  0.,  0.,  0.,  0.,  0.],\n",
       "        [ 0.,  0.,  0.,  0.,  0.,  3.,  3.,  3.,  3.,  3.,  3.],\n",
       "        [ 3.,  3.,  3.,  3.,  3.,  3.,  3.,  3.,  3.,  3.,  3.],\n",
       "        [ 3.,  3.,  3.,  3.,  3.,  3.,  3.,  3.,  3.,  3.,  3.],\n",
       "        [ 3.,  3.,  3.,  3.,  3.,  3.,  3.,  3.,  3.,  3.,  3.],\n",
       "        [ 3.,  3.,  3.,  3.,  3.,  3.,  3.,  3.,  3.,  3.,  3.],\n",
       "        [ 3.,  3.,  3.,  3.,  3.,  3.,  3.,  3.,  3.,  3.,  3.],\n",
       "        [ 3.,  3.,  3.,  3.,  3.,  3.,  3.,  3.,  3.,  3.,  3.],\n",
       "        [ 3.,  3.,  3.,  3.,  3.,  3.,  3.,  3.,  3.,  3.,  3.],\n",
       "        [ 3.,  3.,  3.,  3.,  3.,  3.,  3.,  3.,  3.,  3.,  3.],\n",
       "        [ 3.,  3.,  3.,  3.,  3.,  3.,  3.,  3.,  3.,  3.,  3.]],\n",
       "\n",
       "       [[ 3.,  3.,  3.,  3.,  3.,  3.,  3.,  3.,  3.,  3.,  3.],\n",
       "        [ 3.,  3.,  3.,  3.,  3.,  3.,  3.,  3.,  3.,  3.,  6.],\n",
       "        [ 6.,  6.,  6.,  6.,  6.,  6.,  6.,  6.,  6.,  6.,  6.],\n",
       "        [ 6.,  6.,  6.,  6.,  6.,  6.,  6.,  6.,  6.,  6.,  6.],\n",
       "        [ 6.,  6.,  6.,  6.,  6.,  6.,  6.,  6.,  6.,  6.,  6.],\n",
       "        [ 6.,  6.,  6.,  6.,  6.,  6.,  6.,  6.,  6.,  6.,  6.],\n",
       "        [ 6.,  6.,  6.,  6.,  6.,  6.,  6.,  6.,  6.,  6.,  6.],\n",
       "        [ 6.,  6.,  6.,  6.,  6.,  6.,  6.,  6.,  6.,  6.,  6.],\n",
       "        [ 6.,  6.,  6.,  6.,  6.,  6.,  6.,  6.,  6.,  6.,  6.],\n",
       "        [ 6.,  6.,  6.,  6.,  6.,  6.,  6.,  6.,  6.,  6.,  6.],\n",
       "        [ 6.,  6.,  6.,  6.,  6.,  6.,  6.,  6.,  6.,  6.,  6.],\n",
       "        [ 6.,  6.,  6.,  6.,  6.,  6.,  6.,  6.,  6.,  6.,  6.],\n",
       "        [ 6.,  6.,  6.,  6.,  6.,  6.,  6.,  6.,  6.,  6.,  6.],\n",
       "        [ 6.,  6.,  6.,  6.,  9.,  9.,  9.,  9.,  9.,  9.,  9.],\n",
       "        [ 9.,  9.,  9.,  9.,  9.,  9.,  9.,  9.,  9.,  9.,  9.],\n",
       "        [ 9.,  9.,  9.,  9.,  9.,  9.,  9.,  9.,  9.,  9.,  9.],\n",
       "        [ 9.,  9.,  9.,  9.,  9.,  9.,  9.,  9.,  9.,  9.,  9.],\n",
       "        [ 9.,  9.,  9.,  9.,  9.,  9.,  9.,  9.,  9.,  9.,  9.],\n",
       "        [ 9.,  9.,  9.,  9.,  9.,  9.,  9.,  9.,  9.,  9.,  9.],\n",
       "        [ 9.,  9.,  9.,  9.,  9.,  9.,  9.,  9.,  9.,  9.,  9.],\n",
       "        [ 9.,  9.,  9.,  9.,  9.,  9.,  9.,  9.,  9.,  9.,  9.]],\n",
       "\n",
       "       [[ 9.,  9.,  9.,  9.,  9.,  9.,  9.,  9.,  9.,  9.,  9.],\n",
       "        [ 9.,  9.,  9.,  9.,  9.,  9.,  9.,  9.,  9.,  9.,  9.],\n",
       "        [ 9.,  9.,  9.,  9.,  9.,  9.,  9.,  9.,  9.,  9.,  9.],\n",
       "        [ 9.,  9.,  9.,  9.,  9.,  9.,  9.,  9.,  9., 12., 12.],\n",
       "        [12., 12., 12., 12., 12., 12., 12., 12., 12., 12., 12.],\n",
       "        [12., 12., 12., 12., 12., 12., 12., 12., 12., 12., 12.],\n",
       "        [12., 12., 12., 12., 12., 12., 12., 12., 12., 12., 12.],\n",
       "        [12., 12., 12., 12., 12., 12., 12., 12., 12., 12., 12.],\n",
       "        [12., 12., 12., 12., 12., 12., 12., 12., 12., 12., 12.],\n",
       "        [12., 12., 12., 12., 12., 12., 12., 12., 12., 12., 12.],\n",
       "        [12., 12., 12., 12., 12., 12., 12., 12., 12., 12., 12.],\n",
       "        [12., 12., 12., 12., 12., 12., 12., 12., 12., 12., 12.],\n",
       "        [12., 12., 12., 12., 12., 12., 12., 12., 12., 12., 12.],\n",
       "        [12., 12., 12., 12., 12., 12., 12., 12., 12., 12., 12.],\n",
       "        [12., 12., 12., 12., 12., 12., 12., 12., 12., 12., 12.],\n",
       "        [12., 12., 12., 15., 15., 15., 15., 15., 15., 15., 15.],\n",
       "        [15., 15., 15., 15., 15., 15., 15., 15., 15., 15., 15.],\n",
       "        [15., 15., 15., 15., 15., 15., 15., 15., 15., 15., 15.],\n",
       "        [15., 15., 15., 15., 15., 15., 15., 15., 15., 15., 15.],\n",
       "        [15., 15., 15., 15., 15., 15., 15., 15., 15., 15., 15.],\n",
       "        [15., 15., 15., 15., 15., 15., 15., 15., 15., 15., 15.]],\n",
       "\n",
       "       [[15., 15., 15., 15., 15., 15., 15., 15., 15., 15., 15.],\n",
       "        [15., 15., 15., 15., 15., 15., 15., 15., 15., 15., 15.],\n",
       "        [15., 15., 15., 15., 15., 15., 15., 15., 15., 15., 15.],\n",
       "        [15., 15., 15., 15., 15., 15., 15., 15., 15., 15., 15.],\n",
       "        [15., 15., 15., 15., 15., 15., 15., 15., 15., 15., 15.],\n",
       "        [15., 15., 15., 15., 15., 15., 15., 15., 18., 18., 18.],\n",
       "        [18., 18., 18., 18., 18., 18., 18., 18., 18., 18., 18.],\n",
       "        [18., 18., 18., 18., 18., 18., 18., 18., 18., 18., 18.],\n",
       "        [18., 18., 18., 18., 18., 18., 18., 18., 18., 18., 18.],\n",
       "        [18., 18., 18., 18., 18., 18., 18., 18., 18., 18., 18.],\n",
       "        [18., 18., 18., 18., 18., 18., 18., 18., 18., 18., 18.],\n",
       "        [18., 18., 18., 18., 18., 18., 18., 18., 18., 18., 18.],\n",
       "        [18., 18., 18., 18., 18., 18., 18., 18., 18., 18., 18.],\n",
       "        [18., 18., 18., 18., 18., 18., 18., 18., 18., 18., 18.],\n",
       "        [18., 18., 18., 18., 18., 18., 18., 18., 18., 18., 18.],\n",
       "        [18., 18., 18., 18., 18., 18., 18., 18., 18., 18., 18.],\n",
       "        [18., 18., 18., 18., 18., 18., 18., 18., 18., 18., 18.],\n",
       "        [18., 18., 21., 21., 21., 21., 21., 21., 21., 21., 21.],\n",
       "        [21., 21., 21., 21., 21., 21., 21., 21., 21., 21., 21.],\n",
       "        [21., 21., 21., 21., 21., 21., 21., 21., 21., 21., 21.],\n",
       "        [21., 21., 21., 21., 21., 21., 21., 21., 21., 21., 21.]],\n",
       "\n",
       "       [[21., 21., 21., 21., 21., 21., 21., 21., 21., 21., 21.],\n",
       "        [21., 21., 21., 21., 21., 21., 21., 21., 21., 21., 21.],\n",
       "        [21., 21., 21., 21., 21., 21., 21., 21., 21., 21., 21.],\n",
       "        [21., 21., 21., 21., 21., 21., 21., 21., 21., 21., 21.],\n",
       "        [21., 21., 21., 21., 21., 21., 21., 21., 21., 21., 21.],\n",
       "        [21., 21., 21., 21., 21., 21., 21., 21., 21., 21., 21.],\n",
       "        [21., 21., 21., 21., 21., 21., 21., 21., 21., 21., 21.],\n",
       "        [21., 21., 21., 21., 21., 21., 21., 24., 24., 24., 24.],\n",
       "        [24., 24., 24., 24., 24., 24., 24., 24., 24., 24., 24.],\n",
       "        [24., 24., 24., 24., 24., 24., 24., 24., 24., 24., 24.],\n",
       "        [24., 24., 24., 24., 24., 24., 24., 24., 24., 24., 24.],\n",
       "        [24., 24., 24., 24., 24., 24., 24., 24., 24., 24., 24.],\n",
       "        [24., 24., 24., 24., 24., 24., 24., 24., 24., 24., 24.],\n",
       "        [24., 24., 24., 24., 24., 24., 24., 24., 24., 24., 24.],\n",
       "        [24., 24., 24., 24., 24., 24., 24., 24., 24., 24., 24.],\n",
       "        [24., 24., 24., 24., 24., 24., 24., 24., 24., 24., 24.],\n",
       "        [24., 24., 24., 24., 24., 24., 24., 24., 24., 24., 24.],\n",
       "        [24., 24., 24., 24., 24., 24., 24., 24., 24., 24., 24.],\n",
       "        [24., 24., 24., 24., 24., 24., 24., 24., 24., 24., 24.],\n",
       "        [24., 27., 27., 27., 27., 27., 27., 27., 27., 27., 27.],\n",
       "        [27., 27., 27., 27., 27., 27., 27., 27., 27., 27., 27.]],\n",
       "\n",
       "       [[27., 27., 27., 27., 27., 27., 27., 27., 27., 27., 27.],\n",
       "        [27., 27., 27., 27., 27., 27., 27., 27., 27., 27., 27.],\n",
       "        [27., 27., 27., 27., 27., 27., 27., 27., 27., 27., 27.],\n",
       "        [27., 27., 27., 27., 27., 27., 27., 27., 27., 27., 27.],\n",
       "        [27., 27., 27., 27., 27., 27., 27., 27., 27., 27., 27.],\n",
       "        [27., 27., 27., 27., 27., 27., 27., 27., 27., 27., 27.],\n",
       "        [27., 27., 27., 27., 27., 27., 27., 27., 27., 27., 27.],\n",
       "        [27., 27., 27., 27., 27., 27., 27., 27., 27., 27., 27.],\n",
       "        [27., 27., 27., 27., 27., 27., 27., 27., 27., 27., 27.],\n",
       "        [27., 27., 27., 27., 27., 27., 30., 30., 30., 30., 30.],\n",
       "        [30., 30., 30., 30., 30., 30., 30., 30., 30., 30., 30.],\n",
       "        [30., 30., 30., 30., 30., 30., 30., 30., 30., 30., 30.],\n",
       "        [30., 30., 30., 30., 30., 30., 30., 30., 30., 30., 30.],\n",
       "        [30., 30., 30., 30., 30., 30., 30., 30., 30., 30., 30.],\n",
       "        [30., 30., 30., 30., 30., 30., 30., 30., 30., 30., 30.],\n",
       "        [30., 30., 30., 30., 30., 30., 30., 30., 30., 30., 30.],\n",
       "        [30., 30., 30., 30., 30., 30., 30., 30., 30., 30., 30.],\n",
       "        [30., 30., 30., 30., 30., 30., 30., 30., 30., 30., 30.],\n",
       "        [30., 30., 30., 30., 30., 30., 30., 30., 30., 30., 30.],\n",
       "        [30., 30., 30., 30., 30., 30., 30., 30., 30., 30., 30.],\n",
       "        [30., 30., 30., 30., 30., 30., 30., 30., 30., 30., 30.]]])"
      ]
     },
     "execution_count": 4,
     "metadata": {},
     "output_type": "execute_result"
    }
   ],
   "source": [
    "Vv"
   ]
  },
  {
   "cell_type": "markdown",
   "metadata": {},
   "source": [
    "## Stencils"
   ]
  },
  {
   "cell_type": "code",
   "execution_count": 5,
   "metadata": {},
   "outputs": [],
   "source": [
    "# creating neighborhood definition\n",
    "stencil_von_neumann = tg.create_stencil(\"von_neumann\", 1, 1)\n",
    "stencil_von_neumann.set_index([0,0,0], 0)\n",
    "#print(stencil_von_neumann)"
   ]
  },
  {
   "cell_type": "code",
   "execution_count": 6,
   "metadata": {},
   "outputs": [],
   "source": [
    "# creating neighborhood definition \n",
    "stencil_squareness = tg.create_stencil(\"moore\", 1, 1)\n",
    "# Reshaping the moore neighbourhood\n",
    "stencil_squareness[0,:,:] = 0 \n",
    "stencil_squareness[2,:,:] = 0\n",
    "stencil_squareness.set_index([0,0,0], 0)\n",
    "stencil_squareness_t = np.transpose(stencil_squareness) \n",
    "#print(stencil_squareness_t)"
   ]
  },
  {
   "cell_type": "code",
   "execution_count": 7,
   "metadata": {},
   "outputs": [],
   "source": [
    "# creating neighborhood definition \n",
    "stencil_squareness_von = tg.create_stencil(\"von_neumann\", 1, 1)\n",
    "# Reshaping the moore neighbourhood\n",
    "stencil_squareness_von[0,:,:] = 0 \n",
    "stencil_squareness_von[2,:,:] = 0\n",
    "stencil_squareness_von.set_index([0,0,0], 0)\n",
    "stencil_squareness_von_t = np.transpose(stencil_squareness_von) \n",
    "#print(stencil_squareness_von)"
   ]
  },
  {
   "cell_type": "code",
   "execution_count": 8,
   "metadata": {},
   "outputs": [],
   "source": [
    "stencil_cuboid = tg.create_stencil(\"moore\", 1, 1)\n",
    "stencil_cuboid.set_index([0,0,0], 0)\n",
    "#print(stencil_cuboid)"
   ]
  },
  {
   "cell_type": "markdown",
   "metadata": {},
   "source": [
    "## Deriving all possible agent Center points"
   ]
  },
  {
   "cell_type": "code",
   "execution_count": 9,
   "metadata": {},
   "outputs": [
    {
     "data": {
      "text/plain": [
       "array([136, 136,  91,  91, 230])"
      ]
     },
     "execution_count": 9,
     "metadata": {},
     "output_type": "execute_result"
    }
   ],
   "source": [
    "## The number of voxels which each agent has to occupy There are five agents :[Blue,Green,Yellow,Red,Violet]\n",
    "## The number of voxels which each agent occupies are [B1,G1,Y1,R1,V1] \n",
    "mass_size = np.count_nonzero((avail_lattice==1)) \n",
    "B1 = int(mass_size / 5)\n",
    "G1= int( mass_size / 5)\n",
    "Y1=int( mass_size / 7.5)\n",
    "R1= int(mass_size / 7.5)\n",
    "V1= int(mass_size -(B1+G1+Y1+R1))\n",
    "Num_of_voxels_lst = np.array([B1,G1,Y1,R1,V1])\n",
    "Cube_root_list = Num_of_voxels_lst ** (1/3)\n",
    "Radius_list = Cube_root_list.astype(int) \n",
    "Maximum_radius = int(Radius_list[np.argmax(Radius_list)])\n",
    "\n",
    "Num_of_voxels_lst"
   ]
  },
  {
   "cell_type": "code",
   "execution_count": 10,
   "metadata": {},
   "outputs": [],
   "source": [
    "#Divide the available lattice into grids to generate the necessary locations for origins??"
   ]
  },
  {
   "cell_type": "code",
   "execution_count": 11,
   "metadata": {},
   "outputs": [
    {
     "data": {
      "text/plain": [
       "(21, 11)"
      ]
     },
     "execution_count": 11,
     "metadata": {},
     "output_type": "execute_result"
    }
   ],
   "source": [
    "avail_lattice_copy = np.copy(avail_lattice)\n",
    "avail_lattice_copy[2].shape"
   ]
  },
  {
   "cell_type": "code",
   "execution_count": 12,
   "metadata": {},
   "outputs": [],
   "source": [
    "#slices= np.arange(1,20,3)\n",
    "x_cordinate= np.arange(3,21,7,dtype=int)\n",
    "y_cordinate = np.array([2,8],dtype=int)\n",
    "indexes= []\n",
    "for item in x_cordinate :\n",
    "    for num in y_cordinate:\n",
    "        a=item,num\n",
    "        indexes.append(a)"
   ]
  },
  {
   "cell_type": "code",
   "execution_count": 13,
   "metadata": {},
   "outputs": [
    {
     "data": {
      "text/plain": [
       "[(3, 2), (3, 8), (10, 2), (10, 8), (17, 2), (17, 8)]"
      ]
     },
     "execution_count": 13,
     "metadata": {},
     "output_type": "execute_result"
    }
   ],
   "source": [
    "indexes"
   ]
  },
  {
   "cell_type": "code",
   "execution_count": 14,
   "metadata": {},
   "outputs": [],
   "source": [
    "for num in indexes:\n",
    "    selected_slice= avail_lattice_copy[2]\n",
    "    selected_slice[num[0]][num[1]]=2\n",
    "index_lattice_flat = avail_lattice_copy.flatten()    \n",
    "indexing =list(np.where(index_lattice_flat ==2))\n",
    "All_coordinates=[element for tupl in indexing for element in tupl]"
   ]
  },
  {
   "cell_type": "code",
   "execution_count": 15,
   "metadata": {},
   "outputs": [
    {
     "data": {
      "text/plain": [
       "[497, 503, 574, 580, 651, 657]"
      ]
     },
     "execution_count": 15,
     "metadata": {},
     "output_type": "execute_result"
    }
   ],
   "source": [
    "All_coordinates"
   ]
  },
  {
   "cell_type": "code",
   "execution_count": null,
   "metadata": {},
   "outputs": [],
   "source": []
  },
  {
   "cell_type": "code",
   "execution_count": 16,
   "metadata": {},
   "outputs": [],
   "source": [
    "# All possible locations isolate the 2d array and find the points \n",
    "locations= [194,190,257,253,307,311]"
   ]
  },
  {
   "cell_type": "markdown",
   "metadata": {},
   "source": [
    "## Permutation Combinations for further simulation verifications"
   ]
  },
  {
   "cell_type": "code",
   "execution_count": 17,
   "metadata": {},
   "outputs": [
    {
     "data": {
      "text/plain": [
       "(657, 497, 651, 503, 574)"
      ]
     },
     "execution_count": 17,
     "metadata": {},
     "output_type": "execute_result"
    }
   ],
   "source": [
    "all_permutations = (list(itertools.permutations(All_coordinates, 5)))\n",
    "all_permutations[618]"
   ]
  },
  {
   "cell_type": "code",
   "execution_count": 18,
   "metadata": {},
   "outputs": [
    {
     "data": {
      "text/plain": [
       "664"
      ]
     },
     "execution_count": 18,
     "metadata": {},
     "output_type": "execute_result"
    }
   ],
   "source": [
    "#all_permutations.index((574,503,651,497,580))\n",
    "all_permutations.index((657,574,580,651,497))"
   ]
  },
  {
   "cell_type": "markdown",
   "metadata": {},
   "source": [
    "## Agent Class"
   ]
  },
  {
   "cell_type": "code",
   "execution_count": 19,
   "metadata": {},
   "outputs": [],
   "source": [
    "# agent class\n",
    "class agent():\n",
    "    def __init__(self, origin, stencil, id):\n",
    "\n",
    "        # define the origin attribute of the agent and making sure that it is an intiger\n",
    "        self.origin = np.array(origin).astype(int)\n",
    "        # define old origin attribute and assigning the origin to it as the initial state\n",
    "        self.old_origin = self.origin\n",
    "        # define stencil of the agent\n",
    "        self.stencil = stencil\n",
    "        #define agent id\n",
    "        self.id = id\n",
    "\n",
    "    # definition of random/argmax occupancy on a 2d squarish stencil \n",
    "    def random_occupy_squareness(self, env):\n",
    "        # retrieve the list of neighbours of the agent based on the stencil\n",
    "        neighs = env.availibility.find_neighbours_masked(self.stencil, loc = self.origin)\n",
    "        neighs_full_floor = env.availibility.find_neighbours_masked(stencil_full_floor, loc = self.origin)\n",
    "        # find availability of neighbours\n",
    "        neighs_availibility = env.availibility.flatten()[neighs]\n",
    "        neighs_availibility_full_floor = env.availibility.flatten()[neighs_full_floor]\n",
    "        # separate available neighbours\n",
    "        free_neighs = neighs[neighs_availibility==1]\n",
    "        free_neighs_full_floor = neighs_full_floor[neighs_availibility_full_floor==1]\n",
    "        #print(free_neighs)\n",
    "        if len(free_neighs)== 0 :\n",
    "            free_neighs = free_neighs_full_floor\n",
    "        else: \n",
    "            free_neighs= free_neighs\n",
    "        # retrieve the value of each neighbour\n",
    "        free_neighs_value = env.value.flatten()[free_neighs]\n",
    "        # find the neighbour with maximum my value\n",
    "       # selected_neigh = free_neighs[np.argmax(free_neighs_value)]\n",
    "        selected_neigh = np.random.choice(free_neighs,1)\n",
    "        #print(selected_neigh)\n",
    "        # update information\n",
    "        ####################\n",
    "        # set the current origin as the ol origin\n",
    "        self.old_origin = self.origin\n",
    "        # update the current origin with the new selected neighbour\n",
    "        self.origin = np.array(np.unravel_index(selected_neigh, env.availibility.shape)).flatten()\n",
    "        #print(self.origin)\n",
    "     \n",
    "      # definition of random/argmax occupancy on a 3d cubish stencil\n",
    "    def random_occupy_cubish(self, env):\n",
    "        # retrieve the list of neighbours of the agent based on the stencil\n",
    "        neighs = env.availibility.find_neighbours_masked(self.stencil, loc = self.origin)\n",
    "        neighs_full_lattice = env.availibility.find_neighbours_masked(stencil_full_lattice, loc = self.origin)\n",
    "        # find availability of neighbours\n",
    "        neighs_availibility = env.availibility.flatten()[neighs]\n",
    "        neighs_availibility_full_lattice = env.availibility.flatten()[neighs_full_lattice]\n",
    "        # separate available neighbours\n",
    "        free_neighs = neighs[neighs_availibility==1]\n",
    "        free_neighs_full_lattice = neighs_full_lattice[neighs_availibility_full_lattice==1]\n",
    "        #print(free_neighs)\n",
    "        if len(free_neighs)== 0 :\n",
    "            free_neighs = free_neighs_full_lattice\n",
    "        else: \n",
    "            free_neighs= free_neighs\n",
    "        # retrieve the value of each neighbour\n",
    "        free_neighs_value = env.value.flatten()[free_neighs]\n",
    "        # find the neighbour with maximum my value\n",
    "        selected_neigh = free_neighs[np.argmax(free_neighs_value)]\n",
    "        #selected_neigh = np.random.choice(free_neighs,1)\n",
    "        #print(selected_neigh)\n",
    "        # update information\n",
    "        ####################\n",
    "        # set the current origin as the ol origin\n",
    "        self.old_origin = self.origin\n",
    "        # update the current origin with the new selected neighbour\n",
    "        self.origin = np.array(np.unravel_index(selected_neigh, env.availibility.shape)).flatten()\n",
    "        #print(self.origin)\n",
    "      \n",
    "        \n",
    "    def random_occupy_cubish_von_neumann(self, env):\n",
    "        # retrieve the list of neighbours of the agent based on the stencil\n",
    "        neighs = env.availibility.find_neighbours_masked(self.stencil, loc = self.origin)\n",
    "        neighs_full_lattice = env.availibility.find_neighbours_masked(stencil_cuboid, loc = self.origin)\n",
    "        # find availability of neighbours\n",
    "        neighs_availibility = env.availibility.flatten()[neighs]\n",
    "        neighs_availibility_full_lattice = env.availibility.flatten()[neighs_full_lattice]\n",
    "        # separate available neighbours\n",
    "        free_neighs = neighs[neighs_availibility==1]\n",
    "        free_neighs_full_lattice = neighs_full_lattice[neighs_availibility_full_lattice==1]\n",
    "        #print(free_neighs)\n",
    "        if len(free_neighs)== 0 :\n",
    "            free_neighs = free_neighs_full_lattice\n",
    "        else: \n",
    "            free_neighs= free_neighs\n",
    "        # retrieve the value of each neighbour\n",
    "        free_neighs_value = env.value.flatten()[free_neighs]\n",
    "        # find the neighbour with maximum my value\n",
    "        selected_neigh = np.random.choice(free_neighs,1)\n",
    "        #print(selected_neigh)\n",
    "        # update information\n",
    "        ####################\n",
    "        # set the current origin as the ol origin\n",
    "        self.old_origin = self.origin\n",
    "        # update the current origin with the new selected neighbour\n",
    "        self.origin = np.array(np.unravel_index(selected_neigh, env.availibility.shape)).flatten()\n",
    "        #print(self.origin)\n",
    "        \n",
    "    def argmax_occupy_von_neumann(self, env):\n",
    "        # retrieve the list of neighbours of the agent based on the stencil\n",
    "        neighs = env.availibility.find_neighbours_masked(self.stencil, loc = self.origin)\n",
    "        neighs_full_lattice = env.availibility.find_neighbours_masked(stencil_full_lattice, loc = self.origin)\n",
    "        # find availability of neighbours\n",
    "        neighs_availibility = env.availibility.flatten()[neighs]\n",
    "        neighs_availibility_full_lattice = env.availibility.flatten()[neighs_full_lattice]\n",
    "        # separate available neighbours\n",
    "        free_neighs = neighs[neighs_availibility==1]\n",
    "        free_neighs_full_lattice = neighs_full_lattice[neighs_availibility_full_lattice==1]\n",
    "        #print(free_neighs)\n",
    "        if len(free_neighs)== 0 :\n",
    "            free_neighs = free_neighs_full_lattice\n",
    "        else: \n",
    "            free_neighs= free_neighs\n",
    "        # retrieve the value of each neighbour\n",
    "        free_neighs_value = env.value.flatten()[free_neighs]\n",
    "        # find the neighbour with maximum my value\n",
    "        selected_neigh = free_neighs[np.argmax(free_neighs_value)]\n",
    "        #selected_neigh = np.random.choice(free_neighs,1)\n",
    "        #print(selected_neigh)\n",
    "        # update information\n",
    "        ####################\n",
    "        # set the current origin as the ol origin\n",
    "        self.old_origin = self.origin\n",
    "        # update the current origin with the new selected neighbour\n",
    "        self.origin = np.array(np.unravel_index(selected_neigh, env.availibility.shape)).flatten()\n",
    "        #print(self.origin)\n",
    "\n",
    "        \n",
    "     # definition of 2d occupying method for agents\n",
    "    def one_neighbour_occupy_squareness_moore(self, env):\n",
    "        # retrieve the list of neighbours of the agent based on the stencil\n",
    "        neighs = env.availibility.find_neighbours_masked(self.stencil, loc = self.origin)\n",
    "        #print(neighs)\n",
    "        neighs_full_floor = env.availibility.find_neighbours_masked(stencil_full_floor, loc = self.origin)\n",
    "\n",
    "        # find availability of neighbours\n",
    "        neighs_availibility = env.availibility.flatten()[neighs]               \n",
    "        neighs_availibility_full_floor = env.availibility.flatten()[neighs_full_floor]\n",
    "        #print(neighs_availibility)\n",
    "        \n",
    "        # find env values of all neighbours\n",
    "        all_neighs_value = env.value.flatten()[neighs]\n",
    "        all_neighs_value_mod = np.copy(all_neighs_value)\n",
    "        \n",
    "        \n",
    "        #finding number of neighbours and bumping the values based on adjacency for a 9 neighbourhood\n",
    "        \n",
    "        #print(neighbourhood_details)\n",
    "        one = neighs_availibility[1] + neighs_availibility[2] \n",
    "        two = neighs_availibility[0] + neighs_availibility[2] \n",
    "        three = neighs_availibility[1] + neighs_availibility[4] \n",
    "        four = neighs_availibility[0] + neighs_availibility[6] \n",
    "        five = neighs_availibility[2] + neighs_availibility[7] \n",
    "        six = neighs_availibility[3] + neighs_availibility[6] \n",
    "        seven = neighs_availibility[5] + neighs_availibility[7] \n",
    "        eight = neighs_availibility[6] + neighs_availibility[4] \n",
    "        neighbourhood_details = [one,two,three,four,five,six,seven,eight]\n",
    "        \n",
    "        #print(neighbourhood_details)\n",
    "        for detail in range(len(neighs_availibility)-1):\n",
    "            neighbourhood_condition = neighbourhood_details[detail] \n",
    "            #print(neighbourhood_condition)\n",
    "            if neighbourhood_condition == 3:\n",
    "                all_neighs_value_mod[detail]= all_neighs_value_mod[detail] + one_neighbour_factor\n",
    "            elif neighbourhood_condition == 4:\n",
    "                all_neighs_value_mod[detail]= all_neighs_value_mod[detail] + two_neighbour_factor\n",
    "            else:\n",
    "                all_neighs_value_mod[detail] = all_neighs_value_mod[detail]\n",
    "        #print(all_neighs_value_mod)   \n",
    "        \n",
    "\n",
    "        neighs_value_flattened = env.value.flatten()\n",
    "        for val_mod in all_neighs_value_mod:\n",
    "            for neigh in neighs :\n",
    "                neighs_value_flattened[neigh]=val_mod\n",
    "        \n",
    "        \n",
    "        # separate available neighbours\n",
    "        free_neighs = neighs[neighs_availibility==1]\n",
    "        free_neighs_full_floor = neighs_full_floor[neighs_availibility_full_floor==1]\n",
    "        #print(free_neighs)\n",
    "        if len(free_neighs)== 0 :\n",
    "            free_neighs = free_neighs_full_floor\n",
    "        else: \n",
    "            free_neighs= free_neighs\n",
    "        # retrieve the value of each neighbour\n",
    "        free_neighs_value = neighs_value_flattened[free_neighs]\n",
    "        \n",
    "        #print(free_neighs_value)\n",
    "        # find the neighbour with maximum my value\n",
    "        selected_neigh = free_neighs[np.argmax(free_neighs_value)]\n",
    "        #print(selected_neigh)\n",
    "        # update information\n",
    "        ####################\n",
    "        # set the current origin as the ol origin\n",
    "        self.old_origin = self.origin\n",
    "        # update the current origin with the new selected neighbour\n",
    "        self.origin = np.array(np.unravel_index(selected_neigh, env.availibility.shape)).flatten()\n",
    "        #print(self.origin)\n",
    "    \n",
    "    \n",
    "         # definition of 2d occupying method for agents\n",
    "    def one_neighbour_occupy_squareness_von_neumann(self, env):\n",
    "        \n",
    "         # retrieve the list of neighbours of the agent based on the stencil\n",
    "        neighs = env.availibility.find_neighbours_masked(self.stencil, loc = self.origin)\n",
    "        neighs_full_floor = env.availibility.find_neighbours_masked(stencil_full_lattice, loc = self.origin)\n",
    "        # find availability of neighbours\n",
    "        neighs_availibility = env.availibility.flatten()[neighs]\n",
    "        neighs_availibility_full_floor = env.availibility.flatten()[neighs_full_floor]\n",
    "        # separate available neighbours\n",
    "        free_neighs = neighs[neighs_availibility==1]\n",
    "        free_neighs_full_floor = neighs_full_floor[neighs_availibility_full_floor==1]\n",
    "        #print(free_neighs)\n",
    "        if len(free_neighs)== 0 :\n",
    "            free_neighs = free_neighs_full_floor\n",
    "        else: \n",
    "            free_neighs= free_neighs\n",
    "        # retrieve the value of each neighbour\n",
    "        free_neighs_value = env.value.flatten()[free_neighs]\n",
    "        # find the neighbour with maximum my value\n",
    "       # selected_neigh = free_neighs[np.argmax(free_neighs_value)]\n",
    "        selected_neigh = np.random.choice(free_neighs,1)\n",
    "        #print(selected_neigh)\n",
    "        # update information\n",
    "        ####################\n",
    "        # set the current origin as the ol origin\n",
    "        self.old_origin = self.origin\n",
    "        # update the current origin with the new selected neighbour\n",
    "        self.origin = np.array(np.unravel_index(selected_neigh, env.availibility.shape)).flatten()\n",
    "        #print(self.origin)\n",
    "    def one_neighbour_occupy_squareness_behaviour (self,env):        \n",
    "        value_lattice_flat = env.value.flatten()\n",
    "        sqr_factor = 10.1\n",
    "        sqr_shift = 10.0\n",
    "        init_loc = self.origin\n",
    "        neighs_full_lattice = env.availibility.find_neighbours_masked(stencil_full_lattice, loc = self.origin)\n",
    "        neighs_availibility_full_lattice = env.availibility.flatten()[neighs_full_lattice]\n",
    "        free_neighs_full_lattice = neighs_full_lattice[neighs_availibility_full_lattice==1]\n",
    "        \n",
    "        agn_locs = [list(init_loc)]\n",
    "        all_neighs =[] \n",
    "        avail_lattice_flat = env.availibility.flatten()\n",
    "        neighs = env.availibility.find_neighbours_masked(self.stencil, loc = self.origin)\n",
    "        all_neighs.append(neighs)\n",
    "        env.neigh_squareness.append(neighs)\n",
    "\n",
    "        neighs_flatten = np.array(env.neigh_squareness).flatten()\n",
    "        #print(neighs_flatten)\n",
    "        neighs_availability = avail_lattice_flat[neighs_flatten]\n",
    "  \n",
    "        # keep the available ones only\n",
    "        avail_neighs = neighs_flatten[neighs_availability==1] \n",
    "        \n",
    "        if len(avail_neighs)== 0 :\n",
    "            avail_neighs = free_neighs_full_lattice\n",
    "        else: \n",
    "            avail_neighs= avail_neighs\n",
    "        #print(avail_neighs)\n",
    "        avail_unq_neighs, avail_unq_neighs_count = np.unique(avail_neighs, return_counts=True)\n",
    "        #print(avail_unq_neighs)\n",
    "        #print(avail_unq_neighs_count)\n",
    "        neighs_unq_base_value = value_lattice_flat[avail_unq_neighs]\n",
    "        neigh_sqr_evaluation = np.power(sqr_factor, (avail_unq_neighs_count - 1)) * neighs_unq_base_value + sqr_shift\n",
    "        #neigh_sqr_evaluation = neighs_unq_base_value + sqr_shift * (avail_unq_neighs_count - 1)\n",
    "\n",
    "\n",
    "        selected_neigh_index = np.argmax(neigh_sqr_evaluation)\n",
    "        selected_neigh_1D_id = avail_unq_neighs[selected_neigh_index]\n",
    "        #selected_neigh_3D_id = np.unravel_index(selected_neigh_1D_id,bounds.shape )\n",
    "\n",
    "        # update information\n",
    "        ####################\n",
    "        self.old_origin = self.origin\n",
    "        # update the current origin with the new selected neighbour\n",
    "        self.origin = np.array(np.unravel_index(selected_neigh_1D_id, env.availibility.shape)).flatten()\n",
    "   \n",
    "        \n",
    "        \n",
    "    def one_neighbour_occupy_cubish_behaviour (self,env):        \n",
    "        value_lattice_flat = env.value.flatten()\n",
    "        sqr_factor = 10.1\n",
    "        sqr_shift = 10.0\n",
    "        init_loc = self.origin\n",
    "        neighs_availibility_full_lattice = env.availibility.flatten()\n",
    "        free_neighs_full_lattice = neighs_availibility_full_lattice[neighs_availibility_full_lattice==1]\n",
    "        \n",
    "        agn_locs = [list(init_loc)]\n",
    "        all_neighs =[] \n",
    "        avail_lattice_flat = env.availibility.flatten()\n",
    "        neighs = env.availibility.find_neighbours_masked(self.stencil, loc = self.origin)\n",
    "        all_neighs.append(neighs)\n",
    "        env.neigh_cubish.append(neighs)\n",
    "\n",
    "        neighs_flatten = np.array(env.neigh_cubish).flatten()\n",
    "        #print(neighs_flatten)\n",
    "        neighs_availability = avail_lattice_flat[neighs_flatten]\n",
    "  \n",
    "        # keep the available ones only\n",
    "        avail_neighs = neighs_flatten[neighs_availability==1] \n",
    "        \n",
    "        if len(avail_neighs)== 0 :\n",
    "            avail_neighs = free_neighs_full_lattice\n",
    "        else: \n",
    "            avail_neighs= avail_neighs\n",
    "                \n",
    "        #print(avail_neighs)\n",
    "        avail_unq_neighs, avail_unq_neighs_count = np.unique(avail_neighs, return_counts=True)\n",
    "        #print(avail_unq_neighs)\n",
    "        #print(avail_unq_neighs_count)\n",
    "        neighs_unq_base_value = value_lattice_flat[avail_unq_neighs]\n",
    "        \n",
    "        #neigh_sqr_evaluation = np.power(sqr_factor, (avail_unq_neighs_count - 1)) * neighs_unq_base_value + sqr_shift\n",
    "        neigh_sqr_evaluation = neighs_unq_base_value + sqr_shift * (avail_unq_neighs_count - 1)\n",
    "\n",
    "       # print(neighs_unq_base_value) \n",
    "        selected_neigh_index = np.argmax(neigh_sqr_evaluation)\n",
    "        selected_neigh_1D_id = avail_unq_neighs[selected_neigh_index]\n",
    "        #selected_neigh_3D_id = np.unravel_index(selected_neigh_1D_id,bounds.shape )       \n",
    "            \n",
    "        # update information\n",
    "        ####################\n",
    "        self.old_origin = self.origin\n",
    "        # update the current origin with the new selected neighbour\n",
    "        self.origin = np.array(np.unravel_index(selected_neigh_1D_id, env.availibility.shape)).flatten()\n",
    "        #print(self.origin)\n",
    "        \n",
    "        "
   ]
  },
  {
   "cell_type": "markdown",
   "metadata": {},
   "source": [
    "## Initilize Agents"
   ]
  },
  {
   "cell_type": "code",
   "execution_count": 20,
   "metadata": {},
   "outputs": [],
   "source": [
    "# Agent init class\n",
    "\n",
    "def initialize_agents_random_origin (stencil,avail_lattice):\n",
    "    #finding origin \n",
    "    agn_num = 1\n",
    "    occ_lattice = avail_lattice*0 -1\n",
    "    avail_flat = avail_lattice.flatten()\n",
    "    avail_index = np.array(np.where(avail_lattice == 1)).T\n",
    "    select_id = np.random.choice(len(avail_index), agn_num)\n",
    "    agn_origins = tuple(avail_index[select_id].flatten()) \n",
    "\n",
    "    # Defining agents\n",
    "    myagent = agent(agn_origins, stencil, select_id)\n",
    "\n",
    "    return myagent\n",
    "\n",
    "def initialize_agents_fixed_origin (stencil,avail_lattice,origin):\n",
    "    #finding origin \n",
    "    occ_lattice = avail_lattice*0 -1\n",
    "    avail_flat = avail_lattice.flatten()\n",
    "    avail_index = np.array(np.where(avail_lattice == 1)).T\n",
    "    agn_origins = np.unravel_index(origin,avail_lattice.shape)\n",
    "    select_id = origin\n",
    "    # Defining agents\n",
    "    myagent = agent(agn_origins, stencil, select_id)\n",
    "\n",
    "    return myagent"
   ]
  },
  {
   "cell_type": "markdown",
   "metadata": {},
   "source": [
    "## Enviornment Class"
   ]
  },
  {
   "cell_type": "code",
   "execution_count": 21,
   "metadata": {},
   "outputs": [],
   "source": [
    "# environment class\n",
    "class environment():\n",
    "    def __init__(self, lattices, agents,number_of_iterations,method_name):\n",
    "        self.availibility = lattices[\"availibility\"]\n",
    "        self.value = lattices[\"enviornment\"]\n",
    "        self.agent_origin = self.availibility \n",
    "        self.agents = agents\n",
    "        self.update_agents()\n",
    "        self.number_of_iterations = number_of_iterations\n",
    "        self.method_name = method_name\n",
    "        self.neigh_cubish = []\n",
    "        self.neigh_squareness = []\n",
    "    def update_agents(self):\n",
    "        # making previous position available\n",
    "      #  self.availibility[tuple(self.agents.old_origin)] = self.availibility[tuple(self.agents.old_origin)] * 0 + 1\n",
    "        # removing agent from previous position\n",
    "        self.agent_origin[tuple(self.agents.old_origin)] *= 0+1\n",
    "        # making the current position unavailable\n",
    "        self.availibility[tuple(self.agents.origin)] = self.agents.id\n",
    "        # adding agent to the new position \n",
    "        self.agent_origin[tuple(self.agents.origin)] = self.agents.id\n",
    "    \n",
    "    def random_occupy_squareness_agents(self):\n",
    "        # iterate over egents and perform the walk\n",
    "        self.agents.random_occupy_squareness(self)\n",
    "        # update the agent states in environment\n",
    "        self.update_agents()\n",
    "        \n",
    "    def random_occupy_cubish_agents(self):\n",
    "        # iterate over egents and perform the walk\n",
    "        self.agents.random_occupy_cubish(self)\n",
    "        # update the agent states in environment\n",
    "        self.update_agents()\n",
    "    \n",
    "    def random_occupy_cubish_von_neumann_agents(self):\n",
    "        # iterate over egents and perform the walk\n",
    "        self.agents.random_occupy_cubish_von_neumann(self)\n",
    "        # update the agent states in environment\n",
    "        self.update_agents()\n",
    "    \n",
    "    def argmax_occupy_von_neumann(self):\n",
    "        # iterate over egents and perform the walk\n",
    "        self.agents.argmax_occupy_von_neumann(self)\n",
    "        # update the agent states in environment\n",
    "        self.update_agents()\n",
    "        \n",
    "    def one_neighbour_occupy_squareness_moore(self):\n",
    "        # iterate over egents and perform the walk\n",
    "        self.agents.one_neighbour_occupy_squareness_moore(self)\n",
    "        # update the agent states in environment\n",
    "        self.update_agents()\n",
    "        \n",
    "    def one_neighbour_occupy_squareness_von_neumann(self):\n",
    "        # iterate over egents and perform the walk\n",
    "        self.agents.one_neighbour_occupy_squareness_von_neumann(self)\n",
    "        # update the agent states in environment\n",
    "        self.update_agents()\n",
    "      \n",
    "    def one_neighbour_occupy_cubish_behaviour(self):\n",
    "        # iterate over egents and perform the walk\n",
    "        self.agents.one_neighbour_occupy_cubish_behaviour(self)\n",
    "        # update the agent states in environment\n",
    "        self.update_agents()\n",
    "        \n",
    "    def one_neighbour_occupy_squareness_behaviour(self):\n",
    "        # iterate over egents and perform the walk\n",
    "        self.agents.one_neighbour_occupy_squareness_behaviour(self)\n",
    "        # update the agent states in environment\n",
    "        self.update_agents()\n",
    "        "
   ]
  },
  {
   "cell_type": "markdown",
   "metadata": {},
   "source": [
    "# Blue function max simulation"
   ]
  },
  {
   "cell_type": "code",
   "execution_count": 22,
   "metadata": {},
   "outputs": [],
   "source": [
    "env_availability_viz_blue= []\n",
    "env_availability_score_blue= []\n",
    "for item in All_coordinates:\n",
    "    Agent_one=initialize_agents_fixed_origin (stencil_von_neumann,avail_lattice,item)\n",
    "    \n",
    "    # name the lattices myagent_attractor_one\n",
    "    occ_lattice_sim = tg.to_lattice(np.copy(avail_lattice*1), avail_lattice)\n",
    "    env_B = {\"availibility\": occ_lattice_sim,\"enviornment\": Bv}\n",
    "\n",
    "\n",
    "    # initiate the environment\n",
    "    # Replace the envs in the enviornment initilization to check the values for all the agents on all the locations\n",
    "    env_1 = environment(env_B, Agent_one,B1,\"one_neighbour_occupy_cubish_behaviour\")\n",
    "   \n",
    "    env_list =[env_1]\n",
    "    number_steps = max(map(lambda e:e.number_of_iterations,env_list))\n",
    "    \n",
    "    for a in range(number_steps):\n",
    "        # print(env.availibility)\n",
    "        #print(env.agent_origin)\n",
    "        for e in env_list:\n",
    "            if a < e.number_of_iterations :\n",
    "                #print(a)\n",
    "                #print(e.number_of_iterations)\n",
    "                if e.method_name == \"one_neighbour_occupy_squareness_moore\":\n",
    "                    e.one_neighbour_occupy_squareness_moore()\n",
    "\n",
    "                elif e.method_name == \"one_neighbour_occupy_cubish_agents\" :\n",
    "                    e.one_neighbour_occupy_cubish_agents()\n",
    "\n",
    "                elif e.method_name == \"random_occupy_squareness_agents\" :\n",
    "                    e.random_occupy_squareness_agents()\n",
    "\n",
    "                elif e.method_name == \"random_occupy_cubish_agents\" :\n",
    "                    e.random_occupy_cubish_agents()  \n",
    "\n",
    "                elif e.method_name == \"random_occupy_cubish_von_neumann_agents\" :\n",
    "                    e.random_occupy_cubish_von_neumann_agents()                           \n",
    "\n",
    "                elif e.method_name == \"one_neighbour_occupy_squareness_von_neumann\" :\n",
    "                    e.one_neighbour_occupy_squareness_von_neumann()                \n",
    "\n",
    "\n",
    "                elif e.method_name == \"one_neighbour_occupy_squareness_behaviour\" :\n",
    "                    e.one_neighbour_occupy_squareness_behaviour()  \n",
    "\n",
    "                elif e.method_name == \"one_neighbour_occupy_cubish_behaviour\" :\n",
    "                    e.one_neighbour_occupy_cubish_behaviour()  \n",
    "\n",
    "                elif e.method_name == \"argmax_occupy_von_neumann\" :\n",
    "                    e.argmax_occupy_von_neumann()  \n",
    "                    \n",
    "    env_availability_viz_blue.append(e.availibility-1)\n",
    "    env_availability_score_blue.append(np.sum(e.value[e.availibility == item]))  "
   ]
  },
  {
   "cell_type": "code",
   "execution_count": 23,
   "metadata": {},
   "outputs": [
    {
     "data": {
      "text/plain": [
       "[657, 651, 580, 574, 503, 497]"
      ]
     },
     "execution_count": 23,
     "metadata": {},
     "output_type": "execute_result"
    }
   ],
   "source": [
    "top_five_blue = sorted( [(x,i) for (i,x) in enumerate(env_availability_score_blue)], reverse=True )[:15] \n",
    "top_five_blue_origins = []\n",
    "for item in top_five_blue:\n",
    "    top_five_blue_origins.append(All_coordinates[item[1]])\n",
    "top_five_blue_origins"
   ]
  },
  {
   "cell_type": "markdown",
   "metadata": {},
   "source": [
    "# Green function max simulation"
   ]
  },
  {
   "cell_type": "code",
   "execution_count": 24,
   "metadata": {},
   "outputs": [],
   "source": [
    "env_availability_viz_green= []\n",
    "env_availability_score_green= []\n",
    "for item in All_coordinates:\n",
    "    Agent_one=initialize_agents_fixed_origin (stencil_von_neumann,avail_lattice,item)\n",
    "    \n",
    "    # name the lattices myagent_attractor_one\n",
    "    occ_lattice_sim = tg.to_lattice(np.copy(avail_lattice*1), avail_lattice)\n",
    "    env_G = {\"availibility\": occ_lattice_sim,\"enviornment\": Gv}\n",
    "\n",
    "\n",
    "    # initiate the environment\n",
    "    # Replace the envs in the enviornment initilization to check the values for all the agents on all the locations\n",
    "    env_1 = environment(env_G, Agent_one,G1,\"one_neighbour_occupy_cubish_behaviour\")\n",
    "   \n",
    "    env_list =[env_1]\n",
    "    number_steps = max(map(lambda e:e.number_of_iterations,env_list))\n",
    "    \n",
    "    for a in range(number_steps):\n",
    "        # print(env.availibility)\n",
    "        #print(env.agent_origin)\n",
    "        for e in env_list:\n",
    "            if a < e.number_of_iterations :\n",
    "                #print(a)\n",
    "                #print(e.number_of_iterations)\n",
    "                if e.method_name == \"one_neighbour_occupy_squareness_moore\":\n",
    "                    e.one_neighbour_occupy_squareness_moore()\n",
    "\n",
    "                elif e.method_name == \"one_neighbour_occupy_cubish_agents\" :\n",
    "                    e.one_neighbour_occupy_cubish_agents()\n",
    "\n",
    "                elif e.method_name == \"random_occupy_squareness_agents\" :\n",
    "                    e.random_occupy_squareness_agents()\n",
    "\n",
    "                elif e.method_name == \"random_occupy_cubish_agents\" :\n",
    "                    e.random_occupy_cubish_agents()  \n",
    "\n",
    "                elif e.method_name == \"random_occupy_cubish_von_neumann_agents\" :\n",
    "                    e.random_occupy_cubish_von_neumann_agents()                           \n",
    "\n",
    "                elif e.method_name == \"one_neighbour_occupy_squareness_von_neumann\" :\n",
    "                    e.one_neighbour_occupy_squareness_von_neumann()                \n",
    "\n",
    "\n",
    "                elif e.method_name == \"one_neighbour_occupy_squareness_behaviour\" :\n",
    "                    e.one_neighbour_occupy_squareness_behaviour()  \n",
    "\n",
    "                elif e.method_name == \"one_neighbour_occupy_cubish_behaviour\" :\n",
    "                    e.one_neighbour_occupy_cubish_behaviour()  \n",
    "\n",
    "                elif e.method_name == \"argmax_occupy_von_neumann\" :\n",
    "                    e.argmax_occupy_von_neumann()  \n",
    "                    \n",
    "    env_availability_viz_blue.append(e.availibility-1)\n",
    "    env_availability_score_green.append(np.sum(e.value[e.availibility == item]))  "
   ]
  },
  {
   "cell_type": "code",
   "execution_count": 25,
   "metadata": {},
   "outputs": [
    {
     "data": {
      "text/plain": [
       "[503, 497, 580, 574, 657, 651]"
      ]
     },
     "execution_count": 25,
     "metadata": {},
     "output_type": "execute_result"
    }
   ],
   "source": [
    "top_five_green = sorted( [(x,i) for (i,x) in enumerate(env_availability_score_green)], reverse=True )[:15] \n",
    "top_five_green_origins = []\n",
    "for item in top_five_green:\n",
    "    top_five_green_origins.append(All_coordinates[item[1]])\n",
    "top_five_green_origins    "
   ]
  },
  {
   "cell_type": "markdown",
   "metadata": {},
   "source": [
    "# Yellow function max simulation"
   ]
  },
  {
   "cell_type": "code",
   "execution_count": 26,
   "metadata": {},
   "outputs": [],
   "source": [
    "env_availability_viz_yellow= []\n",
    "env_availability_score_yellow= []\n",
    "for item in All_coordinates:\n",
    "    Agent_one=initialize_agents_fixed_origin (stencil_von_neumann,avail_lattice,item)\n",
    "    \n",
    "    # name the lattices myagent_attractor_one\n",
    "    occ_lattice_sim = tg.to_lattice(np.copy(avail_lattice*1), avail_lattice)\n",
    "    env_Y = {\"availibility\": occ_lattice_sim,\"enviornment\": Yv}\n",
    "\n",
    "\n",
    "    # initiate the environment\n",
    "    # Replace the envs in the enviornment initilization to check the values for all the agents on all the locations\n",
    "    env_1 = environment(env_Y, Agent_one,Y1,\"one_neighbour_occupy_cubish_behaviour\")\n",
    "   \n",
    "    env_list =[env_1]\n",
    "    number_steps = max(map(lambda e:e.number_of_iterations,env_list))\n",
    "    \n",
    "    for a in range(number_steps):\n",
    "        # print(env.availibility)\n",
    "        #print(env.agent_origin)\n",
    "        for e in env_list:\n",
    "            if a < e.number_of_iterations :\n",
    "                #print(a)\n",
    "                #print(e.number_of_iterations)\n",
    "                if e.method_name == \"one_neighbour_occupy_squareness_moore\":\n",
    "                    e.one_neighbour_occupy_squareness_moore()\n",
    "\n",
    "                elif e.method_name == \"one_neighbour_occupy_cubish_agents\" :\n",
    "                    e.one_neighbour_occupy_cubish_agents()\n",
    "\n",
    "                elif e.method_name == \"random_occupy_squareness_agents\" :\n",
    "                    e.random_occupy_squareness_agents()\n",
    "\n",
    "                elif e.method_name == \"random_occupy_cubish_agents\" :\n",
    "                    e.random_occupy_cubish_agents()  \n",
    "\n",
    "                elif e.method_name == \"random_occupy_cubish_von_neumann_agents\" :\n",
    "                    e.random_occupy_cubish_von_neumann_agents()                           \n",
    "\n",
    "                elif e.method_name == \"one_neighbour_occupy_squareness_von_neumann\" :\n",
    "                    e.one_neighbour_occupy_squareness_von_neumann()                \n",
    "\n",
    "\n",
    "                elif e.method_name == \"one_neighbour_occupy_squareness_behaviour\" :\n",
    "                    e.one_neighbour_occupy_squareness_behaviour()  \n",
    "\n",
    "                elif e.method_name == \"one_neighbour_occupy_cubish_behaviour\" :\n",
    "                    e.one_neighbour_occupy_cubish_behaviour()  \n",
    "\n",
    "                elif e.method_name == \"argmax_occupy_von_neumann\" :\n",
    "                    e.argmax_occupy_von_neumann()  \n",
    "                    \n",
    "    env_availability_viz_yellow.append(e.availibility-1)\n",
    "    env_availability_score_yellow.append(np.sum(e.value[e.availibility == item]))  "
   ]
  },
  {
   "cell_type": "code",
   "execution_count": 27,
   "metadata": {},
   "outputs": [
    {
     "data": {
      "text/plain": [
       "[657, 651, 580, 574, 503, 497]"
      ]
     },
     "execution_count": 27,
     "metadata": {},
     "output_type": "execute_result"
    }
   ],
   "source": [
    "top_five_yellow = sorted( [(x,i) for (i,x) in enumerate(env_availability_score_yellow)], reverse=True )[:15] \n",
    "top_five_yellow_origins = []\n",
    "for item in top_five_yellow:\n",
    "    top_five_yellow_origins.append(All_coordinates[item[1]])\n",
    "top_five_yellow_origins    "
   ]
  },
  {
   "cell_type": "markdown",
   "metadata": {},
   "source": [
    "# Red function max simulation"
   ]
  },
  {
   "cell_type": "code",
   "execution_count": 28,
   "metadata": {},
   "outputs": [],
   "source": [
    "env_availability_viz_red= []\n",
    "env_availability_score_red= []\n",
    "for item in All_coordinates:\n",
    "    Agent_one=initialize_agents_fixed_origin (stencil_von_neumann,avail_lattice,item)\n",
    "    \n",
    "    # name the lattices myagent_attractor_one\n",
    "    occ_lattice_sim = tg.to_lattice(np.copy(avail_lattice*1), avail_lattice)\n",
    "    env_R = {\"availibility\": occ_lattice_sim,\"enviornment\": Rv}\n",
    "\n",
    "\n",
    "    # initiate the environment\n",
    "    # Replace the envs in the enviornment initilization to check the values for all the agents on all the locations\n",
    "    env_1 = environment(env_R, Agent_one,R1,\"one_neighbour_occupy_cubish_behaviour\")\n",
    "   \n",
    "    env_list =[env_1]\n",
    "    number_steps = max(map(lambda e:e.number_of_iterations,env_list))\n",
    "    \n",
    "    for a in range(number_steps):\n",
    "        # print(env.availibility)\n",
    "        #print(env.agent_origin)\n",
    "        for e in env_list:\n",
    "            if a < e.number_of_iterations :\n",
    "                #print(a)\n",
    "                #print(e.number_of_iterations)\n",
    "                if e.method_name == \"one_neighbour_occupy_squareness_moore\":\n",
    "                    e.one_neighbour_occupy_squareness_moore()\n",
    "\n",
    "                elif e.method_name == \"one_neighbour_occupy_cubish_agents\" :\n",
    "                    e.one_neighbour_occupy_cubish_agents()\n",
    "\n",
    "                elif e.method_name == \"random_occupy_squareness_agents\" :\n",
    "                    e.random_occupy_squareness_agents()\n",
    "\n",
    "                elif e.method_name == \"random_occupy_cubish_agents\" :\n",
    "                    e.random_occupy_cubish_agents()  \n",
    "\n",
    "                elif e.method_name == \"random_occupy_cubish_von_neumann_agents\" :\n",
    "                    e.random_occupy_cubish_von_neumann_agents()                           \n",
    "\n",
    "                elif e.method_name == \"one_neighbour_occupy_squareness_von_neumann\" :\n",
    "                    e.one_neighbour_occupy_squareness_von_neumann()                \n",
    "\n",
    "\n",
    "                elif e.method_name == \"one_neighbour_occupy_squareness_behaviour\" :\n",
    "                    e.one_neighbour_occupy_squareness_behaviour()  \n",
    "\n",
    "                elif e.method_name == \"one_neighbour_occupy_cubish_behaviour\" :\n",
    "                    e.one_neighbour_occupy_cubish_behaviour()  \n",
    "\n",
    "                elif e.method_name == \"argmax_occupy_von_neumann\" :\n",
    "                    e.argmax_occupy_von_neumann()  \n",
    "                    \n",
    "    env_availability_viz_red.append(e.availibility-1)\n",
    "    env_availability_score_red.append(np.sum(e.value[e.availibility == item]))  "
   ]
  },
  {
   "cell_type": "code",
   "execution_count": 29,
   "metadata": {},
   "outputs": [
    {
     "data": {
      "text/plain": [
       "[580, 574, 657, 651, 503, 497]"
      ]
     },
     "execution_count": 29,
     "metadata": {},
     "output_type": "execute_result"
    }
   ],
   "source": [
    "top_five_red = sorted( [(x,i) for (i,x) in enumerate(env_availability_score_red)], reverse=True )[:15] \n",
    "top_five_red_origins = []\n",
    "for item in top_five_red:\n",
    "    top_five_red_origins.append(All_coordinates[item[1]])\n",
    "top_five_red_origins  "
   ]
  },
  {
   "cell_type": "markdown",
   "metadata": {},
   "source": [
    "# Violet function max simulation"
   ]
  },
  {
   "cell_type": "code",
   "execution_count": 30,
   "metadata": {},
   "outputs": [],
   "source": [
    "env_availability_viz_violet= []\n",
    "env_availability_score_violet= []\n",
    "for item in All_coordinates:\n",
    "    Agent_one=initialize_agents_fixed_origin (stencil_von_neumann,avail_lattice,item)\n",
    "    \n",
    "    # name the lattices myagent_attractor_one\n",
    "    occ_lattice_sim = tg.to_lattice(np.copy(avail_lattice*1), avail_lattice)\n",
    "    env_V = {\"availibility\": occ_lattice_sim,\"enviornment\": Vv}\n",
    "\n",
    "\n",
    "    # initiate the environment\n",
    "    # Replace the envs in the enviornment initilization to check the values for all the agents on all the locations\n",
    "    env_1 = environment(env_V, Agent_one,V1,\"one_neighbour_occupy_cubish_behaviour\")\n",
    "   \n",
    "    env_list =[env_1]\n",
    "    number_steps = max(map(lambda e:e.number_of_iterations,env_list))\n",
    "    \n",
    "    for a in range(number_steps):\n",
    "        # print(env.availibility)\n",
    "        #print(env.agent_origin)\n",
    "        for e in env_list:\n",
    "            if a < e.number_of_iterations :\n",
    "                #print(a)\n",
    "                #print(e.number_of_iterations)\n",
    "                if e.method_name == \"one_neighbour_occupy_squareness_moore\":\n",
    "                    e.one_neighbour_occupy_squareness_moore()\n",
    "\n",
    "                elif e.method_name == \"one_neighbour_occupy_cubish_agents\" :\n",
    "                    e.one_neighbour_occupy_cubish_agents()\n",
    "\n",
    "                elif e.method_name == \"random_occupy_squareness_agents\" :\n",
    "                    e.random_occupy_squareness_agents()\n",
    "\n",
    "                elif e.method_name == \"random_occupy_cubish_agents\" :\n",
    "                    e.random_occupy_cubish_agents()  \n",
    "\n",
    "                elif e.method_name == \"random_occupy_cubish_von_neumann_agents\" :\n",
    "                    e.random_occupy_cubish_von_neumann_agents()                           \n",
    "\n",
    "                elif e.method_name == \"one_neighbour_occupy_squareness_von_neumann\" :\n",
    "                    e.one_neighbour_occupy_squareness_von_neumann()                \n",
    "\n",
    "\n",
    "                elif e.method_name == \"one_neighbour_occupy_squareness_behaviour\" :\n",
    "                    e.one_neighbour_occupy_squareness_behaviour()  \n",
    "\n",
    "                elif e.method_name == \"one_neighbour_occupy_cubish_behaviour\" :\n",
    "                    e.one_neighbour_occupy_cubish_behaviour()  \n",
    "\n",
    "                elif e.method_name == \"argmax_occupy_von_neumann\" :\n",
    "                    e.argmax_occupy_von_neumann()  \n",
    "                    \n",
    "    env_availability_viz_violet.append(e.availibility-1)\n",
    "    env_availability_score_violet.append(np.sum(e.value[e.availibility == item]))  "
   ]
  },
  {
   "cell_type": "code",
   "execution_count": 31,
   "metadata": {},
   "outputs": [
    {
     "data": {
      "text/plain": [
       "[(cloud(4929.), 3),\n",
       " (cloud(4929.), 2),\n",
       " (cloud(4707.), 5),\n",
       " (cloud(4707.), 4),\n",
       " (cloud(4293.), 1),\n",
       " (cloud(4293.), 0)]"
      ]
     },
     "execution_count": 31,
     "metadata": {},
     "output_type": "execute_result"
    }
   ],
   "source": [
    "top_five_violet = sorted( [(x,i) for (i,x) in enumerate(env_availability_score_violet)], reverse=True )[:15] \n",
    "top_five_violet_origins = []\n",
    "for item in top_five_violet:\n",
    "    top_five_violet_origins.append(All_coordinates[item[1]])\n",
    "top_five_violet"
   ]
  },
  {
   "cell_type": "markdown",
   "metadata": {},
   "source": [
    "# All_simulations"
   ]
  },
  {
   "cell_type": "code",
   "execution_count": 32,
   "metadata": {},
   "outputs": [],
   "source": [
    "env_availability_viz_all_options = []\n",
    "\n",
    "for item in all_permutations:\n",
    "    Agent_one=initialize_agents_fixed_origin (stencil_von_neumann,avail_lattice,item[0])\n",
    "    Agent_two=initialize_agents_fixed_origin (stencil_von_neumann,avail_lattice,item[1])\n",
    "    Agent_three=initialize_agents_fixed_origin (stencil_von_neumann,avail_lattice,item[2])\n",
    "    Agent_four=initialize_agents_fixed_origin (stencil_von_neumann,avail_lattice,item[3])\n",
    "    Agent_five=initialize_agents_fixed_origin (stencil_von_neumann,avail_lattice,item[4])\n",
    "    # name the lattices myagent_attractor_one\n",
    "    occ_lattice_sim = tg.to_lattice(np.copy(avail_lattice), avail_lattice)\n",
    "    env_B = {\"availibility\": occ_lattice_sim,\"enviornment\": Bv}\n",
    "    env_G = {\"availibility\": occ_lattice_sim,\"enviornment\": Gv}\n",
    "    env_R = {\"availibility\": occ_lattice_sim,\"enviornment\": Rv}\n",
    "    env_Y = {\"availibility\": occ_lattice_sim,\"enviornment\": Yv}\n",
    "    env_V = {\"availibility\": occ_lattice_sim,\"enviornment\": Vv}\n",
    "\n",
    "\n",
    "    # initiate the environment\n",
    "    # Replace the envs in the enviornment initilization to check the values for all the agents on all the locations\n",
    "    env_1 = environment(env_B, Agent_one,B1,\"one_neighbour_occupy_cubish_behaviour\")\n",
    "    env_2 = environment(env_G, Agent_two,G1,\"one_neighbour_occupy_cubish_behaviour\")\n",
    "    env_3 = environment(env_Y, Agent_three,Y1,\"one_neighbour_occupy_cubish_behaviour\")\n",
    "    env_4 = environment(env_R, Agent_four,R1,\"one_neighbour_occupy_cubish_behaviour\")\n",
    "    env_5 = environment(env_V, Agent_five,V1,\"one_neighbour_occupy_cubish_behaviour\")\n",
    "    \n",
    "    \n",
    "    env_list =[env_2,env_3,env_4,env_5]\n",
    "    number_steps = max(map(lambda e:e.number_of_iterations,env_list))\n",
    "    \n",
    "    for a in range(number_steps):\n",
    "        # print(env.availibility)\n",
    "        #print(env.agent_origin)\n",
    "        for e in env_list:\n",
    "            if a < e.number_of_iterations :\n",
    "                #print(a)\n",
    "                #print(e.number_of_iterations)\n",
    "                if e.method_name == \"one_neighbour_occupy_squareness_moore\":\n",
    "                    e.one_neighbour_occupy_squareness_moore()\n",
    "\n",
    "                elif e.method_name == \"one_neighbour_occupy_cubish_agents\" :\n",
    "                    e.one_neighbour_occupy_cubish_agents()\n",
    "\n",
    "                elif e.method_name == \"random_occupy_squareness_agents\" :\n",
    "                    e.random_occupy_squareness_agents()\n",
    "\n",
    "                elif e.method_name == \"random_occupy_cubish_agents\" :\n",
    "                    e.random_occupy_cubish_agents()  \n",
    "\n",
    "                elif e.method_name == \"random_occupy_cubish_von_neumann_agents\" :\n",
    "                    e.random_occupy_cubish_von_neumann_agents()                           \n",
    "\n",
    "                elif e.method_name == \"one_neighbour_occupy_squareness_von_neumann\" :\n",
    "                    e.one_neighbour_occupy_squareness_von_neumann()                \n",
    "\n",
    "\n",
    "                elif e.method_name == \"one_neighbour_occupy_squareness_behaviour\" :\n",
    "                    e.one_neighbour_occupy_squareness_behaviour()  \n",
    "\n",
    "                elif e.method_name == \"one_neighbour_occupy_cubish_behaviour\" :\n",
    "                    e.one_neighbour_occupy_cubish_behaviour()  \n",
    "\n",
    "                elif e.method_name == \"argmax_occupy_von_neumann\" :\n",
    "                    e.argmax_occupy_von_neumann()  \n",
    "                    \n",
    "    env_availability_viz_all_options.append(e.availibility)    \n"
   ]
  },
  {
   "cell_type": "markdown",
   "metadata": {},
   "source": [
    "## Pickle Objects for reference \n",
    "change the name for each simulation / put it in a for loop "
   ]
  },
  {
   "cell_type": "code",
   "execution_count": 33,
   "metadata": {},
   "outputs": [
    {
     "data": {
      "text/plain": [
       "(720, 6, 21, 11)"
      ]
     },
     "execution_count": 33,
     "metadata": {},
     "output_type": "execute_result"
    }
   ],
   "source": [
    "all_options = pickle.dump( env_availability_viz_all_options, open( \"all_options.p\", \"wb\" ) )\n",
    "pickle_all_options = pickle.load( open( \"all_options.p\", \"rb\" ) ) \n",
    "pickle_all_options_array = np.array(pickle_all_options)\n",
    "pickle_all_options_tglattice=tg.to_lattice(np.copy(pickle_all_options_array), pickle_all_options_array.shape)\n",
    "pickle_all_options_tglattice.shape"
   ]
  },
  {
   "cell_type": "markdown",
   "metadata": {},
   "source": [
    "## Vizualise the simulation"
   ]
  },
  {
   "cell_type": "code",
   "execution_count": 34,
   "metadata": {},
   "outputs": [
    {
     "data": {
      "application/vnd.jupyter.widget-view+json": {
       "model_id": "106ea414e46c4576852c3e5e3d4d189f",
       "version_major": 2,
       "version_minor": 0
      },
      "text/plain": [
       "ViewInteractiveWidget(height=768, layout=Layout(height='auto', width='100%'), width=1024)"
      ]
     },
     "metadata": {},
     "output_type": "display_data"
    },
    {
     "data": {
      "text/plain": [
       "[(749.7749358870385, 43.27493588703855, 53.27493588703855),\n",
       " (722.5, 16.0, 26.0),\n",
       " (0.0, 0.0, 1.0)]"
      ]
     },
     "execution_count": 34,
     "metadata": {},
     "output_type": "execute_result"
    }
   ],
   "source": [
    "p = pv.Plotter(notebook=True)\n",
    "\n",
    "base_lattice = pickle_all_options_tglattice[0]\n",
    "\n",
    "# Set the grid dimensions: shape + 1 because we want to inject our values on the CELL data\n",
    "grid = pv.UniformGrid()\n",
    "grid.dimensions = np.array(base_lattice.shape) + 1\n",
    "# The bottom left corner of the data set\n",
    "grid.origin = base_lattice.minbound - base_lattice.unit * 0.5\n",
    "# These are the cell sizes along each axis\n",
    "grid.spacing = base_lattice.unit \n",
    "\n",
    "# adding the boundingbox wireframe\n",
    "p.add_mesh(grid.outline(), color=\"grey\", label=\"Domain\")\n",
    "\n",
    "# adding the avilability lattice\n",
    "#base_env_availability_viz_top_500[0].fast_vis(p)\n",
    "\n",
    "# adding axes\n",
    "p.add_axes()\n",
    "p.show_bounds(grid=\"back\", location=\"back\", color=\"#aaaaaa\") \n",
    "\n",
    "def create_mesh(value):\n",
    "    f = int(value)\n",
    "    lattice = pickle_all_options_tglattice[f]\n",
    "\n",
    "    # Add the data values to the cell data\n",
    "    grid.cell_arrays[\"Agents\"] = lattice.flatten(order=\"F\").astype(int)  # Flatten the array!\n",
    "    # filtering the voxels\n",
    "    threshed = grid.threshold([1.0, avail_lattice.size])\n",
    "    # adding the voxels\n",
    "    p.add_mesh(threshed, name='sphere', show_edges=True, opacity=1.0, show_scalar_bar=False)\n",
    "    return\n",
    "number_steps_2 = len(all_permutations)\n",
    "p.add_slider_widget(create_mesh, [0, number_steps_2], title='Time', value=0, event_type=\"always\", style=\"classic\")\n",
    "\n",
    "\n",
    "p.show(use_ipyvtk=True)"
   ]
  },
  {
   "cell_type": "markdown",
   "metadata": {},
   "source": [
    "# Calculate the score for each simulation"
   ]
  },
  {
   "cell_type": "code",
   "execution_count": 35,
   "metadata": {},
   "outputs": [],
   "source": [
    "all_values=[]\n",
    "for lattice,index in zip (pickle_all_options,all_permutations):\n",
    "    lattice_flat = lattice.flatten()\n",
    "    B= np.sum(Bv.flatten()[lattice_flat == index[0]])\n",
    "    G= np.sum(Gv.flatten()[lattice_flat == index[1]])\n",
    "    Y= np.sum(Yv.flatten()[lattice_flat == index[2]])\n",
    "    R= np.sum(Rv.flatten()[lattice_flat == index[3]])\n",
    "    V= np.sum(Vv.flatten()[lattice_flat == index[4]])\n",
    "    all_values.append(B+G+Y+R+V)\n",
    "sorted_values= np.sort(np.array(all_values))"
   ]
  },
  {
   "cell_type": "code",
   "execution_count": 36,
   "metadata": {},
   "outputs": [
    {
     "data": {
      "text/plain": [
       "14076.0"
      ]
     },
     "execution_count": 36,
     "metadata": {},
     "output_type": "execute_result"
    }
   ],
   "source": [
    "sorted_values[510]"
   ]
  },
  {
   "cell_type": "code",
   "execution_count": 37,
   "metadata": {},
   "outputs": [
    {
     "data": {
      "text/plain": [
       "array([11553., 11553., 11562., 11562., 11565., 11565., 11598., 11598.,\n",
       "       11604., 11604., 11610., 11610., 11613., 11613., 11628., 11628.,\n",
       "       11667., 11667., 11670., 11670., 11676., 11676., 11676., 11682.,\n",
       "       11682., 11682., 11730., 11754., 11754., 12930., 12930., 12930.,\n",
       "       12930., 12939., 12939., 12939., 12939., 13065., 13065., 13101.,\n",
       "       13101., 13386., 13386., 13389., 13401., 13425., 13449., 13452.,\n",
       "       13461., 13461., 13461., 13461., 13464., 13464., 13467., 13470.,\n",
       "       13476., 13476., 13476., 13476., 13479., 13488., 13491., 13491.,\n",
       "       13491., 13497., 13500., 13500., 13503., 13503., 13503., 13503.,\n",
       "       13506., 13506., 13506., 13509., 13509., 13512., 13512., 13512.,\n",
       "       13515., 13515., 13515., 13521., 13521., 13524., 13524., 13527.,\n",
       "       13527., 13527., 13527., 13527., 13530., 13533., 13536., 13536.,\n",
       "       13539., 13539., 13539., 13539., 13542., 13542., 13545., 13551.,\n",
       "       13563., 13587., 13599., 13629., 13629., 13632., 13635., 13635.,\n",
       "       13638., 13644., 13644., 13644., 13647., 13647., 13653., 13653.,\n",
       "       13653., 13656., 13668., 13674., 13674., 13674., 13677., 13677.,\n",
       "       13683., 13686., 13707., 13716., 13716., 13716., 13719., 13719.,\n",
       "       13719., 13722., 13722., 13728., 13728., 13731., 13743., 13743.,\n",
       "       13743., 13743., 13743., 13746., 13755., 13755., 13770., 13770.,\n",
       "       13779., 13779., 13800., 13800., 13806., 13809., 13809., 13812.,\n",
       "       13818., 13821., 13824., 13824., 13824., 13824., 13833., 13836.,\n",
       "       13836., 13836., 13839., 13842., 13845., 13851., 13857., 13863.,\n",
       "       13863., 13863., 13863., 13863., 13866., 13866., 13866., 13866.,\n",
       "       13869., 13872., 13872., 13875., 13881., 13881., 13881., 13884.,\n",
       "       13884., 13884., 13890., 13890., 13893., 13893., 13896., 13896.,\n",
       "       13899., 13899., 13899., 13899., 13902., 13902., 13905., 13905.,\n",
       "       13908., 13908., 13908., 13908., 13908., 13908., 13911., 13911.,\n",
       "       13914., 13914., 13914., 13914., 13917., 13920., 13923., 13926.,\n",
       "       13926., 13926., 13929., 13929., 13929., 13932., 13932., 13932.,\n",
       "       13932., 13935., 13935., 13938., 13938., 13938., 13938., 13938.,\n",
       "       13941., 13941., 13941., 13941., 13941., 13941., 13941., 13944.,\n",
       "       13944., 13944., 13944., 13944., 13947., 13947., 13947., 13947.,\n",
       "       13950., 13950., 13950., 13950., 13953., 13953., 13953., 13953.,\n",
       "       13953., 13953., 13956., 13956., 13959., 13959., 13959., 13959.,\n",
       "       13962., 13962., 13962., 13962., 13962., 13962., 13962., 13962.,\n",
       "       13962., 13962., 13962., 13962., 13968., 13968., 13968., 13968.,\n",
       "       13968., 13968., 13968., 13968., 13968., 13968., 13971., 13971.,\n",
       "       13974., 13977., 13977., 13977., 13977., 13980., 13980., 13983.,\n",
       "       13983., 13983., 13983., 13986., 13986., 13989., 13989., 13992.,\n",
       "       13992., 13992., 13992., 13992., 13992., 13992., 13992., 13992.,\n",
       "       13992., 13992., 13995., 13995., 13995., 13995., 13995., 13995.,\n",
       "       13995., 13995., 13995., 13995., 13998., 13998., 13998., 13998.,\n",
       "       13998., 13998., 13998., 13998., 13998., 13998., 13998., 14001.,\n",
       "       14001., 14001., 14001., 14001., 14004., 14004., 14004., 14004.,\n",
       "       14004., 14004., 14004., 14004., 14004., 14004., 14004., 14004.,\n",
       "       14004., 14004., 14004., 14004., 14007., 14007., 14007., 14007.,\n",
       "       14007., 14007., 14007., 14007., 14010., 14010., 14010., 14010.,\n",
       "       14010., 14010., 14010., 14010., 14010., 14010., 14010., 14010.,\n",
       "       14013., 14013., 14013., 14013., 14013., 14013., 14016., 14016.,\n",
       "       14016., 14016., 14016., 14016., 14016., 14016., 14016., 14016.,\n",
       "       14019., 14019., 14019., 14022., 14022., 14025., 14025., 14025.,\n",
       "       14025., 14028., 14028., 14028., 14028., 14031., 14031., 14031.,\n",
       "       14031., 14031., 14031., 14031., 14031., 14031., 14031., 14031.,\n",
       "       14031., 14031., 14031., 14031., 14031., 14034., 14034., 14034.,\n",
       "       14034., 14034., 14034., 14037., 14037., 14037., 14037., 14037.,\n",
       "       14040., 14040., 14040., 14043., 14043., 14043., 14043., 14043.,\n",
       "       14043., 14043., 14043., 14043., 14043., 14043., 14043., 14046.,\n",
       "       14046., 14046., 14049., 14049., 14049., 14049., 14049., 14049.,\n",
       "       14049., 14052., 14052., 14052., 14055., 14055., 14055., 14058.,\n",
       "       14058., 14058., 14058., 14058., 14061., 14061., 14064., 14064.,\n",
       "       14064., 14064., 14064., 14067., 14067., 14067., 14067., 14070.,\n",
       "       14070., 14070., 14070., 14070., 14070., 14070., 14070., 14073.,\n",
       "       14073., 14073., 14073., 14073., 14073., 14073., 14073., 14073.,\n",
       "       14073., 14073., 14073., 14076., 14076., 14076., 14076., 14076.,\n",
       "       14076., 14076., 14076., 14076., 14076., 14076., 14076., 14076.,\n",
       "       14076., 14076., 14079., 14079., 14079., 14079., 14079., 14079.,\n",
       "       14079., 14079., 14079., 14082., 14082., 14082., 14085., 14085.,\n",
       "       14088., 14091., 14091., 14091., 14091., 14094., 14094., 14094.,\n",
       "       14094., 14097., 14097., 14097., 14097., 14100., 14100., 14100.,\n",
       "       14100., 14100., 14100., 14103., 14103., 14103., 14103., 14103.,\n",
       "       14106., 14106., 14106., 14106., 14106., 14106., 14109., 14109.,\n",
       "       14109., 14112., 14112., 14112., 14112., 14112., 14112., 14112.,\n",
       "       14112., 14112., 14112., 14112., 14112., 14112., 14112., 14112.,\n",
       "       14112., 14112., 14112., 14115., 14115., 14118., 14118., 14118.,\n",
       "       14118., 14118., 14118., 14118., 14118., 14118., 14121., 14121.,\n",
       "       14121., 14121., 14121., 14121., 14121., 14124., 14124., 14124.,\n",
       "       14124., 14127., 14133., 14136., 14136., 14136., 14136., 14139.,\n",
       "       14139., 14139., 14139., 14139., 14139., 14139., 14139., 14139.,\n",
       "       14139., 14145., 14145., 14145., 14145., 14145., 14145., 14148.,\n",
       "       14151., 14151., 14154., 14154., 14154., 14154., 14154., 14154.,\n",
       "       14154., 14157., 14160., 14160., 14163., 14163., 14166., 14166.,\n",
       "       14169., 14169., 14169., 14178., 14178., 14178., 14178., 14178.,\n",
       "       14181., 14181., 14184., 14184., 14184., 14184., 14199., 14199.,\n",
       "       14199., 14205., 14208., 14211., 14214., 14214., 14214., 14214.,\n",
       "       14214., 14217., 14220., 14220., 14220., 14223., 14223., 14223.,\n",
       "       14226., 14226., 14226., 14232., 14232., 14232., 14232., 14232.,\n",
       "       14232., 14238., 14238., 14241., 14241., 14268., 14268., 14268.,\n",
       "       14268., 14301., 14304., 14307., 14307., 14310., 14310., 14310.,\n",
       "       14310., 14310., 14310., 14310., 14310., 14316., 14352., 14355.,\n",
       "       14436., 14436., 14436., 14436., 14442., 14442., 14442., 14442.])"
      ]
     },
     "execution_count": 37,
     "metadata": {},
     "output_type": "execute_result"
    }
   ],
   "source": [
    "sorted_values"
   ]
  },
  {
   "cell_type": "code",
   "execution_count": 42,
   "metadata": {},
   "outputs": [
    {
     "data": {
      "text/plain": [
       "array([[184]], dtype=int64)"
      ]
     },
     "execution_count": 42,
     "metadata": {},
     "output_type": "execute_result"
    }
   ],
   "source": [
    "np.argwhere(sorted_values==13869)"
   ]
  },
  {
   "cell_type": "code",
   "execution_count": 39,
   "metadata": {},
   "outputs": [
    {
     "name": "stdout",
     "output_type": "stream",
     "text": [
      "14442.0\n",
      "11667.0\n"
     ]
    },
    {
     "data": {
      "text/plain": [
       "73"
      ]
     },
     "execution_count": 39,
     "metadata": {},
     "output_type": "execute_result"
    }
   ],
   "source": [
    "max_value = max(all_values)\n",
    "max_index = all_values.index(max_value)\n",
    "print(all_values[max_index])\n",
    "print(all_values[664])\n",
    "sorted_val = sorted(all_values)\n",
    "max_index"
   ]
  },
  {
   "cell_type": "markdown",
   "metadata": {},
   "source": [
    "# Save to Csv"
   ]
  },
  {
   "cell_type": "code",
   "execution_count": 40,
   "metadata": {},
   "outputs": [],
   "source": [
    "for i, lattice in enumerate(env_availability_viz_all_options):\n",
    "    csv_path = os.path.relpath('csv/abm_f_'+ f'{i:03}' + '.csv')\n",
    "    lattice.to_csv(csv_path)\n"
   ]
  },
  {
   "cell_type": "markdown",
   "metadata": {},
   "source": [
    "## Linear Optimization to derive a solution"
   ]
  },
  {
   "cell_type": "code",
   "execution_count": 41,
   "metadata": {},
   "outputs": [
    {
     "ename": "AttributeError",
     "evalue": "'cloud' object has no attribute 'AddSelfToCoeffMapOrStack'",
     "output_type": "error",
     "traceback": [
      "\u001b[1;31m---------------------------------------------------------------------------\u001b[0m",
      "\u001b[1;31mAttributeError\u001b[0m                            Traceback (most recent call last)",
      "\u001b[1;32m<ipython-input-41-df676da9d392>\u001b[0m in \u001b[0;36m<module>\u001b[1;34m\u001b[0m\n\u001b[0;32m     60\u001b[0m \u001b[1;33m\u001b[0m\u001b[0m\n\u001b[0;32m     61\u001b[0m \u001b[1;32mif\u001b[0m \u001b[0m__name__\u001b[0m \u001b[1;33m==\u001b[0m \u001b[1;34m'__main__'\u001b[0m\u001b[1;33m:\u001b[0m\u001b[1;33m\u001b[0m\u001b[1;33m\u001b[0m\u001b[0m\n\u001b[1;32m---> 62\u001b[1;33m     \u001b[0mmain\u001b[0m\u001b[1;33m(\u001b[0m\u001b[1;33m)\u001b[0m\u001b[1;33m\u001b[0m\u001b[1;33m\u001b[0m\u001b[0m\n\u001b[0m\u001b[0;32m     63\u001b[0m \u001b[1;33m\u001b[0m\u001b[0m\n",
      "\u001b[1;32m<ipython-input-41-df676da9d392>\u001b[0m in \u001b[0;36mmain\u001b[1;34m()\u001b[0m\n\u001b[0;32m     43\u001b[0m         \u001b[1;32mfor\u001b[0m \u001b[0mj\u001b[0m \u001b[1;32min\u001b[0m \u001b[0mrange\u001b[0m\u001b[1;33m(\u001b[0m\u001b[0mnum_tasks\u001b[0m\u001b[1;33m)\u001b[0m\u001b[1;33m:\u001b[0m\u001b[1;33m\u001b[0m\u001b[1;33m\u001b[0m\u001b[0m\n\u001b[0;32m     44\u001b[0m             \u001b[0mobjective_terms\u001b[0m\u001b[1;33m.\u001b[0m\u001b[0mappend\u001b[0m\u001b[1;33m(\u001b[0m\u001b[0mcosts\u001b[0m\u001b[1;33m[\u001b[0m\u001b[0mi\u001b[0m\u001b[1;33m]\u001b[0m\u001b[1;33m[\u001b[0m\u001b[0mj\u001b[0m\u001b[1;33m]\u001b[0m \u001b[1;33m*\u001b[0m \u001b[0mx\u001b[0m\u001b[1;33m[\u001b[0m\u001b[0mi\u001b[0m\u001b[1;33m,\u001b[0m \u001b[0mj\u001b[0m\u001b[1;33m]\u001b[0m\u001b[1;33m)\u001b[0m\u001b[1;33m\u001b[0m\u001b[1;33m\u001b[0m\u001b[0m\n\u001b[1;32m---> 45\u001b[1;33m     \u001b[0msolver\u001b[0m\u001b[1;33m.\u001b[0m\u001b[0mMaximize\u001b[0m\u001b[1;33m(\u001b[0m\u001b[0msolver\u001b[0m\u001b[1;33m.\u001b[0m\u001b[0mSum\u001b[0m\u001b[1;33m(\u001b[0m\u001b[0mobjective_terms\u001b[0m\u001b[1;33m)\u001b[0m\u001b[1;33m)\u001b[0m\u001b[1;33m\u001b[0m\u001b[1;33m\u001b[0m\u001b[0m\n\u001b[0m\u001b[0;32m     46\u001b[0m \u001b[1;33m\u001b[0m\u001b[0m\n\u001b[0;32m     47\u001b[0m     \u001b[1;31m# Solve\u001b[0m\u001b[1;33m\u001b[0m\u001b[1;33m\u001b[0m\u001b[1;33m\u001b[0m\u001b[0m\n",
      "\u001b[1;32m~\\AppData\\Roaming\\Python\\Python38\\site-packages\\ortools\\linear_solver\\pywraplp.py\u001b[0m in \u001b[0;36mMaximize\u001b[1;34m(self, expr)\u001b[0m\n\u001b[0;32m    280\u001b[0m           \u001b[0mobjective\u001b[0m\u001b[1;33m.\u001b[0m\u001b[0mSetOffset\u001b[0m\u001b[1;33m(\u001b[0m\u001b[0mexpr\u001b[0m\u001b[1;33m)\u001b[0m\u001b[1;33m\u001b[0m\u001b[1;33m\u001b[0m\u001b[0m\n\u001b[0;32m    281\u001b[0m       \u001b[1;32melse\u001b[0m\u001b[1;33m:\u001b[0m\u001b[1;33m\u001b[0m\u001b[1;33m\u001b[0m\u001b[0m\n\u001b[1;32m--> 282\u001b[1;33m           \u001b[0mcoeffs\u001b[0m \u001b[1;33m=\u001b[0m \u001b[0mexpr\u001b[0m\u001b[1;33m.\u001b[0m\u001b[0mGetCoeffs\u001b[0m\u001b[1;33m(\u001b[0m\u001b[1;33m)\u001b[0m\u001b[1;33m\u001b[0m\u001b[1;33m\u001b[0m\u001b[0m\n\u001b[0m\u001b[0;32m    283\u001b[0m           \u001b[0mobjective\u001b[0m\u001b[1;33m.\u001b[0m\u001b[0mSetOffset\u001b[0m\u001b[1;33m(\u001b[0m\u001b[0mcoeffs\u001b[0m\u001b[1;33m.\u001b[0m\u001b[0mpop\u001b[0m\u001b[1;33m(\u001b[0m\u001b[0mOFFSET_KEY\u001b[0m\u001b[1;33m,\u001b[0m \u001b[1;36m0.0\u001b[0m\u001b[1;33m)\u001b[0m\u001b[1;33m)\u001b[0m\u001b[1;33m\u001b[0m\u001b[1;33m\u001b[0m\u001b[0m\n\u001b[0;32m    284\u001b[0m           \u001b[1;32mfor\u001b[0m \u001b[0mv\u001b[0m\u001b[1;33m,\u001b[0m \u001b[0mc\u001b[0m\u001b[1;33m,\u001b[0m \u001b[1;32min\u001b[0m \u001b[0mlist\u001b[0m\u001b[1;33m(\u001b[0m\u001b[0mcoeffs\u001b[0m\u001b[1;33m.\u001b[0m\u001b[0mitems\u001b[0m\u001b[1;33m(\u001b[0m\u001b[1;33m)\u001b[0m\u001b[1;33m)\u001b[0m\u001b[1;33m:\u001b[0m\u001b[1;33m\u001b[0m\u001b[1;33m\u001b[0m\u001b[0m\n",
      "\u001b[1;32m~\\AppData\\Roaming\\Python\\Python38\\site-packages\\ortools\\linear_solver\\linear_solver_natural_api.py\u001b[0m in \u001b[0;36mGetCoeffs\u001b[1;34m(self)\u001b[0m\n\u001b[0;32m     97\u001b[0m     \u001b[1;32mwhile\u001b[0m \u001b[0mstack\u001b[0m\u001b[1;33m:\u001b[0m\u001b[1;33m\u001b[0m\u001b[1;33m\u001b[0m\u001b[0m\n\u001b[0;32m     98\u001b[0m       \u001b[0mcurrent_multiplier\u001b[0m\u001b[1;33m,\u001b[0m \u001b[0mcurrent_expression\u001b[0m \u001b[1;33m=\u001b[0m \u001b[0mstack\u001b[0m\u001b[1;33m.\u001b[0m\u001b[0mpop\u001b[0m\u001b[1;33m(\u001b[0m\u001b[1;33m)\u001b[0m\u001b[1;33m\u001b[0m\u001b[1;33m\u001b[0m\u001b[0m\n\u001b[1;32m---> 99\u001b[1;33m       current_expression.AddSelfToCoeffMapOrStack(coeffs, current_multiplier,\n\u001b[0m\u001b[0;32m    100\u001b[0m                                                   stack)\n\u001b[0;32m    101\u001b[0m     \u001b[1;32mreturn\u001b[0m \u001b[0mcoeffs\u001b[0m\u001b[1;33m\u001b[0m\u001b[1;33m\u001b[0m\u001b[0m\n",
      "\u001b[1;31mAttributeError\u001b[0m: 'cloud' object has no attribute 'AddSelfToCoeffMapOrStack'"
     ]
    }
   ],
   "source": [
    "from ortools.linear_solver import pywraplp\n",
    "\n",
    "\n",
    "def main():\n",
    "    # Data from all the colours on all the origins\n",
    "    costs = [\n",
    "        env_availability_score_blue,\n",
    "        env_availability_score_green,\n",
    "        env_availability_score_yellow,\n",
    "        env_availability_score_red,\n",
    "        env_availability_score_violet,\n",
    "        [0,0,0,0,0,0]\n",
    "    ]\n",
    "    num_workers = 6\n",
    "\n",
    "    num_tasks = len(costs[0])\n",
    "    #print(num_tasks)\n",
    "    # Solver\n",
    "    # Create the mip solver with the SCIP backend.\n",
    "    solver = pywraplp.Solver.CreateSolver('SCIP')\n",
    "\n",
    "\n",
    "    # Variables\n",
    "    # x[i, j] is an array of 0-1 variables, which will be 1\n",
    "    # if worker i is assigned to task j.\n",
    "    x = {}\n",
    "    for i in range(num_workers):\n",
    "        for j in range(num_tasks):\n",
    "            x[i, j] = solver.IntVar(0, 1, '')\n",
    "\n",
    "    # Constraints\n",
    "    # Each worker is assigned to at most 1 task.\n",
    "    for i in range(num_workers):\n",
    "        solver.Add(solver.Sum([x[i, j] for j in range(num_tasks)]) <= 1)\n",
    "\n",
    "    # Each task is assigned to exactly one worker.\n",
    "    for j in range(num_tasks):\n",
    "        solver.Add(solver.Sum([x[i, j] for i in range(num_workers)]) == 1)\n",
    "\n",
    "    # Objective\n",
    "    objective_terms = []\n",
    "    for i in range(num_workers):\n",
    "        for j in range(num_tasks):\n",
    "            objective_terms.append(costs[i][j] * x[i, j])\n",
    "    solver.Maximize(solver.Sum(objective_terms))\n",
    "\n",
    "    # Solve\n",
    "    status = solver.Solve()\n",
    "\n",
    "    # Print solution.\n",
    "    if status == pywraplp.Solver.OPTIMAL or status == pywraplp.Solver.FEASIBLE:\n",
    "        print('Total cost = ', solver.Objective().Value(), '\\n')\n",
    "        for i in range(num_workers):\n",
    "            for j in range(num_tasks):\n",
    "                # Test if x[i,j] is 1 (with tolerance for floating point arithmetic).\n",
    "                if x[i, j].solution_value() > 0.5:\n",
    "                    print('Worker %d assigned to task %d.  Cost = %d' %\n",
    "                          (i, j, costs[i][j]))\n",
    "\n",
    "\n",
    "if __name__ == '__main__':\n",
    "    main()\n",
    "    \n"
   ]
  },
  {
   "cell_type": "markdown",
   "metadata": {},
   "source": [
    "## Total cost of permutation matrix"
   ]
  },
  {
   "cell_type": "code",
   "execution_count": null,
   "metadata": {},
   "outputs": [],
   "source": [
    "cost_for_location_filter_1 = [env_availability_viz[-1] == 193]\n",
    "cost_for_location_filter_2 = [env_availability_viz[-1] == 189]\n",
    "cost_for_location_filter_3 = [env_availability_viz[-1] == 256]\n",
    "cost_for_location_filter_4 = [env_availability_viz[-1] == 252]\n",
    "cost_for_location_filter_5 = [env_availability_viz[-1] == 306]\n",
    "cost_for_location_filter_6 = [env_availability_viz[-1] == 310]\n",
    "\n",
    "cost = [(np.sum(Rv[cost_for_location_filter_2]))+(np.sum(Yv[cost_for_location_filter_3]))+(np.sum(Vv[cost_for_location_filter_4]))+(np.sum(Bv[cost_for_location_filter_5]))+(np.sum(Gv[cost_for_location_filter_6]))]\n",
    "cost"
   ]
  },
  {
   "cell_type": "code",
   "execution_count": null,
   "metadata": {},
   "outputs": [],
   "source": []
  },
  {
   "cell_type": "code",
   "execution_count": null,
   "metadata": {},
   "outputs": [],
   "source": [
    "avail_lattice"
   ]
  },
  {
   "cell_type": "code",
   "execution_count": null,
   "metadata": {},
   "outputs": [],
   "source": [
    "for i, lattice in enumerate(env_availability_viz):\n",
    "    csv_path = os.path.relpath('csv/abm_f_'+ f'{i:03}' + '.csv')\n",
    "    lattice.to_csv(csv_path)"
   ]
  },
  {
   "cell_type": "code",
   "execution_count": null,
   "metadata": {},
   "outputs": [],
   "source": []
  },
  {
   "cell_type": "code",
   "execution_count": null,
   "metadata": {},
   "outputs": [],
   "source": []
  }
 ],
 "metadata": {
  "hide_input": false,
  "kernelspec": {
   "display_name": "Python 3",
   "language": "python",
   "name": "python3"
  },
  "language_info": {
   "codemirror_mode": {
    "name": "ipython",
    "version": 3
   },
   "file_extension": ".py",
   "mimetype": "text/x-python",
   "name": "python",
   "nbconvert_exporter": "python",
   "pygments_lexer": "ipython3",
   "version": "3.8.4"
  }
 },
 "nbformat": 4,
 "nbformat_minor": 4
}
