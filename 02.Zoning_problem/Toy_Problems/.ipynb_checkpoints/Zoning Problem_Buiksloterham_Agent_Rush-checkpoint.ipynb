{
 "cells": [
  {
   "cell_type": "markdown",
   "metadata": {},
   "source": [
    "## The Zoning Problem \n",
    "The aim of this notebook is to generate the optimal zoning by formulating a linear assignment problem and using google\n",
    "OR-Toolsfor solving the optimization problem.\n",
    "The agent behaviours are taken from the previous study. The occupation and env lattices are random for the test problem .\n",
    "\n",
    "### The Test Problem \n",
    "There are five agents :[Blue,Green,Yellow,Red,Violet]\n",
    "The number of voxels which each agent occupies are [B1,G1,Y1,R1,V1]\n",
    "Total number of voxels in a lattice = x \n",
    "Value lattice for the agents are =[Bv],[Gv],[Yv],[Rv],[Vv]\n",
    "\n",
    "####  Aim \n",
    ": To find the best combination of Zones to achieve the maximum occupancy value\n",
    "#### Steps\n",
    "\n",
    "1. Generate the lattices , Agent behaviours, agents, \n",
    "2. Find the possible origin locations for the agents\n",
    "3. Simulate occupancy behaviour and retrieve the cost of occupancy for each agent at each position\n",
    "4. Generate the Cost matrix\n",
    "5. Use the MIP Solver to optimise the combination to get the permutation matrix \n"
   ]
  },
  {
   "cell_type": "markdown",
   "metadata": {},
   "source": [
    "## Initilization"
   ]
  },
  {
   "cell_type": "code",
   "execution_count": 1,
   "metadata": {},
   "outputs": [],
   "source": [
    "import os\n",
    "import itertools\n",
    "import sys\n",
    "from math import factorial as fac\n",
    "sys.path.append(\"D:/TU_Delft/Msc_Building_Technology/Semester_3/Graduation/Aditya_Graduation_Project_BT/06_Libraries\")\n",
    "import topogenesis as tg\n",
    "import pyvista as pv\n",
    "import trimesh as tm\n",
    "import numpy as np\n",
    "np.random.seed(0)\n",
    "np.set_printoptions(threshold=sys.maxsize)\n",
    "import networkx as nx\n",
    "from itertools import combinations\n",
    "import pickle"
   ]
  },
  {
   "cell_type": "markdown",
   "metadata": {},
   "source": [
    "## Base Lattices"
   ]
  },
  {
   "cell_type": "code",
   "execution_count": 2,
   "metadata": {},
   "outputs": [],
   "source": [
    "# loading the lattice from csv\n",
    "lattice_path = os.path.relpath('voxelized_envelope_6m_voxel_size.csv')\n",
    "avail_lattice_base = tg.lattice_from_csv(lattice_path)\n",
    "avail_lattice = avail_lattice_base*1\n",
    "init_avail_lattice = tg.to_lattice(np.copy(avail_lattice*1), avail_lattice)"
   ]
  },
  {
   "cell_type": "code",
   "execution_count": 3,
   "metadata": {},
   "outputs": [],
   "source": [
    "flattened_lattice = avail_lattice_base.flatten()"
   ]
  },
  {
   "cell_type": "code",
   "execution_count": null,
   "metadata": {},
   "outputs": [],
   "source": []
  },
  {
   "cell_type": "markdown",
   "metadata": {},
   "source": [
    "## Env Lattices"
   ]
  },
  {
   "cell_type": "code",
   "execution_count": 4,
   "metadata": {},
   "outputs": [],
   "source": [
    "Private_sector_Owned = (pickle.load( open( \"Privately Owned Housing.p\", \"rb\" ) ))\n",
    "Social_Sector_Rental = (pickle.load( open( \"Social Sector Rental Housing.p\", \"rb\" ) ))\n",
    "Free_Sector_rental = (pickle.load( open( \"Free Sector Rental Housing.p\", \"rb\" ) )) \n",
    "Restaurants_and_Cafes = (pickle.load( open( \"Restaurants and Cafe.p\", \"rb\" ) )) \n",
    "Offices = (pickle.load( open( \"Offices.p\", \"rb\" ) )) \n",
    "Retail = (pickle.load( open( \"Retail Stores.p\", \"rb\" ) )) \n",
    "Parking = (pickle.load( open( \"Parking.p\", \"rb\" ) )) "
   ]
  },
  {
   "cell_type": "markdown",
   "metadata": {},
   "source": [
    "## Stencils"
   ]
  },
  {
   "cell_type": "code",
   "execution_count": 5,
   "metadata": {},
   "outputs": [],
   "source": [
    "# creating neighborhood definition\n",
    "stencil_von_neumann = tg.create_stencil(\"von_neumann\", 1, 1)\n",
    "stencil_von_neumann.set_index([0,0,0], 0)\n",
    "#print(stencil_von_neumann)"
   ]
  },
  {
   "cell_type": "code",
   "execution_count": 6,
   "metadata": {},
   "outputs": [],
   "source": [
    "# creating neighborhood definition \n",
    "stencil_squareness = tg.create_stencil(\"moore\", 1, 1)\n",
    "# Reshaping the moore neighbourhood\n",
    "stencil_squareness[0,:,:] = 0 \n",
    "stencil_squareness[2,:,:] = 0\n",
    "stencil_squareness.set_index([0,0,0], 0)\n",
    "stencil_squareness_t = np.transpose(stencil_squareness) \n",
    "#print(stencil_squareness_t)"
   ]
  },
  {
   "cell_type": "code",
   "execution_count": 7,
   "metadata": {},
   "outputs": [],
   "source": [
    "# creating neighborhood definition \n",
    "stencil_squareness_von = tg.create_stencil(\"von_neumann\", 1, 1)\n",
    "# Reshaping the moore neighbourhood\n",
    "stencil_squareness_von[0,:,:] = 0 \n",
    "stencil_squareness_von[2,:,:] = 0\n",
    "stencil_squareness_von.set_index([0,0,0], 0)\n",
    "stencil_squareness_von_t = np.transpose(stencil_squareness_von) \n",
    "#print(stencil_squareness_von)"
   ]
  },
  {
   "cell_type": "code",
   "execution_count": 8,
   "metadata": {},
   "outputs": [],
   "source": [
    "stencil_cuboid = tg.create_stencil(\"moore\", 1, 1)\n",
    "stencil_cuboid.set_index([0,0,0], 0)\n",
    "#print(stencil_cuboid)"
   ]
  },
  {
   "cell_type": "code",
   "execution_count": 9,
   "metadata": {},
   "outputs": [],
   "source": [
    "Stencil_Find_neighbours_cuboid = tg.create_stencil(\"moore\", 1, 1)"
   ]
  },
  {
   "cell_type": "markdown",
   "metadata": {},
   "source": [
    "## Deriving all possible agent Center points"
   ]
  },
  {
   "cell_type": "code",
   "execution_count": 10,
   "metadata": {},
   "outputs": [],
   "source": [
    "available_index_list= list(np.argwhere(flattened_lattice==1).flatten())"
   ]
  },
  {
   "cell_type": "code",
   "execution_count": 11,
   "metadata": {},
   "outputs": [],
   "source": [
    "Selected_positions=[]\n",
    "for item in range(19,1359,19):\n",
    "    Selected_positions.append(available_index_list[item]) "
   ]
  },
  {
   "cell_type": "code",
   "execution_count": 12,
   "metadata": {},
   "outputs": [],
   "source": [
    "selected_neighbours= avail_lattice_base.find_neighbours(Stencil_Find_neighbours_cuboid)"
   ]
  },
  {
   "cell_type": "code",
   "execution_count": 13,
   "metadata": {},
   "outputs": [],
   "source": [
    "#np.array(np.unravel_index(Selected_positions,init_avail_lattice.shape)).T"
   ]
  },
  {
   "cell_type": "code",
   "execution_count": 14,
   "metadata": {},
   "outputs": [],
   "source": [
    "def all_possible_origins(flat_lattice,number_of_points_needed):\n",
    "    reshaped_lattice= flat_lattice.reshape(99,4,16)*1\n",
    "    reshaped_lattice_aggregated_value =np.sum(reshaped_lattice,axis=2)\n",
    "    array = reshaped_lattice_aggregated_value.flatten()\n",
    "    temp = array.argsort()\n",
    "    ranks = np.empty_like(temp)\n",
    "    ranks[temp] = np.arange(len(array))\n",
    "    \n",
    "    indices =list(range(6,flat_lattice.size,16))\n",
    "    points_1D=[]\n",
    "    for points in range(number_of_points_needed):\n",
    "        index= np.where(ranks==points)\n",
    "        points_1D.append(indices[int(index[0])] )  \n",
    "    return points_1D\n"
   ]
  },
  {
   "cell_type": "code",
   "execution_count": 15,
   "metadata": {},
   "outputs": [],
   "source": [
    "## The number of voxels which each agent has to occupy There are five agents :[Blue,Green,Yellow,Red,Violet]\n",
    "## The number of voxels which each agent occupies are [B1,G1,Y1,R1,V1] \n",
    "mass_size = np.count_nonzero((avail_lattice==1)) \n",
    "P_H = 415 # Private Housing\n",
    "S_H= 301 # Social Housing\n",
    "F_H=403 # Free sector Housing\n",
    "R_C= 19 # Restaurant and Cafe \n",
    "R= 73 # Retail stores\n",
    "O=93 # Offices\n",
    "P=51 # Parking\n"
   ]
  },
  {
   "cell_type": "code",
   "execution_count": 16,
   "metadata": {},
   "outputs": [],
   "source": [
    "#Divide the available lattice into grids to generate the necessary locations for origins??"
   ]
  },
  {
   "cell_type": "code",
   "execution_count": 17,
   "metadata": {},
   "outputs": [],
   "source": [
    "def ranking_origins(point_id,value_lattice,origin_number):\n",
    "    selected_neighbours= avail_lattice_base.find_neighbours(Stencil_Find_neighbours_cuboid)[point_id]\n",
    "    neighbour_vals_for_agent= value_lattice.flatten()[selected_neighbours]\n",
    "    neighbour_vals_aggregated_for_agent =np.sum(neighbour_vals_for_agent,axis=1)\n",
    "    all_points = np.array(point_id)\n",
    "    \n",
    "    array = neighbour_vals_aggregated_for_agent\n",
    "    temp = array.argsort()\n",
    "    ranks = np.empty_like(temp)\n",
    "    ranks[temp] = np.arange(len(array))\n",
    "    \n",
    "    a_lattice = ranks.flatten()\n",
    "    Co_ordinates = []\n",
    "    for item in range(0,origin_number):\n",
    "        Co_ordinates.append(all_points[np.argwhere(a_lattice==item)].flatten()[0])    \n",
    "        \n",
    "    return Co_ordinates"
   ]
  },
  {
   "cell_type": "code",
   "execution_count": 18,
   "metadata": {},
   "outputs": [
    {
     "data": {
      "text/plain": [
       "[815, 5589, 1717, 4709, 3499, 57, 6096, 586, 5358, 135]"
      ]
     },
     "execution_count": 18,
     "metadata": {},
     "output_type": "execute_result"
    }
   ],
   "source": [
    "ranking_origins(Selected_positions,Private_sector_Owned,10)"
   ]
  },
  {
   "cell_type": "code",
   "execution_count": 19,
   "metadata": {},
   "outputs": [],
   "source": [
    "Agent_1_origins = ranking_origins(Selected_positions,Private_sector_Owned,21)\n",
    "Agent_2_origins = ranking_origins(Selected_positions,Social_Sector_Rental,21)\n",
    "Agent_3_origins = ranking_origins(Selected_positions,Free_Sector_rental,21)\n",
    "Agent_4_origins = ranking_origins(Selected_positions,Restaurants_and_Cafes,21)\n",
    "Agent_5_origins = ranking_origins(Selected_positions,Offices,21)\n",
    "Agent_6_origins = ranking_origins(Selected_positions,Retail,21)\n",
    "Agent_7_origins = ranking_origins(Selected_positions,Parking,21)"
   ]
  },
  {
   "cell_type": "code",
   "execution_count": 20,
   "metadata": {},
   "outputs": [],
   "source": [
    "All_agent_origins = np.concatenate((Agent_1_origins,Agent_2_origins,Agent_3_origins,Agent_4_origins,Agent_5_origins,Agent_6_origins,Agent_7_origins))"
   ]
  },
  {
   "cell_type": "code",
   "execution_count": 21,
   "metadata": {},
   "outputs": [],
   "source": [
    "all_permutations= All_agent_origins.reshape(7, len(Agent_1_origins)).T"
   ]
  },
  {
   "cell_type": "code",
   "execution_count": 22,
   "metadata": {
    "tags": [
     "hide-cell"
    ]
   },
   "outputs": [],
   "source": [
    "# agent class\n",
    "class agent():\n",
    "    def __init__(self, origin, stencil, id):\n",
    "\n",
    "        # define the origin attribute of the agent and making sure that it is an intiger\n",
    "        self.origin = np.array(origin).astype(int)\n",
    "        # define old origin attribute and assigning the origin to it as the initial state\n",
    "        self.old_origin = self.origin\n",
    "        # define stencil of the agent\n",
    "        self.stencil = stencil\n",
    "        #define agent id\n",
    "        self.id = id\n",
    "\n",
    "    # definition of random/argmax occupancy on a 2d squarish stencil \n",
    "    def random_occupy_squareness(self, env):\n",
    "        # retrieve the list of neighbours of the agent based on the stencil\n",
    "        neighs = env.availibility.find_neighbours_masked(self.stencil, loc = self.origin)\n",
    "        neighs_full_floor = env.availibility.find_neighbours_masked(stencil_full_floor, loc = self.origin)\n",
    "        # find availability of neighbours\n",
    "        neighs_availibility = env.availibility.flatten()[neighs]\n",
    "        neighs_availibility_full_floor = env.availibility.flatten()[neighs_full_floor]\n",
    "        # separate available neighbours\n",
    "        free_neighs = neighs[neighs_availibility==1]\n",
    "        free_neighs_full_floor = neighs_full_floor[neighs_availibility_full_floor==1]\n",
    "        #print(free_neighs)\n",
    "        if len(free_neighs)== 0 :\n",
    "            free_neighs = free_neighs_full_floor\n",
    "        else: \n",
    "            free_neighs= free_neighs\n",
    "        # retrieve the value of each neighbour\n",
    "        free_neighs_value = env.value.flatten()[free_neighs]\n",
    "        # find the neighbour with maximum my value\n",
    "       # selected_neigh = free_neighs[np.argmax(free_neighs_value)]\n",
    "        selected_neigh = np.random.choice(free_neighs,1)\n",
    "        #print(selected_neigh)\n",
    "        # update information\n",
    "        ####################\n",
    "        # set the current origin as the ol origin\n",
    "        self.old_origin = self.origin\n",
    "        # update the current origin with the new selected neighbour\n",
    "        self.origin = np.array(np.unravel_index(selected_neigh, env.availibility.shape)).flatten()\n",
    "        #print(self.origin)\n",
    "     \n",
    "      # definition of random/argmax occupancy on a 3d cubish stencil\n",
    "    def random_occupy_cubish(self, env):\n",
    "        # retrieve the list of neighbours of the agent based on the stencil\n",
    "        neighs = env.availibility.find_neighbours_masked(self.stencil, loc = self.origin)\n",
    "        neighs_full_lattice = env.availibility.find_neighbours_masked(stencil_full_lattice, loc = self.origin)\n",
    "        # find availability of neighbours\n",
    "        neighs_availibility = env.availibility.flatten()[neighs]\n",
    "        neighs_availibility_full_lattice = env.availibility.flatten()[neighs_full_lattice]\n",
    "        # separate available neighbours\n",
    "        free_neighs = neighs[neighs_availibility==1]\n",
    "        free_neighs_full_lattice = neighs_full_lattice[neighs_availibility_full_lattice==1]\n",
    "        #print(free_neighs)\n",
    "        if len(free_neighs)== 0 :\n",
    "            free_neighs = free_neighs_full_lattice\n",
    "        else: \n",
    "            free_neighs= free_neighs\n",
    "        # retrieve the value of each neighbour\n",
    "        free_neighs_value = env.value.flatten()[free_neighs]\n",
    "        # find the neighbour with maximum my value\n",
    "        selected_neigh = free_neighs[np.argmax(free_neighs_value)]\n",
    "        #selected_neigh = np.random.choice(free_neighs,1)\n",
    "        #print(selected_neigh)\n",
    "        # update information\n",
    "        ####################\n",
    "        # set the current origin as the ol origin\n",
    "        self.old_origin = self.origin\n",
    "        # update the current origin with the new selected neighbour\n",
    "        self.origin = np.array(np.unravel_index(selected_neigh, env.availibility.shape)).flatten()\n",
    "        #print(self.origin)\n",
    "      \n",
    "        \n",
    "    def random_occupy_cubish_von_neumann(self, env):\n",
    "        # retrieve the list of neighbours of the agent based on the stencil\n",
    "        neighs = env.availibility.find_neighbours_masked(self.stencil, loc = self.origin)\n",
    "        neighs_full_lattice = env.availibility.find_neighbours_masked(stencil_cuboid, loc = self.origin)\n",
    "        # find availability of neighbours\n",
    "        neighs_availibility = env.availibility.flatten()[neighs]\n",
    "        neighs_availibility_full_lattice = env.availibility.flatten()[neighs_full_lattice]\n",
    "        # separate available neighbours\n",
    "        free_neighs = neighs[neighs_availibility==1]\n",
    "        free_neighs_full_lattice = neighs_full_lattice[neighs_availibility_full_lattice==1]\n",
    "        #print(free_neighs)\n",
    "        if len(free_neighs)== 0 :\n",
    "            free_neighs = free_neighs_full_lattice\n",
    "        else: \n",
    "            free_neighs= free_neighs\n",
    "        # retrieve the value of each neighbour\n",
    "        free_neighs_value = env.value.flatten()[free_neighs]\n",
    "        # find the neighbour with maximum my value\n",
    "        selected_neigh = np.random.choice(free_neighs,1)\n",
    "        #print(selected_neigh)\n",
    "        # update information\n",
    "        ####################\n",
    "        # set the current origin as the ol origin\n",
    "        self.old_origin = self.origin\n",
    "        # update the current origin with the new selected neighbour\n",
    "        self.origin = np.array(np.unravel_index(selected_neigh, env.availibility.shape)).flatten()\n",
    "        #print(self.origin)\n",
    "        \n",
    "    def argmax_occupy_von_neumann(self, env):\n",
    "        # retrieve the list of neighbours of the agent based on the stencil\n",
    "        neighs = env.availibility.find_neighbours_masked(self.stencil, loc = self.origin)\n",
    "        neighs_full_lattice = env.availibility.find_neighbours_masked(stencil_full_lattice, loc = self.origin)\n",
    "        # find availability of neighbours\n",
    "        neighs_availibility = env.availibility.flatten()[neighs]\n",
    "        neighs_availibility_full_lattice = env.availibility.flatten()[neighs_full_lattice]\n",
    "        # separate available neighbours\n",
    "        free_neighs = neighs[neighs_availibility==1]\n",
    "        free_neighs_full_lattice = neighs_full_lattice[neighs_availibility_full_lattice==1]\n",
    "        #print(free_neighs)\n",
    "        if len(free_neighs)== 0 :\n",
    "            free_neighs = free_neighs_full_lattice\n",
    "        else: \n",
    "            free_neighs= free_neighs\n",
    "        # retrieve the value of each neighbour\n",
    "        free_neighs_value = env.value.flatten()[free_neighs]\n",
    "        # find the neighbour with maximum my value\n",
    "        selected_neigh = free_neighs[np.argmax(free_neighs_value)]\n",
    "        #selected_neigh = np.random.choice(free_neighs,1)\n",
    "        #print(selected_neigh)\n",
    "        # update information\n",
    "        ####################\n",
    "        # set the current origin as the ol origin\n",
    "        self.old_origin = self.origin\n",
    "        # update the current origin with the new selected neighbour\n",
    "        self.origin = np.array(np.unravel_index(selected_neigh, env.availibility.shape)).flatten()\n",
    "        #print(self.origin)\n",
    "\n",
    "        \n",
    "     # definition of 2d occupying method for agents\n",
    "    def one_neighbour_occupy_squareness_moore(self, env):\n",
    "        # retrieve the list of neighbours of the agent based on the stencil\n",
    "        neighs = env.availibility.find_neighbours_masked(self.stencil, loc = self.origin)\n",
    "        #print(neighs)\n",
    "        neighs_full_floor = env.availibility.find_neighbours_masked(stencil_full_floor, loc = self.origin)\n",
    "\n",
    "        # find availability of neighbours\n",
    "        neighs_availibility = env.availibility.flatten()[neighs]               \n",
    "        neighs_availibility_full_floor = env.availibility.flatten()[neighs_full_floor]\n",
    "        #print(neighs_availibility)\n",
    "        \n",
    "        # find env values of all neighbours\n",
    "        all_neighs_value = env.value.flatten()[neighs]\n",
    "        all_neighs_value_mod = np.copy(all_neighs_value)\n",
    "        \n",
    "        \n",
    "        #finding number of neighbours and bumping the values based on adjacency for a 9 neighbourhood\n",
    "        \n",
    "        #print(neighbourhood_details)\n",
    "        one = neighs_availibility[1] + neighs_availibility[2] \n",
    "        two = neighs_availibility[0] + neighs_availibility[2] \n",
    "        three = neighs_availibility[1] + neighs_availibility[4] \n",
    "        four = neighs_availibility[0] + neighs_availibility[6] \n",
    "        five = neighs_availibility[2] + neighs_availibility[7] \n",
    "        six = neighs_availibility[3] + neighs_availibility[6] \n",
    "        seven = neighs_availibility[5] + neighs_availibility[7] \n",
    "        eight = neighs_availibility[6] + neighs_availibility[4] \n",
    "        neighbourhood_details = [one,two,three,four,five,six,seven,eight]\n",
    "        \n",
    "        #print(neighbourhood_details)\n",
    "        for detail in range(len(neighs_availibility)-1):\n",
    "            neighbourhood_condition = neighbourhood_details[detail] \n",
    "            #print(neighbourhood_condition)\n",
    "            if neighbourhood_condition == 3:\n",
    "                all_neighs_value_mod[detail]= all_neighs_value_mod[detail] + one_neighbour_factor\n",
    "            elif neighbourhood_condition == 4:\n",
    "                all_neighs_value_mod[detail]= all_neighs_value_mod[detail] + two_neighbour_factor\n",
    "            else:\n",
    "                all_neighs_value_mod[detail] = all_neighs_value_mod[detail]\n",
    "        #print(all_neighs_value_mod)   \n",
    "        \n",
    "\n",
    "        neighs_value_flattened = env.value.flatten()\n",
    "        for val_mod in all_neighs_value_mod:\n",
    "            for neigh in neighs :\n",
    "                neighs_value_flattened[neigh]=val_mod\n",
    "        \n",
    "        \n",
    "        # separate available neighbours\n",
    "        free_neighs = neighs[neighs_availibility==1]\n",
    "        free_neighs_full_floor = neighs_full_floor[neighs_availibility_full_floor==1]\n",
    "        #print(free_neighs)\n",
    "        if len(free_neighs)== 0 :\n",
    "            free_neighs = free_neighs_full_floor\n",
    "        else: \n",
    "            free_neighs= free_neighs\n",
    "        # retrieve the value of each neighbour\n",
    "        free_neighs_value = neighs_value_flattened[free_neighs]\n",
    "        \n",
    "        #print(free_neighs_value)\n",
    "        # find the neighbour with maximum my value\n",
    "        selected_neigh = free_neighs[np.argmax(free_neighs_value)]\n",
    "        #print(selected_neigh)\n",
    "        # update information\n",
    "        ####################\n",
    "        # set the current origin as the ol origin\n",
    "        self.old_origin = self.origin\n",
    "        # update the current origin with the new selected neighbour\n",
    "        self.origin = np.array(np.unravel_index(selected_neigh, env.availibility.shape)).flatten()\n",
    "        #print(self.origin)\n",
    "    \n",
    "    \n",
    "         # definition of 2d occupying method for agents\n",
    "    def one_neighbour_occupy_squareness_von_neumann(self, env):\n",
    "        \n",
    "         # retrieve the list of neighbours of the agent based on the stencil\n",
    "        neighs = env.availibility.find_neighbours_masked(self.stencil, loc = self.origin)\n",
    "        neighs_full_floor = env.availibility.find_neighbours_masked(stencil_full_lattice, loc = self.origin)\n",
    "        # find availability of neighbours\n",
    "        neighs_availibility = env.availibility.flatten()[neighs]\n",
    "        neighs_availibility_full_floor = env.availibility.flatten()[neighs_full_floor]\n",
    "        # separate available neighbours\n",
    "        free_neighs = neighs[neighs_availibility==1]\n",
    "        free_neighs_full_floor = neighs_full_floor[neighs_availibility_full_floor==1]\n",
    "        #print(free_neighs)\n",
    "        if len(free_neighs)== 0 :\n",
    "            free_neighs = free_neighs_full_floor\n",
    "        else: \n",
    "            free_neighs= free_neighs\n",
    "        # retrieve the value of each neighbour\n",
    "        free_neighs_value = env.value.flatten()[free_neighs]\n",
    "        # find the neighbour with maximum my value\n",
    "       # selected_neigh = free_neighs[np.argmax(free_neighs_value)]\n",
    "        selected_neigh = np.random.choice(free_neighs,1)\n",
    "        #print(selected_neigh)\n",
    "        # update information\n",
    "        ####################\n",
    "        # set the current origin as the ol origin\n",
    "        self.old_origin = self.origin\n",
    "        # update the current origin with the new selected neighbour\n",
    "        self.origin = np.array(np.unravel_index(selected_neigh, env.availibility.shape)).flatten()\n",
    "        #print(self.origin)\n",
    "    def one_neighbour_occupy_squareness_behaviour (self,env):        \n",
    "        value_lattice_flat = env.value.flatten()\n",
    "        sqr_factor = 10.1\n",
    "        sqr_shift = 10.0\n",
    "        init_loc = self.origin\n",
    "        neighs_full_lattice = env.availibility.find_neighbours_masked(stencil_full_lattice, loc = self.origin)\n",
    "        neighs_availibility_full_lattice = env.availibility.flatten()[neighs_full_lattice]\n",
    "        free_neighs_full_lattice = neighs_full_lattice[neighs_availibility_full_lattice==1]\n",
    "        \n",
    "        agn_locs = [list(init_loc)]\n",
    "        all_neighs =[] \n",
    "        avail_lattice_flat = env.availibility.flatten()\n",
    "        neighs = env.availibility.find_neighbours_masked(self.stencil, loc = self.origin)\n",
    "        all_neighs.append(neighs)\n",
    "        env.neigh_squareness.append(neighs)\n",
    "\n",
    "        neighs_flatten = np.array(env.neigh_squareness).flatten()\n",
    "        #print(neighs_flatten)\n",
    "        neighs_availability = avail_lattice_flat[neighs_flatten]\n",
    "  \n",
    "        # keep the available ones only\n",
    "        avail_neighs = neighs_flatten[neighs_availability==1] \n",
    "        \n",
    "        if len(avail_neighs)== 0 :\n",
    "            avail_neighs = free_neighs_full_lattice\n",
    "        else: \n",
    "            avail_neighs= avail_neighs\n",
    "        #print(avail_neighs)\n",
    "        avail_unq_neighs, avail_unq_neighs_count = np.unique(avail_neighs, return_counts=True)\n",
    "        #print(avail_unq_neighs)\n",
    "        #print(avail_unq_neighs_count)\n",
    "        neighs_unq_base_value = value_lattice_flat[avail_unq_neighs]\n",
    "        neigh_sqr_evaluation = np.power(sqr_factor, (avail_unq_neighs_count - 1)) * neighs_unq_base_value + sqr_shift\n",
    "        #neigh_sqr_evaluation = neighs_unq_base_value + sqr_shift * (avail_unq_neighs_count - 1)\n",
    "\n",
    "\n",
    "        selected_neigh_index = np.argmax(neigh_sqr_evaluation)\n",
    "        selected_neigh_1D_id = avail_unq_neighs[selected_neigh_index]\n",
    "        #selected_neigh_3D_id = np.unravel_index(selected_neigh_1D_id,bounds.shape )\n",
    "\n",
    "        # update information\n",
    "        ####################\n",
    "        self.old_origin = self.origin\n",
    "        # update the current origin with the new selected neighbour\n",
    "        self.origin = np.array(np.unravel_index(selected_neigh_1D_id, env.availibility.shape)).flatten()\n",
    "   \n",
    "        \n",
    "        \n",
    "    def one_neighbour_occupy_cubish_behaviour (self,env):        \n",
    "        value_lattice_flat = env.value.flatten()\n",
    "        sqr_factor = 10.1\n",
    "        sqr_shift = 10.0\n",
    "        init_loc = self.origin\n",
    "        neighs_availibility_full_lattice = env.availibility.flatten()\n",
    "        free_neighs_full_lattice = np.argwhere(neighs_availibility_full_lattice==1).flatten()\n",
    "        \n",
    "        agn_locs = [list(init_loc)]\n",
    "        all_neighs =[] \n",
    "        avail_lattice_flat = env.availibility.flatten()\n",
    "        neighs = env.availibility.find_neighbours_masked(self.stencil, loc = self.origin)\n",
    "        all_neighs.append(neighs)\n",
    "        env.neigh_cubish.append(neighs)\n",
    "\n",
    "        neighs_flatten = np.array(env.neigh_cubish).flatten()\n",
    "        #print(neighs_flatten)\n",
    "        neighs_availability = avail_lattice_flat[neighs_flatten]\n",
    "  \n",
    "        # keep the available ones only\n",
    "        avail_neighs = neighs_flatten[neighs_availability==1] \n",
    "        \n",
    "        if len(avail_neighs)== 0 :\n",
    "            avail_neighs = free_neighs_full_lattice\n",
    "        else: \n",
    "            avail_neighs= avail_neighs\n",
    "                \n",
    "        #print(avail_neighs)\n",
    "        avail_unq_neighs, avail_unq_neighs_count = np.unique(avail_neighs, return_counts=True)\n",
    "        #print(avail_unq_neighs)\n",
    "        #print(avail_unq_neighs_count)\n",
    "        neighs_unq_base_value = value_lattice_flat[avail_unq_neighs]\n",
    "        \n",
    "        #neigh_sqr_evaluation = np.power(sqr_factor, (avail_unq_neighs_count - 1)) * neighs_unq_base_value + sqr_shift\n",
    "        neigh_sqr_evaluation = neighs_unq_base_value + sqr_shift * (avail_unq_neighs_count - 1)\n",
    "\n",
    "       # print(neighs_unq_base_value) \n",
    "        selected_neigh_index = np.argmax(neigh_sqr_evaluation)\n",
    "        selected_neigh_1D_id = avail_unq_neighs[selected_neigh_index]\n",
    "        #selected_neigh_3D_id = np.unravel_index(selected_neigh_1D_id,bounds.shape )       \n",
    "            \n",
    "        # update information\n",
    "        ####################\n",
    "        self.old_origin = self.origin\n",
    "        # update the current origin with the new selected neighbour\n",
    "        self.origin = np.array(np.unravel_index(selected_neigh_1D_id, env.availibility.shape)).flatten()\n",
    "        #print(selected_neigh_1D_id)\n",
    "        #print(free_neighs_full_lattice)\n",
    "\n",
    "            "
   ]
  },
  {
   "cell_type": "code",
   "execution_count": 23,
   "metadata": {},
   "outputs": [],
   "source": [
    "# Agent init class\n",
    "\n",
    "def initialize_agents_random_origin (stencil,avail_lattice):\n",
    "    #finding origin \n",
    "    agn_num = 1\n",
    "    occ_lattice = avail_lattice*0 -1\n",
    "    avail_flat = avail_lattice.flatten()\n",
    "    avail_index = np.array(np.where(avail_lattice == 1)).T\n",
    "    select_id = np.random.choice(len(avail_index), agn_num)\n",
    "    agn_origins = tuple(avail_index[select_id].flatten()) \n",
    "\n",
    "    # Defining agents\n",
    "    myagent = agent(agn_origins, stencil, select_id)\n",
    "\n",
    "    return myagent\n",
    "\n",
    "def initialize_agents_fixed_origin (stencil,avail_lattice,origin):\n",
    "    #finding origin \n",
    "    agn_origins = np.unravel_index(origin,avail_lattice.shape)\n",
    "    select_id = origin\n",
    "    # Defining agents\n",
    "    myagent = agent(agn_origins, stencil, select_id)\n",
    "\n",
    "    return myagent"
   ]
  },
  {
   "cell_type": "code",
   "execution_count": null,
   "metadata": {},
   "outputs": [],
   "source": []
  },
  {
   "cell_type": "code",
   "execution_count": 24,
   "metadata": {},
   "outputs": [],
   "source": [
    "# environment class\n",
    "class environment():\n",
    "    def __init__(self, lattices, agents,number_of_iterations,method_name):\n",
    "        self.availibility = lattices[\"availibility\"]\n",
    "        self.value = lattices[\"enviornment\"]\n",
    "        self.agent_origin = self.availibility \n",
    "        self.agents = agents\n",
    "        self.update_agents()\n",
    "        self.number_of_iterations = number_of_iterations\n",
    "        self.method_name = method_name\n",
    "        self.neigh_cubish = []\n",
    "        self.neigh_squareness = []\n",
    "    def update_agents(self):\n",
    "        # making previous position available\n",
    "      #  self.availibility[tuple(self.agents.old_origin)] = self.availibility[tuple(self.agents.old_origin)] * 0 + 1\n",
    "        # removing agent from previous position\n",
    "        self.agent_origin[tuple(self.agents.old_origin)] *= 0+1\n",
    "        # making the current position unavailable\n",
    "        self.availibility[tuple(self.agents.origin)] = self.agents.id\n",
    "        # adding agent to the new position \n",
    "        self.agent_origin[tuple(self.agents.origin)] = self.agents.id\n",
    "    \n",
    "    def random_occupy_squareness_agents(self):\n",
    "        # iterate over egents and perform the walk\n",
    "        self.agents.random_occupy_squareness(self)\n",
    "        # update the agent states in environment\n",
    "        self.update_agents()\n",
    "        \n",
    "    def random_occupy_cubish_agents(self):\n",
    "        # iterate over egents and perform the walk\n",
    "        self.agents.random_occupy_cubish(self)\n",
    "        # update the agent states in environment\n",
    "        self.update_agents()\n",
    "    \n",
    "    def random_occupy_cubish_von_neumann_agents(self):\n",
    "        # iterate over egents and perform the walk\n",
    "        self.agents.random_occupy_cubish_von_neumann(self)\n",
    "        # update the agent states in environment\n",
    "        self.update_agents()\n",
    "    \n",
    "    def argmax_occupy_von_neumann(self):\n",
    "        # iterate over egents and perform the walk\n",
    "        self.agents.argmax_occupy_von_neumann(self)\n",
    "        # update the agent states in environment\n",
    "        self.update_agents()\n",
    "        \n",
    "    def one_neighbour_occupy_squareness_moore(self):\n",
    "        # iterate over egents and perform the walk\n",
    "        self.agents.one_neighbour_occupy_squareness_moore(self)\n",
    "        # update the agent states in environment\n",
    "        self.update_agents()\n",
    "        \n",
    "    def one_neighbour_occupy_squareness_von_neumann(self):\n",
    "        # iterate over egents and perform the walk\n",
    "        self.agents.one_neighbour_occupy_squareness_von_neumann(self)\n",
    "        # update the agent states in environment\n",
    "        self.update_agents()\n",
    "      \n",
    "    def one_neighbour_occupy_cubish_behaviour(self):\n",
    "        # iterate over egents and perform the walk\n",
    "        self.agents.one_neighbour_occupy_cubish_behaviour(self)\n",
    "        # update the agent states in environment\n",
    "        self.update_agents()\n",
    "        \n",
    "    def one_neighbour_occupy_squareness_behaviour(self):\n",
    "        # iterate over egents and perform the walk\n",
    "        self.agents.one_neighbour_occupy_squareness_behaviour(self)\n",
    "        # update the agent states in environment\n",
    "        self.update_agents()\n",
    "        "
   ]
  },
  {
   "cell_type": "code",
   "execution_count": 25,
   "metadata": {},
   "outputs": [],
   "source": [
    "def calculate_cost_for_positions(Location_list,Enviornment_lattice,number_of_cells_to_be_occupied):\n",
    "    All_viz_options = []\n",
    "    for indexing, item in enumerate(Location_list):\n",
    "        #print(indexing)\n",
    "        Agent = agent(np.unravel_index(item,init_avail_lattice.shape),stencil_cuboid,9)\n",
    "\n",
    "        occ_lattice_sim = tg.to_lattice(np.copy(avail_lattice), avail_lattice)\n",
    "\n",
    "        env = {\"availibility\": occ_lattice_sim,\"enviornment\": Enviornment_lattice}\n",
    "\n",
    "\n",
    "        env_1 = environment(env,Agent,number_of_cells_to_be_occupied,\"one_neighbour_occupy_cubish_behaviour\")\n",
    "\n",
    "        env_availability_viz = []\n",
    "        env_list =[env_1]\n",
    "        number_steps = max(map(lambda e:e.number_of_iterations,env_list))    \n",
    "        for a in range(number_steps):\n",
    "            # print(env.availibility)\n",
    "            #print(env.agent_origin)\n",
    "\n",
    "            for e in env_list:\n",
    "                if a < e.number_of_iterations :\n",
    "                    #print(a)\n",
    "                    #print(e.number_of_iterations)\n",
    "                    if e.method_name == \"one_neighbour_occupy_squareness_moore\":\n",
    "                        e.one_neighbour_occupy_squareness_moore()\n",
    "\n",
    "                    elif e.method_name == \"one_neighbour_occupy_cubish_agents\" :\n",
    "                        e.one_neighbour_occupy_cubish_agents()\n",
    "\n",
    "                    elif e.method_name == \"random_occupy_squareness_agents\" :\n",
    "                        e.random_occupy_squareness_agents()\n",
    "\n",
    "                    elif e.method_name == \"random_occupy_cubish_agents\" :\n",
    "                        e.random_occupy_cubish_agents()  \n",
    "\n",
    "                    elif e.method_name == \"random_occupy_cubish_von_neumann_agents\" :\n",
    "                        e.random_occupy_cubish_von_neumann_agents()                           \n",
    "\n",
    "                    elif e.method_name == \"one_neighbour_occupy_squareness_von_neumann\" :\n",
    "                        e.one_neighbour_occupy_squareness_von_neumann()                \n",
    "\n",
    "\n",
    "                    elif e.method_name == \"one_neighbour_occupy_squareness_behaviour\" :\n",
    "                        e.one_neighbour_occupy_squareness_behaviour()  \n",
    "\n",
    "                    elif e.method_name == \"one_neighbour_occupy_cubish_behaviour\" :\n",
    "                        e.one_neighbour_occupy_cubish_behaviour()  \n",
    "\n",
    "                    elif e.method_name == \"argmax_occupy_von_neumann\" :\n",
    "                        e.argmax_occupy_von_neumann()  \n",
    "\n",
    "        env_availability_viz.append(e.availibility)\n",
    "\n",
    "        All_viz_options.append(env_availability_viz)\n",
    "\n",
    "    all_viz_array= np.array(All_viz_options)\n",
    "    all_viz_array_shape = all_viz_array.shape\n",
    "    reshaped_all_viz= all_viz_array.reshape(all_viz_array_shape[0]*all_viz_array_shape[1],all_viz_array_shape[2],all_viz_array_shape[3],all_viz_array_shape[4])\n",
    "    sum_of_values = []\n",
    "    for lattice in reshaped_all_viz:\n",
    "        indexes= np.argwhere(lattice.flatten()==9).flatten()\n",
    "        values= env[\"enviornment\"].flatten()[indexes]\n",
    "        total = int(np.sum(values))\n",
    "        sum_of_values.append(total)\n",
    "    return sum_of_values"
   ]
  },
  {
   "cell_type": "code",
   "execution_count": 26,
   "metadata": {},
   "outputs": [],
   "source": [
    "Cost_for_PH = np.array(calculate_cost_for_positions(Selected_positions,Private_sector_Owned,20)) # Private Housing\n",
    "Cost_for_SH = np.array(calculate_cost_for_positions(Selected_positions,Social_Sector_Rental,20)) # Social Housing\n",
    "Cost_for_FH = np.array(calculate_cost_for_positions(Selected_positions,Free_Sector_rental,20)) # Free sector Housing\n",
    "Cost_for_RC = np.array(calculate_cost_for_positions(Selected_positions,Restaurants_and_Cafes,20)) # Restaurant and Cafe \n",
    "Cost_for_R = np.array(calculate_cost_for_positions(Selected_positions,Offices,20)) # Retail stores\n",
    "Cost_for_O = np.array(calculate_cost_for_positions(Selected_positions,Retail,20)) # Offices\n",
    "Cost_for_P = np.array(calculate_cost_for_positions(Selected_positions,Parking,20)) # Parking"
   ]
  },
  {
   "cell_type": "code",
   "execution_count": 27,
   "metadata": {},
   "outputs": [],
   "source": [
    "cost_matrix = np.concatenate ((np.tile(Cost_for_PH,21),np.tile(Cost_for_SH,16),np.tile(Cost_for_FH,21),np.tile(Cost_for_RC,1),np.tile(Cost_for_R,4),np.tile(Cost_for_O,5),np.tile(Cost_for_P,3)))"
   ]
  },
  {
   "cell_type": "code",
   "execution_count": 28,
   "metadata": {},
   "outputs": [],
   "source": [
    "cost_matrix_reshaped = cost_matrix.reshape (int(cost_matrix.size/71), 71 )"
   ]
  },
  {
   "cell_type": "code",
   "execution_count": 29,
   "metadata": {},
   "outputs": [
    {
     "name": "stdout",
     "output_type": "stream",
     "text": [
      "Total cost =  10351.0 \n",
      "\n",
      "Agent 0 assigned to Location 50.  Cost = 156\n",
      "Agent 1 assigned to Location 41.  Cost = 150\n",
      "Agent 2 assigned to Location 70.  Cost = 160\n",
      "Agent 3 assigned to Location 16.  Cost = 164\n",
      "Agent 4 assigned to Location 68.  Cost = 158\n",
      "Agent 5 assigned to Location 60.  Cost = 161\n",
      "Agent 6 assigned to Location 25.  Cost = 164\n",
      "Agent 7 assigned to Location 6.  Cost = 164\n",
      "Agent 8 assigned to Location 67.  Cost = 144\n",
      "Agent 9 assigned to Location 61.  Cost = 161\n",
      "Agent 10 assigned to Location 51.  Cost = 160\n",
      "Agent 11 assigned to Location 42.  Cost = 155\n",
      "Agent 12 assigned to Location 58.  Cost = 143\n",
      "Agent 13 assigned to Location 49.  Cost = 142\n",
      "Agent 14 assigned to Location 21.  Cost = 141\n",
      "Agent 15 assigned to Location 13.  Cost = 157\n",
      "Agent 16 assigned to Location 43.  Cost = 155\n",
      "Agent 17 assigned to Location 30.  Cost = 140\n",
      "Agent 18 assigned to Location 23.  Cost = 163\n",
      "Agent 19 assigned to Location 52.  Cost = 160\n",
      "Agent 20 assigned to Location 33.  Cost = 161\n",
      "Agent 21 assigned to Location 44.  Cost = 134\n",
      "Agent 22 assigned to Location 36.  Cost = 134\n",
      "Agent 23 assigned to Location 55.  Cost = 133\n",
      "Agent 24 assigned to Location 56.  Cost = 126\n",
      "Agent 25 assigned to Location 65.  Cost = 126\n",
      "Agent 26 assigned to Location 18.  Cost = 139\n",
      "Agent 27 assigned to Location 26.  Cost = 134\n",
      "Agent 28 assigned to Location 14.  Cost = 137\n",
      "Agent 29 assigned to Location 45.  Cost = 134\n",
      "Agent 30 assigned to Location 46.  Cost = 133\n",
      "Agent 31 assigned to Location 35.  Cost = 134\n",
      "Agent 32 assigned to Location 28.  Cost = 136\n",
      "Agent 33 assigned to Location 9.  Cost = 139\n",
      "Agent 34 assigned to Location 53.  Cost = 134\n",
      "Agent 35 assigned to Location 69.  Cost = 144\n",
      "Agent 36 assigned to Location 37.  Cost = 133\n",
      "Agent 37 assigned to Location 20.  Cost = 140\n",
      "Agent 38 assigned to Location 38.  Cost = 129\n",
      "Agent 39 assigned to Location 34.  Cost = 146\n",
      "Agent 40 assigned to Location 39.  Cost = 130\n",
      "Agent 41 assigned to Location 22.  Cost = 151\n",
      "Agent 42 assigned to Location 10.  Cost = 131\n",
      "Agent 43 assigned to Location 47.  Cost = 121\n",
      "Agent 44 assigned to Location 15.  Cost = 157\n",
      "Agent 45 assigned to Location 5.  Cost = 158\n",
      "Agent 46 assigned to Location 19.  Cost = 137\n",
      "Agent 47 assigned to Location 11.  Cost = 145\n",
      "Agent 48 assigned to Location 3.  Cost = 134\n",
      "Agent 49 assigned to Location 12.  Cost = 146\n",
      "Agent 50 assigned to Location 31.  Cost = 143\n",
      "Agent 51 assigned to Location 32.  Cost = 144\n",
      "Agent 52 assigned to Location 24.  Cost = 154\n",
      "Agent 53 assigned to Location 7.  Cost = 131\n",
      "Agent 54 assigned to Location 48.  Cost = 125\n",
      "Agent 55 assigned to Location 40.  Cost = 132\n",
      "Agent 56 assigned to Location 29.  Cost = 137\n",
      "Agent 57 assigned to Location 2.  Cost = 144\n",
      "Agent 58 assigned to Location 4.  Cost = 138\n",
      "Agent 59 assigned to Location 64.  Cost = 147\n",
      "Agent 60 assigned to Location 57.  Cost = 121\n",
      "Agent 61 assigned to Location 66.  Cost = 153\n",
      "Agent 62 assigned to Location 59.  Cost = 152\n",
      "Agent 63 assigned to Location 27.  Cost = 149\n",
      "Agent 64 assigned to Location 8.  Cost = 168\n",
      "Agent 65 assigned to Location 1.  Cost = 162\n",
      "Agent 66 assigned to Location 17.  Cost = 161\n",
      "Agent 67 assigned to Location 0.  Cost = 149\n",
      "Agent 68 assigned to Location 62.  Cost = 169\n",
      "Agent 69 assigned to Location 54.  Cost = 169\n",
      "Agent 70 assigned to Location 63.  Cost = 169\n"
     ]
    }
   ],
   "source": [
    "from ortools.linear_solver import pywraplp\n",
    "location_assignment =[]\n",
    "\n",
    "def main():\n",
    "    # Data from all the colours on all the origins\n",
    "    costs = cost_matrix_reshaped\n",
    "    num_workers = 71\n",
    "\n",
    "    num_tasks = len(costs[0])\n",
    "    #print(num_tasks)\n",
    "    # Solver\n",
    "    # Create the mip solver with the SCIP backend.\n",
    "    solver = pywraplp.Solver.CreateSolver('SCIP')\n",
    "\n",
    "\n",
    "    # Variables\n",
    "    # x[i, j] is an array of 0-1 variables, which will be 1\n",
    "    # if worker i is assigned to task j.\n",
    "    x = {}\n",
    "    for i in range(num_workers):\n",
    "        for j in range(num_tasks):\n",
    "            x[i, j] = solver.IntVar(0, 1, '')\n",
    "\n",
    "    # Constraints\n",
    "    # Each worker is assigned to at most 1 task.\n",
    "    for i in range(num_workers):\n",
    "        solver.Add(solver.Sum([x[i, j] for j in range(num_tasks)]) <= 1)\n",
    "\n",
    "    # Each task is assigned to exactly one worker.\n",
    "    for j in range(num_tasks):\n",
    "        solver.Add(solver.Sum([x[i, j] for i in range(num_workers)]) == 1)\n",
    "\n",
    "    # Objective\n",
    "    objective_terms = []\n",
    "    for i in range(num_workers):\n",
    "        for j in range(num_tasks):\n",
    "            objective_terms.append(costs[i][j] * x[i, j])\n",
    "    solver.Maximize(solver.Sum(objective_terms))\n",
    "\n",
    "    # Solve\n",
    "    status = solver.Solve()\n",
    "\n",
    "    # Print solution.\n",
    "    if status == pywraplp.Solver.OPTIMAL or status == pywraplp.Solver.FEASIBLE:\n",
    "        print('Total cost = ', solver.Objective().Value(), '\\n')\n",
    "        for i in range(num_workers):\n",
    "            for j in range(num_tasks):\n",
    "                # Test if x[i,j] is 1 (with tolerance for floating point arithmetic).\n",
    "                if x[i, j].solution_value() > 0.5:\n",
    "                    print('Agent %d assigned to Location %d.  Cost = %d' %\n",
    "                          (i, j, costs[i][j]))\n",
    "                    location_assignment.append(j)\n",
    "\n",
    "\n",
    "if __name__ == '__main__':\n",
    "    main()\n",
    "    \n"
   ]
  },
  {
   "cell_type": "code",
   "execution_count": 30,
   "metadata": {},
   "outputs": [],
   "source": [
    "Agent_origins = []\n",
    "for index in location_assignment:\n",
    "    Agent_origins.append(Selected_positions[index])"
   ]
  },
  {
   "cell_type": "code",
   "execution_count": 31,
   "metadata": {},
   "outputs": [],
   "source": [
    "def agent_based_on_origin(Origin,index):\n",
    "    return agent(np.unravel_index(Origin,init_avail_lattice.shape),stencil_cuboid,index)"
   ]
  },
  {
   "cell_type": "code",
   "execution_count": 32,
   "metadata": {},
   "outputs": [],
   "source": [
    "occ_lattice_sim = tg.to_lattice(np.copy(avail_lattice), avail_lattice)\n",
    "env_P = {\"availibility\": avail_lattice,\"enviornment\": Private_sector_Owned}\n",
    "env_S = {\"availibility\": avail_lattice,\"enviornment\": Social_Sector_Rental}\n",
    "env_F = {\"availibility\": avail_lattice,\"enviornment\": Free_Sector_rental}\n",
    "env_R = {\"availibility\": avail_lattice,\"enviornment\": Restaurants_and_Cafes}\n",
    "env_O = {\"availibility\": avail_lattice,\"enviornment\": Offices}\n",
    "env_RE = {\"availibility\": avail_lattice,\"enviornment\": Retail}\n",
    "env_PR = {\"availibility\": avail_lattice,\"enviornment\": Parking}"
   ]
  },
  {
   "cell_type": "code",
   "execution_count": 33,
   "metadata": {},
   "outputs": [
    {
     "name": "stdout",
     "output_type": "stream",
     "text": [
      "[4209, 3142, 6136, 900, 5969, 5420, 1571, 371, 5946, 5443, 4375, 3308, 5253, 4186, 1259, 732, 3331, 1952, 1426, 4541, 2142]\n"
     ]
    }
   ],
   "source": [
    "Origins_P = Agent_origins[:21]\n",
    "print(Origins_P)\n",
    "Agents_P =[]\n",
    "env_1 =[]\n",
    "for i,item in enumerate(Origins_P):\n",
    "    created_agent_1= agent_based_on_origin(item,10)\n",
    "    Agents_P.append(created_agent_1)\n",
    "    env_1.append(environment(env_P,created_agent_1,20,\"one_neighbour_occupy_cubish_behaviour\"))"
   ]
  },
  {
   "cell_type": "code",
   "execution_count": 34,
   "metadata": {},
   "outputs": [
    {
     "name": "stdout",
     "output_type": "stream",
     "text": [
      "[3499, 2598, 4898, 5064, 5779, 1069, 1717, 815, 3665, 3831, 2432, 1785, 541, 4709, 6096, 2621]\n"
     ]
    }
   ],
   "source": [
    "Origins_S = Agent_origins[21:37]\n",
    "print(Origins_S)\n",
    "Agents_S =[]\n",
    "env_2 =[]\n",
    "for item in Origins_S:\n",
    "    created_agent_2 = agent_based_on_origin(item,100)\n",
    "    Agents_S.append(created_agent_2)\n",
    "    env_2.append(environment(env_S,created_agent_2,20,\"one_neighbour_occupy_cubish_behaviour\"))"
   ]
  },
  {
   "cell_type": "code",
   "execution_count": 35,
   "metadata": {},
   "outputs": [
    {
     "name": "stdout",
     "output_type": "stream",
     "text": [
      "[1214, 2787, 2264, 2953, 1381, 586, 3854, 855, 326, 1191, 664, 203, 687, 2074, 2097, 1548, 432, 4020, 2976, 1907, 158]\n"
     ]
    }
   ],
   "source": [
    "Origins_F = Agent_origins[37:58]\n",
    "print(Origins_F)\n",
    "Agents_F =[]\n",
    "env_3 =[]\n",
    "for item in Origins_F:\n",
    "    created_agent_3 = agent_based_on_origin(item,200)\n",
    "    Agents_F.append(created_agent_3)\n",
    "    env_3.append(environment(env_F,created_agent_3,20,\"one_neighbour_occupy_cubish_behaviour\"))"
   ]
  },
  {
   "cell_type": "code",
   "execution_count": 36,
   "metadata": {},
   "outputs": [
    {
     "name": "stdout",
     "output_type": "stream",
     "text": [
      "5723\n"
     ]
    }
   ],
   "source": [
    "Origins_R = Agent_origins[59]\n",
    "print(Origins_R)\n",
    "Agents_R =agent_based_on_origin(item,300)\n",
    "env_4= environment(env_R,Agents_R,20,\"one_neighbour_occupy_cubish_behaviour\")"
   ]
  },
  {
   "cell_type": "code",
   "execution_count": 37,
   "metadata": {},
   "outputs": [
    {
     "name": "stdout",
     "output_type": "stream",
     "text": [
      "[5723, 5087, 5876, 5358]\n"
     ]
    }
   ],
   "source": [
    "Origins_O = Agent_origins[59:63]\n",
    "print(Origins_O)\n",
    "Agents_O =[]\n",
    "env_5 =[]\n",
    "for item in Origins_O:\n",
    "    created_agent_5 = agent_based_on_origin(item,400)\n",
    "    Agents_O.append(created_agent_5)\n",
    "    env_5.append(environment(env_O,created_agent_5,20,\"one_neighbour_occupy_cubish_behaviour\"))"
   ]
  },
  {
   "cell_type": "code",
   "execution_count": 38,
   "metadata": {},
   "outputs": [
    {
     "name": "stdout",
     "output_type": "stream",
     "text": [
      "[1740, 496, 135, 1024, 57]\n"
     ]
    }
   ],
   "source": [
    "Origins_RE = Agent_origins[63:68]\n",
    "print(Origins_RE)\n",
    "Agents_RE =[]\n",
    "env_6 =[]\n",
    "for item in Origins_RE:\n",
    "    created_agent_6 = agent_based_on_origin(item,500)\n",
    "    Agents_RE.append(created_agent_6)\n",
    "    env_6.append(environment(env_RE,created_agent_6,20,\"one_neighbour_occupy_cubish_behaviour\"))"
   ]
  },
  {
   "cell_type": "code",
   "execution_count": 39,
   "metadata": {},
   "outputs": [
    {
     "name": "stdout",
     "output_type": "stream",
     "text": [
      "[5589, 4732, 5612]\n"
     ]
    }
   ],
   "source": [
    "Origins_PR = Agent_origins[68:71]\n",
    "print(Origins_PR)\n",
    "Agents_PR =[]\n",
    "env_7 =[]\n",
    "for item in Origins_PR:\n",
    "    created_agent_7 = agent_based_on_origin(item,600)\n",
    "    Agents_PR.append(created_agent_7)\n",
    "    env_7.append(environment(env_PR,created_agent_7,20,\"one_neighbour_occupy_cubish_behaviour\"))    "
   ]
  },
  {
   "cell_type": "code",
   "execution_count": 40,
   "metadata": {},
   "outputs": [],
   "source": [
    "all_enviornments= np.concatenate(((np.array(env_1)),(np.array(env_2)),(np.array(env_3)),(np.array(env_5)),(np.array(env_6)),(np.array(env_7))))\n",
    "all_enviornments_2 = np.append(all_enviornments,np.array(env_4))"
   ]
  },
  {
   "cell_type": "code",
   "execution_count": 41,
   "metadata": {},
   "outputs": [
    {
     "data": {
      "text/plain": [
       "71"
      ]
     },
     "execution_count": 41,
     "metadata": {},
     "output_type": "execute_result"
    }
   ],
   "source": [
    "len(all_enviornments_2)"
   ]
  },
  {
   "cell_type": "code",
   "execution_count": 42,
   "metadata": {
    "scrolled": true
   },
   "outputs": [
    {
     "name": "stdout",
     "output_type": "stream",
     "text": [
      "0\n",
      "1\n",
      "2\n",
      "3\n",
      "4\n",
      "5\n",
      "6\n",
      "7\n",
      "8\n",
      "9\n",
      "10\n",
      "11\n",
      "12\n",
      "13\n",
      "14\n",
      "15\n",
      "16\n",
      "17\n",
      "18\n"
     ]
    },
    {
     "ename": "ValueError",
     "evalue": "attempt to get argmax of an empty sequence",
     "output_type": "error",
     "traceback": [
      "\u001b[1;31m---------------------------------------------------------------------------\u001b[0m",
      "\u001b[1;31mValueError\u001b[0m                                Traceback (most recent call last)",
      "\u001b[1;32m<ipython-input-42-07d317e5fc69>\u001b[0m in \u001b[0;36m<module>\u001b[1;34m\u001b[0m\n\u001b[0;32m     33\u001b[0m \u001b[1;33m\u001b[0m\u001b[0m\n\u001b[0;32m     34\u001b[0m             \u001b[1;32melif\u001b[0m \u001b[0me\u001b[0m\u001b[1;33m.\u001b[0m\u001b[0mmethod_name\u001b[0m \u001b[1;33m==\u001b[0m \u001b[1;34m\"one_neighbour_occupy_cubish_behaviour\"\u001b[0m \u001b[1;33m:\u001b[0m\u001b[1;33m\u001b[0m\u001b[1;33m\u001b[0m\u001b[0m\n\u001b[1;32m---> 35\u001b[1;33m                 \u001b[0me\u001b[0m\u001b[1;33m.\u001b[0m\u001b[0mone_neighbour_occupy_cubish_behaviour\u001b[0m\u001b[1;33m(\u001b[0m\u001b[1;33m)\u001b[0m\u001b[1;33m\u001b[0m\u001b[1;33m\u001b[0m\u001b[0m\n\u001b[0m\u001b[0;32m     36\u001b[0m \u001b[1;33m\u001b[0m\u001b[0m\n\u001b[0;32m     37\u001b[0m             \u001b[1;32melif\u001b[0m \u001b[0me\u001b[0m\u001b[1;33m.\u001b[0m\u001b[0mmethod_name\u001b[0m \u001b[1;33m==\u001b[0m \u001b[1;34m\"argmax_occupy_von_neumann\"\u001b[0m \u001b[1;33m:\u001b[0m\u001b[1;33m\u001b[0m\u001b[1;33m\u001b[0m\u001b[0m\n",
      "\u001b[1;32m<ipython-input-24-3fa7dd956e60>\u001b[0m in \u001b[0;36mone_neighbour_occupy_cubish_behaviour\u001b[1;34m(self)\u001b[0m\n\u001b[0;32m     59\u001b[0m     \u001b[1;32mdef\u001b[0m \u001b[0mone_neighbour_occupy_cubish_behaviour\u001b[0m\u001b[1;33m(\u001b[0m\u001b[0mself\u001b[0m\u001b[1;33m)\u001b[0m\u001b[1;33m:\u001b[0m\u001b[1;33m\u001b[0m\u001b[1;33m\u001b[0m\u001b[0m\n\u001b[0;32m     60\u001b[0m         \u001b[1;31m# iterate over egents and perform the walk\u001b[0m\u001b[1;33m\u001b[0m\u001b[1;33m\u001b[0m\u001b[1;33m\u001b[0m\u001b[0m\n\u001b[1;32m---> 61\u001b[1;33m         \u001b[0mself\u001b[0m\u001b[1;33m.\u001b[0m\u001b[0magents\u001b[0m\u001b[1;33m.\u001b[0m\u001b[0mone_neighbour_occupy_cubish_behaviour\u001b[0m\u001b[1;33m(\u001b[0m\u001b[0mself\u001b[0m\u001b[1;33m)\u001b[0m\u001b[1;33m\u001b[0m\u001b[1;33m\u001b[0m\u001b[0m\n\u001b[0m\u001b[0;32m     62\u001b[0m         \u001b[1;31m# update the agent states in environment\u001b[0m\u001b[1;33m\u001b[0m\u001b[1;33m\u001b[0m\u001b[1;33m\u001b[0m\u001b[0m\n\u001b[0;32m     63\u001b[0m         \u001b[0mself\u001b[0m\u001b[1;33m.\u001b[0m\u001b[0mupdate_agents\u001b[0m\u001b[1;33m(\u001b[0m\u001b[1;33m)\u001b[0m\u001b[1;33m\u001b[0m\u001b[1;33m\u001b[0m\u001b[0m\n",
      "\u001b[1;32m<ipython-input-22-3e674fd647f4>\u001b[0m in \u001b[0;36mone_neighbour_occupy_cubish_behaviour\u001b[1;34m(self, env)\u001b[0m\n\u001b[0;32m    319\u001b[0m \u001b[1;33m\u001b[0m\u001b[0m\n\u001b[0;32m    320\u001b[0m        \u001b[1;31m# print(neighs_unq_base_value)\u001b[0m\u001b[1;33m\u001b[0m\u001b[1;33m\u001b[0m\u001b[1;33m\u001b[0m\u001b[0m\n\u001b[1;32m--> 321\u001b[1;33m         \u001b[0mselected_neigh_index\u001b[0m \u001b[1;33m=\u001b[0m \u001b[0mnp\u001b[0m\u001b[1;33m.\u001b[0m\u001b[0margmax\u001b[0m\u001b[1;33m(\u001b[0m\u001b[0mneigh_sqr_evaluation\u001b[0m\u001b[1;33m)\u001b[0m\u001b[1;33m\u001b[0m\u001b[1;33m\u001b[0m\u001b[0m\n\u001b[0m\u001b[0;32m    322\u001b[0m         \u001b[0mselected_neigh_1D_id\u001b[0m \u001b[1;33m=\u001b[0m \u001b[0mavail_unq_neighs\u001b[0m\u001b[1;33m[\u001b[0m\u001b[0mselected_neigh_index\u001b[0m\u001b[1;33m]\u001b[0m\u001b[1;33m\u001b[0m\u001b[1;33m\u001b[0m\u001b[0m\n\u001b[0;32m    323\u001b[0m         \u001b[1;31m#selected_neigh_3D_id = np.unravel_index(selected_neigh_1D_id,bounds.shape )\u001b[0m\u001b[1;33m\u001b[0m\u001b[1;33m\u001b[0m\u001b[1;33m\u001b[0m\u001b[0m\n",
      "\u001b[1;32m<__array_function__ internals>\u001b[0m in \u001b[0;36margmax\u001b[1;34m(*args, **kwargs)\u001b[0m\n",
      "\u001b[1;32m~\\anaconda3\\envs\\scw\\lib\\site-packages\\numpy\\core\\fromnumeric.py\u001b[0m in \u001b[0;36margmax\u001b[1;34m(a, axis, out)\u001b[0m\n\u001b[0;32m   1186\u001b[0m \u001b[1;33m\u001b[0m\u001b[0m\n\u001b[0;32m   1187\u001b[0m     \"\"\"\n\u001b[1;32m-> 1188\u001b[1;33m     \u001b[1;32mreturn\u001b[0m \u001b[0m_wrapfunc\u001b[0m\u001b[1;33m(\u001b[0m\u001b[0ma\u001b[0m\u001b[1;33m,\u001b[0m \u001b[1;34m'argmax'\u001b[0m\u001b[1;33m,\u001b[0m \u001b[0maxis\u001b[0m\u001b[1;33m=\u001b[0m\u001b[0maxis\u001b[0m\u001b[1;33m,\u001b[0m \u001b[0mout\u001b[0m\u001b[1;33m=\u001b[0m\u001b[0mout\u001b[0m\u001b[1;33m)\u001b[0m\u001b[1;33m\u001b[0m\u001b[1;33m\u001b[0m\u001b[0m\n\u001b[0m\u001b[0;32m   1189\u001b[0m \u001b[1;33m\u001b[0m\u001b[0m\n\u001b[0;32m   1190\u001b[0m \u001b[1;33m\u001b[0m\u001b[0m\n",
      "\u001b[1;32m~\\anaconda3\\envs\\scw\\lib\\site-packages\\numpy\\core\\fromnumeric.py\u001b[0m in \u001b[0;36m_wrapfunc\u001b[1;34m(obj, method, *args, **kwds)\u001b[0m\n\u001b[0;32m     56\u001b[0m \u001b[1;33m\u001b[0m\u001b[0m\n\u001b[0;32m     57\u001b[0m     \u001b[1;32mtry\u001b[0m\u001b[1;33m:\u001b[0m\u001b[1;33m\u001b[0m\u001b[1;33m\u001b[0m\u001b[0m\n\u001b[1;32m---> 58\u001b[1;33m         \u001b[1;32mreturn\u001b[0m \u001b[0mbound\u001b[0m\u001b[1;33m(\u001b[0m\u001b[1;33m*\u001b[0m\u001b[0margs\u001b[0m\u001b[1;33m,\u001b[0m \u001b[1;33m**\u001b[0m\u001b[0mkwds\u001b[0m\u001b[1;33m)\u001b[0m\u001b[1;33m\u001b[0m\u001b[1;33m\u001b[0m\u001b[0m\n\u001b[0m\u001b[0;32m     59\u001b[0m     \u001b[1;32mexcept\u001b[0m \u001b[0mTypeError\u001b[0m\u001b[1;33m:\u001b[0m\u001b[1;33m\u001b[0m\u001b[1;33m\u001b[0m\u001b[0m\n\u001b[0;32m     60\u001b[0m         \u001b[1;31m# A TypeError occurs if the object does have such a method in its\u001b[0m\u001b[1;33m\u001b[0m\u001b[1;33m\u001b[0m\u001b[1;33m\u001b[0m\u001b[0m\n",
      "\u001b[1;31mValueError\u001b[0m: attempt to get argmax of an empty sequence"
     ]
    }
   ],
   "source": [
    "env_availability_viz = []\n",
    "env_list = all_enviornments_2\n",
    "number_steps = max(map(lambda e:e.number_of_iterations,env_list))\n",
    "for a in range(number_steps):\n",
    "    # print(env.availibility)\n",
    "    #print(env.agent_origin)\n",
    "    print(a)\n",
    "    for e in env_list:\n",
    "        if a < e.number_of_iterations :\n",
    "            #print(a)\n",
    "            #print(e.number_of_iterations)\n",
    "            if e.method_name == \"one_neighbour_occupy_squareness_moore\":\n",
    "                e.one_neighbour_occupy_squareness_moore()\n",
    "                \n",
    "            elif e.method_name == \"one_neighbour_occupy_cubish_agents\" :\n",
    "                e.one_neighbour_occupy_cubish_agents()\n",
    "                \n",
    "            elif e.method_name == \"random_occupy_squareness_agents\" :\n",
    "                e.random_occupy_squareness_agents()\n",
    "            \n",
    "            elif e.method_name == \"random_occupy_cubish_agents\" :\n",
    "                e.random_occupy_cubish_agents()  \n",
    "                \n",
    "            elif e.method_name == \"random_occupy_cubish_von_neumann_agents\" :\n",
    "                e.random_occupy_cubish_von_neumann_agents()                           \n",
    "                \n",
    "            elif e.method_name == \"one_neighbour_occupy_squareness_von_neumann\" :\n",
    "                e.one_neighbour_occupy_squareness_von_neumann()                \n",
    "                \n",
    "                \n",
    "            elif e.method_name == \"one_neighbour_occupy_squareness_behaviour\" :\n",
    "                e.one_neighbour_occupy_squareness_behaviour()  \n",
    "                \n",
    "            elif e.method_name == \"one_neighbour_occupy_cubish_behaviour\" :\n",
    "                e.one_neighbour_occupy_cubish_behaviour()  \n",
    "            \n",
    "            elif e.method_name == \"argmax_occupy_von_neumann\" :\n",
    "                e.argmax_occupy_von_neumann()  \n",
    "                \n",
    "            env_availability_viz.append(e.availibility-1)"
   ]
  },
  {
   "cell_type": "code",
   "execution_count": 43,
   "metadata": {},
   "outputs": [
    {
     "name": "stdout",
     "output_type": "stream",
     "text": [
      "[6 6 6]\n"
     ]
    },
    {
     "data": {
      "application/vnd.jupyter.widget-view+json": {
       "model_id": "1af00bce686f4f6c9faf375d9279b9f7",
       "version_major": 2,
       "version_minor": 0
      },
      "text/plain": [
       "ViewInteractiveWidget(height=768, layout=Layout(height='auto', width='100%'), width=1024)"
      ]
     },
     "metadata": {},
     "output_type": "display_data"
    },
    {
     "data": {
      "text/plain": [
       "[(168.72367820989257, 336.72367820989257, 303.72367820989257),\n",
       " (-105.0, 63.0, 30.0),\n",
       " (0.0, 0.0, 1.0)]"
      ]
     },
     "execution_count": 43,
     "metadata": {},
     "output_type": "execute_result"
    }
   ],
   "source": [
    "p = pv.Plotter(notebook=True)\n",
    "\n",
    "base_lattice = env_availability_viz[0]\n",
    "print(base_lattice.unit)\n",
    "# Set the grid dimensions: shape + 1 because we want to inject our values on the CELL data\n",
    "grid = pv.UniformGrid()\n",
    "grid.dimensions = np.array(base_lattice.shape) + 1\n",
    "# The bottom left corner of the data set\n",
    "grid.origin = base_lattice.minbound - base_lattice.unit * 0.5\n",
    "# These are the cell sizes along each axis\n",
    "grid.spacing = base_lattice.unit \n",
    "\n",
    "# adding the boundingbox wireframe\n",
    "p.add_mesh(grid.outline(), color=\"grey\", label=\"Domain\")\n",
    "\n",
    "# adding the avilability lattice\n",
    "init_avail_lattice.fast_vis(p)\n",
    "\n",
    "# adding axes\n",
    "p.add_axes()\n",
    "p.show_bounds(grid=\"back\", location=\"back\", color=\"#aaaaaa\") \n",
    "\n",
    "def create_mesh(value):\n",
    "    f = int(value)\n",
    "    lattice = env_availability_viz[f]\n",
    "\n",
    "    # Add the data values to the cell data\n",
    "    grid.cell_arrays[\"Agents\"] = lattice.flatten(order=\"F\").astype(int)  # Flatten the array!\n",
    "    # filtering the voxels\n",
    "    threshed = grid.threshold([1.1, avail_lattice.size])\n",
    "    # adding the voxels\n",
    "    p.add_mesh(threshed, name='sphere', show_edges=True, opacity=1.0, show_scalar_bar=False)\n",
    "    return\n",
    "number_steps_2 = 1500\n",
    "p.add_slider_widget(create_mesh, [0, number_steps_2], title='Time', value=0, event_type=\"always\", style=\"classic\")\n",
    "\n",
    "\n",
    "p.show(use_ipyvtk=True)\n"
   ]
  },
  {
   "cell_type": "code",
   "execution_count": 44,
   "metadata": {},
   "outputs": [],
   "source": [
    "\"\"\"\n",
    "for i, lattice in enumerate(env_availability_viz):\n",
    "    csv_path = os.path.relpath('csv/abm_f_'+ f'{i:03}' + '.csv')\n",
    "    lattice.to_csv(csv_path)\n",
    "\"\"\""
   ]
  },
  {
   "cell_type": "code",
   "execution_count": null,
   "metadata": {},
   "outputs": [],
   "source": []
  }
 ],
 "metadata": {
  "hide_input": false,
  "kernelspec": {
   "display_name": "Python 3",
   "language": "python",
   "name": "python3"
  },
  "language_info": {
   "codemirror_mode": {
    "name": "ipython",
    "version": 3
   },
   "file_extension": ".py",
   "mimetype": "text/x-python",
   "name": "python",
   "nbconvert_exporter": "python",
   "pygments_lexer": "ipython3",
   "version": "3.8.4"
  }
 },
 "nbformat": 4,
 "nbformat_minor": 4
}
