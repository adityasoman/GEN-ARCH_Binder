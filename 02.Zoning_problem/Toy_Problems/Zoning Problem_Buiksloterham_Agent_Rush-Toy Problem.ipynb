{
 "cells": [
  {
   "cell_type": "markdown",
   "metadata": {},
   "source": [
    "## The Zoning Problem \n",
    "The aim of this notebook is to generate the optimal zoning by formulating a linear assignment problem and using google\n",
    "OR-Toolsfor solving the optimization problem.\n",
    "The agent behaviours are taken from the previous study. The occupation and env lattices are random for the test problem .\n",
    "\n",
    "### The Test Problem \n",
    "There are five agents :[Blue,Green,Yellow,Red,Violet]\n",
    "The number of voxels which each agent occupies are [B1,G1,Y1,R1,V1]\n",
    "Total number of voxels in a lattice = x \n",
    "Value lattice for the agents are =[Bv],[Gv],[Yv],[Rv],[Vv]\n",
    "\n",
    "####  Aim \n",
    ": To find the best combination of Zones to achieve the maximum occupancy value\n",
    "#### Steps\n",
    "\n",
    "1. Generate the lattices , Agent behaviours, agents, \n",
    "2. Find the possible origin locations for the agents\n",
    "3. Simulate occupancy behaviour and retrieve the cost of occupancy for each agent at each position\n",
    "4. Generate the Cost matrix\n",
    "5. Use the MIP Solver to optimise the combination to get the permutation matrix \n"
   ]
  },
  {
   "cell_type": "markdown",
   "metadata": {},
   "source": [
    "## Initilization"
   ]
  },
  {
   "cell_type": "code",
   "execution_count": 1,
   "metadata": {},
   "outputs": [],
   "source": [
    "import os\n",
    "import itertools\n",
    "import sys\n",
    "from math import factorial as fac\n",
    "sys.path.append(\"D:/TU_Delft/Msc_Building_Technology/Semester_3/Graduation/Aditya_Graduation_Project_BT/06_Libraries\")\n",
    "import topogenesis as tg\n",
    "import pyvista as pv\n",
    "import trimesh as tm\n",
    "import numpy as np\n",
    "np.random.seed(0)\n",
    "np.set_printoptions(threshold=sys.maxsize)\n",
    "import networkx as nx\n",
    "from itertools import combinations\n",
    "import pickle"
   ]
  },
  {
   "cell_type": "markdown",
   "metadata": {},
   "source": [
    "## Base Lattices"
   ]
  },
  {
   "cell_type": "code",
   "execution_count": 2,
   "metadata": {},
   "outputs": [],
   "source": [
    "# loading the lattice from csv\n",
    "lattice_path = os.path.relpath('Base_lattice_2.csv')\n",
    "avail_lattice_base = tg.lattice_from_csv(lattice_path)\n",
    "avail_lattice = avail_lattice_base*1\n",
    "init_avail_lattice = tg.to_lattice(np.copy(avail_lattice*1), avail_lattice)"
   ]
  },
  {
   "cell_type": "code",
   "execution_count": 3,
   "metadata": {},
   "outputs": [],
   "source": [
    "val_avail_lattice = tg.to_lattice(np.copy(avail_lattice*0), avail_lattice)+1"
   ]
  },
  {
   "cell_type": "code",
   "execution_count": 4,
   "metadata": {},
   "outputs": [],
   "source": [
    "flattened_lattice = avail_lattice_base.flatten()"
   ]
  },
  {
   "cell_type": "code",
   "execution_count": 5,
   "metadata": {},
   "outputs": [
    {
     "data": {
      "text/plain": [
       "1386"
      ]
     },
     "execution_count": 5,
     "metadata": {},
     "output_type": "execute_result"
    }
   ],
   "source": [
    "len(flattened_lattice)"
   ]
  },
  {
   "cell_type": "code",
   "execution_count": 6,
   "metadata": {},
   "outputs": [
    {
     "data": {
      "text/plain": [
       "cloud([[[ 0.,  0.,  0.,  0.,  0.,  0.,  0.,  0.,  0.,  0.,  0.],\n",
       "        [ 0.,  0.,  0.,  0.,  0.,  0.,  0.,  0.,  0.,  0.,  0.],\n",
       "        [ 0.,  0.,  0.,  0.,  0.,  0.,  0.,  0.,  0.,  0.,  0.],\n",
       "        [ 0.,  0.,  0.,  0.,  0.,  0.,  0.,  0.,  0.,  0.,  0.],\n",
       "        [ 0.,  0.,  0.,  0.,  0.,  0.,  0.,  0.,  0.,  0.,  0.],\n",
       "        [ 0.,  0.,  0.,  0.,  0.,  0.,  0.,  0.,  0.,  0.,  0.],\n",
       "        [ 3.,  3.,  3.,  3.,  3.,  3.,  3.,  3.,  3.,  3.,  3.],\n",
       "        [ 3.,  3.,  3.,  3.,  3.,  3.,  3.,  3.,  3.,  3.,  3.],\n",
       "        [ 3.,  3.,  3.,  3.,  3.,  3.,  3.,  3.,  3.,  3.,  3.],\n",
       "        [ 3.,  3.,  3.,  3.,  3.,  3.,  3.,  3.,  3.,  3.,  3.],\n",
       "        [ 3.,  3.,  3.,  3.,  3.,  3.,  3.,  3.,  3.,  3.,  3.],\n",
       "        [ 3.,  3.,  3.,  3.,  3.,  3.,  3.,  3.,  3.,  3.,  3.],\n",
       "        [ 6.,  6.,  6.,  6.,  6.,  6.,  6.,  6.,  6.,  6.,  6.],\n",
       "        [ 6.,  6.,  6.,  6.,  6.,  6.,  6.,  6.,  6.,  6.,  6.],\n",
       "        [ 6.,  6.,  6.,  6.,  6.,  6.,  6.,  6.,  6.,  6.,  6.],\n",
       "        [ 6.,  6.,  6.,  6.,  6.,  6.,  6.,  6.,  6.,  6.,  6.],\n",
       "        [ 6.,  6.,  6.,  6.,  6.,  6.,  6.,  6.,  6.,  6.,  6.],\n",
       "        [ 6.,  6.,  6.,  6.,  6.,  6.,  6.,  6.,  6.,  6.,  6.],\n",
       "        [ 9.,  9.,  9.,  9.,  9.,  9.,  9.,  9.,  9.,  9.,  9.],\n",
       "        [ 9.,  9.,  9.,  9.,  9.,  9.,  9.,  9.,  9.,  9.,  9.],\n",
       "        [ 9.,  9.,  9.,  9.,  9.,  9.,  9.,  9.,  9.,  9.,  9.]],\n",
       "\n",
       "       [[ 9.,  9.,  9.,  9.,  9.,  9.,  9.,  9.,  9.,  9.,  9.],\n",
       "        [ 9.,  9.,  9.,  9.,  9.,  9.,  9.,  9.,  9.,  9.,  9.],\n",
       "        [ 9.,  9.,  9.,  9.,  9.,  9.,  9.,  9.,  9.,  9.,  9.],\n",
       "        [12., 12., 12., 12., 12., 12., 12., 12., 12., 12., 12.],\n",
       "        [12., 12., 12., 12., 12., 12., 12., 12., 12., 12., 12.],\n",
       "        [12., 12., 12., 12., 12., 12., 12., 12., 12., 12., 12.],\n",
       "        [12., 12., 12., 12., 12., 12., 12., 12., 12., 12., 12.],\n",
       "        [12., 12., 12., 12., 12., 12., 12., 12., 12., 12., 12.],\n",
       "        [12., 12., 12., 12., 12., 12., 12., 12., 12., 12., 12.],\n",
       "        [15., 15., 15., 15., 15., 15., 15., 15., 15., 15., 15.],\n",
       "        [15., 15., 15., 15., 15., 15., 15., 15., 15., 15., 15.],\n",
       "        [15., 15., 15., 15., 15., 15., 15., 15., 15., 15., 15.],\n",
       "        [15., 15., 15., 15., 15., 15., 15., 15., 15., 15., 15.],\n",
       "        [15., 15., 15., 15., 15., 15., 15., 15., 15., 15., 15.],\n",
       "        [15., 15., 15., 15., 15., 15., 15., 15., 15., 15., 15.],\n",
       "        [18., 18., 18., 18., 18., 18., 18., 18., 18., 18., 18.],\n",
       "        [18., 18., 18., 18., 18., 18., 18., 18., 18., 18., 18.],\n",
       "        [18., 18., 18., 18., 18., 18., 18., 18., 18., 18., 18.],\n",
       "        [18., 18., 18., 18., 18., 18., 18., 18., 18., 18., 18.],\n",
       "        [18., 18., 18., 18., 18., 18., 18., 18., 18., 18., 18.],\n",
       "        [18., 18., 18., 18., 18., 18., 18., 18., 18., 18., 18.]],\n",
       "\n",
       "       [[21., 21., 21., 21., 21., 21., 21., 21., 21., 21., 21.],\n",
       "        [21., 21., 21., 21., 21., 21., 21., 21., 21., 21., 21.],\n",
       "        [21., 21., 21., 21., 21., 21., 21., 21., 21., 21., 21.],\n",
       "        [21., 21., 21., 21., 21., 21., 21., 21., 21., 21., 21.],\n",
       "        [21., 21., 21., 21., 21., 21., 21., 21., 21., 21., 21.],\n",
       "        [21., 21., 21., 21., 21., 21., 21., 21., 21., 21., 21.],\n",
       "        [24., 24., 24., 24., 24., 24., 24., 24., 24., 24., 24.],\n",
       "        [24., 24., 24., 24., 24., 24., 24., 24., 24., 24., 24.],\n",
       "        [24., 24., 24., 24., 24., 24., 24., 24., 24., 24., 24.],\n",
       "        [24., 24., 24., 24., 24., 24., 24., 24., 24., 24., 24.],\n",
       "        [24., 24., 24., 24., 24., 24., 24., 24., 24., 24., 24.],\n",
       "        [24., 24., 24., 24., 24., 24., 24., 24., 24., 24., 24.],\n",
       "        [27., 27., 27., 27., 27., 27., 27., 27., 27., 27., 27.],\n",
       "        [27., 27., 27., 27., 27., 27., 27., 27., 27., 27., 27.],\n",
       "        [27., 27., 27., 27., 27., 27., 27., 27., 27., 27., 27.],\n",
       "        [27., 27., 27., 27., 27., 27., 27., 27., 27., 27., 27.],\n",
       "        [27., 27., 27., 27., 27., 27., 27., 27., 27., 27., 27.],\n",
       "        [27., 27., 27., 27., 27., 27., 27., 27., 27., 27., 27.],\n",
       "        [30., 30., 30., 30., 30., 30., 30., 30., 30., 30., 30.],\n",
       "        [30., 30., 30., 30., 30., 30., 30., 30., 30., 30., 30.],\n",
       "        [30., 30., 30., 30., 30., 30., 30., 30., 30., 30., 30.]],\n",
       "\n",
       "       [[30., 30., 30., 30., 30., 30., 30., 30., 30., 30., 30.],\n",
       "        [30., 30., 30., 30., 30., 30., 30., 30., 30., 30., 30.],\n",
       "        [30., 30., 30., 30., 30., 30., 30., 30., 30., 30., 30.],\n",
       "        [33., 33., 33., 33., 33., 33., 33., 33., 33., 33., 33.],\n",
       "        [33., 33., 33., 33., 33., 33., 33., 33., 33., 33., 33.],\n",
       "        [33., 33., 33., 33., 33., 33., 33., 33., 33., 33., 33.],\n",
       "        [33., 33., 33., 33., 33., 33., 33., 33., 33., 33., 33.],\n",
       "        [33., 33., 33., 33., 33., 33., 33., 33., 33., 33., 33.],\n",
       "        [33., 33., 33., 33., 33., 33., 33., 33., 33., 33., 33.],\n",
       "        [36., 36., 36., 36., 36., 36., 36., 36., 36., 36., 36.],\n",
       "        [36., 36., 36., 36., 36., 36., 36., 36., 36., 36., 36.],\n",
       "        [36., 36., 36., 36., 36., 36., 36., 36., 36., 36., 36.],\n",
       "        [36., 36., 36., 36., 36., 36., 36., 36., 36., 36., 36.],\n",
       "        [36., 36., 36., 36., 36., 36., 36., 36., 36., 36., 36.],\n",
       "        [36., 36., 36., 36., 36., 36., 36., 36., 36., 36., 36.],\n",
       "        [39., 39., 39., 39., 39., 39., 39., 39., 39., 39., 39.],\n",
       "        [39., 39., 39., 39., 39., 39., 39., 39., 39., 39., 39.],\n",
       "        [39., 39., 39., 39., 39., 39., 39., 39., 39., 39., 39.],\n",
       "        [39., 39., 39., 39., 39., 39., 39., 39., 39., 39., 39.],\n",
       "        [39., 39., 39., 39., 39., 39., 39., 39., 39., 39., 39.],\n",
       "        [39., 39., 39., 39., 39., 39., 39., 39., 39., 39., 39.]],\n",
       "\n",
       "       [[42., 42., 42., 42., 42., 42., 42., 42., 42., 42., 42.],\n",
       "        [42., 42., 42., 42., 42., 42., 42., 42., 42., 42., 42.],\n",
       "        [42., 42., 42., 42., 42., 42., 42., 42., 42., 42., 42.],\n",
       "        [42., 42., 42., 42., 42., 42., 42., 42., 42., 42., 42.],\n",
       "        [42., 42., 42., 42., 42., 42., 42., 42., 42., 42., 42.],\n",
       "        [42., 42., 42., 42., 42., 42., 42., 42., 42., 42., 42.],\n",
       "        [45., 45., 45., 45., 45., 45., 45., 45., 45., 45., 45.],\n",
       "        [45., 45., 45., 45., 45., 45., 45., 45., 45., 45., 45.],\n",
       "        [45., 45., 45., 45., 45., 45., 45., 45., 45., 45., 45.],\n",
       "        [45., 45., 45., 45., 45., 45., 45., 45., 45., 45., 45.],\n",
       "        [45., 45., 45., 45., 45., 45., 45., 45., 45., 45., 45.],\n",
       "        [45., 45., 45., 45., 45., 45., 45., 45., 45., 45., 45.],\n",
       "        [48., 48., 48., 48., 48., 48., 48., 48., 48., 48., 48.],\n",
       "        [48., 48., 48., 48., 48., 48., 48., 48., 48., 48., 48.],\n",
       "        [48., 48., 48., 48., 48., 48., 48., 48., 48., 48., 48.],\n",
       "        [48., 48., 48., 48., 48., 48., 48., 48., 48., 48., 48.],\n",
       "        [48., 48., 48., 48., 48., 48., 48., 48., 48., 48., 48.],\n",
       "        [48., 48., 48., 48., 48., 48., 48., 48., 48., 48., 48.],\n",
       "        [51., 51., 51., 51., 51., 51., 51., 51., 51., 51., 51.],\n",
       "        [51., 51., 51., 51., 51., 51., 51., 51., 51., 51., 51.],\n",
       "        [51., 51., 51., 51., 51., 51., 51., 51., 51., 51., 51.]],\n",
       "\n",
       "       [[51., 51., 51., 51., 51., 51., 51., 51., 51., 51., 51.],\n",
       "        [51., 51., 51., 51., 51., 51., 51., 51., 51., 51., 51.],\n",
       "        [51., 51., 51., 51., 51., 51., 51., 51., 51., 51., 51.],\n",
       "        [54., 54., 54., 54., 54., 54., 54., 54., 54., 54., 54.],\n",
       "        [54., 54., 54., 54., 54., 54., 54., 54., 54., 54., 54.],\n",
       "        [54., 54., 54., 54., 54., 54., 54., 54., 54., 54., 54.],\n",
       "        [54., 54., 54., 54., 54., 54., 54., 54., 54., 54., 54.],\n",
       "        [54., 54., 54., 54., 54., 54., 54., 54., 54., 54., 54.],\n",
       "        [54., 54., 54., 54., 54., 54., 54., 54., 54., 54., 54.],\n",
       "        [57., 57., 57., 57., 57., 57., 57., 57., 57., 57., 57.],\n",
       "        [57., 57., 57., 57., 57., 57., 57., 57., 57., 57., 57.],\n",
       "        [57., 57., 57., 57., 57., 57., 57., 57., 57., 57., 57.],\n",
       "        [57., 57., 57., 57., 57., 57., 57., 57., 57., 57., 57.],\n",
       "        [57., 57., 57., 57., 57., 57., 57., 57., 57., 57., 57.],\n",
       "        [57., 57., 57., 57., 57., 57., 57., 57., 57., 57., 57.],\n",
       "        [60., 60., 60., 60., 60., 60., 60., 60., 60., 60., 60.],\n",
       "        [60., 60., 60., 60., 60., 60., 60., 60., 60., 60., 60.],\n",
       "        [60., 60., 60., 60., 60., 60., 60., 60., 60., 60., 60.],\n",
       "        [60., 60., 60., 60., 60., 60., 60., 60., 60., 60., 60.],\n",
       "        [60., 60., 60., 60., 60., 60., 60., 60., 60., 60., 60.],\n",
       "        [60., 60., 60., 60., 60., 60., 60., 60., 60., 60., 60.]]])"
      ]
     },
     "execution_count": 6,
     "metadata": {},
     "output_type": "execute_result"
    }
   ],
   "source": [
    "(np.sort(val_avail_lattice.centroids.T[1])).reshape(avail_lattice.shape)"
   ]
  },
  {
   "cell_type": "markdown",
   "metadata": {},
   "source": [
    "## Env Lattices"
   ]
  },
  {
   "cell_type": "code",
   "execution_count": 7,
   "metadata": {},
   "outputs": [],
   "source": [
    "Bv = np.random.randint(1, 20, (np.shape(avail_lattice)), dtype='l')\n",
    "Gv = np.random.randint(1, 20, (np.shape(avail_lattice)), dtype='l')\n",
    "Yv = np.random.randint(1, 9, (np.shape(avail_lattice)), dtype='l')\n",
    "Rv = np.random.randint(1, 9, (np.shape(avail_lattice)), dtype='l')\n",
    "Vv = np.random.randint(1, 99, (np.shape(avail_lattice)), dtype='l')"
   ]
  },
  {
   "cell_type": "markdown",
   "metadata": {},
   "source": [
    "## Stencils"
   ]
  },
  {
   "cell_type": "code",
   "execution_count": 8,
   "metadata": {},
   "outputs": [],
   "source": [
    "# creating neighborhood definition\n",
    "stencil_von_neumann = tg.create_stencil(\"von_neumann\", 1, 1)\n",
    "stencil_von_neumann.set_index([0,0,0], 0)\n",
    "#print(stencil_von_neumann)"
   ]
  },
  {
   "cell_type": "code",
   "execution_count": 9,
   "metadata": {},
   "outputs": [],
   "source": [
    "# creating neighborhood definition \n",
    "stencil_squareness = tg.create_stencil(\"moore\", 1, 1)\n",
    "# Reshaping the moore neighbourhood\n",
    "stencil_squareness[0,:,:] = 0 \n",
    "stencil_squareness[2,:,:] = 0\n",
    "stencil_squareness.set_index([0,0,0], 0)\n",
    "stencil_squareness_t = np.transpose(stencil_squareness) \n",
    "#print(stencil_squareness_t)"
   ]
  },
  {
   "cell_type": "code",
   "execution_count": 10,
   "metadata": {},
   "outputs": [],
   "source": [
    "# creating neighborhood definition \n",
    "stencil_squareness_von = tg.create_stencil(\"von_neumann\", 1, 1)\n",
    "# Reshaping the moore neighbourhood\n",
    "stencil_squareness_von[0,:,:] = 0 \n",
    "stencil_squareness_von[2,:,:] = 0\n",
    "stencil_squareness_von.set_index([0,0,0], 0)\n",
    "stencil_squareness_von_t = np.transpose(stencil_squareness_von) \n",
    "#print(stencil_squareness_von)"
   ]
  },
  {
   "cell_type": "code",
   "execution_count": 11,
   "metadata": {},
   "outputs": [],
   "source": [
    "stencil_cuboid = tg.create_stencil(\"moore\", 1, 1)\n",
    "stencil_cuboid.set_index([0,0,0], 0)\n",
    "#print(stencil_cuboid)"
   ]
  },
  {
   "cell_type": "code",
   "execution_count": 12,
   "metadata": {},
   "outputs": [],
   "source": [
    "Stencil_Find_neighbours_cuboid = tg.create_stencil(\"moore\", 1, 1)"
   ]
  },
  {
   "cell_type": "markdown",
   "metadata": {},
   "source": [
    "## Deriving all possible agent Center points"
   ]
  },
  {
   "cell_type": "code",
   "execution_count": 13,
   "metadata": {},
   "outputs": [],
   "source": [
    "available_index_list= list(np.argwhere(flattened_lattice==1).flatten())"
   ]
  },
  {
   "cell_type": "code",
   "execution_count": 14,
   "metadata": {},
   "outputs": [
    {
     "data": {
      "text/plain": [
       "684"
      ]
     },
     "execution_count": 14,
     "metadata": {},
     "output_type": "execute_result"
    }
   ],
   "source": [
    "len(available_index_list)"
   ]
  },
  {
   "cell_type": "code",
   "execution_count": 15,
   "metadata": {},
   "outputs": [],
   "source": [
    "Selected_positions=[]\n",
    "for item in range(18,684,38):\n",
    "    Selected_positions.append(available_index_list[item]) "
   ]
  },
  {
   "cell_type": "code",
   "execution_count": 16,
   "metadata": {},
   "outputs": [
    {
     "data": {
      "text/plain": [
       "[265,\n",
       " 311,\n",
       " 357,\n",
       " 403,\n",
       " 449,\n",
       " 519,\n",
       " 565,\n",
       " 611,\n",
       " 657,\n",
       " 727,\n",
       " 773,\n",
       " 819,\n",
       " 865,\n",
       " 911,\n",
       " 981,\n",
       " 1027,\n",
       " 1073,\n",
       " 1119]"
      ]
     },
     "execution_count": 16,
     "metadata": {},
     "output_type": "execute_result"
    }
   ],
   "source": [
    "Selected_positions"
   ]
  },
  {
   "cell_type": "code",
   "execution_count": 17,
   "metadata": {},
   "outputs": [],
   "source": [
    "selected_neighbours= avail_lattice_base.find_neighbours(Stencil_Find_neighbours_cuboid)"
   ]
  },
  {
   "cell_type": "code",
   "execution_count": 18,
   "metadata": {},
   "outputs": [],
   "source": [
    "#np.array(np.unravel_index(Selected_positions,init_avail_lattice.shape)).T"
   ]
  },
  {
   "cell_type": "code",
   "execution_count": 19,
   "metadata": {},
   "outputs": [],
   "source": [
    "def all_possible_origins(flat_lattice,number_of_points_needed):\n",
    "    reshaped_lattice= flat_lattice.reshape(99,4,16)*1\n",
    "    reshaped_lattice_aggregated_value =np.sum(reshaped_lattice,axis=2)\n",
    "    array = reshaped_lattice_aggregated_value.flatten()\n",
    "    temp = array.argsort()\n",
    "    ranks = np.empty_like(temp)\n",
    "    ranks[temp] = np.arange(len(array))\n",
    "    \n",
    "    indices =list(range(6,flat_lattice.size,16))\n",
    "    points_1D=[]\n",
    "    for points in range(number_of_points_needed):\n",
    "        index= np.where(ranks==points)\n",
    "        points_1D.append(indices[int(index[0])] )  \n",
    "    return points_1D\n"
   ]
  },
  {
   "cell_type": "code",
   "execution_count": 20,
   "metadata": {},
   "outputs": [],
   "source": [
    "## The number of voxels which each agent has to occupy There are five agents :[Blue,Green,Yellow,Red,Violet]\n",
    "## The number of voxels which each agent occupies are [B1,G1,Y1,R1,V1] \n",
    "mass_size = np.count_nonzero((avail_lattice==1)) \n",
    "Bn = 415 # Blue\n",
    "Gn= 301 # Green\n",
    "Yn=403 # Yellow\n",
    "Rn= 19 # Red\n",
    "Vn= 73 # Violet\n"
   ]
  },
  {
   "cell_type": "code",
   "execution_count": 21,
   "metadata": {},
   "outputs": [],
   "source": [
    "#Divide the available lattice into grids to generate the necessary locations for origins??"
   ]
  },
  {
   "cell_type": "code",
   "execution_count": 22,
   "metadata": {},
   "outputs": [],
   "source": [
    "def ranking_origins(point_id,value_lattice,origin_number):\n",
    "    selected_neighbours= avail_lattice_base.find_neighbours(Stencil_Find_neighbours_cuboid)[point_id]\n",
    "    neighbour_vals_for_agent= value_lattice.flatten()[selected_neighbours]\n",
    "    neighbour_vals_aggregated_for_agent =np.sum(neighbour_vals_for_agent,axis=1)\n",
    "    all_points = np.array(point_id)\n",
    "    \n",
    "    array = neighbour_vals_aggregated_for_agent\n",
    "    temp = array.argsort()\n",
    "    ranks = np.empty_like(temp)\n",
    "    ranks[temp] = np.arange(len(array))\n",
    "    \n",
    "    a_lattice = ranks.flatten()\n",
    "    Co_ordinates = []\n",
    "    for item in range(0,origin_number):\n",
    "        Co_ordinates.append(all_points[np.argwhere(a_lattice==item)].flatten()[0])    \n",
    "        \n",
    "    return Co_ordinates"
   ]
  },
  {
   "cell_type": "code",
   "execution_count": 23,
   "metadata": {
    "tags": [
     "hide-cell"
    ]
   },
   "outputs": [],
   "source": [
    "# agent class\n",
    "class agent():\n",
    "    def __init__(self, origin, stencil, id):\n",
    "\n",
    "        # define the origin attribute of the agent and making sure that it is an intiger\n",
    "        self.origin = np.array(origin).astype(int)\n",
    "        # define old origin attribute and assigning the origin to it as the initial state\n",
    "        self.old_origin = self.origin\n",
    "        # define stencil of the agent\n",
    "        self.stencil = stencil\n",
    "        #define agent id\n",
    "        self.id = id\n",
    "\n",
    "    # definition of random/argmax occupancy on a 2d squarish stencil \n",
    "    def random_occupy_squareness(self, env):\n",
    "        # retrieve the list of neighbours of the agent based on the stencil\n",
    "        neighs = env.availibility.find_neighbours_masked(self.stencil, loc = self.origin)\n",
    "        neighs_full_floor = env.availibility.find_neighbours_masked(stencil_full_floor, loc = self.origin)\n",
    "        # find availability of neighbours\n",
    "        neighs_availibility = env.availibility.flatten()[neighs]\n",
    "        neighs_availibility_full_floor = env.availibility.flatten()[neighs_full_floor]\n",
    "        # separate available neighbours\n",
    "        free_neighs = neighs[neighs_availibility==1]\n",
    "        free_neighs_full_floor = neighs_full_floor[neighs_availibility_full_floor==1]\n",
    "        #print(free_neighs)\n",
    "        if len(free_neighs)== 0 :\n",
    "            free_neighs = free_neighs_full_floor\n",
    "        else: \n",
    "            free_neighs= free_neighs\n",
    "        # retrieve the value of each neighbour\n",
    "        free_neighs_value = env.value.flatten()[free_neighs]\n",
    "        # find the neighbour with maximum my value\n",
    "       # selected_neigh = free_neighs[np.argmax(free_neighs_value)]\n",
    "        selected_neigh = np.random.choice(free_neighs,1)\n",
    "        #print(selected_neigh)\n",
    "        # update information\n",
    "        ####################\n",
    "        # set the current origin as the ol origin\n",
    "        self.old_origin = self.origin\n",
    "        # update the current origin with the new selected neighbour\n",
    "        self.origin = np.array(np.unravel_index(selected_neigh, env.availibility.shape)).flatten()\n",
    "        #print(self.origin)\n",
    "     \n",
    "      # definition of random/argmax occupancy on a 3d cubish stencil\n",
    "    def random_occupy_cubish(self, env):\n",
    "        # retrieve the list of neighbours of the agent based on the stencil\n",
    "        neighs = env.availibility.find_neighbours_masked(self.stencil, loc = self.origin)\n",
    "        neighs_full_lattice = env.availibility.find_neighbours_masked(stencil_full_lattice, loc = self.origin)\n",
    "        # find availability of neighbours\n",
    "        neighs_availibility = env.availibility.flatten()[neighs]\n",
    "        neighs_availibility_full_lattice = env.availibility.flatten()[neighs_full_lattice]\n",
    "        # separate available neighbours\n",
    "        free_neighs = neighs[neighs_availibility==1]\n",
    "        free_neighs_full_lattice = neighs_full_lattice[neighs_availibility_full_lattice==1]\n",
    "        #print(free_neighs)\n",
    "        if len(free_neighs)== 0 :\n",
    "            free_neighs = free_neighs_full_lattice\n",
    "        else: \n",
    "            free_neighs= free_neighs\n",
    "        # retrieve the value of each neighbour\n",
    "        free_neighs_value = env.value.flatten()[free_neighs]\n",
    "        # find the neighbour with maximum my value\n",
    "        selected_neigh = free_neighs[np.argmax(free_neighs_value)]\n",
    "        #selected_neigh = np.random.choice(free_neighs,1)\n",
    "        #print(selected_neigh)\n",
    "        # update information\n",
    "        ####################\n",
    "        # set the current origin as the ol origin\n",
    "        self.old_origin = self.origin\n",
    "        # update the current origin with the new selected neighbour\n",
    "        self.origin = np.array(np.unravel_index(selected_neigh, env.availibility.shape)).flatten()\n",
    "        #print(self.origin)\n",
    "      \n",
    "        \n",
    "    def random_occupy_cubish_von_neumann(self, env):\n",
    "        # retrieve the list of neighbours of the agent based on the stencil\n",
    "        neighs = env.availibility.find_neighbours_masked(self.stencil, loc = self.origin)\n",
    "        neighs_full_lattice = env.availibility.find_neighbours_masked(stencil_cuboid, loc = self.origin)\n",
    "        # find availability of neighbours\n",
    "        neighs_availibility = env.availibility.flatten()[neighs]\n",
    "        neighs_availibility_full_lattice = env.availibility.flatten()[neighs_full_lattice]\n",
    "        # separate available neighbours\n",
    "        free_neighs = neighs[neighs_availibility==1]\n",
    "        free_neighs_full_lattice = neighs_full_lattice[neighs_availibility_full_lattice==1]\n",
    "        #print(free_neighs)\n",
    "        if len(free_neighs)== 0 :\n",
    "            free_neighs = free_neighs_full_lattice\n",
    "        else: \n",
    "            free_neighs= free_neighs\n",
    "        # retrieve the value of each neighbour\n",
    "        free_neighs_value = env.value.flatten()[free_neighs]\n",
    "        # find the neighbour with maximum my value\n",
    "        selected_neigh = np.random.choice(free_neighs,1)\n",
    "        #print(selected_neigh)\n",
    "        # update information\n",
    "        ####################\n",
    "        # set the current origin as the ol origin\n",
    "        self.old_origin = self.origin\n",
    "        # update the current origin with the new selected neighbour\n",
    "        self.origin = np.array(np.unravel_index(selected_neigh, env.availibility.shape)).flatten()\n",
    "        #print(self.origin)\n",
    "        \n",
    "    def argmax_occupy_von_neumann(self, env):\n",
    "        # retrieve the list of neighbours of the agent based on the stencil\n",
    "        neighs = env.availibility.find_neighbours_masked(self.stencil, loc = self.origin)\n",
    "        neighs_full_lattice = env.availibility.find_neighbours_masked(stencil_full_lattice, loc = self.origin)\n",
    "        # find availability of neighbours\n",
    "        neighs_availibility = env.availibility.flatten()[neighs]\n",
    "        neighs_availibility_full_lattice = env.availibility.flatten()[neighs_full_lattice]\n",
    "        # separate available neighbours\n",
    "        free_neighs = neighs[neighs_availibility==1]\n",
    "        free_neighs_full_lattice = neighs_full_lattice[neighs_availibility_full_lattice==1]\n",
    "        #print(free_neighs)\n",
    "        if len(free_neighs)== 0 :\n",
    "            free_neighs = free_neighs_full_lattice\n",
    "        else: \n",
    "            free_neighs= free_neighs\n",
    "        # retrieve the value of each neighbour\n",
    "        free_neighs_value = env.value.flatten()[free_neighs]\n",
    "        # find the neighbour with maximum my value\n",
    "        selected_neigh = free_neighs[np.argmax(free_neighs_value)]\n",
    "        #selected_neigh = np.random.choice(free_neighs,1)\n",
    "        #print(selected_neigh)\n",
    "        # update information\n",
    "        ####################\n",
    "        # set the current origin as the ol origin\n",
    "        self.old_origin = self.origin\n",
    "        # update the current origin with the new selected neighbour\n",
    "        self.origin = np.array(np.unravel_index(selected_neigh, env.availibility.shape)).flatten()\n",
    "        #print(self.origin)\n",
    "\n",
    "        \n",
    "     # definition of 2d occupying method for agents\n",
    "    def one_neighbour_occupy_squareness_moore(self, env):\n",
    "        # retrieve the list of neighbours of the agent based on the stencil\n",
    "        neighs = env.availibility.find_neighbours_masked(self.stencil, loc = self.origin)\n",
    "        #print(neighs)\n",
    "        neighs_full_floor = env.availibility.find_neighbours_masked(stencil_full_floor, loc = self.origin)\n",
    "\n",
    "        # find availability of neighbours\n",
    "        neighs_availibility = env.availibility.flatten()[neighs]               \n",
    "        neighs_availibility_full_floor = env.availibility.flatten()[neighs_full_floor]\n",
    "        #print(neighs_availibility)\n",
    "        \n",
    "        # find env values of all neighbours\n",
    "        all_neighs_value = env.value.flatten()[neighs]\n",
    "        all_neighs_value_mod = np.copy(all_neighs_value)\n",
    "        \n",
    "        \n",
    "        #finding number of neighbours and bumping the values based on adjacency for a 9 neighbourhood\n",
    "        \n",
    "        #print(neighbourhood_details)\n",
    "        one = neighs_availibility[1] + neighs_availibility[2] \n",
    "        two = neighs_availibility[0] + neighs_availibility[2] \n",
    "        three = neighs_availibility[1] + neighs_availibility[4] \n",
    "        four = neighs_availibility[0] + neighs_availibility[6] \n",
    "        five = neighs_availibility[2] + neighs_availibility[7] \n",
    "        six = neighs_availibility[3] + neighs_availibility[6] \n",
    "        seven = neighs_availibility[5] + neighs_availibility[7] \n",
    "        eight = neighs_availibility[6] + neighs_availibility[4] \n",
    "        neighbourhood_details = [one,two,three,four,five,six,seven,eight]\n",
    "        \n",
    "        #print(neighbourhood_details)\n",
    "        for detail in range(len(neighs_availibility)-1):\n",
    "            neighbourhood_condition = neighbourhood_details[detail] \n",
    "            #print(neighbourhood_condition)\n",
    "            if neighbourhood_condition == 3:\n",
    "                all_neighs_value_mod[detail]= all_neighs_value_mod[detail] + one_neighbour_factor\n",
    "            elif neighbourhood_condition == 4:\n",
    "                all_neighs_value_mod[detail]= all_neighs_value_mod[detail] + two_neighbour_factor\n",
    "            else:\n",
    "                all_neighs_value_mod[detail] = all_neighs_value_mod[detail]\n",
    "        #print(all_neighs_value_mod)   \n",
    "        \n",
    "\n",
    "        neighs_value_flattened = env.value.flatten()\n",
    "        for val_mod in all_neighs_value_mod:\n",
    "            for neigh in neighs :\n",
    "                neighs_value_flattened[neigh]=val_mod\n",
    "        \n",
    "        \n",
    "        # separate available neighbours\n",
    "        free_neighs = neighs[neighs_availibility==1]\n",
    "        free_neighs_full_floor = neighs_full_floor[neighs_availibility_full_floor==1]\n",
    "        #print(free_neighs)\n",
    "        if len(free_neighs)== 0 :\n",
    "            free_neighs = free_neighs_full_floor\n",
    "        else: \n",
    "            free_neighs= free_neighs\n",
    "        # retrieve the value of each neighbour\n",
    "        free_neighs_value = neighs_value_flattened[free_neighs]\n",
    "        \n",
    "        #print(free_neighs_value)\n",
    "        # find the neighbour with maximum my value\n",
    "        selected_neigh = free_neighs[np.argmax(free_neighs_value)]\n",
    "        #print(selected_neigh)\n",
    "        # update information\n",
    "        ####################\n",
    "        # set the current origin as the ol origin\n",
    "        self.old_origin = self.origin\n",
    "        # update the current origin with the new selected neighbour\n",
    "        self.origin = np.array(np.unravel_index(selected_neigh, env.availibility.shape)).flatten()\n",
    "        #print(self.origin)\n",
    "    \n",
    "    \n",
    "         # definition of 2d occupying method for agents\n",
    "    def one_neighbour_occupy_squareness_von_neumann(self, env):\n",
    "        \n",
    "         # retrieve the list of neighbours of the agent based on the stencil\n",
    "        neighs = env.availibility.find_neighbours_masked(self.stencil, loc = self.origin)\n",
    "        neighs_full_floor = env.availibility.find_neighbours_masked(stencil_full_lattice, loc = self.origin)\n",
    "        # find availability of neighbours\n",
    "        neighs_availibility = env.availibility.flatten()[neighs]\n",
    "        neighs_availibility_full_floor = env.availibility.flatten()[neighs_full_floor]\n",
    "        # separate available neighbours\n",
    "        free_neighs = neighs[neighs_availibility==1]\n",
    "        free_neighs_full_floor = neighs_full_floor[neighs_availibility_full_floor==1]\n",
    "        #print(free_neighs)\n",
    "        if len(free_neighs)== 0 :\n",
    "            free_neighs = free_neighs_full_floor\n",
    "        else: \n",
    "            free_neighs= free_neighs\n",
    "        # retrieve the value of each neighbour\n",
    "        free_neighs_value = env.value.flatten()[free_neighs]\n",
    "        # find the neighbour with maximum my value\n",
    "       # selected_neigh = free_neighs[np.argmax(free_neighs_value)]\n",
    "        selected_neigh = np.random.choice(free_neighs,1)\n",
    "        #print(selected_neigh)\n",
    "        # update information\n",
    "        ####################\n",
    "        # set the current origin as the ol origin\n",
    "        self.old_origin = self.origin\n",
    "        # update the current origin with the new selected neighbour\n",
    "        self.origin = np.array(np.unravel_index(selected_neigh, env.availibility.shape)).flatten()\n",
    "        #print(self.origin)\n",
    "    def one_neighbour_occupy_squareness_behaviour (self,env):        \n",
    "        value_lattice_flat = env.value.flatten()\n",
    "        sqr_factor = 10.1\n",
    "        sqr_shift = 10.0\n",
    "        init_loc = self.origin\n",
    "        neighs_full_lattice = env.availibility.find_neighbours_masked(stencil_full_lattice, loc = self.origin)\n",
    "        neighs_availibility_full_lattice = env.availibility.flatten()[neighs_full_lattice]\n",
    "        free_neighs_full_lattice = neighs_full_lattice[neighs_availibility_full_lattice==1]\n",
    "        \n",
    "        agn_locs = [list(init_loc)]\n",
    "        all_neighs =[] \n",
    "        avail_lattice_flat = env.availibility.flatten()\n",
    "        neighs = env.availibility.find_neighbours_masked(self.stencil, loc = self.origin)\n",
    "        all_neighs.append(neighs)\n",
    "        env.neigh_squareness.append(neighs)\n",
    "\n",
    "        neighs_flatten = np.array(env.neigh_squareness).flatten()\n",
    "        #print(neighs_flatten)\n",
    "        neighs_availability = avail_lattice_flat[neighs_flatten]\n",
    "  \n",
    "        # keep the available ones only\n",
    "        avail_neighs = neighs_flatten[neighs_availability==1] \n",
    "        \n",
    "        if len(avail_neighs)== 0 :\n",
    "            avail_neighs = free_neighs_full_lattice\n",
    "        else: \n",
    "            avail_neighs= avail_neighs\n",
    "        #print(avail_neighs)\n",
    "        avail_unq_neighs, avail_unq_neighs_count = np.unique(avail_neighs, return_counts=True)\n",
    "        #print(avail_unq_neighs)\n",
    "        #print(avail_unq_neighs_count)\n",
    "        neighs_unq_base_value = value_lattice_flat[avail_unq_neighs]\n",
    "        neigh_sqr_evaluation = np.power(sqr_factor, (avail_unq_neighs_count - 1)) * neighs_unq_base_value + sqr_shift\n",
    "        #neigh_sqr_evaluation = neighs_unq_base_value + sqr_shift * (avail_unq_neighs_count - 1)\n",
    "\n",
    "\n",
    "        selected_neigh_index = np.argmax(neigh_sqr_evaluation)\n",
    "        selected_neigh_1D_id = avail_unq_neighs[selected_neigh_index]\n",
    "        #selected_neigh_3D_id = np.unravel_index(selected_neigh_1D_id,bounds.shape )\n",
    "\n",
    "        # update information\n",
    "        ####################\n",
    "        self.old_origin = self.origin\n",
    "        # update the current origin with the new selected neighbour\n",
    "        self.origin = np.array(np.unravel_index(selected_neigh_1D_id, env.availibility.shape)).flatten()\n",
    "   \n",
    "        \n",
    "        \n",
    "    def one_neighbour_occupy_cubish_behaviour (self,env):        \n",
    "        value_lattice_flat = env.value.flatten()\n",
    "        sqr_factor = 10.1\n",
    "        sqr_shift = 10.0\n",
    "        init_loc = self.origin\n",
    "        neighs_availibility_full_lattice = env.availibility.flatten()\n",
    "        free_neighs_full_lattice = np.argwhere(neighs_availibility_full_lattice==1).flatten()\n",
    "        \n",
    "        agn_locs = [list(init_loc)]\n",
    "        all_neighs =[] \n",
    "        avail_lattice_flat = env.availibility.flatten()\n",
    "        neighs = env.availibility.find_neighbours_masked(self.stencil, loc = self.origin)\n",
    "        all_neighs.append(neighs)\n",
    "        env.neigh_cubish.append(neighs)\n",
    "\n",
    "        neighs_flatten = np.array(env.neigh_cubish).flatten()\n",
    "        #print(neighs_flatten)\n",
    "        neighs_availability = avail_lattice_flat[neighs_flatten]\n",
    "  \n",
    "        # keep the available ones only\n",
    "        avail_neighs = neighs_flatten[neighs_availability==1] \n",
    "        \n",
    "        if len(avail_neighs)== 0 :\n",
    "            avail_neighs = free_neighs_full_lattice\n",
    "        else: \n",
    "            avail_neighs= avail_neighs\n",
    "                \n",
    "        #print(avail_neighs)\n",
    "        avail_unq_neighs, avail_unq_neighs_count = np.unique(avail_neighs, return_counts=True)\n",
    "        #print(avail_unq_neighs)\n",
    "        #print(avail_unq_neighs_count)\n",
    "        neighs_unq_base_value = value_lattice_flat[avail_unq_neighs]\n",
    "        \n",
    "        #neigh_sqr_evaluation = np.power(sqr_factor, (avail_unq_neighs_count - 1)) * neighs_unq_base_value + sqr_shift\n",
    "        neigh_sqr_evaluation = neighs_unq_base_value + sqr_shift * (avail_unq_neighs_count - 1)\n",
    "\n",
    "       # print(neighs_unq_base_value) \n",
    "        selected_neigh_index = np.argmax(neigh_sqr_evaluation)\n",
    "        selected_neigh_1D_id = avail_unq_neighs[selected_neigh_index]\n",
    "        #selected_neigh_3D_id = np.unravel_index(selected_neigh_1D_id,bounds.shape )       \n",
    "            \n",
    "        # update information\n",
    "        ####################\n",
    "        self.old_origin = self.origin\n",
    "        # update the current origin with the new selected neighbour\n",
    "        self.origin = np.array(np.unravel_index(selected_neigh_1D_id, env.availibility.shape)).flatten()\n",
    "        #print(selected_neigh_1D_id)\n",
    "        #print(free_neighs_full_lattice)\n",
    "\n",
    "            "
   ]
  },
  {
   "cell_type": "code",
   "execution_count": 24,
   "metadata": {},
   "outputs": [],
   "source": [
    "# Agent init class\n",
    "\n",
    "def initialize_agents_random_origin (stencil,avail_lattice):\n",
    "    #finding origin \n",
    "    agn_num = 1\n",
    "    occ_lattice = avail_lattice*0 -1\n",
    "    avail_flat = avail_lattice.flatten()\n",
    "    avail_index = np.array(np.where(avail_lattice == 1)).T\n",
    "    select_id = np.random.choice(len(avail_index), agn_num)\n",
    "    agn_origins = tuple(avail_index[select_id].flatten()) \n",
    "\n",
    "    # Defining agents\n",
    "    myagent = agent(agn_origins, stencil, select_id)\n",
    "\n",
    "    return myagent\n",
    "\n",
    "def initialize_agents_fixed_origin (stencil,avail_lattice,origin):\n",
    "    #finding origin \n",
    "    agn_origins = np.unravel_index(origin,avail_lattice.shape)\n",
    "    select_id = origin\n",
    "    # Defining agents\n",
    "    myagent = agent(agn_origins, stencil, select_id)\n",
    "\n",
    "    return myagent"
   ]
  },
  {
   "cell_type": "code",
   "execution_count": null,
   "metadata": {},
   "outputs": [],
   "source": []
  },
  {
   "cell_type": "code",
   "execution_count": 25,
   "metadata": {},
   "outputs": [],
   "source": [
    "# environment class\n",
    "class environment():\n",
    "    def __init__(self, lattices, agents,number_of_iterations,method_name):\n",
    "        self.availibility = lattices[\"availibility\"]\n",
    "        self.value = lattices[\"enviornment\"]\n",
    "        self.agent_origin = self.availibility \n",
    "        self.agents = agents\n",
    "        self.update_agents()\n",
    "        self.number_of_iterations = number_of_iterations\n",
    "        self.method_name = method_name\n",
    "        self.neigh_cubish = []\n",
    "        self.neigh_squareness = []\n",
    "    def update_agents(self):\n",
    "        # making previous position available\n",
    "      #  self.availibility[tuple(self.agents.old_origin)] = self.availibility[tuple(self.agents.old_origin)] * 0 + 1\n",
    "        # removing agent from previous position\n",
    "        self.agent_origin[tuple(self.agents.old_origin)] *= 0+1\n",
    "        # making the current position unavailable\n",
    "        self.availibility[tuple(self.agents.origin)] = self.agents.id\n",
    "        # adding agent to the new position \n",
    "        self.agent_origin[tuple(self.agents.origin)] = self.agents.id\n",
    "    \n",
    "    def random_occupy_squareness_agents(self):\n",
    "        # iterate over egents and perform the walk\n",
    "        self.agents.random_occupy_squareness(self)\n",
    "        # update the agent states in environment\n",
    "        self.update_agents()\n",
    "        \n",
    "    def random_occupy_cubish_agents(self):\n",
    "        # iterate over egents and perform the walk\n",
    "        self.agents.random_occupy_cubish(self)\n",
    "        # update the agent states in environment\n",
    "        self.update_agents()\n",
    "    \n",
    "    def random_occupy_cubish_von_neumann_agents(self):\n",
    "        # iterate over egents and perform the walk\n",
    "        self.agents.random_occupy_cubish_von_neumann(self)\n",
    "        # update the agent states in environment\n",
    "        self.update_agents()\n",
    "    \n",
    "    def argmax_occupy_von_neumann(self):\n",
    "        # iterate over egents and perform the walk\n",
    "        self.agents.argmax_occupy_von_neumann(self)\n",
    "        # update the agent states in environment\n",
    "        self.update_agents()\n",
    "        \n",
    "    def one_neighbour_occupy_squareness_moore(self):\n",
    "        # iterate over egents and perform the walk\n",
    "        self.agents.one_neighbour_occupy_squareness_moore(self)\n",
    "        # update the agent states in environment\n",
    "        self.update_agents()\n",
    "        \n",
    "    def one_neighbour_occupy_squareness_von_neumann(self):\n",
    "        # iterate over egents and perform the walk\n",
    "        self.agents.one_neighbour_occupy_squareness_von_neumann(self)\n",
    "        # update the agent states in environment\n",
    "        self.update_agents()\n",
    "      \n",
    "    def one_neighbour_occupy_cubish_behaviour(self):\n",
    "        # iterate over egents and perform the walk\n",
    "        self.agents.one_neighbour_occupy_cubish_behaviour(self)\n",
    "        # update the agent states in environment\n",
    "        self.update_agents()\n",
    "        \n",
    "    def one_neighbour_occupy_squareness_behaviour(self):\n",
    "        # iterate over egents and perform the walk\n",
    "        self.agents.one_neighbour_occupy_squareness_behaviour(self)\n",
    "        # update the agent states in environment\n",
    "        self.update_agents()\n",
    "        "
   ]
  },
  {
   "cell_type": "code",
   "execution_count": 26,
   "metadata": {},
   "outputs": [],
   "source": [
    "def calculate_cost_for_positions(Location_list,Enviornment_lattice,number_of_cells_to_be_occupied):\n",
    "    All_viz_options = []\n",
    "    for indexing, item in enumerate(Location_list):\n",
    "        #print(indexing)\n",
    "        Agent = agent(np.unravel_index(item,init_avail_lattice.shape),stencil_cuboid,9)\n",
    "\n",
    "        occ_lattice_sim = tg.to_lattice(np.copy(avail_lattice), avail_lattice)\n",
    "\n",
    "        env = {\"availibility\": occ_lattice_sim,\"enviornment\": Enviornment_lattice}\n",
    "\n",
    "\n",
    "        env_1 = environment(env,Agent,number_of_cells_to_be_occupied,\"one_neighbour_occupy_cubish_behaviour\")\n",
    "\n",
    "        env_availability_viz = []\n",
    "        env_list =[env_1]\n",
    "        number_steps = max(map(lambda e:e.number_of_iterations,env_list))    \n",
    "        for a in range(number_steps):\n",
    "            # print(env.availibility)\n",
    "            #print(env.agent_origin)\n",
    "\n",
    "            for e in env_list:\n",
    "                if a < e.number_of_iterations :\n",
    "                    #print(a)\n",
    "                    #print(e.number_of_iterations)\n",
    "                    if e.method_name == \"one_neighbour_occupy_squareness_moore\":\n",
    "                        e.one_neighbour_occupy_squareness_moore()\n",
    "\n",
    "                    elif e.method_name == \"one_neighbour_occupy_cubish_agents\" :\n",
    "                        e.one_neighbour_occupy_cubish_agents()\n",
    "\n",
    "                    elif e.method_name == \"random_occupy_squareness_agents\" :\n",
    "                        e.random_occupy_squareness_agents()\n",
    "\n",
    "                    elif e.method_name == \"random_occupy_cubish_agents\" :\n",
    "                        e.random_occupy_cubish_agents()  \n",
    "\n",
    "                    elif e.method_name == \"random_occupy_cubish_von_neumann_agents\" :\n",
    "                        e.random_occupy_cubish_von_neumann_agents()                           \n",
    "\n",
    "                    elif e.method_name == \"one_neighbour_occupy_squareness_von_neumann\" :\n",
    "                        e.one_neighbour_occupy_squareness_von_neumann()                \n",
    "\n",
    "\n",
    "                    elif e.method_name == \"one_neighbour_occupy_squareness_behaviour\" :\n",
    "                        e.one_neighbour_occupy_squareness_behaviour()  \n",
    "\n",
    "                    elif e.method_name == \"one_neighbour_occupy_cubish_behaviour\" :\n",
    "                        e.one_neighbour_occupy_cubish_behaviour()  \n",
    "\n",
    "                    elif e.method_name == \"argmax_occupy_von_neumann\" :\n",
    "                        e.argmax_occupy_von_neumann()  \n",
    "\n",
    "        env_availability_viz.append(e.availibility)\n",
    "\n",
    "        All_viz_options.append(env_availability_viz)\n",
    "\n",
    "    all_viz_array= np.array(All_viz_options)\n",
    "    all_viz_array_shape = all_viz_array.shape\n",
    "    reshaped_all_viz= all_viz_array.reshape(all_viz_array_shape[0]*all_viz_array_shape[1],all_viz_array_shape[2],all_viz_array_shape[3],all_viz_array_shape[4])\n",
    "    sum_of_values = []\n",
    "    for lattice in reshaped_all_viz:\n",
    "        indexes= np.argwhere(lattice.flatten()==9).flatten()\n",
    "        values= env[\"enviornment\"].flatten()[indexes]\n",
    "        total = int(np.sum(values))\n",
    "        sum_of_values.append(total)\n",
    "    return sum_of_values"
   ]
  },
  {
   "cell_type": "code",
   "execution_count": 27,
   "metadata": {},
   "outputs": [],
   "source": [
    "Cost_for_B = np.array(calculate_cost_for_positions(Selected_positions,Bv,45)) # Private Housing\n",
    "Cost_for_G = np.array(calculate_cost_for_positions(Selected_positions,Gv,45)) # Social Housing\n",
    "Cost_for_Y = np.array(calculate_cost_for_positions(Selected_positions,Yv,45)) # Free sector Housing\n",
    "Cost_for_R = np.array(calculate_cost_for_positions(Selected_positions,Rv,45)) # Restaurant and Cafe \n",
    "Cost_for_V = np.array(calculate_cost_for_positions(Selected_positions,Vv,45)) # Retail stores\n"
   ]
  },
  {
   "cell_type": "code",
   "execution_count": 28,
   "metadata": {},
   "outputs": [],
   "source": [
    "cost_matrix = np.concatenate ((np.tile(Cost_for_B,4),np.tile(Cost_for_G,4),np.tile(Cost_for_Y,3),np.tile(Cost_for_R,2),np.tile(Cost_for_V,5)))"
   ]
  },
  {
   "cell_type": "code",
   "execution_count": 29,
   "metadata": {},
   "outputs": [],
   "source": [
    "cost_matrix_reshaped = cost_matrix.reshape (int(cost_matrix.size/18), 18 )"
   ]
  },
  {
   "cell_type": "code",
   "execution_count": 30,
   "metadata": {},
   "outputs": [
    {
     "data": {
      "text/plain": [
       "18"
      ]
     },
     "execution_count": 30,
     "metadata": {},
     "output_type": "execute_result"
    }
   ],
   "source": [
    "len(cost_matrix_reshaped)"
   ]
  },
  {
   "cell_type": "code",
   "execution_count": 31,
   "metadata": {},
   "outputs": [
    {
     "name": "stdout",
     "output_type": "stream",
     "text": [
      "Total cost =  21289.0 \n",
      "\n",
      "Agent 0 assigned to Location 11.  Cost = 587\n",
      "Agent 1 assigned to Location 6.  Cost = 544\n",
      "Agent 2 assigned to Location 13.  Cost = 529\n",
      "Agent 3 assigned to Location 2.  Cost = 565\n",
      "Agent 4 assigned to Location 10.  Cost = 514\n",
      "Agent 5 assigned to Location 7.  Cost = 554\n",
      "Agent 6 assigned to Location 15.  Cost = 523\n",
      "Agent 7 assigned to Location 1.  Cost = 514\n",
      "Agent 8 assigned to Location 5.  Cost = 221\n",
      "Agent 9 assigned to Location 4.  Cost = 213\n",
      "Agent 10 assigned to Location 0.  Cost = 199\n",
      "Agent 11 assigned to Location 9.  Cost = 231\n",
      "Agent 12 assigned to Location 14.  Cost = 231\n",
      "Agent 13 assigned to Location 8.  Cost = 3154\n",
      "Agent 14 assigned to Location 17.  Cost = 3154\n",
      "Agent 15 assigned to Location 16.  Cost = 3223\n",
      "Agent 16 assigned to Location 12.  Cost = 3160\n",
      "Agent 17 assigned to Location 3.  Cost = 3173\n"
     ]
    }
   ],
   "source": [
    "from ortools.linear_solver import pywraplp\n",
    "location_assignment =[]\n",
    "\n",
    "def main():\n",
    "    # Data from all the colours on all the origins\n",
    "    costs = cost_matrix_reshaped\n",
    "    num_workers = 18\n",
    "\n",
    "    num_tasks = len(costs[0])\n",
    "    #print(num_tasks)\n",
    "    # Solver\n",
    "    # Create the mip solver with the SCIP backend.\n",
    "    solver = pywraplp.Solver.CreateSolver('SCIP')\n",
    "\n",
    "\n",
    "    # Variables\n",
    "    # x[i, j] is an array of 0-1 variables, which will be 1\n",
    "    # if worker i is assigned to task j.\n",
    "    x = {}\n",
    "    for i in range(num_workers):\n",
    "        for j in range(num_tasks):\n",
    "            x[i, j] = solver.IntVar(0, 1, '')\n",
    "\n",
    "    # Constraints\n",
    "    # Each worker is assigned to at most 1 task.\n",
    "    for i in range(num_workers):\n",
    "        solver.Add(solver.Sum([x[i, j] for j in range(num_tasks)]) <= 1)\n",
    "\n",
    "    # Each task is assigned to exactly one worker.\n",
    "    for j in range(num_tasks):\n",
    "        solver.Add(solver.Sum([x[i, j] for i in range(num_workers)]) == 1)\n",
    "\n",
    "    # Objective\n",
    "    objective_terms = []\n",
    "    for i in range(num_workers):\n",
    "        for j in range(num_tasks):\n",
    "            objective_terms.append(costs[i][j] * x[i, j])\n",
    "    solver.Maximize(solver.Sum(objective_terms))\n",
    "\n",
    "    # Solve\n",
    "    status = solver.Solve()\n",
    "\n",
    "    # Print solution.\n",
    "    if status == pywraplp.Solver.OPTIMAL or status == pywraplp.Solver.FEASIBLE:\n",
    "        print('Total cost = ', solver.Objective().Value(), '\\n')\n",
    "        for i in range(num_workers):\n",
    "            for j in range(num_tasks):\n",
    "                # Test if x[i,j] is 1 (with tolerance for floating point arithmetic).\n",
    "                if x[i, j].solution_value() > 0.5:\n",
    "                    print('Agent %d assigned to Location %d.  Cost = %d' %\n",
    "                          (i, j, costs[i][j]))\n",
    "                    location_assignment.append(j)\n",
    "\n",
    "\n",
    "if __name__ == '__main__':\n",
    "    main()\n",
    "    \n"
   ]
  },
  {
   "cell_type": "code",
   "execution_count": 32,
   "metadata": {},
   "outputs": [],
   "source": [
    "Agent_origins = []\n",
    "for index in location_assignment:\n",
    "    Agent_origins.append(Selected_positions[index])"
   ]
  },
  {
   "cell_type": "code",
   "execution_count": null,
   "metadata": {},
   "outputs": [],
   "source": []
  },
  {
   "cell_type": "code",
   "execution_count": 33,
   "metadata": {},
   "outputs": [],
   "source": [
    "def agent_based_on_origin(Origin,index):\n",
    "    return agent(np.unravel_index(Origin,init_avail_lattice.shape),stencil_cuboid,index)"
   ]
  },
  {
   "cell_type": "code",
   "execution_count": 34,
   "metadata": {},
   "outputs": [],
   "source": [
    "occ_lattice_sim = tg.to_lattice(np.copy(avail_lattice), avail_lattice)\n",
    "env_B = {\"availibility\": avail_lattice,\"enviornment\": Bv}\n",
    "env_G = {\"availibility\": avail_lattice,\"enviornment\": Gv}\n",
    "env_Y = {\"availibility\": avail_lattice,\"enviornment\": Yv}\n",
    "env_R = {\"availibility\": avail_lattice,\"enviornment\": Rv}\n",
    "env_V = {\"availibility\": avail_lattice,\"enviornment\": Vv}\n"
   ]
  },
  {
   "cell_type": "code",
   "execution_count": 35,
   "metadata": {},
   "outputs": [
    {
     "name": "stdout",
     "output_type": "stream",
     "text": [
      "[819, 565, 911, 357]\n"
     ]
    }
   ],
   "source": [
    "Origins_B = Agent_origins[:4]\n",
    "print(Origins_B)\n",
    "Agents_B =[]\n",
    "env_1 =[]\n",
    "for i,item in enumerate(Origins_B):\n",
    "    created_agent_1= agent_based_on_origin(item,10)\n",
    "    Agents_B.append(created_agent_1)\n",
    "    env_1.append(environment(env_B,created_agent_1,33,\"one_neighbour_occupy_cubish_behaviour\"))"
   ]
  },
  {
   "cell_type": "code",
   "execution_count": 36,
   "metadata": {},
   "outputs": [
    {
     "name": "stdout",
     "output_type": "stream",
     "text": [
      "[773, 611, 1027, 311]\n"
     ]
    }
   ],
   "source": [
    "Origins_G = Agent_origins[4:8]\n",
    "print(Origins_G)\n",
    "Agents_G =[]\n",
    "env_2 =[]\n",
    "for item in Origins_G:\n",
    "    created_agent_2 = agent_based_on_origin(item,100)\n",
    "    Agents_G.append(created_agent_2)\n",
    "    env_2.append(environment(env_G,created_agent_2,33,\"one_neighbour_occupy_cubish_behaviour\"))"
   ]
  },
  {
   "cell_type": "code",
   "execution_count": 37,
   "metadata": {},
   "outputs": [
    {
     "name": "stdout",
     "output_type": "stream",
     "text": [
      "[519, 449, 265]\n"
     ]
    }
   ],
   "source": [
    "Origins_Y = Agent_origins[8:11]\n",
    "print(Origins_Y)\n",
    "Agents_Y =[]\n",
    "env_3 =[]\n",
    "for item in Origins_Y:\n",
    "    created_agent_3 = agent_based_on_origin(item,200)\n",
    "    Agents_Y.append(created_agent_3)\n",
    "    env_3.append(environment(env_Y,created_agent_3,29,\"one_neighbour_occupy_cubish_behaviour\"))"
   ]
  },
  {
   "cell_type": "code",
   "execution_count": 38,
   "metadata": {},
   "outputs": [
    {
     "name": "stdout",
     "output_type": "stream",
     "text": [
      "[727, 981]\n"
     ]
    }
   ],
   "source": [
    "Origins_R = Agent_origins[11:13]\n",
    "print(Origins_R)\n",
    "Agents_R =[]\n",
    "env_4 =[]\n",
    "for item in Origins_R:\n",
    "    created_agent_4 = agent_based_on_origin(item,300)\n",
    "    Agents_R.append(created_agent_4)\n",
    "    env_4.append(environment(env_R,created_agent_4,44,\"one_neighbour_occupy_cubish_behaviour\"))"
   ]
  },
  {
   "cell_type": "code",
   "execution_count": 39,
   "metadata": {},
   "outputs": [
    {
     "name": "stdout",
     "output_type": "stream",
     "text": [
      "[657, 1119, 1073, 865, 403]\n"
     ]
    }
   ],
   "source": [
    "Origins_V = Agent_origins[13:18]\n",
    "print(Origins_V)\n",
    "Agents_V =[]\n",
    "env_5 =[]\n",
    "for item in Origins_V:\n",
    "    created_agent_5 = agent_based_on_origin(item,400)\n",
    "    Agents_V.append(created_agent_5)\n",
    "    env_5.append(environment(env_V,created_agent_5,45,\"one_neighbour_occupy_cubish_behaviour\"))"
   ]
  },
  {
   "cell_type": "code",
   "execution_count": 40,
   "metadata": {},
   "outputs": [],
   "source": [
    "all_enviornments= np.concatenate(((np.array(env_1)),(np.array(env_2)),(np.array(env_3)),(np.array(env_4)),(np.array(env_5))))\n"
   ]
  },
  {
   "cell_type": "code",
   "execution_count": 41,
   "metadata": {
    "scrolled": true
   },
   "outputs": [
    {
     "name": "stdout",
     "output_type": "stream",
     "text": [
      "0\n",
      "1\n",
      "2\n",
      "3\n",
      "4\n",
      "5\n",
      "6\n",
      "7\n",
      "8\n",
      "9\n",
      "10\n",
      "11\n",
      "12\n",
      "13\n",
      "14\n",
      "15\n",
      "16\n",
      "17\n",
      "18\n",
      "19\n",
      "20\n",
      "21\n",
      "22\n",
      "23\n",
      "24\n",
      "25\n",
      "26\n",
      "27\n",
      "28\n",
      "29\n",
      "30\n",
      "31\n",
      "32\n",
      "33\n",
      "34\n",
      "35\n",
      "36\n",
      "37\n",
      "38\n",
      "39\n",
      "40\n",
      "41\n",
      "42\n",
      "43\n",
      "44\n"
     ]
    }
   ],
   "source": [
    "env_availability_viz = []\n",
    "env_list = all_enviornments\n",
    "number_steps = max(map(lambda e:e.number_of_iterations,env_list))\n",
    "for a in range(number_steps):\n",
    "    # print(env.availibility)\n",
    "    #print(env.agent_origin)\n",
    "    print(a)\n",
    "    for e in env_list:\n",
    "        if a < e.number_of_iterations :\n",
    "            #print(a)\n",
    "            #print(e.number_of_iterations)\n",
    "            if e.method_name == \"one_neighbour_occupy_squareness_moore\":\n",
    "                e.one_neighbour_occupy_squareness_moore()\n",
    "                \n",
    "            elif e.method_name == \"one_neighbour_occupy_cubish_agents\" :\n",
    "                e.one_neighbour_occupy_cubish_agents()\n",
    "                \n",
    "            elif e.method_name == \"random_occupy_squareness_agents\" :\n",
    "                e.random_occupy_squareness_agents()\n",
    "            \n",
    "            elif e.method_name == \"random_occupy_cubish_agents\" :\n",
    "                e.random_occupy_cubish_agents()  \n",
    "                \n",
    "            elif e.method_name == \"random_occupy_cubish_von_neumann_agents\" :\n",
    "                e.random_occupy_cubish_von_neumann_agents()                           \n",
    "                \n",
    "            elif e.method_name == \"one_neighbour_occupy_squareness_von_neumann\" :\n",
    "                e.one_neighbour_occupy_squareness_von_neumann()                \n",
    "                \n",
    "                \n",
    "            elif e.method_name == \"one_neighbour_occupy_squareness_behaviour\" :\n",
    "                e.one_neighbour_occupy_squareness_behaviour()  \n",
    "                \n",
    "            elif e.method_name == \"one_neighbour_occupy_cubish_behaviour\" :\n",
    "                e.one_neighbour_occupy_cubish_behaviour()  \n",
    "            \n",
    "            elif e.method_name == \"argmax_occupy_von_neumann\" :\n",
    "                e.argmax_occupy_von_neumann()  \n",
    "                \n",
    "            env_availability_viz.append(e.availibility-1)"
   ]
  },
  {
   "cell_type": "code",
   "execution_count": 42,
   "metadata": {},
   "outputs": [
    {
     "data": {
      "text/plain": [
       "lattice([[[ -1,  -1,  -1,  -1,  -1,  -1,  -1,  -1,  -1,  -1,  -1],\n",
       "          [ -1,  -1,  -1,  -1,  -1,  -1,  -1,  -1,  -1,  -1,  -1],\n",
       "          [ -1,  -1,  -1,  -1,  -1,  -1,  -1,  -1,  -1,  -1,  -1],\n",
       "          [ -1,  -1,  -1,  -1,  -1,  -1,  -1,  -1,  -1,  -1,  -1],\n",
       "          [ -1,  -1,  -1,  -1,  -1,  -1,  -1,  -1,  -1,  -1,  -1],\n",
       "          [ -1,  -1,  -1,  -1,  -1,  -1,  -1,  -1,  -1,  -1,  -1],\n",
       "          [ -1,  -1,  -1,  -1,  -1,  -1,  -1,  -1,  -1,  -1,  -1],\n",
       "          [ -1,  -1,  -1,  -1,  -1,  -1,  -1,  -1,  -1,  -1,  -1],\n",
       "          [ -1,  -1,  -1,  -1,  -1,  -1,  -1,  -1,  -1,  -1,  -1],\n",
       "          [ -1,  -1,  -1,  -1,  -1,  -1,  -1,  -1,  -1,  -1,  -1],\n",
       "          [ -1,  -1,  -1,  -1,  -1,  -1,  -1,  -1,  -1,  -1,  -1],\n",
       "          [ -1,  -1,  -1,  -1,  -1,  -1,  -1,  -1,  -1,  -1,  -1],\n",
       "          [ -1,  -1,  -1,  -1,  -1,  -1,  -1,  -1,  -1,  -1,  -1],\n",
       "          [ -1,  -1,  -1,  -1,  -1,  -1,  -1,  -1,  -1,  -1,  -1],\n",
       "          [ -1,  -1,  -1,  -1,  -1,  -1,  -1,  -1,  -1,  -1,  -1],\n",
       "          [ -1,  -1,  -1,  -1,  -1,  -1,  -1,  -1,  -1,  -1,  -1],\n",
       "          [ -1,  -1,  -1,  -1,  -1,  -1,  -1,  -1,  -1,  -1,  -1],\n",
       "          [ -1,  -1,  -1,  -1,  -1,  -1,  -1,  -1,  -1,  -1,  -1],\n",
       "          [ -1,  -1,  -1,  -1,  -1,  -1,  -1,  -1,  -1,  -1,  -1],\n",
       "          [ -1,  -1,  -1,  -1,  -1,  -1,  -1,  -1,  -1,  -1,  -1],\n",
       "          [ -1,  -1,  -1,  -1,  -1,  -1,  -1,  -1,  -1,  -1,  -1]],\n",
       "\n",
       "         [[ -1,  -1,  -1,  -1,  -1,  -1,  -1,  -1,  -1,  -1,  -1],\n",
       "          [ -1, 199, 199, 199, 199, 199, 399, 399, 399, 399,  -1],\n",
       "          [ -1, 199, 199, 199, 199, 199, 399, 399, 399, 399,  -1],\n",
       "          [ -1, 199, 199, 199, 199, 199, 299, 399, 399, 399,  -1],\n",
       "          [ -1, 199, 199, 199, 199, 199, 199, 399, 399, 399,  -1],\n",
       "          [ -1, 199, 199, 199, 199, 199,   9,   9, 399, 399,  -1],\n",
       "          [ -1, 199, 199, 199, 199,   9,   9,   9, 399, 399,  -1],\n",
       "          [ -1,  99,  99,  99,   9,   9,   9,   9, 399, 399,  -1],\n",
       "          [ -1,  99,  99,  99,   9,   9,   9,   9, 399, 399,  -1],\n",
       "          [ -1,  99,  99,  99,   9,   9,   9,   9, 399, 399,  -1],\n",
       "          [ -1,  99,  99,  99,   9,   9,   9,   9,   9, 399,  -1],\n",
       "          [ -1,  99,  99,   9,   9,   9,   9,   9, 399, 399,  -1],\n",
       "          [ -1,  99,  99,   9,   9,   9,   9,   9, 399, 399,  -1],\n",
       "          [ -1,  99,  99, 399,  99,  99,  99,  99, 399, 399,  -1],\n",
       "          [ -1, 399, 399, 399, 399,  99,  99,  99, 399, 399,  -1],\n",
       "          [ -1, 399, 399, 199, 399, 399,  99, 399, 399, 399,  -1],\n",
       "          [ -1, 399, 199, 199, 199, 199, 399, 199, 199, 199,  -1],\n",
       "          [ -1, 399, 399, 199, 199, 399, 199, 199, 399, 199,  -1],\n",
       "          [ -1, 399, 399, 399, 399, 399, 399, 399, 199, 199,  -1],\n",
       "          [ -1, 399, 399, 399, 399, 399, 399, 199, 199, 199,  -1],\n",
       "          [ -1,  -1,  -1,  -1,  -1,  -1,  -1,  -1,  -1,  -1,  -1]],\n",
       "\n",
       "         [[ -1,  -1,  -1,  -1,  -1,  -1,  -1,  -1,  -1,  -1,  -1],\n",
       "          [ -1, 199, 199, 199, 199, 199, 299, 299, 399, 399,  -1],\n",
       "          [ -1, 199, 199, 199, 199, 199, 299, 399, 399, 399,  -1],\n",
       "          [ -1, 199, 199, 199, 199, 199, 299, 299, 399, 399,  -1],\n",
       "          [ -1, 199, 199, 199, 199, 199, 299, 299, 399, 399,  -1],\n",
       "          [ -1, 199, 199, 199, 199, 199,   9,   9, 399, 399,  -1],\n",
       "          [ -1, 199, 199, 199, 199,   9,   9,   9,   9, 399,  -1],\n",
       "          [ -1,  99,  99,  99,   9,   9,   9,  99,  99, 399,  -1],\n",
       "          [ -1,  99,  99,  99,   9,   9,   9,   9,  99, 399,  -1],\n",
       "          [ -1,  99,  99,  99,   9,   9,   9,   9,   9, 399,  -1],\n",
       "          [ -1,  99,  99,   9,   9,   9,   9,   9, 399, 399,  -1],\n",
       "          [ -1,  99,  99,   9,   9,   9,   9,   9, 399, 399,  -1],\n",
       "          [ -1,  99,   9,   9,   9,   9,   9,   9, 399, 399,  -1],\n",
       "          [ -1,  99,  99,  99,  99,  99,  99,  99, 399, 399,  -1],\n",
       "          [ -1, 399, 399,  99, 399,  99, 399,  99, 399, 399,  -1],\n",
       "          [ -1, 399, 199, 399, 399,  99,  99, 399, 399, 399,  -1],\n",
       "          [ -1, 399, 399, 199, 399, 399, 399, 399, 399, 399,  -1],\n",
       "          [ -1, 399, 199, 399, 399, 399, 399, 399, 399, 199,  -1],\n",
       "          [ -1, 399, 399, 399, 399, 399, 199, 199, 199, 199,  -1],\n",
       "          [ -1, 399, 399,   9, 399, 399, 199, 199, 199, 199,  -1],\n",
       "          [ -1,  -1,  -1,  -1,  -1,  -1,  -1,  -1,  -1,  -1,  -1]],\n",
       "\n",
       "         [[ -1,  -1,  -1,  -1,  -1,  -1,  -1,  -1,  -1,  -1,  -1],\n",
       "          [ -1, 299, 299, 299, 299, 299, 299, 299, 299, 399,  -1],\n",
       "          [ -1, 299, 299, 299, 299, 299, 299, 299, 399,   0,  -1],\n",
       "          [ -1, 299, 299, 299, 299, 299, 299, 299, 299, 399,  -1],\n",
       "          [ -1, 299, 299, 299, 299, 299, 299, 299, 299, 399,  -1],\n",
       "          [ -1, 199, 299, 299, 299, 299, 299, 299, 399, 399,  -1],\n",
       "          [ -1,  99, 299, 299, 299, 299,  99,  99,  99, 399,  -1],\n",
       "          [ -1,  99,  99,  99,  99,  99,  99,  99,  99,  99,  -1],\n",
       "          [ -1,  99,  99,  99,  99,  99,  99,  99,  99,   9,  -1],\n",
       "          [ -1,  99,  99,  99,  99,  99,  99,   9,   9,   9,  -1],\n",
       "          [ -1,  99,  99,   9,   9,   9,   9,   9,   9, 399,  -1],\n",
       "          [ -1,  99,   9,   9,   9,   9,   9,   9, 399, 399,  -1],\n",
       "          [ -1,  99,   9,   9,   9,   9,   9, 399, 399, 399,  -1],\n",
       "          [ -1,  99,   9,  99,  99,  99,  99, 399, 399, 399,  -1],\n",
       "          [ -1, 399,  99,  99,  99,  99, 399, 399, 399, 399,  -1],\n",
       "          [ -1, 399, 399, 399, 399, 399,  99, 399, 399, 399,  -1],\n",
       "          [ -1, 399, 399, 399, 399, 399, 399, 399, 399, 399,  -1],\n",
       "          [ -1,   9, 399, 399, 399, 399, 399, 399, 399, 399,  -1],\n",
       "          [ -1, 399,   9, 399,   9,   9,   9,   9,   9,   9,  -1],\n",
       "          [ -1, 399, 399,   9,   9,   9,   9,   9,   9,   9,  -1],\n",
       "          [ -1,  -1,  -1,  -1,  -1,  -1,  -1,  -1,  -1,  -1,  -1]],\n",
       "\n",
       "         [[ -1,  -1,  -1,  -1,  -1,  -1,  -1,  -1,  -1,  -1,  -1],\n",
       "          [ -1, 299, 299, 299, 299, 299, 299, 299,   0, 399,  -1],\n",
       "          [ -1, 299, 299, 299, 299, 299, 299, 299, 299, 399,  -1],\n",
       "          [ -1, 299, 299, 299, 299, 299, 299, 299, 299, 399,  -1],\n",
       "          [ -1, 299, 299, 299, 299, 299, 299, 299, 299, 399,  -1],\n",
       "          [ -1,  99, 299, 299, 299, 299, 299, 299, 399, 399,  -1],\n",
       "          [ -1,  99, 299, 299, 299, 299,  99,  99,  99, 399,  -1],\n",
       "          [ -1,  99,  99,  99,  99,  99,  99,  99,  99,  99,  -1],\n",
       "          [ -1,  99,  99,  99,  99,  99,  99,  99,  99, 399,  -1],\n",
       "          [ -1,  99,  99,  99,  99,  99,  99,   9,   9, 399,  -1],\n",
       "          [ -1,  99,  99,   9,   9,   9, 399,   9,   9, 399,  -1],\n",
       "          [ -1,  99,   9,   9,   9,   9, 399, 399, 399, 399,  -1],\n",
       "          [ -1,  99,   9,   9,   9, 399, 399, 399, 399, 399,  -1],\n",
       "          [ -1, 399,  99,  99,  99,  99, 399, 399, 399, 399,  -1],\n",
       "          [ -1, 399, 399,  99,  99,  99, 399, 399, 399, 399,  -1],\n",
       "          [ -1, 399, 399, 399,  99, 399, 399, 399, 399, 399,  -1],\n",
       "          [ -1, 399, 399, 399, 399, 399, 399, 399, 399, 399,  -1],\n",
       "          [ -1,   9, 399, 399, 399, 399, 399,   9, 399, 399,  -1],\n",
       "          [ -1,   9, 399,   9, 399,   9,   9,   9,   9,   9,  -1],\n",
       "          [ -1,   9,   9,   9,   9,   9,   9,   9,   9,   9,  -1],\n",
       "          [ -1,  -1,  -1,  -1,  -1,  -1,  -1,  -1,  -1,  -1,  -1]],\n",
       "\n",
       "         [[ -1,  -1,  -1,  -1,  -1,  -1,  -1,  -1,  -1,  -1,  -1],\n",
       "          [ -1,  -1,  -1,  -1,  -1,  -1,  -1,  -1,  -1,  -1,  -1],\n",
       "          [ -1,  -1,  -1,  -1,  -1,  -1,  -1,  -1,  -1,  -1,  -1],\n",
       "          [ -1,  -1,  -1,  -1,  -1,  -1,  -1,  -1,  -1,  -1,  -1],\n",
       "          [ -1,  -1,  -1,  -1,  -1,  -1,  -1,  -1,  -1,  -1,  -1],\n",
       "          [ -1,  -1,  -1,  -1,  -1,  -1,  -1,  -1,  -1,  -1,  -1],\n",
       "          [ -1,  -1,  -1,  -1,  -1,  -1,  -1,  -1,  -1,  -1,  -1],\n",
       "          [ -1,  -1,  -1,  -1,  -1,  -1,  -1,  -1,  -1,  -1,  -1],\n",
       "          [ -1,  -1,  -1,  -1,  -1,  -1,  -1,  -1,  -1,  -1,  -1],\n",
       "          [ -1,  -1,  -1,  -1,  -1,  -1,  -1,  -1,  -1,  -1,  -1],\n",
       "          [ -1,  -1,  -1,  -1,  -1,  -1,  -1,  -1,  -1,  -1,  -1],\n",
       "          [ -1,  -1,  -1,  -1,  -1,  -1,  -1,  -1,  -1,  -1,  -1],\n",
       "          [ -1,  -1,  -1,  -1,  -1,  -1,  -1,  -1,  -1,  -1,  -1],\n",
       "          [ -1,  -1,  -1,  -1,  -1,  -1,  -1,  -1,  -1,  -1,  -1],\n",
       "          [ -1,  -1,  -1,  -1,  -1,  -1,  -1,  -1,  -1,  -1,  -1],\n",
       "          [ -1,  -1,  -1,  -1,  -1,  -1,  -1,  -1,  -1,  -1,  -1],\n",
       "          [ -1,  -1,  -1,  -1,  -1,  -1,  -1,  -1,  -1,  -1,  -1],\n",
       "          [ -1,  -1,  -1,  -1,  -1,  -1,  -1,  -1,  -1,  -1,  -1],\n",
       "          [ -1,  -1,  -1,  -1,  -1,  -1,  -1,  -1,  -1,  -1,  -1],\n",
       "          [ -1,  -1,  -1,  -1,  -1,  -1,  -1,  -1,  -1,  -1,  -1],\n",
       "          [ -1,  -1,  -1,  -1,  -1,  -1,  -1,  -1,  -1,  -1,  -1]]])"
      ]
     },
     "execution_count": 42,
     "metadata": {},
     "output_type": "execute_result"
    }
   ],
   "source": [
    "env_availability_viz[-1]"
   ]
  },
  {
   "cell_type": "code",
   "execution_count": 43,
   "metadata": {},
   "outputs": [
    {
     "data": {
      "text/plain": [
       "2"
      ]
     },
     "execution_count": 43,
     "metadata": {},
     "output_type": "execute_result"
    }
   ],
   "source": [
    "len(np.argwhere(env_availability_viz[-1]==0))"
   ]
  },
  {
   "cell_type": "code",
   "execution_count": 44,
   "metadata": {},
   "outputs": [
    {
     "name": "stdout",
     "output_type": "stream",
     "text": [
      "[3 3 3]\n"
     ]
    },
    {
     "data": {
      "application/vnd.jupyter.widget-view+json": {
       "model_id": "3acb8aad7140474ba88e423ea1bc19da",
       "version_major": 2,
       "version_minor": 0
      },
      "text/plain": [
       "ViewInteractiveWidget(height=768, layout=Layout(height='auto', width='100%'), width=1024)"
      ]
     },
     "metadata": {},
     "output_type": "display_data"
    },
    {
     "data": {
      "text/plain": [
       "[(89.32480766111564, 111.82480766111564, 96.82480766111564),\n",
       " (7.5, 30.0, 15.0),\n",
       " (0.0, 0.0, 1.0)]"
      ]
     },
     "execution_count": 44,
     "metadata": {},
     "output_type": "execute_result"
    }
   ],
   "source": [
    "p = pv.Plotter(notebook=True)\n",
    "\n",
    "base_lattice = env_availability_viz[0]\n",
    "print(base_lattice.unit)\n",
    "# Set the grid dimensions: shape + 1 because we want to inject our values on the CELL data\n",
    "grid = pv.UniformGrid()\n",
    "grid.dimensions = np.array(base_lattice.shape) + 1\n",
    "# The bottom left corner of the data set\n",
    "grid.origin = base_lattice.minbound - base_lattice.unit * 0.5\n",
    "# These are the cell sizes along each axis\n",
    "grid.spacing = base_lattice.unit \n",
    "\n",
    "# adding the boundingbox wireframe\n",
    "p.add_mesh(grid.outline(), color=\"grey\", label=\"Domain\")\n",
    "\n",
    "# adding the avilability lattice\n",
    "init_avail_lattice.fast_vis(p)\n",
    "\n",
    "# adding axes\n",
    "p.add_axes()\n",
    "p.show_bounds(grid=\"back\", location=\"back\", color=\"#aaaaaa\") \n",
    "\n",
    "def create_mesh(value):\n",
    "    f = int(value)\n",
    "    lattice = env_availability_viz[f]\n",
    "\n",
    "    # Add the data values to the cell data\n",
    "    grid.cell_arrays[\"Agents\"] = lattice.flatten(order=\"F\").astype(int)  # Flatten the array!\n",
    "    # filtering the voxels\n",
    "    threshed = grid.threshold([1.1, avail_lattice.size])\n",
    "    # adding the voxels\n",
    "    p.add_mesh(threshed, name='sphere', show_edges=True, opacity=1.0, show_scalar_bar=False)\n",
    "    return\n",
    "number_steps_2 = 684\n",
    "p.add_slider_widget(create_mesh, [0, number_steps_2], title='Time', value=0, event_type=\"always\", style=\"classic\")\n",
    "\n",
    "\n",
    "p.show(use_ipyvtk=True)\n"
   ]
  },
  {
   "cell_type": "code",
   "execution_count": 45,
   "metadata": {},
   "outputs": [],
   "source": [
    "BC_index = np.argwhere(avail_lattice.flatten()==10).flatten()\n",
    "GC_index = np.argwhere(avail_lattice.flatten()==100).flatten()\n",
    "YC_index = np.argwhere(avail_lattice.flatten()==200).flatten()\n",
    "RC_index = np.argwhere(avail_lattice.flatten()==300).flatten()\n",
    "VC_index = np.argwhere(avail_lattice.flatten()==400).flatten()"
   ]
  },
  {
   "cell_type": "code",
   "execution_count": 46,
   "metadata": {},
   "outputs": [],
   "source": [
    "BC= np.sum(Bv.flatten()[BC_index])\n",
    "GC= np.sum(Gv.flatten()[GC_index])\n",
    "YC= np.sum(Yv.flatten()[YC_index])\n",
    "RC= np.sum(Rv.flatten()[RC_index])\n",
    "VC= np.sum(Vv.flatten()[VC_index])\n",
    "total_cost = BC + GC + YC+ RC +  VC"
   ]
  },
  {
   "cell_type": "code",
   "execution_count": 47,
   "metadata": {},
   "outputs": [
    {
     "data": {
      "text/plain": [
       "1394"
      ]
     },
     "execution_count": 47,
     "metadata": {},
     "output_type": "execute_result"
    }
   ],
   "source": [
    "BC"
   ]
  },
  {
   "cell_type": "code",
   "execution_count": 48,
   "metadata": {},
   "outputs": [
    {
     "data": {
      "text/plain": [
       "\"\\nfor i, lattice in enumerate(env_availability_viz):\\n    csv_path = os.path.relpath('csv_agent_rush/abm_f_'+ f'{i:03}' + '.csv')\\n    lattice.to_csv(csv_path)\\n\""
      ]
     },
     "execution_count": 48,
     "metadata": {},
     "output_type": "execute_result"
    }
   ],
   "source": [
    "\"\"\"\n",
    "for i, lattice in enumerate(env_availability_viz):\n",
    "    csv_path = os.path.relpath('csv_agent_rush/abm_f_'+ f'{i:03}' + '.csv')\n",
    "    lattice.to_csv(csv_path)\n",
    "\"\"\""
   ]
  },
  {
   "cell_type": "code",
   "execution_count": null,
   "metadata": {},
   "outputs": [],
   "source": []
  }
 ],
 "metadata": {
  "hide_input": false,
  "kernelspec": {
   "display_name": "Python 3",
   "language": "python",
   "name": "python3"
  },
  "language_info": {
   "codemirror_mode": {
    "name": "ipython",
    "version": 3
   },
   "file_extension": ".py",
   "mimetype": "text/x-python",
   "name": "python",
   "nbconvert_exporter": "python",
   "pygments_lexer": "ipython3",
   "version": "3.8.4"
  }
 },
 "nbformat": 4,
 "nbformat_minor": 4
}
