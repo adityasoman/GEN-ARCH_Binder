{
 "cells": [
  {
   "cell_type": "markdown",
   "metadata": {},
   "source": [
    "# Notebook Contents"
   ]
  },
  {
   "cell_type": "markdown",
   "metadata": {},
   "source": [
    "In this notebook the visibility lattice is calculated for the voxelated grid. \n",
    "The points of interest along the IJ are made using grashopper in the 3D model which are imported into the notebook\n",
    "The centroids for the voxels are found using the library https://topogenesis.readthedocs.io/\n",
    "and intersection percentages are calulated with the context of the building massing and the site using the library https://trimsh.org/trimesh.html"
   ]
  },
  {
   "cell_type": "markdown",
   "metadata": {},
   "source": [
    "# Initilization"
   ]
  },
  {
   "cell_type": "code",
   "execution_count": 1,
   "metadata": {},
   "outputs": [],
   "source": [
    "import os\n",
    "import sys\n",
    "import topogenesis as tg\n",
    "import pyvista as pv\n",
    "import pandas as pd\n",
    "import trimesh as tm\n",
    "from itertools import cycle\n",
    "import numpy as np\n",
    "import pickle\n",
    "import numpy.ma as ma\n",
    "np.random.seed(0)\n",
    "np.set_printoptions(threshold=sys.maxsize)\n",
    "from ladybug.sunpath import Sunpath"
   ]
  },
  {
   "cell_type": "code",
   "execution_count": 2,
   "metadata": {},
   "outputs": [
    {
     "name": "stderr",
     "output_type": "stream",
     "text": [
      "faces have mixed data, using slow fallback!\n",
      "faces have mixed data, using slow fallback!\n",
      "faces have mixed data, using slow fallback!\n",
      "faces have mixed data, using slow fallback!\n",
      "faces have mixed data, using slow fallback!\n",
      "faces have mixed data, using slow fallback!\n",
      "faces have mixed data, using slow fallback!\n",
      "faces have mixed data, using slow fallback!\n",
      "faces have mixed data, using slow fallback!\n",
      "faces have mixed data, using slow fallback!\n",
      "faces have mixed data, using slow fallback!\n",
      "faces have mixed data, using slow fallback!\n"
     ]
    }
   ],
   "source": [
    "#Design Details\n",
    "Self_development_plots_path = os.path.relpath('Site_self_development_plots.obj')\n",
    "Self_development_backyards_path = os.path.relpath('Site_self_development_backyards.obj')\n",
    "Site_buildings_path = os.path.relpath('Site_buildings.obj')\n",
    "Site_green_areas_path = os.path.relpath('Site_green_areas.obj')\n",
    "Site_roads_path = os.path.relpath('Site_base_roads.obj')\n",
    "Site_context_shading_path= os.path.relpath('Site_surrounding_buildings_for_shading.obj') \n",
    "Context_mesh_for_building_one_path = os.path.relpath('Context_for_building_one.obj') \n",
    "Context_mesh_for_building_two_and_three_path = os.path.relpath('Context_for_building_two_three.obj') \n",
    "Context_mesh_for_building_four_path = os.path.relpath('Context_for_building_four.obj') \n",
    "\n",
    "# Site details\n",
    "Site_base_path = os.path.relpath('Site_base_block.obj')\n",
    "Site_surrounding_buildings_path = os.path.relpath('Site_surrounding_buildings.obj')\n",
    "Site_water_bodies_path = os.path.relpath('Site_water_bodies.obj')\n",
    "Site_roads_path = os.path.relpath('Site_roads.obj')\n",
    "Site_other_buildings_path = os.path.relpath('Site_other_buildings.obj')\n",
    "\n",
    "# load the mesh from file\n",
    "# Design elements\n",
    "Self_development_plots_mesh = tm.load(Self_development_plots_path)\n",
    "Self_development_backyards_mesh = tm.load(Self_development_backyards_path)\n",
    "Site_building_mesh = tm.load(Site_buildings_path)\n",
    "Site_green_areas_mesh = tm.load(Site_green_areas_path)\n",
    "Site_roads_mesh = tm.load(Site_roads_path)\n",
    "Site_context_shading_mesh = tm.load(Site_context_shading_path)\n",
    "Context_mesh_for_building_one_mesh = tm.load(Context_mesh_for_building_one_path)\n",
    "Context_mesh_for_building_two_and_three_mesh =tm.load(Context_mesh_for_building_two_and_three_path)\n",
    "Context_mesh_for_building_four_mesh =tm.load(Context_mesh_for_building_four_path)\n",
    "\n",
    "#Site elements\n",
    "Site_base_mesh = tm.load(Site_base_path)\n",
    "Site_surrounding_buildings_mesh = tm.load(Site_surrounding_buildings_path)\n",
    "Site_water_bodies_mesh = tm.load(Site_water_bodies_path)\n",
    "Site_roads_mesh = tm.load(Site_roads_path)\n",
    "Site_other_buildings_mesh = tm.load(Site_other_buildings_path)\n",
    "\n",
    "\n",
    "# Check if the mesh is watertight\n",
    "#print(envelope_mesh.is_watertight)\n",
    "#print(context_mesh.is_watertight)"
   ]
  },
  {
   "cell_type": "markdown",
   "metadata": {},
   "source": [
    "# Import points on the IJ and Road"
   ]
  },
  {
   "cell_type": "code",
   "execution_count": 3,
   "metadata": {},
   "outputs": [],
   "source": [
    "# Csv to points \n",
    "Complete_file_for_IJ = pd.read_excel('Visibility_to_IJ_points.xlsx', sheet_name=0,engine='openpyxl',header = None )\n",
    "array_excel_points_for_IJ = Complete_file_for_IJ.to_numpy()"
   ]
  },
  {
   "cell_type": "code",
   "execution_count": 4,
   "metadata": {},
   "outputs": [],
   "source": [
    "Visibility_sources_for_IJ = array_excel_points_for_IJ.T"
   ]
  },
  {
   "cell_type": "code",
   "execution_count": 5,
   "metadata": {},
   "outputs": [],
   "source": [
    "# Csv to points \n",
    "Complete_file_for_road = pd.read_excel('Visibility_from_roads.xlsx', sheet_name=0,engine='openpyxl',header = None )\n",
    "array_excel_points_for_roads = Complete_file_for_road.to_numpy()"
   ]
  },
  {
   "cell_type": "code",
   "execution_count": 6,
   "metadata": {},
   "outputs": [],
   "source": [
    "Visibility_sources_for_road = array_excel_points_for_roads.T"
   ]
  },
  {
   "cell_type": "markdown",
   "metadata": {},
   "source": [
    "# Viz the Points"
   ]
  },
  {
   "cell_type": "code",
   "execution_count": 7,
   "metadata": {},
   "outputs": [
    {
     "data": {
      "application/vnd.jupyter.widget-view+json": {
       "model_id": "c54fff22dd8445928a5fa605257f4374",
       "version_major": 2,
       "version_minor": 0
      },
      "text/plain": [
       "ViewInteractiveWidget(height=768, layout=Layout(height='auto', width='100%'), width=1024)"
      ]
     },
     "metadata": {},
     "output_type": "display_data"
    },
    {
     "data": {
      "text/plain": [
       "(vtkmodules.vtkRenderingOpenGL2.vtkOpenGLActor)00000261C9ACB820"
      ]
     },
     "execution_count": 7,
     "metadata": {},
     "output_type": "execute_result"
    }
   ],
   "source": [
    "# convert mesh to pv_mesh\n",
    "def tri_to_pv(tri_mesh):\n",
    "    faces = np.pad(tri_mesh.faces, ((0, 0),(1,0)), 'constant', constant_values=3)\n",
    "    pv_mesh = pv.PolyData(tri_mesh.vertices, faces)\n",
    "    return pv_mesh\n",
    "\n",
    "# initiating the plotter\n",
    "p = pv.Plotter(notebook=True)\n",
    "\n",
    "# adding the meshes\n",
    "# Design meshes\n",
    "p.add_mesh(tri_to_pv(Self_development_plots_mesh), color='#b8f2e6')\n",
    "p.add_mesh(tri_to_pv(Self_development_backyards_mesh), color='#8ac926')\n",
    "p.add_mesh(tri_to_pv(Site_building_mesh), color='#f4acb7')\n",
    "p.add_mesh(tri_to_pv(Site_green_areas_mesh), color='#8ac926')\n",
    "p.add_mesh(tri_to_pv(Site_roads_mesh), color='#adb5bd')\n",
    "\n",
    "#Site meshes\n",
    "p.add_mesh(tri_to_pv(Site_base_mesh), color='#faedcd')\n",
    "p.add_mesh(tri_to_pv(Site_surrounding_buildings_mesh), color='#cdb4db')\n",
    "p.add_mesh(tri_to_pv(Site_water_bodies_mesh), color='#bde0fe',opacity= 0.5)\n",
    "p.add_mesh(tri_to_pv(Site_roads_mesh), color='#adb5bd')\n",
    "p.add_mesh(tri_to_pv(Site_other_buildings_mesh), color='#cdb4db')\n",
    "\n",
    "\n",
    "# plotting\n",
    "p.show(use_ipyvtk=True)\n",
    "p.add_points( Visibility_sources_for_IJ , color='#ffa500')\n",
    "p.add_points( Visibility_sources_for_road , color='#2a9d8f')"
   ]
  },
  {
   "cell_type": "markdown",
   "metadata": {},
   "source": [
    "# Import lattice"
   ]
  },
  {
   "cell_type": "code",
   "execution_count": 8,
   "metadata": {},
   "outputs": [],
   "source": [
    "# loading the lattice from csv\n",
    "lattice_path = os.path.relpath('voxelized_envelope_6m_voxel_size.csv')\n",
    "envelope_lattice = tg.lattice_from_csv(lattice_path)"
   ]
  },
  {
   "cell_type": "markdown",
   "metadata": {},
   "source": [
    "# Find Voxel Eucledian Coordinates"
   ]
  },
  {
   "cell_type": "code",
   "execution_count": 9,
   "metadata": {},
   "outputs": [],
   "source": [
    "# convert to lattice\n",
    "init_lattice = envelope_lattice +1\n",
    "availability_lattice_voxels = tg.to_lattice(init_lattice, init_lattice)\n",
    "voxel_coordinates= envelope_lattice.centroids\n",
    "voxel_coordinates_full_lattice = init_lattice.centroids\n",
    "flattened_lattice = envelope_lattice.flatten()"
   ]
  },
  {
   "cell_type": "code",
   "execution_count": 10,
   "metadata": {},
   "outputs": [],
   "source": [
    "Y_coordinates= voxel_coordinates.T[1].flatten()"
   ]
  },
  {
   "cell_type": "code",
   "execution_count": 11,
   "metadata": {},
   "outputs": [],
   "source": [
    "Full_lattice_Y_coordinates = voxel_coordinates_full_lattice.T[1].flatten()"
   ]
  },
  {
   "cell_type": "code",
   "execution_count": 12,
   "metadata": {},
   "outputs": [],
   "source": [
    "Building_one =[]\n",
    "Building_one_indexes =[]\n",
    "Building_two_three =[]\n",
    "Building_two_three_indexes =[]\n",
    "Building_four =[]\n",
    "Building_four_indexes =[]\n",
    "not_in_a_building =[]\n",
    "for center,coordinate,index in zip(Full_lattice_Y_coordinates,voxel_coordinates_full_lattice,range(len(Full_lattice_Y_coordinates))):\n",
    "    if center >= 18 and center <= 30:\n",
    "        Building_one.append(coordinate)\n",
    "        Building_one_indexes.append(index)\n",
    "        #print(\"1st\")\n",
    "    elif center >= 40 and center <= 82:\n",
    "        Building_two_three.append(coordinate)\n",
    "        Building_two_three_indexes.append(index)\n",
    "       # print(\"2nd\")\n",
    "    elif center >= 82:\n",
    "        Building_four.append(coordinate)\n",
    "        Building_four_indexes.append(index)\n",
    "        #print(\"3rd\")\n",
    "    else:\n",
    "        not_in_a_building.append(coordinate)\n",
    "    "
   ]
  },
  {
   "cell_type": "markdown",
   "metadata": {},
   "source": [
    "# Visualize the Context Mesh + Envelope Lattice"
   ]
  },
  {
   "cell_type": "code",
   "execution_count": 13,
   "metadata": {},
   "outputs": [
    {
     "data": {
      "application/vnd.jupyter.widget-view+json": {
       "model_id": "8cb7fc54776b49a08fb8cfa1565e5646",
       "version_major": 2,
       "version_minor": 0
      },
      "text/plain": [
       "ViewInteractiveWidget(height=768, layout=Layout(height='auto', width='100%'), width=1024)"
      ]
     },
     "metadata": {},
     "output_type": "display_data"
    },
    {
     "data": {
      "text/plain": [
       "[(1564.3134508410321, 1810.0972795763837, 1618.43376639279),\n",
       " (-142.0987091064453, 103.68511962890625, -87.9783935546875),\n",
       " (0.0, 0.0, 1.0)]"
      ]
     },
     "execution_count": 13,
     "metadata": {},
     "output_type": "execute_result"
    }
   ],
   "source": [
    "# convert mesh to pv_mesh\n",
    "def tri_to_pv(tri_mesh):\n",
    "    faces = np.pad(tri_mesh.faces, ((0, 0),(1,0)), 'constant', constant_values=3)\n",
    "    pv_mesh = pv.PolyData(tri_mesh.vertices, faces)\n",
    "    return pv_mesh\n",
    "\n",
    "# initiating the plotter\n",
    "p = pv.Plotter(notebook=True)\n",
    "\n",
    "# fast visualization of the lattice\n",
    "envelope_lattice.fast_vis(p)\n",
    "\n",
    "# adding the meshes\n",
    "\n",
    "# Design meshes\n",
    "p.add_mesh(tri_to_pv(Self_development_plots_mesh), color='#b8f2e6')\n",
    "p.add_mesh(tri_to_pv(Self_development_backyards_mesh), color='#8ac926')\n",
    "p.add_mesh(tri_to_pv(Site_building_mesh), color='#ff9b54',opacity = 0.3)\n",
    "p.add_mesh(tri_to_pv(Site_green_areas_mesh), color='#8ac926')\n",
    "p.add_mesh(tri_to_pv(Site_roads_mesh), color='#adb5bd')\n",
    "\n",
    "#Site meshes\n",
    "p.add_mesh(tri_to_pv(Site_base_mesh), color='#faedcd')\n",
    "p.add_mesh(tri_to_pv(Site_surrounding_buildings_mesh), color='#cdb4db')\n",
    "p.add_mesh(tri_to_pv(Site_water_bodies_mesh), color='#bde0fe',opacity= 0.5)\n",
    "p.add_mesh(tri_to_pv(Site_roads_mesh), color='#adb5bd')\n",
    "p.add_mesh(tri_to_pv(Site_other_buildings_mesh), color='#cdb4db')\n",
    "# plotting\n",
    "p.show(use_ipyvtk=True)"
   ]
  },
  {
   "cell_type": "markdown",
   "metadata": {},
   "source": [
    "# Visibility_vectors"
   ]
  },
  {
   "cell_type": "markdown",
   "metadata": {},
   "source": [
    "# Compute Intersection of Visibility lines with Context Mesh\n",
    "\n",
    "### Preparing the List of Ray Directions and Origins"
   ]
  },
  {
   "cell_type": "code",
   "execution_count": 14,
   "metadata": {},
   "outputs": [],
   "source": [
    "# constructing the sun direction from the sun vectors in a numpy array\n",
    "visibility_dirs_IJ = np.array(Visibility_sources_for_IJ)\n",
    "visibility_dirs_Road = np.array(Visibility_sources_for_road)\n",
    "\n",
    "# For IJ \n",
    "ray_dir_building_one_IJ = np.tile(visibility_dirs_IJ, [len(Building_one),1])\n",
    "ray_src_building_one_IJ = np.tile(Building_one, [1, len(visibility_dirs_IJ)]).reshape(-1, 3)\n",
    "# For Road\n",
    "ray_dir_building_one_Road = np.tile(visibility_dirs_Road, [len(Building_one),1])\n",
    "ray_src_building_one_Road = np.tile(Building_one, [1, len(visibility_dirs_Road)]).reshape(-1, 3)\n",
    "\n",
    "# For IJ\n",
    "ray_dir_building_two_and_three_IJ = np.tile(visibility_dirs_IJ, [len(Building_two_three),1])\n",
    "ray_src_building_two_and_three_IJ = np.tile(Building_two_three, [1, len(visibility_dirs_IJ)]).reshape(-1, 3)\n",
    "# For Road\n",
    "ray_dir_building_two_and_three_Road = np.tile(visibility_dirs_Road, [len(Building_two_three),1])\n",
    "ray_src_building_two_and_three_Road = np.tile(Building_two_three, [1, len(visibility_dirs_Road)]).reshape(-1, 3)\n",
    "\n",
    "# For IJ \n",
    "ray_dir_building_four_IJ = np.tile(visibility_dirs_IJ, [len(Building_four),1])\n",
    "ray_src_building_four_IJ = np.tile(Building_four, [1, len(visibility_dirs_IJ)]).reshape(-1, 3)\n",
    "# For Road\n",
    "ray_dir_building_four_Road = np.tile(visibility_dirs_Road, [len(Building_four),1])\n",
    "ray_src_building_four_Road = np.tile(Building_four, [1, len(visibility_dirs_Road)]).reshape(-1, 3)\n",
    "\n"
   ]
  },
  {
   "cell_type": "markdown",
   "metadata": {},
   "source": [
    "# Computing the Intersection"
   ]
  },
  {
   "cell_type": "code",
   "execution_count": 15,
   "metadata": {},
   "outputs": [],
   "source": [
    "# computing the intersections of rays with the context mesh for IJ\n",
    "tri_id_building_one_IJ, ray_id_building_one_IJ = Context_mesh_for_building_one_mesh.ray.intersects_id(ray_origins=ray_src_building_one_IJ, ray_directions=ray_dir_building_one_IJ, multiple_hits=False)\n",
    "tri_id_building_two_and_three_IJ, ray_id_building_two_and_three_IJ = Context_mesh_for_building_two_and_three_mesh.ray.intersects_id(ray_origins=ray_src_building_two_and_three_IJ, ray_directions=ray_dir_building_two_and_three_IJ, multiple_hits=False)\n",
    "tri_id_building_four_IJ, ray_id_building_four_IJ = Context_mesh_for_building_four_mesh.ray.intersects_id(ray_origins=ray_src_building_four_IJ, ray_directions=ray_dir_building_four_IJ, multiple_hits=False)\n"
   ]
  },
  {
   "cell_type": "code",
   "execution_count": 16,
   "metadata": {},
   "outputs": [],
   "source": [
    "# computing the intersections of rays with the context mesh for IJ\n",
    "tri_id_building_one_road, ray_id_building_one_Road = Context_mesh_for_building_one_mesh.ray.intersects_id(ray_origins=ray_src_building_one_Road, ray_directions=ray_dir_building_one_Road, multiple_hits=False)\n",
    "tri_id_building_two_and_three_road, ray_id_building_two_and_three_Road = Context_mesh_for_building_two_and_three_mesh.ray.intersects_id(ray_origins=ray_src_building_two_and_three_Road, ray_directions=ray_dir_building_two_and_three_Road, multiple_hits=False)\n",
    "tri_id_building_four_road, ray_id_building_four_Road = Context_mesh_for_building_four_mesh.ray.intersects_id(ray_origins=ray_src_building_four_Road, ray_directions=ray_dir_building_four_Road, multiple_hits=False)\n"
   ]
  },
  {
   "cell_type": "markdown",
   "metadata": {},
   "source": [
    "## Aggregate Simulation Result in the Visbility Lattice\n",
    "\n",
    "###  Compute the percentage of time that each voxel sees the Points of interest"
   ]
  },
  {
   "cell_type": "code",
   "execution_count": 17,
   "metadata": {},
   "outputs": [],
   "source": [
    "def percentage_of_time_each_voxel_sees_the_sun(ray_dir,ray_id,sun_dirs,vox_cens):\n",
    "    # initializing the hits list full of zeros\n",
    "    hits = [0]*len(ray_dir)\n",
    "    # setting the rays that had an intersection to 1\n",
    "    for id in ray_id:\n",
    "        hits[id] = 1\n",
    "\n",
    "    sun_count = len(sun_dirs)\n",
    "    vox_count = len(vox_cens)\n",
    "    # initiating the list of ratio\n",
    "    vox_sun_acc = []\n",
    "    # iterate over the voxels\n",
    "    for v_id in range(vox_count):\n",
    "        # counter for the intersection\n",
    "        int_count = 0\n",
    "        # iterate over the sun rays\n",
    "        for s_id in range(sun_count):\n",
    "            # computing the ray id from voxel id and sun id\n",
    "            r_id = v_id * sun_count + s_id\n",
    "\n",
    "            # summing the intersections\n",
    "            int_count += hits[r_id]\n",
    "\n",
    "        # computing the percentage of the rays that DID NOT have \n",
    "        # an intersection (aka could see the sun)\n",
    "        sun_access = 1.0 - int_count/sun_count\n",
    "\n",
    "        # add the ratio to list\n",
    "        vox_sun_acc.append(sun_access)\n",
    "\n",
    "    hits = np.array(hits)\n",
    "    vox_sun_acc = np.array(vox_sun_acc)\n",
    "\n",
    "    return hits , vox_sun_acc\n",
    "\n",
    "\n"
   ]
  },
  {
   "cell_type": "code",
   "execution_count": 18,
   "metadata": {},
   "outputs": [],
   "source": [
    "percent_for_building_one_IJ= percentage_of_time_each_voxel_sees_the_sun(ray_dir_building_one_IJ,ray_id_building_one_IJ,visibility_dirs_IJ,Building_one)\n",
    "percent_for_building_two_and_three_IJ= percentage_of_time_each_voxel_sees_the_sun(ray_dir_building_two_and_three_IJ,ray_id_building_two_and_three_IJ,visibility_dirs_IJ,Building_two_three)\n",
    "percent_for_building_Four_IJ= percentage_of_time_each_voxel_sees_the_sun(ray_dir_building_four_IJ,ray_id_building_four_IJ,visibility_dirs_IJ,Building_four)"
   ]
  },
  {
   "cell_type": "code",
   "execution_count": 19,
   "metadata": {},
   "outputs": [],
   "source": [
    "percent_for_building_one_Road= percentage_of_time_each_voxel_sees_the_sun(ray_dir_building_one_Road,ray_id_building_one_Road,visibility_dirs_Road,Building_one)\n",
    "percent_for_building_two_and_three_Road= percentage_of_time_each_voxel_sees_the_sun(ray_dir_building_two_and_three_Road,ray_id_building_two_and_three_Road,visibility_dirs_Road,Building_two_three)\n",
    "percent_for_building_Four_Road= percentage_of_time_each_voxel_sees_the_sun(ray_dir_building_four_Road,ray_id_building_four_Road,visibility_dirs_Road,Building_four)"
   ]
  },
  {
   "cell_type": "markdown",
   "metadata": {},
   "source": [
    "#  Store Visibility information in a Lattice IJ"
   ]
  },
  {
   "cell_type": "code",
   "execution_count": 20,
   "metadata": {},
   "outputs": [],
   "source": [
    "Visbility_IJ_Dummy_lattice = np.copy(Full_lattice_Y_coordinates)"
   ]
  },
  {
   "cell_type": "code",
   "execution_count": 21,
   "metadata": {},
   "outputs": [],
   "source": [
    "for index,value in zip(Building_one_indexes,percent_for_building_one_IJ[1]):\n",
    "    Visbility_IJ_Dummy_lattice[index]= value"
   ]
  },
  {
   "cell_type": "code",
   "execution_count": 22,
   "metadata": {},
   "outputs": [],
   "source": [
    "for index,value in zip(Building_two_three_indexes,percent_for_building_two_and_three_IJ[1]):\n",
    "    Visbility_IJ_Dummy_lattice[index]= value"
   ]
  },
  {
   "cell_type": "code",
   "execution_count": 23,
   "metadata": {},
   "outputs": [],
   "source": [
    "for index,value in zip(Building_four_indexes,percent_for_building_Four_IJ[1]):\n",
    "    Visbility_IJ_Dummy_lattice[index]= value"
   ]
  },
  {
   "cell_type": "code",
   "execution_count": 24,
   "metadata": {},
   "outputs": [],
   "source": [
    "Visibility_IJ_lattice_padded= np.array([num if boolean else 0 for boolean, num in zip(flattened_lattice, cycle(Visbility_IJ_Dummy_lattice))])"
   ]
  },
  {
   "cell_type": "code",
   "execution_count": 25,
   "metadata": {},
   "outputs": [],
   "source": [
    "Visibility_IJ_lattice_padded_np =  Visibility_IJ_lattice_padded.reshape(envelope_lattice.shape)"
   ]
  },
  {
   "cell_type": "code",
   "execution_count": 26,
   "metadata": {},
   "outputs": [],
   "source": [
    "Visibility_IJ_lattice = tg.to_lattice(Visibility_IJ_lattice_padded_np, Visibility_IJ_lattice_padded_np.shape)"
   ]
  },
  {
   "cell_type": "markdown",
   "metadata": {},
   "source": [
    "#  Store Visibility information in a Lattice IJ"
   ]
  },
  {
   "cell_type": "code",
   "execution_count": 27,
   "metadata": {},
   "outputs": [],
   "source": [
    "Visbility_Road_Dummy_lattice = np.copy(Full_lattice_Y_coordinates)"
   ]
  },
  {
   "cell_type": "code",
   "execution_count": 28,
   "metadata": {},
   "outputs": [],
   "source": [
    "for index,value in zip(Building_one_indexes,percent_for_building_one_Road[1]):\n",
    "    Visbility_Road_Dummy_lattice[index]= value"
   ]
  },
  {
   "cell_type": "code",
   "execution_count": 29,
   "metadata": {},
   "outputs": [],
   "source": [
    "for index,value in zip(Building_two_three_indexes,percent_for_building_two_and_three_Road[1]):\n",
    "    Visbility_Road_Dummy_lattice[index]= value"
   ]
  },
  {
   "cell_type": "code",
   "execution_count": 30,
   "metadata": {},
   "outputs": [],
   "source": [
    "for index,value in zip(Building_four_indexes,percent_for_building_Four_Road[1]):\n",
    "    Visbility_Road_Dummy_lattice[index]= value"
   ]
  },
  {
   "cell_type": "code",
   "execution_count": 31,
   "metadata": {},
   "outputs": [],
   "source": [
    "Visibility_Road_lattice_padded= np.array([num if boolean else 0 for boolean, num in zip(flattened_lattice, cycle(Visbility_Road_Dummy_lattice))])"
   ]
  },
  {
   "cell_type": "code",
   "execution_count": 32,
   "metadata": {},
   "outputs": [],
   "source": [
    "Visibility_Road_lattice_padded_np =  Visibility_Road_lattice_padded.reshape(envelope_lattice.shape)"
   ]
  },
  {
   "cell_type": "code",
   "execution_count": 33,
   "metadata": {},
   "outputs": [],
   "source": [
    "Visibility_Road_lattice = tg.to_lattice(Visibility_Road_lattice_padded_np, Visibility_Road_lattice_padded_np.shape)"
   ]
  },
  {
   "cell_type": "markdown",
   "metadata": {},
   "source": [
    "# Vizualise the Visibility lattice IJ"
   ]
  },
  {
   "cell_type": "code",
   "execution_count": 69,
   "metadata": {},
   "outputs": [
    {
     "data": {
      "application/vnd.jupyter.widget-view+json": {
       "model_id": "5196f55268e84c6fa315a9f03ffe177f",
       "version_major": 2,
       "version_minor": 0
      },
      "text/plain": [
       "ViewInteractiveWidget(height=768, layout=Layout(height='auto', width='100%'), width=1024)"
      ]
     },
     "metadata": {},
     "output_type": "display_data"
    },
    {
     "data": {
      "text/plain": [
       "[(281.2198164557486, 195.20681864151288, 263.2631846148646),\n",
       " (-125.74100344423854, 28.782304005903896, -35.52262026413212),\n",
       " (-0.4754479563154928, -0.3132719300921078, 0.8220766014501244)]"
      ]
     },
     "execution_count": 69,
     "metadata": {},
     "output_type": "execute_result"
    }
   ],
   "source": [
    "# initiating the plotter\n",
    "p = pv.Plotter(notebook=True)\n",
    "\n",
    "# Create the spatial reference\n",
    "grid = pv.UniformGrid()\n",
    "\n",
    "# Set the grid envelope_lattice: shape because we want to inject our values\n",
    "grid.dimensions = envelope_lattice.shape\n",
    "# The bottom left corner of the data set\n",
    "grid.origin = envelope_lattice.minbound\n",
    "# These are the cell sizes along each axis\n",
    "grid.spacing = envelope_lattice.unit\n",
    "\n",
    "# Add the data values to the cell data\n",
    "grid.point_arrays[\"Visibility to IJ\"] = Visibility_IJ_lattice.flatten(order=\"F\")  # Flatten the Lattice\n",
    "\n",
    "# fast visualization of the lattice\n",
    "envelope_lattice.fast_vis(p)\n",
    "\n",
    "# adding the meshes\n",
    "#p.add_mesh(tri_to_pv(Self_development_plots_mesh), color='#b8f2e6')\n",
    "p.add_mesh(tri_to_pv(Self_development_backyards_mesh), color='#8ac926')\n",
    "p.add_mesh(tri_to_pv(Site_building_mesh), color='#ff9b54',opacity = 0.3)\n",
    "p.add_mesh(tri_to_pv(Site_green_areas_mesh), color='#8ac926')\n",
    "p.add_mesh(tri_to_pv(Site_roads_mesh), color='#adb5bd')\n",
    "\n",
    "#Site meshes\n",
    "p.add_mesh(tri_to_pv(Site_base_mesh), color='#faedcd')\n",
    "p.add_mesh(tri_to_pv(Site_other_buildings_mesh), color='#cdb4db')\n",
    "p.add_mesh(tri_to_pv(Site_water_bodies_mesh), color='#bde0fe',opacity= 0.5)\n",
    "p.add_mesh(tri_to_pv(Site_roads_mesh), color='#adb5bd')\n",
    "p.add_mesh(tri_to_pv(Site_context_shading_mesh), color='#cdb4db')\n",
    "    \n",
    "# adding the volume\n",
    "\n",
    "opacity = [0, 0.75, 0.7, 0.75, 0.8]\n",
    "clim = [0, 100]\n",
    "p.add_volume(grid, cmap=\"Spectral\", opacity=opacity, shade=False)\n",
    "# plotting\n",
    "p.camera_position = [(281.2198164557486, 195.20681864151288, 263.2631846148646),\n",
    " (-125.74100344423854, 28.782304005903896, -35.52262026413212),\n",
    " (-0.4754479563154929, -0.31327193009210785, 0.8220766014501246)]\n",
    "p.add_points( Visibility_sources_for_IJ, color='#ffa500')\n",
    "p.show(use_ipyvtk=True,screenshot='Visibility_to_IJ.png')"
   ]
  },
  {
   "cell_type": "code",
   "execution_count": 67,
   "metadata": {},
   "outputs": [],
   "source": [
    "def_cam = p.camera_position"
   ]
  },
  {
   "cell_type": "code",
   "execution_count": 68,
   "metadata": {},
   "outputs": [
    {
     "data": {
      "text/plain": [
       "[(281.2198164557486, 195.20681864151288, 263.2631846148646),\n",
       " (-125.74100344423854, 28.782304005903896, -35.52262026413212),\n",
       " (-0.4754479563154929, -0.31327193009210785, 0.8220766014501246)]"
      ]
     },
     "execution_count": 68,
     "metadata": {},
     "output_type": "execute_result"
    }
   ],
   "source": [
    "def_cam"
   ]
  },
  {
   "cell_type": "markdown",
   "metadata": {},
   "source": [
    "# Vizualise the Visibility lattice Road"
   ]
  },
  {
   "cell_type": "code",
   "execution_count": 70,
   "metadata": {},
   "outputs": [
    {
     "data": {
      "application/vnd.jupyter.widget-view+json": {
       "model_id": "562fae03a2d64899966e555e2aa8d9e7",
       "version_major": 2,
       "version_minor": 0
      },
      "text/plain": [
       "ViewInteractiveWidget(height=768, layout=Layout(height='auto', width='100%'), width=1024)"
      ]
     },
     "metadata": {},
     "output_type": "display_data"
    },
    {
     "data": {
      "text/plain": [
       "[(281.2198164557486, 195.20681864151288, 263.2631846148646),\n",
       " (-125.74100344423854, 28.782304005903896, -35.52262026413212),\n",
       " (-0.4754479563154928, -0.3132719300921078, 0.8220766014501244)]"
      ]
     },
     "execution_count": 70,
     "metadata": {},
     "output_type": "execute_result"
    }
   ],
   "source": [
    "# initiating the plotter\n",
    "p = pv.Plotter(notebook=True)\n",
    "\n",
    "# Create the spatial reference\n",
    "grid = pv.UniformGrid()\n",
    "\n",
    "# Set the grid envelope_lattice: shape because we want to inject our values\n",
    "grid.dimensions = envelope_lattice.shape\n",
    "# The bottom left corner of the data set\n",
    "grid.origin = envelope_lattice.minbound\n",
    "# These are the cell sizes along each axis\n",
    "grid.spacing = envelope_lattice.unit\n",
    "\n",
    "# Add the data values to the cell data\n",
    "grid.point_arrays[\"Visibility to Road\"] = Visibility_Road_lattice.flatten(order=\"F\")  # Flatten the Lattice\n",
    "\n",
    "# fast visualization of the lattice\n",
    "envelope_lattice.fast_vis(p)\n",
    "\n",
    "# adding the meshes\n",
    "#p.add_mesh(tri_to_pv(Self_development_plots_mesh), color='#b8f2e6')\n",
    "p.add_mesh(tri_to_pv(Self_development_backyards_mesh), color='#8ac926')\n",
    "p.add_mesh(tri_to_pv(Site_building_mesh), color='#ff9b54',opacity = 0.3)\n",
    "p.add_mesh(tri_to_pv(Site_green_areas_mesh), color='#8ac926')\n",
    "p.add_mesh(tri_to_pv(Site_roads_mesh), color='#adb5bd')\n",
    "\n",
    "#Site meshes\n",
    "p.add_mesh(tri_to_pv(Site_base_mesh), color='#faedcd')\n",
    "p.add_mesh(tri_to_pv(Site_other_buildings_mesh), color='#cdb4db')\n",
    "p.add_mesh(tri_to_pv(Site_water_bodies_mesh), color='#bde0fe',opacity= 0.5)\n",
    "p.add_mesh(tri_to_pv(Site_roads_mesh), color='#adb5bd')\n",
    "p.add_mesh(tri_to_pv(Site_context_shading_mesh), color='#cdb4db')\n",
    "    \n",
    "# adding the volume\n",
    "\n",
    "opacity = [0, 0.75, 0.7, 0.75, 0.8]\n",
    "clim = [0, 100]\n",
    "p.add_volume(grid, cmap=\"YlGnBu\", opacity=opacity, shade=False)\n",
    "# plotting\n",
    "p.camera_position = [(281.2198164557486, 195.20681864151288, 263.2631846148646),\n",
    " (-125.74100344423854, 28.782304005903896, -35.52262026413212),\n",
    " (-0.4754479563154929, -0.31327193009210785, 0.8220766014501246)]\n",
    "p.add_points( Visibility_sources_for_road, color='#ffa500')\n",
    "p.show(use_ipyvtk=True,screenshot='Visibility_to_Road.png')"
   ]
  },
  {
   "cell_type": "markdown",
   "metadata": {},
   "source": [
    "# Save Pickle Lattice"
   ]
  },
  {
   "cell_type": "code",
   "execution_count": 36,
   "metadata": {},
   "outputs": [],
   "source": [
    "Visibility_to_IJ = pickle.dump( Visibility_IJ_lattice, open( \"Visibility_IJ_lattice.p\", \"wb\" ) )"
   ]
  },
  {
   "cell_type": "code",
   "execution_count": 37,
   "metadata": {},
   "outputs": [],
   "source": [
    "Visibility_to_Road = pickle.dump( Visibility_Road_lattice, open( \"Visibility_Road_lattice.p\", \"wb\" ) )"
   ]
  }
 ],
 "metadata": {
  "kernelspec": {
   "display_name": "Python 3",
   "language": "python",
   "name": "python3"
  },
  "language_info": {
   "codemirror_mode": {
    "name": "ipython",
    "version": 3
   },
   "file_extension": ".py",
   "mimetype": "text/x-python",
   "name": "python",
   "nbconvert_exporter": "python",
   "pygments_lexer": "ipython3",
   "version": "3.8.4"
  }
 },
 "nbformat": 4,
 "nbformat_minor": 4
}
