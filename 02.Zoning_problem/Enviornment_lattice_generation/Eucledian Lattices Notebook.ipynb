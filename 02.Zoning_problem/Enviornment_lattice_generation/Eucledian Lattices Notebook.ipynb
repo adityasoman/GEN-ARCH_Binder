{
 "cells": [
  {
   "cell_type": "markdown",
   "metadata": {},
   "source": [
    "# Notebook Contents"
   ]
  },
  {
   "cell_type": "markdown",
   "metadata": {},
   "source": [
    "In this notebook the idea os to generate the necessary enviornment lattices for the multi-agent system which are based on calculation of Eucledian Distances.\n",
    "Hence the lattices which are generated in this notebook include.\n",
    "1. Distance form Facades (NSEW)\n",
    "2. Distance from Roof / FLoor \n",
    "3. Quiteness lattice (Distance from source of sound) \n",
    "\n",
    "The steps followed in the notebook inculde :\n",
    "1. Load all the assets required for simulation\n",
    "2. Load the excel files showing the points of interest (In Quiteness Lattice it is the co-ordinates of the Sound source) \n",
    "3. Calculate the distances using Scipy https://docs.scipy.org/doc/scipy/reference/generated/scipy.spatial.distance.cdist.html\n",
    "4. Vizualise the lattices on the building\n",
    "5. Save the lattices as pickle objects\n"
   ]
  },
  {
   "cell_type": "markdown",
   "metadata": {},
   "source": [
    "# Initilization"
   ]
  },
  {
   "cell_type": "code",
   "execution_count": null,
   "metadata": {},
   "outputs": [],
   "source": [
    "! python -m pip install -e ../../Topogenesis"
   ]
  },
  {
   "source": [
    "# <span style=\"color:red\">Restart the kernel once topogenesis is installed</span>."
   ],
   "cell_type": "markdown",
   "metadata": {}
  },
  {
   "cell_type": "code",
   "execution_count": 1,
   "metadata": {},
   "outputs": [],
   "source": [
    "import os\n",
    "import sys\n",
    "import topogenesis as tg\n",
    "import pickle\n",
    "import pyvista as pv\n",
    "import pandas as pd\n",
    "import trimesh as tm\n",
    "import scipy as sc\n",
    "from scipy.spatial import distance\n",
    "import itertools\n",
    "from itertools import cycle \n",
    "import numpy as np\n",
    "import numpy.ma as ma\n",
    "np.random.seed(0)\n",
    "np.set_printoptions(threshold=sys.maxsize)\n",
    "from ladybug.sunpath import Sunpath"
   ]
  },
  {
   "cell_type": "code",
   "execution_count": 2,
   "metadata": {},
   "outputs": [
    {
     "name": "stderr",
     "output_type": "stream",
     "text": [
      "faces have mixed data, using slow fallback!\n",
      "faces have mixed data, using slow fallback!\n",
      "faces have mixed data, using slow fallback!\n",
      "faces have mixed data, using slow fallback!\n",
      "faces have mixed data, using slow fallback!\n",
      "faces have mixed data, using slow fallback!\n",
      "faces have mixed data, using slow fallback!\n",
      "faces have mixed data, using slow fallback!\n",
      "faces have mixed data, using slow fallback!\n"
     ]
    }
   ],
   "source": [
    "#Design Details\n",
    "Self_development_plots_path = os.path.relpath('Site_self_development_plots.obj')\n",
    "Self_development_backyards_path = os.path.relpath('Site_self_development_backyards.obj')\n",
    "Site_buildings_path = os.path.relpath('Site_buildings.obj')\n",
    "Site_green_areas_path = os.path.relpath('Site_green_areas.obj')\n",
    "Site_roads_path = os.path.relpath('Site_base_roads.obj')\n",
    "Site_context_shading_path= os.path.relpath('Site_surrounding_buildings_for_shading.obj') \n",
    "\n",
    "\n",
    "# Site details\n",
    "Site_base_path = os.path.relpath('Site_base_block.obj')\n",
    "Site_surrounding_buildings_path = os.path.relpath('Site_surrounding_buildings.obj')\n",
    "Site_water_bodies_path = os.path.relpath('Site_water_bodies.obj')\n",
    "Site_roads_path = os.path.relpath('Site_roads.obj')\n",
    "Site_other_buildings_path = os.path.relpath('Site_other_buildings.obj')\n",
    "\n",
    "# load the mesh from file\n",
    "# Design elements\n",
    "Self_development_plots_mesh = tm.load(Self_development_plots_path)\n",
    "Self_development_backyards_mesh = tm.load(Self_development_backyards_path)\n",
    "Site_building_mesh = tm.load(Site_buildings_path)\n",
    "Site_green_areas_mesh = tm.load(Site_green_areas_path)\n",
    "Site_roads_mesh = tm.load(Site_roads_path)\n",
    "Site_context_shading_mesh = tm.load(Site_context_shading_path)\n",
    "\n",
    "#Site elements\n",
    "Site_base_mesh = tm.load(Site_base_path)\n",
    "Site_surrounding_buildings_mesh = tm.load(Site_surrounding_buildings_path)\n",
    "Site_water_bodies_mesh = tm.load(Site_water_bodies_path)\n",
    "Site_roads_mesh = tm.load(Site_roads_path)\n",
    "Site_other_buildings_mesh = tm.load(Site_other_buildings_path)\n",
    "\n",
    "\n",
    "# Check if the mesh is watertight\n",
    "#print(envelope_mesh.is_watertight)\n",
    "#print(context_mesh.is_watertight)"
   ]
  },
  {
   "cell_type": "markdown",
   "metadata": {},
   "source": [
    "# Define Points for Quiteness"
   ]
  },
  {
   "cell_type": "markdown",
   "metadata": {},
   "source": [
    "## import from Rhino "
   ]
  },
  {
   "cell_type": "code",
   "execution_count": 3,
   "metadata": {},
   "outputs": [],
   "source": [
    "# Csv to points \n",
    "Complete_file = pd.read_excel('Quiteness_points.xlsx', sheet_name=0,engine='openpyxl',header = None )\n",
    "design_criterias= list(Complete_file.head(n=0))\n",
    "array_excel = Complete_file.to_numpy()"
   ]
  },
  {
   "cell_type": "code",
   "execution_count": 4,
   "metadata": {},
   "outputs": [],
   "source": [
    "Noise_sources = array_excel.T"
   ]
  },
  {
   "cell_type": "markdown",
   "metadata": {},
   "source": [
    "# Vizualise the meshes and points"
   ]
  },
  {
   "cell_type": "code",
   "execution_count": 6,
   "metadata": {},
   "outputs": [
    {
     "data": {
      "application/vnd.jupyter.widget-view+json": {
       "model_id": "9a29400b247b40958711750a22d86969",
       "version_major": 2,
       "version_minor": 0
      },
      "text/plain": [
       "ViewInteractiveWidget(height=768, layout=Layout(height='auto', width='100%'), width=1024)"
      ]
     },
     "metadata": {},
     "output_type": "display_data"
    },
    {
     "data": {
      "text/plain": [
       "[(1563.6562028391934, 1809.440031574545, 1616.2765183909512),\n",
       " (-142.0987091064453, 103.68511962890625, -89.4783935546875),\n",
       " (0.0, 0.0, 1.0)]"
      ]
     },
     "execution_count": 6,
     "metadata": {},
     "output_type": "execute_result"
    }
   ],
   "source": [
    "# convert mesh to pv_mesh\n",
    "def tri_to_pv(tri_mesh):\n",
    "    faces = np.pad(tri_mesh.faces, ((0, 0),(1,0)), 'constant', constant_values=3)\n",
    "    pv_mesh = pv.PolyData(tri_mesh.vertices, faces)\n",
    "    return pv_mesh\n",
    "\n",
    "# initiating the plotter\n",
    "p = pv.Plotter(notebook=True)\n",
    "\n",
    "# adding the meshes\n",
    "# Design meshes\n",
    "p.add_mesh(tri_to_pv(Self_development_plots_mesh), color='#b8f2e6')\n",
    "p.add_mesh(tri_to_pv(Self_development_backyards_mesh), color='#8ac926')\n",
    "p.add_mesh(tri_to_pv(Site_building_mesh), color='#f4acb7')\n",
    "p.add_mesh(tri_to_pv(Site_green_areas_mesh), color='#8ac926')\n",
    "p.add_mesh(tri_to_pv(Site_roads_mesh), color='#adb5bd',opacity= 0.5)\n",
    "\n",
    "#Site meshes\n",
    "p.add_mesh(tri_to_pv(Site_base_mesh), color='#faedcd')\n",
    "p.add_mesh(tri_to_pv(Site_surrounding_buildings_mesh), color='#cdb4db')\n",
    "p.add_mesh(tri_to_pv(Site_water_bodies_mesh), color='#bde0fe',opacity= 0.5)\n",
    "#p.add_mesh(tri_to_pv(Site_roads_mesh), color='#adb5bd',opacity= 0.5)\n",
    "p.add_mesh(tri_to_pv(Site_other_buildings_mesh), color='#cdb4db')\n",
    "\n",
    "p.add_points( Noise_sources, color='#e63946')\n",
    "\n",
    "# plotting\n",
    "pv.set_jupyter_backend(\"ipyvtklink\")\n",
    "p.show()"
   ]
  },
  {
   "cell_type": "markdown",
   "metadata": {},
   "source": [
    "# Import lattice"
   ]
  },
  {
   "cell_type": "code",
   "execution_count": 7,
   "metadata": {},
   "outputs": [],
   "source": [
    "# loading the lattice from csv\n",
    "lattice_path = os.path.relpath('voxelized_envelope_6m_voxel_size.csv')\n",
    "envelope_lattice = tg.lattice_from_csv(lattice_path)"
   ]
  },
  {
   "cell_type": "markdown",
   "metadata": {},
   "source": [
    "# Visualize the Context Mesh + Envelope Lattice"
   ]
  },
  {
   "cell_type": "code",
   "execution_count": 8,
   "metadata": {},
   "outputs": [
    {
     "data": {
      "application/vnd.jupyter.widget-view+json": {
       "model_id": "433e778552c64035860a8dfb069677b4",
       "version_major": 2,
       "version_minor": 0
      },
      "text/plain": [
       "ViewInteractiveWidget(height=768, layout=Layout(height='auto', width='100%'), width=1024)"
      ]
     },
     "metadata": {},
     "output_type": "display_data"
    },
    {
     "data": {
      "text/plain": [
       "[(1564.3134508410321, 1810.0972795763837, 1618.43376639279),\n",
       " (-142.0987091064453, 103.68511962890625, -87.9783935546875),\n",
       " (0.0, 0.0, 1.0)]"
      ]
     },
     "execution_count": 8,
     "metadata": {},
     "output_type": "execute_result"
    }
   ],
   "source": [
    "# convert mesh to pv_mesh\n",
    "def tri_to_pv(tri_mesh):\n",
    "    faces = np.pad(tri_mesh.faces, ((0, 0),(1,0)), 'constant', constant_values=3)\n",
    "    pv_mesh = pv.PolyData(tri_mesh.vertices, faces)\n",
    "    return pv_mesh\n",
    "\n",
    "# initiating the plotter\n",
    "p = pv.Plotter(notebook=True)\n",
    "\n",
    "# fast visualization of the lattice\n",
    "envelope_lattice.fast_vis(p)\n",
    "\n",
    "# adding the meshes\n",
    "\n",
    "# Design meshes\n",
    "p.add_mesh(tri_to_pv(Self_development_plots_mesh), color='#b8f2e6')\n",
    "p.add_mesh(tri_to_pv(Self_development_backyards_mesh), color='#8ac926')\n",
    "p.add_mesh(tri_to_pv(Site_building_mesh), color='#ff9b54',opacity = 0.3)\n",
    "p.add_mesh(tri_to_pv(Site_green_areas_mesh), color='#8ac926')\n",
    "p.add_mesh(tri_to_pv(Site_roads_mesh), color='#adb5bd')\n",
    "\n",
    "#Site meshes\n",
    "p.add_mesh(tri_to_pv(Site_base_mesh), color='#faedcd')\n",
    "p.add_mesh(tri_to_pv(Site_surrounding_buildings_mesh), color='#cdb4db')\n",
    "p.add_mesh(tri_to_pv(Site_water_bodies_mesh), color='#bde0fe',opacity= 0.5)\n",
    "p.add_mesh(tri_to_pv(Site_roads_mesh), color='#adb5bd')\n",
    "p.add_mesh(tri_to_pv(Site_other_buildings_mesh), color='#cdb4db')\n",
    "# plotting\n",
    "pv.set_jupyter_backend(\"ipyvtklink\")\n",
    "p.show()"
   ]
  },
  {
   "cell_type": "markdown",
   "metadata": {},
   "source": [
    "# Find the voxel Eucledian coordinates"
   ]
  },
  {
   "cell_type": "code",
   "execution_count": 9,
   "metadata": {},
   "outputs": [],
   "source": [
    "# convert to lattice\n",
    "init_lattice = envelope_lattice +1\n",
    "availability_lattice_voxels = tg.to_lattice(init_lattice, init_lattice)\n",
    "voxel_coordinates= availability_lattice_voxels.centroids\n"
   ]
  },
  {
   "cell_type": "code",
   "execution_count": 10,
   "metadata": {},
   "outputs": [],
   "source": [
    "flattened_lattice = envelope_lattice.flatten()"
   ]
  },
  {
   "cell_type": "markdown",
   "metadata": {},
   "source": [
    "# Find distances for Quiteness "
   ]
  },
  {
   "cell_type": "markdown",
   "metadata": {},
   "source": [
    "The distance from each source of sound is calculated and the minimum distance from them is choosen"
   ]
  },
  {
   "cell_type": "code",
   "execution_count": 11,
   "metadata": {},
   "outputs": [],
   "source": [
    "Eucledian_distance = sc.spatial.distance.cdist(Noise_sources,voxel_coordinates)"
   ]
  },
  {
   "cell_type": "code",
   "execution_count": 12,
   "metadata": {},
   "outputs": [],
   "source": [
    "noise_from_each_source = Eucledian_distance.T"
   ]
  },
  {
   "cell_type": "code",
   "execution_count": 13,
   "metadata": {},
   "outputs": [],
   "source": [
    "Average_quiteness_indexing= np.argmin(noise_from_each_source, axis=1)"
   ]
  },
  {
   "cell_type": "code",
   "execution_count": 14,
   "metadata": {},
   "outputs": [],
   "source": [
    "Average_quiteness_values = []\n",
    "for branch,index in zip(noise_from_each_source,Average_quiteness_indexing):\n",
    "    Average_quiteness_values.append(branch[index])\n",
    "    "
   ]
  },
  {
   "cell_type": "code",
   "execution_count": 15,
   "metadata": {},
   "outputs": [],
   "source": [
    "Quiteeness_lattice_padded= np.array([num if boolean else 0 for boolean, num in zip(flattened_lattice, cycle(Average_quiteness_values))])"
   ]
  },
  {
   "cell_type": "code",
   "execution_count": 16,
   "metadata": {},
   "outputs": [],
   "source": [
    "padded_array = np.array(Quiteeness_lattice_padded)"
   ]
  },
  {
   "cell_type": "code",
   "execution_count": 17,
   "metadata": {},
   "outputs": [],
   "source": [
    "Quiteness_lattice_np = Quiteeness_lattice_padded.reshape(envelope_lattice.shape)"
   ]
  },
  {
   "cell_type": "code",
   "execution_count": 18,
   "metadata": {},
   "outputs": [],
   "source": [
    "Quiteness_lattice =tg.to_lattice(Quiteness_lattice_np, Quiteness_lattice_np.shape)"
   ]
  },
  {
   "cell_type": "code",
   "execution_count": 19,
   "metadata": {},
   "outputs": [],
   "source": [
    "Y_coordinates= voxel_coordinates.T[1].flatten()"
   ]
  },
  {
   "cell_type": "code",
   "execution_count": 20,
   "metadata": {},
   "outputs": [],
   "source": [
    "X_coordinates= voxel_coordinates.T[0].flatten()"
   ]
  },
  {
   "cell_type": "code",
   "execution_count": 21,
   "metadata": {},
   "outputs": [],
   "source": [
    "Building_classification_north_south_facades =[]\n",
    "\n",
    "for center in Y_coordinates:\n",
    "    if center >= 18 and center <= 30:\n",
    "        Building_classification_north_south_facades.append(center-17)\n",
    "        #print(\"1st\")\n",
    "    elif center >= 40 and center <= 82:\n",
    "        Building_classification_north_south_facades.append(center-41)\n",
    "       # print(\"2nd\")\n",
    "    elif center >= 82:\n",
    "        Building_classification_north_south_facades.append(center-83)\n",
    "        #print(\"3rd\")\n",
    "    else:\n",
    "        Building_classification_north_south_facades.append(center)\n",
    "    "
   ]
  },
  {
   "cell_type": "code",
   "execution_count": 22,
   "metadata": {},
   "outputs": [],
   "source": [
    "Building_classification_east_west_facades =[]\n",
    "\n",
    "for center,value in zip(Y_coordinates,X_coordinates):\n",
    "    if center <= 90:\n",
    "        Building_classification_east_west_facades.append(10-value)\n",
    "        #print(\"1st\")\n",
    "    elif center >= 91:\n",
    "        Building_classification_east_west_facades.append(130-value)\n",
    "        #print(\"2nd\")"
   ]
  },
  {
   "cell_type": "markdown",
   "metadata": {},
   "source": [
    "# Facade Distances to North Facade"
   ]
  },
  {
   "cell_type": "code",
   "execution_count": 23,
   "metadata": {},
   "outputs": [],
   "source": [
    "Distance_inverse_y_axis_north = [i for i in reversed(Building_classification_north_south_facades)]"
   ]
  },
  {
   "cell_type": "code",
   "execution_count": 24,
   "metadata": {},
   "outputs": [],
   "source": [
    "Distance_north_facade_full_lattice= np.tile(Distance_inverse_y_axis_north,352)"
   ]
  },
  {
   "cell_type": "code",
   "execution_count": 25,
   "metadata": {},
   "outputs": [],
   "source": [
    "North_facade_lattice_padded= np.array([num if boolean else 0 for boolean, num in zip(flattened_lattice, cycle(Distance_inverse_y_axis_north))])"
   ]
  },
  {
   "cell_type": "code",
   "execution_count": 26,
   "metadata": {},
   "outputs": [],
   "source": [
    "North_facade_array = np.array(North_facade_lattice_padded)"
   ]
  },
  {
   "cell_type": "code",
   "execution_count": 27,
   "metadata": {},
   "outputs": [],
   "source": [
    "north_facade_lattice_np = North_facade_array.reshape(envelope_lattice.shape)"
   ]
  },
  {
   "cell_type": "code",
   "execution_count": 28,
   "metadata": {},
   "outputs": [],
   "source": [
    "North_facade_lattice =tg.to_lattice(north_facade_lattice_np, north_facade_lattice_np.shape)"
   ]
  },
  {
   "cell_type": "markdown",
   "metadata": {},
   "source": [
    "# Facade Distances to South Facade"
   ]
  },
  {
   "cell_type": "code",
   "execution_count": 29,
   "metadata": {},
   "outputs": [],
   "source": [
    "South_facade_lattice_padded= np.array([num if boolean else 0 for boolean, num in zip(flattened_lattice, cycle(Building_classification_north_south_facades))])"
   ]
  },
  {
   "cell_type": "code",
   "execution_count": 30,
   "metadata": {},
   "outputs": [],
   "source": [
    "Souh_facade_array = np.array(South_facade_lattice_padded)"
   ]
  },
  {
   "cell_type": "code",
   "execution_count": 31,
   "metadata": {},
   "outputs": [],
   "source": [
    "South_facade_lattice_np = Souh_facade_array.reshape(envelope_lattice.shape)"
   ]
  },
  {
   "cell_type": "code",
   "execution_count": 32,
   "metadata": {},
   "outputs": [],
   "source": [
    "South_facade_lattice =tg.to_lattice(South_facade_lattice_np, South_facade_lattice_np.shape)"
   ]
  },
  {
   "cell_type": "markdown",
   "metadata": {},
   "source": [
    "# Facade Distances to West Facade"
   ]
  },
  {
   "cell_type": "code",
   "execution_count": 33,
   "metadata": {},
   "outputs": [],
   "source": [
    "West_facade_lattice_padded= np.array([num if boolean else 0 for boolean, num in zip(flattened_lattice, cycle(Building_classification_east_west_facades))])"
   ]
  },
  {
   "cell_type": "code",
   "execution_count": 34,
   "metadata": {},
   "outputs": [],
   "source": [
    "West_facade_array = np.array(West_facade_lattice_padded)"
   ]
  },
  {
   "cell_type": "code",
   "execution_count": 35,
   "metadata": {},
   "outputs": [],
   "source": [
    "West_facade_lattice_np = West_facade_array.reshape(envelope_lattice.shape)"
   ]
  },
  {
   "cell_type": "code",
   "execution_count": 36,
   "metadata": {},
   "outputs": [],
   "source": [
    "West_facade_lattice =tg.to_lattice(West_facade_lattice_np, West_facade_lattice_np.shape)"
   ]
  },
  {
   "cell_type": "markdown",
   "metadata": {},
   "source": [
    "# Facade Distances to East Facade"
   ]
  },
  {
   "cell_type": "code",
   "execution_count": 37,
   "metadata": {},
   "outputs": [],
   "source": [
    "Distance_inverse_y_axis_west = [i for i in reversed(Building_classification_east_west_facades)]"
   ]
  },
  {
   "cell_type": "code",
   "execution_count": 38,
   "metadata": {},
   "outputs": [],
   "source": [
    "West_facade_lattice_padded= np.array([num if boolean else 0 for boolean, num in zip(flattened_lattice, cycle(Distance_inverse_y_axis_west))])"
   ]
  },
  {
   "cell_type": "code",
   "execution_count": 39,
   "metadata": {},
   "outputs": [],
   "source": [
    "East_facade_array = np.array(West_facade_lattice_padded)"
   ]
  },
  {
   "cell_type": "code",
   "execution_count": 40,
   "metadata": {},
   "outputs": [],
   "source": [
    "East_facade_lattice_np = East_facade_array.reshape(envelope_lattice.shape)"
   ]
  },
  {
   "cell_type": "code",
   "execution_count": 41,
   "metadata": {},
   "outputs": [],
   "source": [
    "East_facade_lattice =tg.to_lattice(East_facade_lattice_np, East_facade_lattice_np.shape)"
   ]
  },
  {
   "cell_type": "markdown",
   "metadata": {},
   "source": [
    "# Find distances from Ground calculations"
   ]
  },
  {
   "cell_type": "code",
   "execution_count": 42,
   "metadata": {},
   "outputs": [],
   "source": [
    "all_heights= (np.arange(0,61,6))"
   ]
  },
  {
   "cell_type": "code",
   "execution_count": 43,
   "metadata": {},
   "outputs": [],
   "source": [
    "Distance_from_ground_complete_lattice = np.tile(all_heights, int(envelope_lattice.size/11))"
   ]
  },
  {
   "cell_type": "code",
   "execution_count": 44,
   "metadata": {},
   "outputs": [],
   "source": [
    "Distance_from_ground_lattice_padded= np.array([num if boolean else 0 for boolean, num in zip(flattened_lattice, cycle(Distance_from_ground_complete_lattice))])"
   ]
  },
  {
   "cell_type": "code",
   "execution_count": 45,
   "metadata": {},
   "outputs": [],
   "source": [
    "padded_ground_distance_array = np.array(Distance_from_ground_lattice_padded)"
   ]
  },
  {
   "cell_type": "code",
   "execution_count": 46,
   "metadata": {},
   "outputs": [],
   "source": [
    "padded_ground_distance_array_np = padded_ground_distance_array.reshape(envelope_lattice.shape)"
   ]
  },
  {
   "cell_type": "code",
   "execution_count": 47,
   "metadata": {},
   "outputs": [],
   "source": [
    "Distance_from_ground = tg.to_lattice(padded_ground_distance_array_np, padded_ground_distance_array_np.shape)"
   ]
  },
  {
   "cell_type": "markdown",
   "metadata": {},
   "source": [
    "# Find distances from Roof calculations"
   ]
  },
  {
   "cell_type": "code",
   "execution_count": 48,
   "metadata": {},
   "outputs": [],
   "source": [
    "all_heights_reversed= [i for i in reversed(all_heights)]"
   ]
  },
  {
   "cell_type": "code",
   "execution_count": 49,
   "metadata": {},
   "outputs": [],
   "source": [
    "Distance_from_roof_complete_lattice = np.tile(all_heights_reversed, int(envelope_lattice.size/11))"
   ]
  },
  {
   "cell_type": "code",
   "execution_count": 50,
   "metadata": {},
   "outputs": [],
   "source": [
    "Distance_from_roof_lattice_padded= np.array([num if boolean else 0 for boolean, num in zip(flattened_lattice, cycle(Distance_from_roof_complete_lattice))])"
   ]
  },
  {
   "cell_type": "code",
   "execution_count": 51,
   "metadata": {},
   "outputs": [],
   "source": [
    "padded_roof_distance_array = np.array(Distance_from_roof_lattice_padded)"
   ]
  },
  {
   "cell_type": "code",
   "execution_count": 52,
   "metadata": {},
   "outputs": [],
   "source": [
    "padded_roof_distance_array_np =  padded_roof_distance_array.reshape(envelope_lattice.shape)"
   ]
  },
  {
   "cell_type": "code",
   "execution_count": 53,
   "metadata": {},
   "outputs": [],
   "source": [
    "Distance_from_roof = tg.to_lattice(padded_roof_distance_array_np, padded_roof_distance_array_np.shape)"
   ]
  },
  {
   "cell_type": "markdown",
   "metadata": {},
   "source": [
    "# Visualize the Quiteness Lattice"
   ]
  },
  {
   "cell_type": "code",
   "execution_count": 54,
   "metadata": {},
   "outputs": [
    {
     "data": {
      "application/vnd.jupyter.widget-view+json": {
       "model_id": "fa5b7181b5ed4bd180d4f590127c7727",
       "version_major": 2,
       "version_minor": 0
      },
      "text/plain": [
       "ViewInteractiveWidget(height=768, layout=Layout(height='auto', width='100%'), width=1024)"
      ]
     },
     "metadata": {},
     "output_type": "display_data"
    },
    {
     "data": {
      "text/plain": [
       "[(281.2198164557486, 195.20681864151288, 263.2631846148646),\n",
       " (-125.74100344423854, 28.782304005903896, -35.52262026413212),\n",
       " (-0.4754479563154928, -0.3132719300921078, 0.8220766014501244)]"
      ]
     },
     "execution_count": 54,
     "metadata": {},
     "output_type": "execute_result"
    }
   ],
   "source": [
    "###### initiating the plotter\n",
    "p = pv.Plotter(notebook=True)\n",
    "# Create the spatial reference\n",
    "grid = pv.UniformGrid()\n",
    "\n",
    "# Set the grid envelope_lattice: shape because we want to inject our values\n",
    "grid.dimensions = envelope_lattice.shape\n",
    "# The bottom left corner of the data set\n",
    "grid.origin = envelope_lattice.minbound\n",
    "# These are the cell sizes along each axis\n",
    "grid.spacing = envelope_lattice.unit\n",
    "\n",
    "# Add the data values to the cell data\n",
    "grid.point_arrays[\"Quiteness\"] = Quiteness_lattice.flatten(order=\"F\")  # Flatten the Lattice\n",
    "\n",
    "# fast visualization of the lattice\n",
    "envelope_lattice.fast_vis(p)\n",
    "\n",
    "# adding the meshes\n",
    "#p.add_mesh(tri_to_pv(Self_development_plots_mesh), color='#b8f2e6')\n",
    "p.add_mesh(tri_to_pv(Self_development_backyards_mesh), color='#8ac926')\n",
    "p.add_mesh(tri_to_pv(Site_building_mesh), color='#ff9b54',opacity = 0.3)\n",
    "p.add_mesh(tri_to_pv(Site_green_areas_mesh), color='#8ac926')\n",
    "p.add_mesh(tri_to_pv(Site_roads_mesh), color='#adb5bd')\n",
    "\n",
    "#Site meshes\n",
    "p.add_mesh(tri_to_pv(Site_base_mesh), color='#faedcd')\n",
    "p.add_mesh(tri_to_pv(Site_other_buildings_mesh), color='#cdb4db')\n",
    "p.add_mesh(tri_to_pv(Site_water_bodies_mesh), color='#bde0fe',opacity= 0.5)\n",
    "p.add_mesh(tri_to_pv(Site_roads_mesh), color='#adb5bd')\n",
    "p.add_mesh(tri_to_pv(Site_context_shading_mesh), color='#cdb4db')\n",
    "    \n",
    "# adding the volume\n",
    "\n",
    "opacity = [0, 0.75, 0, 0.75, 1.0] \n",
    "clim = [0, 100]\n",
    "p.add_volume(grid, cmap=\"magma\", clim=clim,\n",
    "             opacity=opacity, opacity_unit_distance=5,)\n",
    "p.add_points( Noise_sources, color='#e63946')\n",
    "# plotting\n",
    "#p.camera_position = [(87, 269, 373), (-300, 70, -0), (0, 0, 1)]\n",
    "#p.image_depth\n",
    "p.camera_position = [(281.2198164557486, 195.20681864151288, 263.2631846148646),\n",
    " (-125.74100344423854, 28.782304005903896, -35.52262026413212),\n",
    " (-0.4754479563154929, -0.31327193009210785, 0.8220766014501246)]\n",
    "pv.set_jupyter_backend(\"ipyvtklink\")\n",
    "p.show()"
   ]
  },
  {
   "cell_type": "markdown",
   "metadata": {},
   "source": [
    "# Visualize the N Facade Lattice"
   ]
  },
  {
   "cell_type": "code",
   "execution_count": 55,
   "metadata": {},
   "outputs": [
    {
     "data": {
      "application/vnd.jupyter.widget-view+json": {
       "model_id": "f63f625df2394b06a0c5edd1a864f472",
       "version_major": 2,
       "version_minor": 0
      },
      "text/plain": [
       "ViewInteractiveWidget(height=768, layout=Layout(height='auto', width='100%'), width=1024)"
      ]
     },
     "metadata": {},
     "output_type": "display_data"
    },
    {
     "data": {
      "text/plain": [
       "[(281.2198164557486, 195.20681864151288, 263.2631846148646),\n",
       " (-125.74100344423854, 28.782304005903896, -35.52262026413212),\n",
       " (-0.4754479563154928, -0.3132719300921078, 0.8220766014501244)]"
      ]
     },
     "execution_count": 55,
     "metadata": {},
     "output_type": "execute_result"
    }
   ],
   "source": [
    "# initiating the plotter\n",
    "p = pv.Plotter(notebook=True)\n",
    "\n",
    "# Create the spatial reference\n",
    "grid = pv.UniformGrid()\n",
    "\n",
    "# Set the grid envelope_lattice: shape because we want to inject our values\n",
    "grid.dimensions = envelope_lattice.shape\n",
    "# The bottom left corner of the data set\n",
    "grid.origin = envelope_lattice.minbound\n",
    "# These are the cell sizes along each axis\n",
    "grid.spacing = envelope_lattice.unit\n",
    "\n",
    "# Add the data values to the cell data\n",
    "grid.point_arrays[\"Distance from North Facade\"] = North_facade_lattice.flatten(order=\"F\")  # Flatten the Lattice\n",
    "\n",
    "# fast visualization of the lattice\n",
    "envelope_lattice.fast_vis(p)\n",
    "\n",
    "# adding the meshes\n",
    "#p.add_mesh(tri_to_pv(Self_development_plots_mesh), color='#b8f2e6')\n",
    "p.add_mesh(tri_to_pv(Self_development_backyards_mesh), color='#8ac926')\n",
    "p.add_mesh(tri_to_pv(Site_building_mesh), color='#ff9b54',opacity = 0.3)\n",
    "p.add_mesh(tri_to_pv(Site_green_areas_mesh), color='#8ac926')\n",
    "p.add_mesh(tri_to_pv(Site_roads_mesh), color='#adb5bd')\n",
    "\n",
    "#Site meshes\n",
    "p.add_mesh(tri_to_pv(Site_base_mesh), color='#faedcd')\n",
    "p.add_mesh(tri_to_pv(Site_other_buildings_mesh), color='#cdb4db')\n",
    "p.add_mesh(tri_to_pv(Site_water_bodies_mesh), color='#bde0fe',opacity= 0.5)\n",
    "p.add_mesh(tri_to_pv(Site_roads_mesh), color='#adb5bd')\n",
    "p.add_mesh(tri_to_pv(Site_context_shading_mesh), color='#cdb4db')\n",
    "    \n",
    "# adding the volume\n",
    "\n",
    "opacity = [0, 0.75, 0.7, 0.75, 0.8]\n",
    "clim = [0, 100]\n",
    "p.add_volume(grid, cmap=\"viridis\", opacity=opacity, shade=False)\n",
    "# plotting\n",
    "p.camera_position = [(281.2198164557486, 195.20681864151288, 263.2631846148646),\n",
    " (-125.74100344423854, 28.782304005903896, -35.52262026413212),\n",
    " (-0.4754479563154929, -0.31327193009210785, 0.8220766014501246)]\n",
    "pv.set_jupyter_backend(\"ipyvtklink\")\n",
    "p.show()"
   ]
  },
  {
   "cell_type": "markdown",
   "metadata": {},
   "source": [
    "# Visualize the S Facade Lattice"
   ]
  },
  {
   "cell_type": "code",
   "execution_count": 56,
   "metadata": {},
   "outputs": [
    {
     "data": {
      "application/vnd.jupyter.widget-view+json": {
       "model_id": "6fed4c050731414fb3bd171f66b32c34",
       "version_major": 2,
       "version_minor": 0
      },
      "text/plain": [
       "ViewInteractiveWidget(height=768, layout=Layout(height='auto', width='100%'), width=1024)"
      ]
     },
     "metadata": {},
     "output_type": "display_data"
    },
    {
     "data": {
      "text/plain": [
       "[(281.2198164557486, 195.20681864151288, 263.2631846148646),\n",
       " (-125.74100344423854, 28.782304005903896, -35.52262026413212),\n",
       " (-0.4754479563154928, -0.3132719300921078, 0.8220766014501244)]"
      ]
     },
     "execution_count": 56,
     "metadata": {},
     "output_type": "execute_result"
    }
   ],
   "source": [
    "# initiating the plotter\n",
    "p = pv.Plotter(notebook=True)\n",
    "\n",
    "# Create the spatial reference\n",
    "grid = pv.UniformGrid()\n",
    "\n",
    "# Set the grid envelope_lattice: shape because we want to inject our values\n",
    "grid.dimensions = envelope_lattice.shape\n",
    "# The bottom left corner of the data set\n",
    "grid.origin = envelope_lattice.minbound\n",
    "# These are the cell sizes along each axis\n",
    "grid.spacing = envelope_lattice.unit\n",
    "\n",
    "# Add the data values to the cell data\n",
    "grid.point_arrays[\"Distance from South Facade\"] = South_facade_lattice.flatten(order=\"F\")  # Flatten the Lattice\n",
    "\n",
    "# fast visualization of the lattice\n",
    "envelope_lattice.fast_vis(p)\n",
    "\n",
    "# adding the meshes\n",
    "#p.add_mesh(tri_to_pv(Self_development_plots_mesh), color='#b8f2e6')\n",
    "p.add_mesh(tri_to_pv(Self_development_backyards_mesh), color='#8ac926')\n",
    "p.add_mesh(tri_to_pv(Site_building_mesh), color='#ff9b54',opacity = 0.3)\n",
    "p.add_mesh(tri_to_pv(Site_green_areas_mesh), color='#8ac926')\n",
    "p.add_mesh(tri_to_pv(Site_roads_mesh), color='#adb5bd')\n",
    "\n",
    "#Site meshes\n",
    "p.add_mesh(tri_to_pv(Site_base_mesh), color='#faedcd')\n",
    "p.add_mesh(tri_to_pv(Site_other_buildings_mesh), color='#cdb4db')\n",
    "p.add_mesh(tri_to_pv(Site_water_bodies_mesh), color='#bde0fe',opacity= 0.5)\n",
    "p.add_mesh(tri_to_pv(Site_roads_mesh), color='#adb5bd')\n",
    "p.add_mesh(tri_to_pv(Site_context_shading_mesh), color='#cdb4db')\n",
    "    \n",
    "# adding the volume\n",
    "\n",
    "opacity = [0, 0.75, 0.7, 0.75, 0.8]\n",
    "clim = [0, 100]\n",
    "p.add_volume(grid, cmap=\"viridis\", opacity=opacity, shade=False)\n",
    "# plotting\n",
    "p.camera_position = [(281.2198164557486, 195.20681864151288, 263.2631846148646),\n",
    " (-125.74100344423854, 28.782304005903896, -35.52262026413212),\n",
    " (-0.4754479563154929, -0.31327193009210785, 0.8220766014501246)]\n",
    "pv.set_jupyter_backend(\"ipyvtklink\")\n",
    "p.show()"
   ]
  },
  {
   "cell_type": "markdown",
   "metadata": {},
   "source": [
    "# Visualize the E Facade Lattice"
   ]
  },
  {
   "cell_type": "code",
   "execution_count": 57,
   "metadata": {},
   "outputs": [
    {
     "data": {
      "application/vnd.jupyter.widget-view+json": {
       "model_id": "b8737bcd1f874b5e8b7d0442bb0560bd",
       "version_major": 2,
       "version_minor": 0
      },
      "text/plain": [
       "ViewInteractiveWidget(height=768, layout=Layout(height='auto', width='100%'), width=1024)"
      ]
     },
     "metadata": {},
     "output_type": "display_data"
    },
    {
     "data": {
      "text/plain": [
       "[(281.2198164557486, 195.20681864151288, 263.2631846148646),\n",
       " (-125.74100344423854, 28.782304005903896, -35.52262026413212),\n",
       " (-0.4754479563154928, -0.3132719300921078, 0.8220766014501244)]"
      ]
     },
     "execution_count": 57,
     "metadata": {},
     "output_type": "execute_result"
    }
   ],
   "source": [
    "# initiating the plotter\n",
    "p = pv.Plotter(notebook=True)\n",
    "\n",
    "# Create the spatial reference\n",
    "grid = pv.UniformGrid()\n",
    "\n",
    "# Set the grid envelope_lattice: shape because we want to inject our values\n",
    "grid.dimensions = envelope_lattice.shape\n",
    "# The bottom left corner of the data set\n",
    "grid.origin = envelope_lattice.minbound\n",
    "# These are the cell sizes along each axis\n",
    "grid.spacing = envelope_lattice.unit\n",
    "\n",
    "# Add the data values to the cell data\n",
    "grid.point_arrays[\"Distance from East Facade\"] = East_facade_lattice.flatten(order=\"F\")  # Flatten the Lattice\n",
    "\n",
    "# fast visualization of the lattice\n",
    "envelope_lattice.fast_vis(p)\n",
    "\n",
    "# adding the meshes\n",
    "#p.add_mesh(tri_to_pv(Self_development_plots_mesh), color='#b8f2e6')\n",
    "p.add_mesh(tri_to_pv(Self_development_backyards_mesh), color='#8ac926')\n",
    "p.add_mesh(tri_to_pv(Site_building_mesh), color='#ff9b54',opacity = 0.3)\n",
    "p.add_mesh(tri_to_pv(Site_green_areas_mesh), color='#8ac926')\n",
    "p.add_mesh(tri_to_pv(Site_roads_mesh), color='#adb5bd')\n",
    "\n",
    "#Site meshes\n",
    "p.add_mesh(tri_to_pv(Site_base_mesh), color='#faedcd')\n",
    "p.add_mesh(tri_to_pv(Site_other_buildings_mesh), color='#cdb4db')\n",
    "p.add_mesh(tri_to_pv(Site_water_bodies_mesh), color='#bde0fe',opacity= 0.5)\n",
    "p.add_mesh(tri_to_pv(Site_roads_mesh), color='#adb5bd')\n",
    "p.add_mesh(tri_to_pv(Site_context_shading_mesh), color='#cdb4db')\n",
    "    \n",
    "# adding the volume\n",
    "opacity = np.array([0,0.6,0.6,0.6,0.6,0.6,0.6])*1.5\n",
    "opacity = [0, 0.75, 0, 0.75, 1.0]\n",
    "clim = [0, 100]\n",
    "p.add_volume(grid, cmap=\"viridis\", opacity=opacity, shade=False)\n",
    "p.camera_position = [(281.2198164557486, 195.20681864151288, 263.2631846148646),\n",
    " (-125.74100344423854, 28.782304005903896, -35.52262026413212),\n",
    " (-0.4754479563154929, -0.31327193009210785, 0.8220766014501246)]\n",
    "# plotting\n",
    "pv.set_jupyter_backend(\"ipyvtklink\")\n",
    "p.show()"
   ]
  },
  {
   "cell_type": "markdown",
   "metadata": {},
   "source": [
    "# Visualize the W Facade Lattice"
   ]
  },
  {
   "cell_type": "code",
   "execution_count": 58,
   "metadata": {},
   "outputs": [
    {
     "data": {
      "application/vnd.jupyter.widget-view+json": {
       "model_id": "157d45c9292f47b6b7c347e2d188d7c7",
       "version_major": 2,
       "version_minor": 0
      },
      "text/plain": [
       "ViewInteractiveWidget(height=768, layout=Layout(height='auto', width='100%'), width=1024)"
      ]
     },
     "metadata": {},
     "output_type": "display_data"
    },
    {
     "data": {
      "text/plain": [
       "[(281.2198164557486, 195.20681864151288, 263.2631846148646),\n",
       " (-125.74100344423854, 28.782304005903896, -35.52262026413212),\n",
       " (-0.4754479563154928, -0.3132719300921078, 0.8220766014501244)]"
      ]
     },
     "execution_count": 58,
     "metadata": {},
     "output_type": "execute_result"
    }
   ],
   "source": [
    "# initiating the plotter\n",
    "p = pv.Plotter(notebook=True)\n",
    "\n",
    "# Create the spatial reference\n",
    "grid = pv.UniformGrid()\n",
    "\n",
    "# Set the grid envelope_lattice: shape because we want to inject our values\n",
    "grid.dimensions = envelope_lattice.shape\n",
    "# The bottom left corner of the data set\n",
    "grid.origin = envelope_lattice.minbound\n",
    "# These are the cell sizes along each axis\n",
    "grid.spacing = envelope_lattice.unit\n",
    "\n",
    "# Add the data values to the cell data\n",
    "grid.point_arrays[\"Distance from West Facade\"] = West_facade_lattice.flatten(order=\"F\")  # Flatten the Lattice\n",
    "\n",
    "# fast visualization of the lattice\n",
    "envelope_lattice.fast_vis(p)\n",
    "\n",
    "# adding the meshes\n",
    "#p.add_mesh(tri_to_pv(Self_development_plots_mesh), color='#b8f2e6')\n",
    "p.add_mesh(tri_to_pv(Self_development_backyards_mesh), color='#8ac926')\n",
    "p.add_mesh(tri_to_pv(Site_building_mesh), color='#ff9b54',opacity = 0.3)\n",
    "p.add_mesh(tri_to_pv(Site_green_areas_mesh), color='#8ac926')\n",
    "p.add_mesh(tri_to_pv(Site_roads_mesh), color='#adb5bd')\n",
    "\n",
    "#Site meshes\n",
    "p.add_mesh(tri_to_pv(Site_base_mesh), color='#faedcd')\n",
    "p.add_mesh(tri_to_pv(Site_other_buildings_mesh), color='#cdb4db')\n",
    "p.add_mesh(tri_to_pv(Site_water_bodies_mesh), color='#bde0fe',opacity= 0.5)\n",
    "p.add_mesh(tri_to_pv(Site_roads_mesh), color='#adb5bd')\n",
    "p.add_mesh(tri_to_pv(Site_context_shading_mesh), color='#cdb4db')\n",
    "    \n",
    "# adding the volume\n",
    "opacity = np.array([0,0.6,0.6,0.6,0.6,0.6,0.6])*1.5\n",
    "opacity = [0, 0.75, 0, 0.75, 1.0]\n",
    "clim = [0, 100]\n",
    "p.add_volume(grid, cmap=\"viridis\", opacity=opacity, shade=False)\n",
    "# plotting\n",
    "p.camera_position = [(281.2198164557486, 195.20681864151288, 263.2631846148646),\n",
    " (-125.74100344423854, 28.782304005903896, -35.52262026413212),\n",
    " (-0.4754479563154929, -0.31327193009210785, 0.8220766014501246)]\n",
    "pv.set_jupyter_backend(\"ipyvtklink\")\n",
    "p.show()"
   ]
  },
  {
   "cell_type": "markdown",
   "metadata": {},
   "source": [
    "# Visualize the Terrace Lattice"
   ]
  },
  {
   "cell_type": "code",
   "execution_count": 59,
   "metadata": {},
   "outputs": [
    {
     "data": {
      "application/vnd.jupyter.widget-view+json": {
       "model_id": "df69baf220f8402c8b57dd6990b32784",
       "version_major": 2,
       "version_minor": 0
      },
      "text/plain": [
       "ViewInteractiveWidget(height=768, layout=Layout(height='auto', width='100%'), width=1024)"
      ]
     },
     "metadata": {},
     "output_type": "display_data"
    },
    {
     "data": {
      "text/plain": [
       "[(281.2198164557486, 195.20681864151288, 263.2631846148646),\n",
       " (-125.74100344423854, 28.782304005903896, -35.52262026413212),\n",
       " (-0.4754479563154928, -0.3132719300921078, 0.8220766014501244)]"
      ]
     },
     "execution_count": 59,
     "metadata": {},
     "output_type": "execute_result"
    }
   ],
   "source": [
    "# initiating the plotter\n",
    "p = pv.Plotter(notebook=True)\n",
    "\n",
    "# Create the spatial reference\n",
    "grid = pv.UniformGrid()\n",
    "\n",
    "# Set the grid envelope_lattice: shape because we want to inject our values\n",
    "grid.dimensions = envelope_lattice.shape\n",
    "# The bottom left corner of the data set\n",
    "grid.origin = envelope_lattice.minbound\n",
    "# These are the cell sizes along each axis\n",
    "grid.spacing = envelope_lattice.unit\n",
    "\n",
    "# Add the data values to the cell data\n",
    "grid.point_arrays[\"Distance from Roof\"] = Distance_from_roof.flatten(order=\"F\")  # Flatten the Lattice\n",
    "\n",
    "# fast visualization of the lattice\n",
    "envelope_lattice.fast_vis(p)\n",
    "\n",
    "# adding the meshes\n",
    "#p.add_mesh(tri_to_pv(Self_development_plots_mesh), color='#b8f2e6')\n",
    "p.add_mesh(tri_to_pv(Self_development_backyards_mesh), color='#8ac926')\n",
    "p.add_mesh(tri_to_pv(Site_building_mesh), color='#ff9b54',opacity = 0.3)\n",
    "p.add_mesh(tri_to_pv(Site_green_areas_mesh), color='#8ac926')\n",
    "p.add_mesh(tri_to_pv(Site_roads_mesh), color='#adb5bd')\n",
    "\n",
    "#Site meshes\n",
    "p.add_mesh(tri_to_pv(Site_base_mesh), color='#faedcd')\n",
    "p.add_mesh(tri_to_pv(Site_other_buildings_mesh), color='#cdb4db')\n",
    "p.add_mesh(tri_to_pv(Site_water_bodies_mesh), color='#bde0fe',opacity= 0.5)\n",
    "p.add_mesh(tri_to_pv(Site_roads_mesh), color='#adb5bd')\n",
    "p.add_mesh(tri_to_pv(Site_context_shading_mesh), color='#cdb4db')\n",
    "    \n",
    "# adding the volume\n",
    "opacity = np.array([0,0.6,0.6,0.6,0.6,0.6,0.6])*1.5\n",
    "opacity = [0, 0.75, 0, 0.75, 1.0]\n",
    "clim = [0, 100]\n",
    "p.add_volume(grid, cmap=\"viridis\", opacity=opacity, shade=False)\n",
    "# plotting\n",
    "p.camera_position = [(281.2198164557486, 195.20681864151288, 263.2631846148646),\n",
    " (-125.74100344423854, 28.782304005903896, -35.52262026413212),\n",
    " (-0.4754479563154929, -0.31327193009210785, 0.8220766014501246)]\n",
    "pv.set_jupyter_backend(\"ipyvtklink\")\n",
    "p.show()"
   ]
  },
  {
   "cell_type": "markdown",
   "metadata": {},
   "source": [
    "# Visualize the Ground lattice"
   ]
  },
  {
   "cell_type": "code",
   "execution_count": 69,
   "metadata": {},
   "outputs": [
    {
     "data": {
      "application/vnd.jupyter.widget-view+json": {
       "model_id": "d164d0580f29453bb4e83c9a1888ba5b",
       "version_major": 2,
       "version_minor": 0
      },
      "text/plain": [
       "ViewInteractiveWidget(height=768, layout=Layout(height='auto', width='100%'), width=1024)"
      ]
     },
     "metadata": {},
     "output_type": "display_data"
    },
    {
     "data": {
      "text/plain": [
       "[(281.2198164557486, 195.20681864151288, 263.2631846148646),\n",
       " (-125.74100344423854, 28.782304005903896, -35.52262026413212),\n",
       " (-0.4754479563154928, -0.3132719300921078, 0.8220766014501244)]"
      ]
     },
     "execution_count": 69,
     "metadata": {},
     "output_type": "execute_result"
    }
   ],
   "source": [
    "# initiating the plotter\n",
    "p = pv.Plotter(notebook=True)\n",
    "\n",
    "# Create the spatial reference\n",
    "grid = pv.UniformGrid()\n",
    "\n",
    "# Set the grid envelope_lattice: shape because we want to inject our values\n",
    "grid.dimensions = envelope_lattice.shape\n",
    "# The bottom left corner of the data set\n",
    "grid.origin = envelope_lattice.minbound\n",
    "# These are the cell sizes along each axis\n",
    "grid.spacing = envelope_lattice.unit\n",
    "\n",
    "# Add the data values to the cell data\n",
    "grid.point_arrays[\"Distance from ground\"] = Distance_from_ground.flatten(order=\"F\")  # Flatten the Lattice\n",
    "\n",
    "# fast visualization of the lattice\n",
    "envelope_lattice.fast_vis(p)\n",
    "\n",
    "# adding the meshes\n",
    "#p.add_mesh(tri_to_pv(Self_development_plots_mesh), color='#b8f2e6')\n",
    "p.add_mesh(tri_to_pv(Self_development_backyards_mesh), color='#8ac926')\n",
    "p.add_mesh(tri_to_pv(Site_building_mesh), color='#ff9b54',opacity = 0.3)\n",
    "p.add_mesh(tri_to_pv(Site_green_areas_mesh), color='#8ac926')\n",
    "p.add_mesh(tri_to_pv(Site_roads_mesh), color='#adb5bd')\n",
    "\n",
    "#Site meshes\n",
    "p.add_mesh(tri_to_pv(Site_base_mesh), color='#faedcd')\n",
    "p.add_mesh(tri_to_pv(Site_other_buildings_mesh), color='#cdb4db')\n",
    "p.add_mesh(tri_to_pv(Site_water_bodies_mesh), color='#bde0fe',opacity= 0.5)\n",
    "p.add_mesh(tri_to_pv(Site_roads_mesh), color='#adb5bd')\n",
    "p.add_mesh(tri_to_pv(Site_context_shading_mesh), color='#cdb4db')\n",
    "    \n",
    "# adding the volume\n",
    "opacity = [0, 0.75, 0, 0.75, 1.0] \n",
    "clim = [0, 100]\n",
    "p.add_volume(grid, cmap=\"viridis\", opacity=opacity, shade=False)\n",
    "# plotting\n",
    "p.camera_position = [(281.2198164557486, 195.20681864151288, 263.2631846148646),\n",
    " (-125.74100344423854, 28.782304005903896, -35.52262026413212),\n",
    " (-0.4754479563154929, -0.31327193009210785, 0.8220766014501246)]\n",
    "pv.set_jupyter_backend(\"ipyvtklink\")\n",
    "p.show()"
   ]
  },
  {
   "cell_type": "code",
   "execution_count": 62,
   "metadata": {},
   "outputs": [],
   "source": [
    "#Quiteness_mtrx = pickle.dump( Quiteness_lattice, open( \"Quiteness_lattice.p\", \"wb\" ) )"
   ]
  },
  {
   "cell_type": "code",
   "execution_count": 63,
   "metadata": {},
   "outputs": [],
   "source": [
    "#North_facade_mtrx = pickle.dump( North_facade_lattice, open( \"North_facade_lattice.p\", \"wb\" ) )"
   ]
  },
  {
   "cell_type": "code",
   "execution_count": 64,
   "metadata": {},
   "outputs": [],
   "source": [
    "#South_facade_mtrx = pickle.dump( South_facade_lattice, open( \"South_facade_lattice.p\", \"wb\" ) )"
   ]
  },
  {
   "cell_type": "code",
   "execution_count": 65,
   "metadata": {},
   "outputs": [],
   "source": [
    "#East_facade_mtrx = pickle.dump( East_facade_lattice, open( \"East_facade_lattice.p\", \"wb\" ) )"
   ]
  },
  {
   "cell_type": "code",
   "execution_count": 66,
   "metadata": {},
   "outputs": [],
   "source": [
    "#West_facade_mtrx = pickle.dump( West_facade_lattice, open( \"West_facade_lattice.p\", \"wb\" ) )"
   ]
  },
  {
   "cell_type": "code",
   "execution_count": 67,
   "metadata": {},
   "outputs": [],
   "source": [
    "#Terrace_facade_mtrx = pickle.dump( Distance_from_roof, open( \"Distance_from_roof.p\", \"wb\" ) )"
   ]
  },
  {
   "cell_type": "code",
   "execution_count": 68,
   "metadata": {},
   "outputs": [],
   "source": [
    "#Ground_facade_mtrx = pickle.dump( Distance_from_ground, open( \"Distance_from_ground.p\", \"wb\" ) )"
   ]
  }
 ],
 "metadata": {
  "kernelspec": {
   "display_name": "Python 3",
   "language": "python",
   "name": "python3"
  },
  "language_info": {
   "codemirror_mode": {
    "name": "ipython",
    "version": 3
   },
   "file_extension": ".py",
   "mimetype": "text/x-python",
   "name": "python",
   "nbconvert_exporter": "python",
   "pygments_lexer": "ipython3",
   "version": "3.8.4"
  }
 },
 "nbformat": 4,
 "nbformat_minor": 4
}