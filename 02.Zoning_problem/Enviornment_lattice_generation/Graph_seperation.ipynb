{
 "cells": [
  {
   "cell_type": "code",
   "execution_count": 4,
   "metadata": {},
   "outputs": [],
   "source": [
    "import os\n",
    "import sys\n",
    "import topogenesis as tg\n",
    "import pyvista as pv\n",
    "import pandas as pd\n",
    "import trimesh as tm\n",
    "from itertools import cycle\n",
    "import numpy as np\n",
    "import pickle\n",
    "import networkx as nx\n",
    "import numpy.ma as ma\n",
    "np.random.seed(0)\n",
    "np.set_printoptions(threshold=sys.maxsize)\n",
    "from ladybug.sunpath import Sunpath"
   ]
  },
  {
   "cell_type": "code",
   "execution_count": 2,
   "metadata": {},
   "outputs": [],
   "source": [
    "# loading the lattice from csv\n",
    "lattice_path = os.path.relpath('voxelized_envelope_6m_voxel_size.csv')\n",
    "envelope_lattice = tg.lattice_from_csv(lattice_path)"
   ]
  },
  {
   "cell_type": "code",
   "execution_count": 10,
   "metadata": {},
   "outputs": [
    {
     "data": {
      "text/plain": [
       "stencil([[[0, 0, 0],\n",
       "          [0, 1, 0],\n",
       "          [0, 0, 0]],\n",
       "\n",
       "         [[0, 1, 0],\n",
       "          [1, 1, 1],\n",
       "          [0, 1, 0]],\n",
       "\n",
       "         [[0, 0, 0],\n",
       "          [0, 1, 0],\n",
       "          [0, 0, 0]]])"
      ]
     },
     "execution_count": 10,
     "metadata": {},
     "output_type": "execute_result"
    }
   ],
   "source": [
    "s = tg.create_stencil(\"von_neumann\", 1, 1)\n",
    "s"
   ]
  },
  {
   "cell_type": "code",
   "execution_count": 22,
   "metadata": {},
   "outputs": [],
   "source": [
    "env_lat_flat = envelope_lattice.flatten()\n",
    "\n",
    "adj_matrix = np.zeros((env_lat_flat.size,env_lat_flat.size), dtype=int)\n",
    "\n",
    "all_vox_neighs_inds = envelope_lattice.find_neighbours(s)\n",
    "all_vox_neighs = all_vox_neighs_inds[:, 1:]\n",
    "all_vox_inds = np.indices(all_vox_neighs.shape)[0]\n",
    "\n",
    "adj_matrix[all_vox_inds.flatten(), all_vox_neighs.flatten()] = 1\n",
    "\n",
    "adj_matrix[env_lat_flat==0, :] *= 0\n",
    "adj_matrix[:, env_lat_flat==0] *= 0\n",
    "\n",
    "g = nx.from_numpy_array(adj_matrix)"
   ]
  },
  {
   "cell_type": "code",
   "execution_count": 26,
   "metadata": {},
   "outputs": [],
   "source": [
    "g.remove_nodes_from(list(nx.isolates(g)))"
   ]
  },
  {
   "cell_type": "code",
   "execution_count": 31,
   "metadata": {},
   "outputs": [],
   "source": [
    "g_cc = nx.algorithms.connected_components(g)\n",
    "\n",
    "buildingid_lat_flat = env_lat_flat * 0 - 1\n",
    "\n",
    "for i, nodes in enumerate(g_cc):\n",
    "    buildingid_lat_flat[list(nodes)] = i"
   ]
  },
  {
   "cell_type": "code",
   "execution_count": 33,
   "metadata": {},
   "outputs": [],
   "source": [
    "buildingid_lat = tg.to_lattice(buildingid_lat_flat.reshape(envelope_lattice.shape), envelope_lattice)"
   ]
  },
  {
   "cell_type": "code",
   "execution_count": 35,
   "metadata": {},
   "outputs": [
    {
     "data": {
      "application/vnd.jupyter.widget-view+json": {
       "model_id": "158d7ff309dd4093976c5198a50e5435",
       "version_major": 2,
       "version_minor": 0
      },
      "text/plain": [
       "ViewInteractiveWidget(height=768, layout=Layout(height='auto', width='100%'), width=1024)"
      ]
     },
     "metadata": {},
     "output_type": "display_data"
    },
    {
     "data": {
      "text/plain": [
       "[(141.41095176547094, 312.41095176547094, 279.41095176547094),\n",
       " (-108.0, 63.0, 30.0),\n",
       " (0.0, 0.0, 1.0)]"
      ]
     },
     "execution_count": 35,
     "metadata": {},
     "output_type": "execute_result"
    }
   ],
   "source": [
    "# initiating the plotter\n",
    "p = pv.Plotter(notebook=True)\n",
    "\n",
    "base_lat = envelope_lattice\n",
    "\n",
    "# Create the spatial reference\n",
    "grid = pv.UniformGrid()\n",
    "\n",
    "# Set the grid envelope_lattice: shape because we want to inject our values\n",
    "grid.dimensions = base_lat.shape\n",
    "# The bottom left corner of the data set\n",
    "grid.origin = base_lat.minbound\n",
    "# These are the cell sizes along each axis\n",
    "grid.spacing = base_lat.unit\n",
    "\n",
    "# Add the data values to the cell data\n",
    "grid.point_arrays[\"Distance from South Facade\"] = buildingid_lat.flatten(order=\"F\")  # Flatten the Lattice\n",
    "\n",
    "# fast visualization of the lattice\n",
    "# envelope_lattice.fast_vis(p)\n",
    "\n",
    "threshold = grid.threshold([-0.1, buildingid_lat_flat.max() + 0.1])\n",
    "p.add_mesh(threshold, opacity=1.0)\n",
    "# plotting\n",
    "p.show(use_ipyvtk=True)"
   ]
  },
  {
   "cell_type": "code",
   "execution_count": 60,
   "metadata": {},
   "outputs": [
    {
     "name": "stdout",
     "output_type": "stream",
     "text": [
      "0\n",
      "1\n",
      "2\n",
      "3\n"
     ]
    }
   ],
   "source": [
    "build_dist_y_lat = envelope_lattice * 0.0\n",
    "for i in range(buildingid_lat.max()+1):\n",
    "    dim = 0\n",
    "    building_1_inds = np.argwhere(buildingid_lat==i)\n",
    "\n",
    "    max_bb = building_1_inds.max(axis=0)\n",
    "    min_bb = building_1_inds.min(axis=0)\n",
    "    build_1_y_dist = max_bb[dim] - building_1_inds[:, dim]\n",
    "\n",
    "    build_dist_y_lat[np.where(buildingid_lat==i)] = build_1_y_dist + 1\n",
    "    print(i)\n",
    "build_dist_y_lat /= build_dist_y_lat.max()"
   ]
  },
  {
   "cell_type": "code",
   "execution_count": 61,
   "metadata": {},
   "outputs": [
    {
     "data": {
      "application/vnd.jupyter.widget-view+json": {
       "model_id": "a3d4d32959e0417c97f09de32b0e22d0",
       "version_major": 2,
       "version_minor": 0
      },
      "text/plain": [
       "ViewInteractiveWidget(height=768, layout=Layout(height='auto', width='100%'), width=1024)"
      ]
     },
     "metadata": {},
     "output_type": "display_data"
    },
    {
     "data": {
      "text/plain": [
       "[(141.41095176547094, 312.41095176547094, 279.41095176547094),\n",
       " (-108.0, 63.0, 30.0),\n",
       " (0.0, 0.0, 1.0)]"
      ]
     },
     "execution_count": 61,
     "metadata": {},
     "output_type": "execute_result"
    }
   ],
   "source": [
    "# initiating the plotter\n",
    "p = pv.Plotter(notebook=True)\n",
    "\n",
    "base_lat = build_dist_y_lat\n",
    "\n",
    "# Create the spatial reference\n",
    "grid = pv.UniformGrid()\n",
    "\n",
    "# Set the grid envelope_lattice: shape because we want to inject our values\n",
    "grid.dimensions = base_lat.shape\n",
    "# The bottom left corner of the data set\n",
    "grid.origin = base_lat.minbound\n",
    "# These are the cell sizes along each axis\n",
    "grid.spacing = base_lat.unit\n",
    "\n",
    "# Add the data values to the cell data\n",
    "grid.point_arrays[\"Distance from South Facade\"] = base_lat.flatten(order=\"F\")  # Flatten the Lattice\n",
    "\n",
    "# fast visualization of the lattice\n",
    "# envelope_lattice.fast_vis(p)\n",
    "\n",
    "threshold = grid.threshold([0.01, 1])\n",
    "p.add_mesh(threshold, opacity=1.0)\n",
    "# plotting\n",
    "p.show(use_ipyvtk=True)"
   ]
  },
  {
   "cell_type": "code",
   "execution_count": null,
   "metadata": {},
   "outputs": [],
   "source": []
  }
 ],
 "metadata": {
  "kernelspec": {
   "display_name": "Python 3",
   "language": "python",
   "name": "python3"
  },
  "language_info": {
   "codemirror_mode": {
    "name": "ipython",
    "version": 3
   },
   "file_extension": ".py",
   "mimetype": "text/x-python",
   "name": "python",
   "nbconvert_exporter": "python",
   "pygments_lexer": "ipython3",
   "version": "3.8.4"
  }
 },
 "nbformat": 4,
 "nbformat_minor": 4
}
