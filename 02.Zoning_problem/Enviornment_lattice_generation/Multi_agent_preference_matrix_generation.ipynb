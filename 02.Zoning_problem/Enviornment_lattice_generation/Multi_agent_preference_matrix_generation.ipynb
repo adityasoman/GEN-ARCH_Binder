{
 "cells": [
  {
   "cell_type": "markdown",
   "metadata": {
    "slideshow": {
     "slide_type": "skip"
    }
   },
   "source": [
    "# Multi_agent_preference_matrix_generation\n",
    "In this notebook the enviornment lattice for each agent is generated from the simulation matrices done in the enviornment lattices notebooks."
   ]
  },
  {
   "cell_type": "markdown",
   "metadata": {
    "slideshow": {
     "slide_type": "slide"
    }
   },
   "source": [
    "## Initilization\n",
    "Libraries used in this notebook :<br/>\n",
    "1.Topsis for MCDA [https://scikit-criteria.readthedocs.io/en/latest/tutorial/quickstart.html]<br/>\n",
    "2.Ipywidgets for interactivity [https://minrk-ipywidgets.readthedocs.io/en/latest/index.html]<br/>"
   ]
  },
  {
   "cell_type": "code",
   "execution_count": 1,
   "metadata": {
    "slideshow": {
     "slide_type": "slide"
    }
   },
   "outputs": [],
   "source": [
    "import os\n",
    "import sys\n",
    "import pickle\n",
    "import topogenesis as tg\n",
    "import pyvista as pv\n",
    "import trimesh as tm\n",
    "import numpy as np\n",
    "import collections \n",
    "from itertools import cycle \n",
    "import sys\n",
    "from math import factorial as fac\n",
    "from skcriteria import Data, MIN, MAX\n",
    "from skcriteria.madm import closeness, simple ,moora , electre\n",
    "from __future__ import print_function\n",
    "from ipywidgets import interact, interactive, fixed, interact_manual , Layout\n",
    "import ipywidgets as widgets\n",
    "np.random.seed(0)\n",
    "np.set_printoptions(threshold=sys.maxsize)"
   ]
  },
  {
   "cell_type": "code",
   "execution_count": 2,
   "metadata": {},
   "outputs": [],
   "source": [
    "# loading the lattice from csv\n",
    "lattice_path = os.path.relpath('voxelized_envelope_6m_voxel_size.csv')\n",
    "envelope_lattice = tg.lattice_from_csv(lattice_path)"
   ]
  },
  {
   "cell_type": "code",
   "execution_count": 3,
   "metadata": {},
   "outputs": [],
   "source": [
    "flattened_lattice = envelope_lattice.flatten()"
   ]
  },
  {
   "cell_type": "markdown",
   "metadata": {},
   "source": [
    "### Define Widget styles"
   ]
  },
  {
   "cell_type": "code",
   "execution_count": 4,
   "metadata": {},
   "outputs": [],
   "source": [
    "layout = widgets.Layout(width='auto', height='auto') #set width and height\n",
    "style = {'description_width': 'initial'} # Display full text"
   ]
  },
  {
   "cell_type": "markdown",
   "metadata": {},
   "source": [
    "## Define the Agents in the system "
   ]
  },
  {
   "cell_type": "markdown",
   "metadata": {},
   "source": [
    " Define the number of Agents and their name in the project by editing the widgets in the notebook"
   ]
  },
  {
   "cell_type": "code",
   "execution_count": 5,
   "metadata": {},
   "outputs": [],
   "source": [
    "Agent_number_widget = widgets.BoundedIntText(\n",
    "    value=1,\n",
    "    min=0,\n",
    "    max=10,\n",
    "    step=1,\n",
    "    description='Number of Agents:',\n",
    "    style=style,\n",
    "    disabled=False\n",
    ")"
   ]
  },
  {
   "cell_type": "code",
   "execution_count": 6,
   "metadata": {},
   "outputs": [
    {
     "data": {
      "application/vnd.jupyter.widget-view+json": {
       "model_id": "24eb505d67e84d96b3516f157bed0e53",
       "version_major": 2,
       "version_minor": 0
      },
      "text/plain": [
       "BoundedIntText(value=1, description='Number of Agents:', max=10, style=DescriptionStyle(description_width='ini…"
      ]
     },
     "metadata": {},
     "output_type": "display_data"
    }
   ],
   "source": [
    "Agent_number_widget"
   ]
  },
  {
   "cell_type": "code",
   "execution_count": 36,
   "metadata": {},
   "outputs": [],
   "source": [
    "Agent_number = Agent_number_widget.value\n",
    "Agent_numbering = []\n",
    "for s in range(Agent_number): \n",
    "    a= \"Stakeholder\"+ str(s+1)\n",
    "    Agent_numbering.append(a)"
   ]
  },
  {
   "cell_type": "markdown",
   "metadata": {},
   "source": [
    "### Input the name for the Agents in the tab widget"
   ]
  },
  {
   "cell_type": "code",
   "execution_count": 37,
   "metadata": {},
   "outputs": [
    {
     "data": {
      "application/vnd.jupyter.widget-view+json": {
       "model_id": "239227d6b56d4426aea948cd214c70ce",
       "version_major": 2,
       "version_minor": 0
      },
      "text/plain": [
       "Tab(children=(Text(value='', description='Stakeholder1'), Text(value='', description='Stakeholder2'), Text(val…"
      ]
     },
     "metadata": {},
     "output_type": "display_data"
    }
   ],
   "source": [
    "tab_contents = Agent_numbering\n",
    "children = [widgets.Text(description=name) for name in tab_contents]\n",
    "tab = widgets.Tab()\n",
    "tab.children = children\n",
    "for i in range(len(children)):\n",
    "    tab.set_title(i, str(i))\n",
    "tab"
   ]
  },
  {
   "cell_type": "code",
   "execution_count": 182,
   "metadata": {},
   "outputs": [],
   "source": [
    "Agents_list = []\n",
    "for i in range(len(children)):\n",
    "    Agents_list.append(tab.children[i].value)"
   ]
  },
  {
   "cell_type": "code",
   "execution_count": 183,
   "metadata": {},
   "outputs": [
    {
     "name": "stdout",
     "output_type": "stream",
     "text": [
      "['Privately Owned Housing', 'Social Sector Rental Housing', 'Free Sector Rental Housing', 'Restaurants and Cafe', 'Retail Stores', 'Offices', 'Parking']\n"
     ]
    }
   ],
   "source": [
    "print (Agents_list)"
   ]
  },
  {
   "cell_type": "code",
   "execution_count": 184,
   "metadata": {},
   "outputs": [],
   "source": [
    "Agents_dropdown = widgets.Dropdown(\n",
    "    options= Agents_list,\n",
    "    value= str(Agents_list[0]) ,\n",
    "    description='Number:',\n",
    "    disabled=False,\n",
    ")"
   ]
  },
  {
   "cell_type": "markdown",
   "metadata": {},
   "source": [
    "## Select the Agent for recording design preference"
   ]
  },
  {
   "cell_type": "code",
   "execution_count": 185,
   "metadata": {},
   "outputs": [
    {
     "data": {
      "application/vnd.jupyter.widget-view+json": {
       "model_id": "d1818fe24584456c86a745c18b5cd01e",
       "version_major": 2,
       "version_minor": 0
      },
      "text/plain": [
       "Dropdown(description='Number:', options=('Privately Owned Housing', 'Social Sector Rental Housing', 'Free Sect…"
      ]
     },
     "metadata": {},
     "output_type": "display_data"
    }
   ],
   "source": [
    "Agents_dropdown"
   ]
  },
  {
   "cell_type": "markdown",
   "metadata": {},
   "source": [
    "## Selection of appropriate Design criteria "
   ]
  },
  {
   "cell_type": "markdown",
   "metadata": {},
   "source": [
    "The appropriate design criteria should be selected for each stakeholder to create a design preference which is a collection of various simulation lattices calulated for the site"
   ]
  },
  {
   "cell_type": "code",
   "execution_count": 186,
   "metadata": {},
   "outputs": [],
   "source": [
    "Design_criteria_selection_options=['Closeness to facade N', 'Closeness to facade S', 'Closeness to facade W','Closeness to facade E','Closeness to Roof','Closeness to Ground','Quiteness', 'Visibility to IJ', 'Visibility from street', 'Solar access']"
   ]
  },
  {
   "cell_type": "markdown",
   "metadata": {},
   "source": [
    "### Selection of appropriate Weights for the Design Criteria"
   ]
  },
  {
   "cell_type": "code",
   "execution_count": 187,
   "metadata": {},
   "outputs": [],
   "source": [
    "def criteria_slider(name):\n",
    "    criteria_slider=widgets.IntSlider(   \n",
    "    value=0,\n",
    "    min=0,\n",
    "    max=10,\n",
    "    step=1,\n",
    "    description=str(name),\n",
    "    style=style,\n",
    "    layout=Layout(width='500px'),\n",
    "    disabled=False,\n",
    "    continuous_update=False,\n",
    "    orientation='horizontal',\n",
    "    readout=True,\n",
    "    readout_format='d')\n",
    "    return criteria_slider"
   ]
  },
  {
   "cell_type": "code",
   "execution_count": 188,
   "metadata": {},
   "outputs": [],
   "source": [
    "slider_lists=[]\n",
    "for a in (Design_criteria_selection_options):\n",
    "    slider_lists.append(criteria_slider(a))"
   ]
  },
  {
   "cell_type": "code",
   "execution_count": 189,
   "metadata": {},
   "outputs": [],
   "source": [
    "option_list= list(range(len(Design_criteria_selection_options)))\n"
   ]
  },
  {
   "cell_type": "code",
   "execution_count": 190,
   "metadata": {},
   "outputs": [
    {
     "data": {
      "application/vnd.jupyter.widget-view+json": {
       "model_id": "91710d81cb804149963ee8a0ddcfcb59",
       "version_major": 2,
       "version_minor": 0
      },
      "text/plain": [
       "GridBox(children=(IntSlider(value=0, continuous_update=False, description='Closeness to facade N', layout=Layo…"
      ]
     },
     "metadata": {},
     "output_type": "display_data"
    }
   ],
   "source": [
    "ui = widgets.GridBox(slider_lists,layout=widgets.Layout(grid_template_rows=\"auto\"))\n",
    "display(ui)"
   ]
  },
  {
   "cell_type": "code",
   "execution_count": 204,
   "metadata": {},
   "outputs": [
    {
     "name": "stdout",
     "output_type": "stream",
     "text": [
      "[0.0, 0.0, 0.0, 0.0, 0.0, 0.4, 0.9, 0.7, 0.0, 0.9]\n"
     ]
    }
   ],
   "source": [
    "Topsis_weights =[]\n",
    "\n",
    "for slider in  ui.children:\n",
    "    Topsis_weights.append((slider.value)/10)\n",
    "\n",
    "print(Topsis_weights)"
   ]
  },
  {
   "cell_type": "code",
   "execution_count": 205,
   "metadata": {},
   "outputs": [],
   "source": [
    "def Radio_widget(text):\n",
    "    Radio_widget = widgets.RadioButtons(\n",
    "    options=['Cost', 'Benefit'],\n",
    "    value='Benefit',\n",
    "    description=str(text),\n",
    "    disabled=False,\n",
    "    style=style,\n",
    "    layout=Layout(width='500px')\n",
    ")\n",
    "    return Radio_widget"
   ]
  },
  {
   "cell_type": "code",
   "execution_count": 206,
   "metadata": {},
   "outputs": [],
   "source": [
    "Radio_lists=[]\n",
    "for a in (Design_criteria_selection_options):\n",
    "    Radio_lists.append(Radio_widget(a))"
   ]
  },
  {
   "cell_type": "code",
   "execution_count": 207,
   "metadata": {},
   "outputs": [
    {
     "data": {
      "application/vnd.jupyter.widget-view+json": {
       "model_id": "3d43aea87039465d92733442486d380c",
       "version_major": 2,
       "version_minor": 0
      },
      "text/plain": [
       "GridBox(children=(RadioButtons(description='Closeness to facade N', index=1, layout=Layout(width='500px'), opt…"
      ]
     },
     "metadata": {},
     "output_type": "display_data"
    }
   ],
   "source": [
    "ui_radios = widgets.GridBox(Radio_lists,layout=widgets.Layout(grid_template_rows=\"auto\"))\n",
    "display(ui_radios)"
   ]
  },
  {
   "cell_type": "code",
   "execution_count": 208,
   "metadata": {},
   "outputs": [
    {
     "data": {
      "text/plain": [
       "'\\nfor radio in ui_radios.children:\\n    if radio.value == \"Cost\":\\n        criteria.append(MIN)\\n    else:\\n        criteria.append(MAX)\\n\\nprint(criteria)\\n'"
      ]
     },
     "execution_count": 208,
     "metadata": {},
     "output_type": "execute_result"
    }
   ],
   "source": [
    "criteria =[-1, -1, -1, -1, -1, -1, 1, 1, 1, 1]\n",
    "\"\"\"\n",
    "for radio in ui_radios.children:\n",
    "    if radio.value == \"Cost\":\n",
    "        criteria.append(MIN)\n",
    "    else:\n",
    "        criteria.append(MAX)\n",
    "\n",
    "print(criteria)\n",
    "\"\"\""
   ]
  },
  {
   "cell_type": "markdown",
   "metadata": {},
   "source": [
    "### Importing all the necessary Lattices into the Notebook"
   ]
  },
  {
   "cell_type": "markdown",
   "metadata": {},
   "source": [
    "It is necessary to flatten the matrixes for combining and MCDA"
   ]
  },
  {
   "cell_type": "code",
   "execution_count": 209,
   "metadata": {},
   "outputs": [],
   "source": [
    "North_facade_lattice = (pickle.load( open( \"North_facade_lattice.p\", \"rb\" ) )).flatten() \n",
    "South_facade_lattice = (pickle.load( open( \"South_facade_lattice.p\", \"rb\" ) ) ).flatten()\n",
    "East_facade_lattice = (pickle.load( open( \"East_facade_lattice.p\", \"rb\" ) )) .flatten()\n",
    "West_facade_lattice = (pickle.load( open( \"West_facade_lattice.p\", \"rb\" ) )) .flatten()\n",
    "Roof_lattice = (pickle.load( open( \"Distance_from_roof.p\", \"rb\" ) )) .flatten()\n",
    "Ground_lattice = (pickle.load( open( \"Distance_from_ground.p\", \"rb\" ) )) .flatten()\n",
    "Quiteness_lattice = (pickle.load( open( \"Quiteness_lattice.p\", \"rb\" ) )) .flatten()\n",
    "Visibility_to_IJ_lattice = (pickle.load( open( \"Visibility_IJ_lattice.p\", \"rb\" ) )) .flatten()\n",
    "Visibility_to_Road_lattice = (pickle.load( open( \"Visibility_Road_lattice.p\", \"rb\" ) )) .flatten()\n",
    "Sun_access_lattice = (pickle.load( open( \"Solar_access_lattice.p\", \"rb\" ) )) .flatten()\n"
   ]
  },
  {
   "cell_type": "code",
   "execution_count": 210,
   "metadata": {},
   "outputs": [],
   "source": [
    "array_all_lattices =[North_facade_lattice,South_facade_lattice,East_facade_lattice,West_facade_lattice,Roof_lattice,Ground_lattice,Quiteness_lattice,Visibility_to_IJ_lattice,Visibility_to_Road_lattice,Sun_access_lattice]\n",
    "np_array_all_lattices =np.array(array_all_lattices).T"
   ]
  },
  {
   "cell_type": "code",
   "execution_count": 211,
   "metadata": {},
   "outputs": [],
   "source": [
    "data = Data(np_array_all_lattices, criteria,          \n",
    "            weights=Topsis_weights,\n",
    "            cnames=Design_criteria_selection_options)"
   ]
  },
  {
   "cell_type": "code",
   "execution_count": null,
   "metadata": {},
   "outputs": [],
   "source": []
  },
  {
   "cell_type": "code",
   "execution_count": 212,
   "metadata": {},
   "outputs": [],
   "source": [
    "topsis_method = closeness.TOPSIS()\n",
    "topsis_decision = topsis_method.decide(data)\n",
    "agent_preference = topsis_decision.e_.closeness*10"
   ]
  },
  {
   "cell_type": "code",
   "execution_count": 213,
   "metadata": {},
   "outputs": [],
   "source": [
    "Agent_preference_lattice_padded= np.array([num if boolean else 0 for boolean, num in zip(flattened_lattice, cycle(agent_preference))])"
   ]
  },
  {
   "cell_type": "code",
   "execution_count": 214,
   "metadata": {},
   "outputs": [],
   "source": [
    "Agent_preference_array = np.array(Agent_preference_lattice_padded)"
   ]
  },
  {
   "cell_type": "code",
   "execution_count": 215,
   "metadata": {},
   "outputs": [],
   "source": [
    "Agent_preference_np = Agent_preference_array.reshape(envelope_lattice.shape)"
   ]
  },
  {
   "cell_type": "code",
   "execution_count": 216,
   "metadata": {},
   "outputs": [],
   "source": [
    "Agent_preference_lattice =tg.to_lattice(Agent_preference_np, Agent_preference_np.shape)"
   ]
  },
  {
   "cell_type": "markdown",
   "metadata": {},
   "source": [
    "### Vizualise the decision matrix for the user "
   ]
  },
  {
   "cell_type": "code",
   "execution_count": 217,
   "metadata": {},
   "outputs": [
    {
     "name": "stderr",
     "output_type": "stream",
     "text": [
      "faces have mixed data, using slow fallback!\n",
      "faces have mixed data, using slow fallback!\n",
      "faces have mixed data, using slow fallback!\n",
      "faces have mixed data, using slow fallback!\n",
      "faces have mixed data, using slow fallback!\n",
      "faces have mixed data, using slow fallback!\n",
      "faces have mixed data, using slow fallback!\n",
      "faces have mixed data, using slow fallback!\n",
      "faces have mixed data, using slow fallback!\n"
     ]
    }
   ],
   "source": [
    "#Design Details\n",
    "Self_development_plots_path = os.path.relpath('Site_self_development_plots.obj')\n",
    "Self_development_backyards_path = os.path.relpath('Site_self_development_backyards.obj')\n",
    "Site_buildings_path = os.path.relpath('Site_buildings.obj')\n",
    "Site_green_areas_path = os.path.relpath('Site_green_areas.obj')\n",
    "Site_roads_path = os.path.relpath('Site_base_roads.obj')\n",
    "Site_context_shading_path= os.path.relpath('Site_surrounding_buildings_for_shading.obj') \n",
    "\n",
    "\n",
    "# Site details\n",
    "Site_base_path = os.path.relpath('Site_base_block.obj')\n",
    "Site_surrounding_buildings_path = os.path.relpath('Site_surrounding_buildings.obj')\n",
    "Site_water_bodies_path = os.path.relpath('Site_water_bodies.obj')\n",
    "Site_roads_path = os.path.relpath('Site_roads.obj')\n",
    "Site_other_buildings_path = os.path.relpath('Site_other_buildings.obj')\n",
    "\n",
    "# load the mesh from file\n",
    "# Design elements\n",
    "Self_development_plots_mesh = tm.load(Self_development_plots_path)\n",
    "Self_development_backyards_mesh = tm.load(Self_development_backyards_path)\n",
    "Site_building_mesh = tm.load(Site_buildings_path)\n",
    "Site_green_areas_mesh = tm.load(Site_green_areas_path)\n",
    "Site_roads_mesh = tm.load(Site_roads_path)\n",
    "Site_context_shading_mesh = tm.load(Site_context_shading_path)\n",
    "\n",
    "#Site elements\n",
    "Site_base_mesh = tm.load(Site_base_path)\n",
    "Site_surrounding_buildings_mesh = tm.load(Site_surrounding_buildings_path)\n",
    "Site_water_bodies_mesh = tm.load(Site_water_bodies_path)\n",
    "Site_roads_mesh = tm.load(Site_roads_path)\n",
    "Site_other_buildings_mesh = tm.load(Site_other_buildings_path)\n",
    "\n",
    "\n",
    "# Check if the mesh is watertight\n",
    "#print(envelope_mesh.is_watertight)\n",
    "#print(context_mesh.is_watertight)"
   ]
  },
  {
   "cell_type": "code",
   "execution_count": 218,
   "metadata": {},
   "outputs": [],
   "source": [
    "# convert mesh to pv_mesh\n",
    "def tri_to_pv(tri_mesh):\n",
    "    faces = np.pad(tri_mesh.faces, ((0, 0),(1,0)), 'constant', constant_values=3)\n",
    "    pv_mesh = pv.PolyData(tri_mesh.vertices, faces)\n",
    "    return pv_mesh"
   ]
  },
  {
   "cell_type": "code",
   "execution_count": 219,
   "metadata": {},
   "outputs": [],
   "source": [
    "Agent_name = str(Agents_dropdown.value)"
   ]
  },
  {
   "cell_type": "code",
   "execution_count": 220,
   "metadata": {},
   "outputs": [
    {
     "data": {
      "application/vnd.jupyter.widget-view+json": {
       "model_id": "6777f4740d184e478cf39c2b397ddcf5",
       "version_major": 2,
       "version_minor": 0
      },
      "text/plain": [
       "ViewInteractiveWidget(height=768, layout=Layout(height='auto', width='100%'), width=1024)"
      ]
     },
     "metadata": {},
     "output_type": "display_data"
    },
    {
     "data": {
      "text/plain": [
       "[(281.2198164557486, 195.20681864151288, 263.2631846148646),\n",
       " (-125.74100344423854, 28.782304005903896, -35.52262026413212),\n",
       " (-0.4754479563154928, -0.3132719300921078, 0.8220766014501244)]"
      ]
     },
     "execution_count": 220,
     "metadata": {},
     "output_type": "execute_result"
    }
   ],
   "source": [
    "# initiating the plotter\n",
    "p = pv.Plotter(notebook=True)\n",
    "\n",
    "# Create the spatial reference\n",
    "grid = pv.UniformGrid()\n",
    "\n",
    "# Set the grid envelope_lattice: shape because we want to inject our values\n",
    "grid.dimensions = envelope_lattice.shape\n",
    "# The bottom left corner of the data set\n",
    "grid.origin = envelope_lattice.minbound\n",
    "# These are the cell sizes along each axis\n",
    "grid.spacing = envelope_lattice.unit\n",
    "\n",
    "# Add the data values to the cell data\n",
    "grid.point_arrays[(str(Agent_name)+\"_preference\")] = Agent_preference_lattice.flatten(order=\"F\")  # Flatten the Lattice\n",
    "\n",
    "# fast visualization of the lattice\n",
    "envelope_lattice.fast_vis(p)\n",
    "\n",
    "# adding the meshes\n",
    "#p.add_mesh(tri_to_pv(Self_development_plots_mesh), color='#b8f2e6')\n",
    "p.add_mesh(tri_to_pv(Self_development_backyards_mesh), color='#8ac926')\n",
    "p.add_mesh(tri_to_pv(Site_building_mesh), color='#ff9b54',opacity = 0.3)\n",
    "p.add_mesh(tri_to_pv(Site_green_areas_mesh), color='#8ac926')\n",
    "p.add_mesh(tri_to_pv(Site_roads_mesh), color='#adb5bd')\n",
    "\n",
    "#Site meshes\n",
    "p.add_mesh(tri_to_pv(Site_base_mesh), color='#faedcd')\n",
    "p.add_mesh(tri_to_pv(Site_other_buildings_mesh), color='#cdb4db')\n",
    "p.add_mesh(tri_to_pv(Site_water_bodies_mesh), color='#bde0fe',opacity= 0.5)\n",
    "p.add_mesh(tri_to_pv(Site_roads_mesh), color='#adb5bd')\n",
    "p.add_mesh(tri_to_pv(Site_context_shading_mesh), color='#cdb4db')\n",
    "    \n",
    "# adding the volume\n",
    "opacity = [0, 0.75, 0, 0.75, 1.0] \n",
    "clim = [0, 100]\n",
    "p.add_volume(grid, cmap=\"inferno\", opacity=opacity, shade=False)\n",
    "# plotting\n",
    "p.camera_position = [(281.2198164557486, 195.20681864151288, 263.2631846148646),\n",
    " (-125.74100344423854, 28.782304005903896, -35.52262026413212),\n",
    " (-0.4754479563154929, -0.31327193009210785, 0.8220766014501246)]\n",
    "p.show(use_ipyvtk=True,screenshot=((str(Agent_name))+\".png\"))"
   ]
  },
  {
   "cell_type": "markdown",
   "metadata": {},
   "source": [
    "### Save the Agent preference lattice as Pickle\n",
    "The lattice for the selected Stakeholder will be saved as pickle object Continue this process for all the users and make the lattices for all of them "
   ]
  },
  {
   "cell_type": "code",
   "execution_count": 221,
   "metadata": {},
   "outputs": [],
   "source": [
    "Agent_mtrx = pickle.dump( Agent_preference_lattice, open( (str(Agent_name)+\".p\"), \"wb\" ) )"
   ]
  },
  {
   "cell_type": "code",
   "execution_count": null,
   "metadata": {},
   "outputs": [],
   "source": []
  }
 ],
 "metadata": {
  "kernelspec": {
   "display_name": "Python 3",
   "language": "python",
   "name": "python3"
  },
  "language_info": {
   "codemirror_mode": {
    "name": "ipython",
    "version": 3
   },
   "file_extension": ".py",
   "mimetype": "text/x-python",
   "name": "python",
   "nbconvert_exporter": "python",
   "pygments_lexer": "ipython3",
   "version": "3.8.4"
  }
 },
 "nbformat": 4,
 "nbformat_minor": 4
}
